{
 "cells": [
  {
   "cell_type": "code",
   "execution_count": null,
   "id": "3899a49a",
   "metadata": {
    "vscode": {
     "languageId": "plaintext"
    }
   },
   "outputs": [],
   "source": [
    "from dotenv import load_dotenv\n",
    "\n",
    "load_dotenv()"
   ]
  },
  {
   "cell_type": "code",
   "execution_count": null,
   "id": "39714715",
   "metadata": {
    "vscode": {
     "languageId": "plaintext"
    }
   },
   "outputs": [],
   "source": [
    "import os\n",
    "\n",
    "def load_txt_files(folder_path):\n",
    "    # List to store the content of all txt files\n",
    "    txt_contents = {}\n",
    "\n",
    "    # Check if the folder exists\n",
    "    if not os.path.exists(folder_path):\n",
    "        print(f\"Error: The folder '{folder_path}' does not exist\")\n",
    "        return txt_contents\n",
    "\n",
    "    # Iterate through all files in the folder\n",
    "    for filename in os.listdir(folder_path):\n",
    "        # Check if the file is a txt file\n",
    "        if filename.endswith('.txt'):\n",
    "            file_path = os.path.join(folder_path, filename)\n",
    "            try:\n",
    "                # Open and read the file\n",
    "                with open(file_path, 'r', encoding='utf-8') as file:\n",
    "                    content = file.read()\n",
    "                    txt_contents[filename] = content\n",
    "            except Exception as e:\n",
    "                print(f\"Error reading file {filename}: {str(e)}\")\n",
    "\n",
    "    return txt_contents\n",
    "\n",
    "# Example usage:\n",
    "# folder_path = \"path/to/your/folder\"\n",
    "# txt_files = load_txt_files(folder_path)\n",
    "\n",
    "# To print the contents:\n",
    "# for filename, content in txt_files.items():\n",
    "#     print(f\"\\nFile: {filename}\")\n",
    "#     print(\"Content:\")\n",
    "#     print(content)"
   ]
  },
  {
   "cell_type": "code",
   "execution_count": null,
   "id": "0d8524cd",
   "metadata": {
    "vscode": {
     "languageId": "plaintext"
    }
   },
   "outputs": [],
   "source": [
    "folder_path = \"../data/crawled_content\"  # or use absolute path like \"C:/Users/YourName/Documents\"\n",
    "txt_files = load_txt_files(folder_path)\n",
    "\n",
    "# Print number of files found\n",
    "print(f\"Found {len(txt_files)} text files\")\n",
    "\n",
    "# Print the content of each file\n",
    "for filename, content in txt_files.items():\n",
    "    print(f\"\\nFile: {filename}\")\n",
    "    print(\"Content:\")\n",
    "    print(content[:200] + \"...\" if len(content) > 200 else content)  # Print first 200 characters"
   ]
  }
 ],
 "metadata": {
  "language_info": {
   "name": "python"
  }
 },
 "nbformat": 4,
 "nbformat_minor": 5
}

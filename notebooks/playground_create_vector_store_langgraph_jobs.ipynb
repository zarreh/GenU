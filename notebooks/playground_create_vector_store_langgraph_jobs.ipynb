{
 "cells": [
  {
   "cell_type": "code",
   "execution_count": 1,
   "id": "f4ac6516",
   "metadata": {},
   "outputs": [],
   "source": [
    "from langchain_openai import OpenAIEmbeddings\n",
    "from genu.Job_agent.config import HEADERS, LINKEDIN_JOB_SEARCH_PARAMS, PERSIST_PATH\n",
    "from langchain.vectorstores import FAISS\n",
    "from genu.Job_agent.vectorestore import vectorstore_to_dataframe\n",
    "from genu.utils import extract_text_from_file\n",
    "from langchain_openai import OpenAI, ChatOpenAI\n",
    "from langchain_ollama import ChatOllama\n",
    "\n",
    "from langchain_community.document_loaders import TextLoader\n",
    "from langchain.text_splitter import RecursiveCharacterTextSplitter\n",
    "from langchain_openai import OpenAIEmbeddings\n",
    "from langchain.vectorstores import Chroma\n",
    "from langchain.chains import RetrievalQA\n",
    "# from langchain.llms import OpenAI\n",
    "from langchain.prompts import PromptTemplate\n",
    "from langchain.memory import ConversationBufferMemory\n",
    "from langchain.chains import LLMChain\n",
    "from tqdm import tqdm\n",
    "from langchain.document_loaders import TextLoader\n",
    "from langchain.document_loaders import DirectoryLoader\n",
    "import os\n",
    "from pathlib import Path\n",
    "from typing import Any, Dict\n",
    "import pandas as pd\n"
   ]
  },
  {
   "cell_type": "code",
   "execution_count": 2,
   "id": "3899a49a",
   "metadata": {},
   "outputs": [
    {
     "data": {
      "text/plain": [
       "True"
      ]
     },
     "execution_count": 2,
     "metadata": {},
     "output_type": "execute_result"
    }
   ],
   "source": [
    "from dotenv import load_dotenv\n",
    "\n",
    "load_dotenv()"
   ]
  },
  {
   "cell_type": "code",
   "execution_count": 3,
   "id": "be4711dc",
   "metadata": {},
   "outputs": [],
   "source": [
    "llm_type = [\"openai\", \"ollama\"][0]\n",
    "if llm_type == \"ollama\":\n",
    "    llm = ChatOllama(\n",
    "        model=\"llama3.2\",\n",
    "        base_url=\"http://localhost:11434\",\n",
    "        temperature=0,\n",
    "    )\n",
    "elif llm_type == \"openai\":\n",
    "    llm = ChatOpenAI(\n",
    "        model=\"gpt-3.5-turbo\",\n",
    "        temperature=0,\n",
    "        # max_retries=3,\n",
    "        # request_timeout=60,\n",
    "        # headers=HEADERS\n",
    "    )"
   ]
  },
  {
   "cell_type": "code",
   "execution_count": 4,
   "id": "cd9caa93",
   "metadata": {},
   "outputs": [],
   "source": [
    "\n",
    "# base_url = \"http://localhost:11434\"\n",
    "# model = \"llama3.2\"\n",
    "\n",
    "# llm = ChatOllama(base_url=base_url, model=model)\n",
    "# llm"
   ]
  },
  {
   "cell_type": "code",
   "execution_count": 5,
   "id": "79cca4b3",
   "metadata": {},
   "outputs": [
    {
     "data": {
      "text/plain": [
       "AIMessage(content='The capital of France is Paris.', additional_kwargs={'refusal': None}, response_metadata={'token_usage': {'completion_tokens': 7, 'prompt_tokens': 14, 'total_tokens': 21, 'completion_tokens_details': {'accepted_prediction_tokens': 0, 'audio_tokens': 0, 'reasoning_tokens': 0, 'rejected_prediction_tokens': 0}, 'prompt_tokens_details': {'audio_tokens': 0, 'cached_tokens': 0}}, 'model_name': 'gpt-3.5-turbo-0125', 'system_fingerprint': None, 'id': 'chatcmpl-Bc2qXTbPcKFZccII5V67mlcZtOANL', 'service_tier': 'default', 'finish_reason': 'stop', 'logprobs': None}, id='run--ea7e3a5c-be03-43e7-ab96-e6ee0de55fa7-0', usage_metadata={'input_tokens': 14, 'output_tokens': 7, 'total_tokens': 21, 'input_token_details': {'audio': 0, 'cache_read': 0}, 'output_token_details': {'audio': 0, 'reasoning': 0}})"
      ]
     },
     "execution_count": 5,
     "metadata": {},
     "output_type": "execute_result"
    }
   ],
   "source": [
    "llm.invoke(\"What is the capital of France?\")"
   ]
  },
  {
   "cell_type": "code",
   "execution_count": 6,
   "id": "7a691f3d",
   "metadata": {},
   "outputs": [
    {
     "name": "stderr",
     "output_type": "stream",
     "text": [
      "/home/alireza/.cache/pypoetry/virtualenvs/genu-dGEUhqWF-py3.11/lib/python3.11/site-packages/langchain_openai/chat_models/base.py:1669: UserWarning: Cannot use method='json_schema' with model gpt-3.5-turbo since it doesn't support OpenAI's Structured Output API. You can see supported models here: https://platform.openai.com/docs/guides/structured-outputs#supported-models. To fix this warning, set `method='function_calling'. Overriding to method='function_calling'.\n",
      "  warnings.warn(\n"
     ]
    }
   ],
   "source": [
    "from pydantic import BaseModel, Field\n",
    "from langchain_core.prompts import ChatPromptTemplate\n",
    "\n",
    "\n",
    "class GradeDocuments(BaseModel):\n",
    "    \"\"\"Binary score for relevance check on retrieved documents.\"\"\"\n",
    "\n",
    "    binary_score: str = Field(\n",
    "        description=\"Documents are relevant to the topic, 'yes' or 'no'\"\n",
    "    )\n",
    "    justification: str = Field(\n",
    "        description=\"Brief explanation justifying the relevance decision\"\n",
    "    )\n",
    "\n",
    "\n",
    "structured_llm_grader = llm.with_structured_output(GradeDocuments)\n",
    "\n",
    "system = \"\"\"\n",
    "You are an expert grader assessing the relevance of a job-related document for a specific candidate.\n",
    "You will receive three inputs:\n",
    "\n",
    "The candidate's resume (including skills, experience, education, etc.)\n",
    "User guidance (criteria or preferences for job relevance, such as desired roles, industries, locations, or required skills)\n",
    "The document to be evaluated (job description, company info, etc.)\n",
    "Task:\n",
    "Determine if the document is relevant to the candidate's job search, based on the following criteria:\n",
    "\n",
    "The document matches the candidate’s skills, experience, or education as listed in the resume.\n",
    "The document aligns with the user’s stated preferences or guidance (e.g., job title, industry, location, required qualifications).\n",
    "\n",
    "Instructions:\n",
    "\n",
    "Give a binary score: 'yes' if the document is relevant, 'no' if it is not.\n",
    "Briefly justify your decision in 1-2 sentences, referencing the most important matching or missing criteria.\n",
    "Output format:\n",
    "Relevant: [yes/no]\n",
    "Justification: [your brief explanation]\n",
    "\"\"\"\n",
    "# The document contains information that would be useful for the candidate’s job application or decision-making (e.g., application process, company culture, benefits, growth opportunities).\n",
    "\n",
    "\n",
    "grade_prompt = ChatPromptTemplate.from_messages(\n",
    "    [\n",
    "        (\"system\", system),\n",
    "        (\n",
    "            \"human\",\n",
    "            \"job-related document: \\n\\n {document} \\n\\n candidate's resume: \\n\\n {resume} \\n\\n user guidance: \\n\\n {guidance} \\n\\n\",\n",
    "        ),\n",
    "    ]\n",
    ")\n",
    "\n",
    "retrieval_grader = grade_prompt | structured_llm_grader"
   ]
  },
  {
   "cell_type": "code",
   "execution_count": 7,
   "id": "e56ecc36",
   "metadata": {},
   "outputs": [],
   "source": [
    "from typing import List, TypedDict\n",
    "\n",
    "\n",
    "class GraphState(TypedDict):\n",
    "    \"\"\"\n",
    "    Represents the state of our graph.\n",
    "\n",
    "    Attributes:\n",
    "        documents: list of documents\n",
    "    \"\"\"\n",
    "\n",
    "    documents: List[str]\n",
    "    resume: str\n",
    "    guidance: str\n",
    "    justification: str"
   ]
  },
  {
   "cell_type": "code",
   "execution_count": 8,
   "id": "7d99c42d",
   "metadata": {},
   "outputs": [],
   "source": [
    "def retrieve(state: GraphState) -> Dict[str, Any]:\n",
    "    \"\"\"\n",
    "    Load a FAISS vectorstore and return all documents as a list.\n",
    "\n",
    "    Args:\n",
    "        persist_directory (str): Directory where the FAISS index is stored\n",
    "        embeddings (optional): Embedding function, defaults to OpenAIEmbeddings if None\n",
    "\n",
    "    Returns:\n",
    "        list: List of Document objects from the vectorstore\n",
    "    \"\"\"\n",
    "    print(\"---RETRIEVE---\")\n",
    "    # Load the vectorstore\n",
    "    try:\n",
    "        vectorstore = FAISS.load_local(\n",
    "            f\"../{PERSIST_PATH}\",\n",
    "            OpenAIEmbeddings(),\n",
    "            allow_dangerous_deserialization=True,\n",
    "        )\n",
    "        print(\n",
    "            f\"Loaded FAISS index with {len(vectorstore.index_to_docstore_id)} documents.\"\n",
    "        )\n",
    "    except Exception as e:\n",
    "        print(f\"Error loading vectorstore: {e}\")\n",
    "        return []  # Return empty list on error\n",
    "\n",
    "    # Extract all documents into a list\n",
    "    documents = []\n",
    "    for doc_id in vectorstore.index_to_docstore_id.values():\n",
    "        doc = vectorstore.docstore.search(doc_id)\n",
    "        if doc:\n",
    "            documents.append(doc)\n",
    "\n",
    "    print(f\"Retrieved {len(documents)} documents from vectorstore.\")\n",
    "    return {\"documents\": documents}"
   ]
  },
  {
   "cell_type": "code",
   "execution_count": 9,
   "id": "59e956a0",
   "metadata": {},
   "outputs": [],
   "source": [
    "\n",
    "def grade_documents(state: GraphState) -> Dict[str, Any]:\n",
    "    \"\"\"\n",
    "    Determines whether the retrieved documents are relevant to the question\n",
    "    If any document is not relevant, we will set a flag to run web search\n",
    "\n",
    "    Args:\n",
    "        state (dict): The current graph state\n",
    "\n",
    "    Returns:\n",
    "        state (dict): Filtered out irrelevant documents and updated web_search state\n",
    "    \"\"\"\n",
    "\n",
    "    print(\"---CHECK DOCUMENT RELEVANCE TO QUESTION---\")\n",
    "    documents = state[\"documents\"]\n",
    "    resume = state[\"resume\"]\n",
    "    guidance = state[\"guidance\"]\n",
    "\n",
    "\n",
    "    filtered_docs = []\n",
    "    justifications = []  # List to store justifications\n",
    "\n",
    "    for d in tqdm(documents):\n",
    "        result = retrieval_grader.invoke({\"document\": d.page_content, \"resume\": resume, \"guidance\": guidance})\n",
    "        grade = result.binary_score\n",
    "        justification = result.justification\n",
    "        print(f\"Titel: {d.metadata.get('title')} @ {d.metadata.get('company')}\")\n",
    "        # grade = score.binary_score\n",
    "        if grade.lower() == \"yes\":\n",
    "            print(\"---GRADE: DOCUMENT RELEVANT---\")\n",
    "            print(f\"Justification: {justification}\")\n",
    "            filtered_docs.append(d)\n",
    "            # justifications.append(f\"RELEVANT - {justification}\")\n",
    "        else:\n",
    "            print(\"---GRADE: DOCUMENT NOT RELEVANT---\")\n",
    "            print(f\"Justification: {justification}\")\n",
    "            # justifications.append(f\"NOT RELEVANT - {justification}\")\n",
    "            continue\n",
    "    print(f\"Number of relevant documents: {len(filtered_docs)}\")\n",
    "    return {\n",
    "        \"documents\": filtered_docs,\n",
    "    }"
   ]
  },
  {
   "cell_type": "code",
   "execution_count": 10,
   "id": "7690ac2b",
   "metadata": {},
   "outputs": [],
   "source": [
    "from langgraph.graph import StateGraph, END\n",
    "\n",
    "graph = StateGraph(GraphState)\n",
    "graph.add_node(\"retrieve\", retrieve)\n",
    "graph.add_node(\"grade_documents\", grade_documents)\n",
    "graph.add_edge(\"retrieve\", \"grade_documents\")\n",
    "graph.add_edge(\"grade_documents\", END)\n",
    "\n",
    "graph.set_entry_point(\"retrieve\")\n",
    "\n",
    "filter_graph = graph.compile()"
   ]
  },
  {
   "cell_type": "code",
   "execution_count": 11,
   "id": "3d7b64f4",
   "metadata": {},
   "outputs": [
    {
     "data": {
      "image/png": "[encoded data removed]",
      "text/plain": [
       "<langgraph.graph.state.CompiledStateGraph object at 0x70767c743e10>"
      ]
     },
     "execution_count": 11,
     "metadata": {},
     "output_type": "execute_result"
    }
   ],
   "source": [
    "filter_graph"
   ]
  },
  {
   "cell_type": "code",
   "execution_count": 12,
   "id": "b071bc09",
   "metadata": {},
   "outputs": [],
   "source": [
    "# Example usage\n",
    "file_path = \"my_resume/CV_Ali Zarreh_2025_05_11.pdf\"  # or \"your_document.docx\"\n",
    "resume = extract_text_from_file(file_path).split(\"ali@zarreh.ai\")[1].split(\"NOTABLE PUBLICATIONS\")[0]\n",
    "# print(resume)"
   ]
  },
  {
   "cell_type": "code",
   "execution_count": 13,
   "id": "bdb1b678",
   "metadata": {},
   "outputs": [],
   "source": [
    "user_guidance = \"\"\"\n",
    "Please consider only jobs as relevant if they meet all of the following criteria:\n",
    "\n",
    "The job title must include \"data scientist\" (for example: \"senior data scientist,\" \"lead data scientist,\" \"principal data scientist,\" or simply \"data scientist\").\n",
    "Jobs that are managerial or director level (such as \"manager,\" \"director,\" \"head,\" or \"VP\") are not relevant.\n",
    "The job location must be either in San Antonio, TX, or is remote in the United States (US).\n",
    "The job should be fulltime, not part-time or contract.\n",
    "The maximum base salary listed for the job must be greater than $170,000. If the salary is not listed, it should be considered relevant or not depending other criteria.\n",
    "I am also interested in jobs related to generative AI and large language model (LLM) development, even if this is not a major focus in my resume.\n",
    "\"\"\"\n",
    "# If a job does not meet all of the above criteria, it should be considered not relevant."
   ]
  },
  {
   "cell_type": "code",
   "execution_count": 14,
   "id": "56763198",
   "metadata": {},
   "outputs": [
    {
     "name": "stdout",
     "output_type": "stream",
     "text": [
      "---RETRIEVE---\n",
      "Loaded FAISS index with 180 documents.\n",
      "Retrieved 180 documents from vectorstore.\n",
      "---CHECK DOCUMENT RELEVANCE TO QUESTION---\n"
     ]
    },
    {
     "name": "stderr",
     "output_type": "stream",
     "text": [
      "  1%|          | 1/180 [00:01<03:52,  1.30s/it]"
     ]
    },
    {
     "name": "stdout",
     "output_type": "stream",
     "text": [
      "Titel: Data Science Manager @ HCA Healthcare\n",
      "---GRADE: DOCUMENT RELEVANT---\n",
      "Justification: The job description for Data Science Manager at HCA Healthcare does not match the user's guidance or the candidate's job preferences. The job title is not specifically 'data scientist' and it is a managerial position, which is not relevant according to the user's criteria.\n"
     ]
    },
    {
     "name": "stderr",
     "output_type": "stream",
     "text": [
      "  1%|          | 2/180 [00:02<03:39,  1.23s/it]"
     ]
    },
    {
     "name": "stdout",
     "output_type": "stream",
     "text": [
      "Titel: Data Scientist @ STG Logistics - Tropicana/Naked Juice Div.\n",
      "---GRADE: DOCUMENT NOT RELEVANT---\n",
      "Justification: The job is for a part-time Data Scientist position, while the candidate is seeking full-time roles. Additionally, the job location is remote, not in San Antonio, TX as preferred by the candidate. The salary information is not provided, so it does not meet all the specified criteria.\n"
     ]
    },
    {
     "name": "stderr",
     "output_type": "stream",
     "text": [
      "  2%|▏         | 3/180 [00:03<03:35,  1.22s/it]"
     ]
    },
    {
     "name": "stdout",
     "output_type": "stream",
     "text": [
      "Titel: Data Scientist @ STG Logistics - Tropicana/Naked Juice Div.\n",
      "---GRADE: DOCUMENT NOT RELEVANT---\n",
      "Justification: The job is for a part-time Data Scientist position, while the candidate is seeking full-time roles. Additionally, the job location is remote, not in San Antonio, TX as preferred by the candidate. The salary information is not provided to determine if it meets the specified criteria.\n"
     ]
    },
    {
     "name": "stderr",
     "output_type": "stream",
     "text": [
      "  2%|▏         | 4/180 [00:04<03:25,  1.17s/it]"
     ]
    },
    {
     "name": "stdout",
     "output_type": "stream",
     "text": [
      "Titel: Data Scientist 3 @ Gormat\n",
      "---GRADE: DOCUMENT RELEVANT---\n",
      "Justification: The job description for Data Scientist 3 at Gormat aligns with the candidate's skills and experience in data science, machine learning, and AI. The candidate's Ph.D. in Mechanical and Manufacturing Systems Engineering with a focus on cybersecurity, along with their expertise in Python, machine learning frameworks, and data processing technologies, make them a suitable match for the position.\n"
     ]
    },
    {
     "name": "stderr",
     "output_type": "stream",
     "text": [
      "  3%|▎         | 5/180 [00:05<03:16,  1.12s/it]"
     ]
    },
    {
     "name": "stdout",
     "output_type": "stream",
     "text": [
      "Titel: Data Scientist @ STG Logistics - Tropicana/Naked Juice Div.\n",
      "---GRADE: DOCUMENT NOT RELEVANT---\n",
      "Justification: The job description is for a part-time Data Scientist role, while the candidate is seeking full-time positions. Additionally, the job location is remote, not in San Antonio, TX as preferred by the candidate. The salary information is not provided, so it does not meet all the specified criteria.\n"
     ]
    },
    {
     "name": "stderr",
     "output_type": "stream",
     "text": [
      "  3%|▎         | 6/180 [00:06<03:11,  1.10s/it]"
     ]
    },
    {
     "name": "stdout",
     "output_type": "stream",
     "text": [
      "Titel: Data Scientist @ STG Logistics - Tropicana/Naked Juice Div.\n",
      "---GRADE: DOCUMENT NOT RELEVANT---\n",
      "Justification: The job description is for a part-time Data Scientist role, while the candidate is seeking full-time positions. Additionally, the job location is remote, not in San Antonio, TX as preferred by the candidate. The salary information is not provided, so it does not meet all the specified criteria.\n"
     ]
    },
    {
     "name": "stderr",
     "output_type": "stream",
     "text": [
      "  4%|▍         | 7/180 [00:07<02:57,  1.03s/it]"
     ]
    },
    {
     "name": "stdout",
     "output_type": "stream",
     "text": [
      "Titel: Data Scientist @ STG Logistics - Tropicana/Naked Juice Div.\n",
      "---GRADE: DOCUMENT NOT RELEVANT---\n",
      "Justification: The job description is for a part-time Data Scientist role, while the candidate is seeking full-time positions. Additionally, the job location is remote, not in San Antonio, TX as preferred by the candidate. The salary information is not provided, so it does not meet all the specified criteria.\n"
     ]
    },
    {
     "name": "stderr",
     "output_type": "stream",
     "text": [
      "  4%|▍         | 8/180 [00:08<02:50,  1.01it/s]"
     ]
    },
    {
     "name": "stdout",
     "output_type": "stream",
     "text": [
      "Titel: Data Scientist @ Kforce Inc\n",
      "---GRADE: DOCUMENT RELEVANT---\n",
      "Justification: The job-related document for a Data Scientist position at Kforce Inc matches the candidate's skills and experience in data science, machine learning, statistical analysis, and programming languages like Python and R. The document also aligns with the user's preference for job titles including 'Data Scientist' and the location requirement of being remote in the US.\n"
     ]
    },
    {
     "name": "stderr",
     "output_type": "stream",
     "text": [
      "  5%|▌         | 9/180 [00:09<02:43,  1.04it/s]"
     ]
    },
    {
     "name": "stdout",
     "output_type": "stream",
     "text": [
      "Titel: Data Scientist @ STG Logistics - Tropicana/Naked Juice Div.\n",
      "---GRADE: DOCUMENT NOT RELEVANT---\n",
      "Justification: The job description is for a part-time Data Scientist role, while the candidate is seeking full-time positions. Additionally, the job location is remote, not in San Antonio, TX as preferred by the candidate. The salary information is not provided, so it does not meet all the specified criteria.\n"
     ]
    },
    {
     "name": "stderr",
     "output_type": "stream",
     "text": [
      "  6%|▌         | 10/180 [00:10<02:50,  1.00s/it]"
     ]
    },
    {
     "name": "stdout",
     "output_type": "stream",
     "text": [
      "Titel: Senior Fraud Data Scientist @ Sherpa | Recruiting, Staffing & Consulting\n",
      "---GRADE: DOCUMENT NOT RELEVANT---\n",
      "Justification: The job title in the document is 'Senior Fraud Data Scientist,' which does not exactly match the user's preference for job titles containing 'data scientist.' Additionally, the job location is not in San Antonio, TX, and the salary is not specified, making it not fully aligned with the user's criteria.\n"
     ]
    },
    {
     "name": "stderr",
     "output_type": "stream",
     "text": [
      "  6%|▌         | 11/180 [00:11<02:43,  1.03it/s]"
     ]
    },
    {
     "name": "stdout",
     "output_type": "stream",
     "text": [
      "Titel: Data Science Manager/Director @ Pivotal Solutions\n",
      "---GRADE: DOCUMENT NOT RELEVANT---\n",
      "Justification: The job description is for a Data Science Manager/Director position, which is not relevant to the candidate's preference for roles specifically as a data scientist. Additionally, the job location is not in San Antonio, TX, and the salary information is not provided.\n"
     ]
    },
    {
     "name": "stderr",
     "output_type": "stream",
     "text": [
      "  7%|▋         | 12/180 [00:12<02:38,  1.06it/s]"
     ]
    },
    {
     "name": "stdout",
     "output_type": "stream",
     "text": [
      "Titel: Data Scientist @ STG Logistics - Tropicana/Naked Juice Div.\n",
      "---GRADE: DOCUMENT NOT RELEVANT---\n",
      "Justification: The job description is for a part-time Data Scientist role, while the candidate is seeking full-time positions. Additionally, the job location is remote, not in San Antonio, TX as preferred by the candidate. The salary information is not provided, so it does not meet all the specified criteria.\n"
     ]
    },
    {
     "name": "stderr",
     "output_type": "stream",
     "text": [
      "  7%|▋         | 13/180 [00:13<02:39,  1.05it/s]"
     ]
    },
    {
     "name": "stdout",
     "output_type": "stream",
     "text": [
      "Titel: Senior Data Scientist @ Trace3\n",
      "---GRADE: DOCUMENT RELEVANT---\n",
      "Justification: The job description for Senior Data Scientist at Trace3 aligns with the candidate's skills and experience in data science, machine learning, and AI. The location requirement of San Antonio, TX, is also met in the job description.\n"
     ]
    },
    {
     "name": "stderr",
     "output_type": "stream",
     "text": [
      "  8%|▊         | 14/180 [00:14<02:35,  1.07it/s]"
     ]
    },
    {
     "name": "stdout",
     "output_type": "stream",
     "text": [
      "Titel: Director of Data Science @ Worth AI \n",
      "---GRADE: DOCUMENT RELEVANT---\n",
      "Justification: The job description for Director of Data Science at Worth AI aligns with the candidate's skills and experience in data science, machine learning, and leadership. The candidate's expertise in predictive modeling, statistical analysis, machine learning, and team leadership matches the requirements of the job description.\n"
     ]
    },
    {
     "name": "stderr",
     "output_type": "stream",
     "text": [
      "  8%|▊         | 15/180 [00:15<02:55,  1.06s/it]"
     ]
    },
    {
     "name": "stdout",
     "output_type": "stream",
     "text": [
      "Titel: Director of Data Science @ Worth AI \n",
      "---GRADE: DOCUMENT RELEVANT---\n",
      "Justification: The job description for Director of Data Science at Worth AI aligns with the candidate's skills and experience in data science, machine learning, and leadership. The candidate's expertise in predictive modeling, statistical analysis, machine learning, and team leadership matches the requirements of the job description.\n"
     ]
    },
    {
     "name": "stderr",
     "output_type": "stream",
     "text": [
      "  9%|▉         | 16/180 [00:16<02:46,  1.02s/it]"
     ]
    },
    {
     "name": "stdout",
     "output_type": "stream",
     "text": [
      "Titel: Data Scientist @ STG Logistics - Tropicana/Naked Juice Div.\n",
      "---GRADE: DOCUMENT NOT RELEVANT---\n",
      "Justification: The job description is for a part-time Data Scientist role, while the candidate is seeking full-time positions. Additionally, the job location is remote, not in San Antonio, TX as preferred by the candidate. The salary information is not provided, so it does not meet all the specified criteria.\n"
     ]
    },
    {
     "name": "stderr",
     "output_type": "stream",
     "text": [
      "  9%|▉         | 17/180 [00:17<02:49,  1.04s/it]"
     ]
    },
    {
     "name": "stdout",
     "output_type": "stream",
     "text": [
      "Titel: Senior Data Scientist @ Jobs via Dice\n",
      "---GRADE: DOCUMENT RELEVANT---\n",
      "Justification: The job description for Senior Data Scientist aligns with the candidate's skills and experience in AI, ML, and data science. The location is also suitable as it mentions San Antonio, TX, which matches the candidate's preference.\n"
     ]
    },
    {
     "name": "stderr",
     "output_type": "stream",
     "text": [
      " 10%|█         | 18/180 [00:18<02:50,  1.05s/it]"
     ]
    },
    {
     "name": "stdout",
     "output_type": "stream",
     "text": [
      "Titel: Sr Data Scientist - ML Engineering @ H-E-B\n",
      "---GRADE: DOCUMENT RELEVANT---\n",
      "Justification: The job-related document is relevant to the candidate's job search. The document matches the candidate's skills and experience as a Senior Data Scientist, especially in areas such as Generative AI, large language models, machine learning optimization, and forecasting. The job title aligns with the candidate's expertise, and the location is in San Antonio, TX.\n"
     ]
    },
    {
     "name": "stderr",
     "output_type": "stream",
     "text": [
      " 11%|█         | 19/180 [00:19<02:46,  1.03s/it]"
     ]
    },
    {
     "name": "stdout",
     "output_type": "stream",
     "text": [
      "Titel: Data Scientist - eCommerce @ H-E-B\n",
      "---GRADE: DOCUMENT RELEVANT---\n",
      "Justification: The job description for Data Scientist at H-E-B aligns with the candidate's skills and experience in AI, ML, and data science, as well as their interest in generative AI and large language models. The location in San Antonio, TX also matches the user's preference.\n"
     ]
    },
    {
     "name": "stderr",
     "output_type": "stream",
     "text": [
      " 11%|█         | 20/180 [00:20<02:34,  1.04it/s]"
     ]
    },
    {
     "name": "stdout",
     "output_type": "stream",
     "text": [
      "Titel: Director of Data Science @ Worth AI \n",
      "---GRADE: DOCUMENT NOT RELEVANT---\n",
      "Justification: The job title is 'Director of Data Science,' which does not include 'data scientist' as specified in the user guidance. Additionally, the role is at a managerial level, which is considered not relevant based on the criteria provided.\n"
     ]
    },
    {
     "name": "stderr",
     "output_type": "stream",
     "text": [
      " 12%|█▏        | 21/180 [00:21<02:47,  1.06s/it]"
     ]
    },
    {
     "name": "stdout",
     "output_type": "stream",
     "text": [
      "Titel: Senior Data Analyst, Quality - Remote @ Optum\n",
      "---GRADE: DOCUMENT NOT RELEVANT---\n",
      "Justification: The job title is 'Senior Data Analyst' and does not include 'data scientist' as required by the user guidance. Additionally, the job location is not in San Antonio, TX, and the salary range is not specified, making it unclear if it meets the salary criterion.\n"
     ]
    },
    {
     "name": "stderr",
     "output_type": "stream",
     "text": [
      " 12%|█▏        | 22/180 [00:22<02:39,  1.01s/it]"
     ]
    },
    {
     "name": "stdout",
     "output_type": "stream",
     "text": [
      "Titel: Data Scientist - Remote @ Lensa\n",
      "---GRADE: DOCUMENT NOT RELEVANT---\n",
      "Justification: The job title in the document is 'Data Scientist,' which matches the candidate's expertise. However, the job location is not in San Antonio, TX, and the salary listed is up to $110K, which is below the candidate's specified minimum salary requirement of $170,000.\n"
     ]
    },
    {
     "name": "stderr",
     "output_type": "stream",
     "text": [
      " 13%|█▎        | 23/180 [00:23<02:35,  1.01it/s]"
     ]
    },
    {
     "name": "stdout",
     "output_type": "stream",
     "text": [
      "Titel: Director, Data Science @ Harnham\n",
      "---GRADE: DOCUMENT NOT RELEVANT---\n",
      "Justification: The job title is 'Director of Data Science,' which is at a managerial level and not relevant according to the user's guidance. Additionally, the job location is not in San Antonio, TX, or remote in the US, as required.\n"
     ]
    },
    {
     "name": "stderr",
     "output_type": "stream",
     "text": [
      " 13%|█▎        | 24/180 [00:24<02:39,  1.02s/it]"
     ]
    },
    {
     "name": "stdout",
     "output_type": "stream",
     "text": [
      "Titel: Data Scientist @ STG Logistics - Tropicana/Naked Juice Div.\n",
      "---GRADE: DOCUMENT NOT RELEVANT---\n",
      "Justification: The job description is for a part-time Data Scientist role, while the candidate is seeking full-time positions. Additionally, the job location is remote, not in San Antonio, TX as preferred by the candidate. The salary information is not provided, so it does not meet all the specified criteria.\n"
     ]
    },
    {
     "name": "stderr",
     "output_type": "stream",
     "text": [
      " 14%|█▍        | 25/180 [00:26<02:50,  1.10s/it]"
     ]
    },
    {
     "name": "stdout",
     "output_type": "stream",
     "text": [
      "Titel: Director of Data Science @ Alldus\n",
      "---GRADE: DOCUMENT NOT RELEVANT---\n",
      "Justification: The job title is 'Director of Data Science,' which does not include 'data scientist' as specified in the user guidance. Additionally, the job is at a managerial level, which is considered not relevant based on the criteria provided.\n"
     ]
    },
    {
     "name": "stderr",
     "output_type": "stream",
     "text": [
      " 14%|█▍        | 26/180 [00:26<02:40,  1.04s/it]"
     ]
    },
    {
     "name": "stdout",
     "output_type": "stream",
     "text": [
      "Titel: Data Scientist @ STG Logistics - Tropicana/Naked Juice Div.\n",
      "---GRADE: DOCUMENT NOT RELEVANT---\n",
      "Justification: The job is for a part-time Data Scientist position, while the candidate is seeking full-time roles. Additionally, the job location is remote, not in San Antonio, TX, and the salary information is not provided, making it unclear if it meets the salary criterion.\n"
     ]
    },
    {
     "name": "stderr",
     "output_type": "stream",
     "text": [
      " 15%|█▌        | 27/180 [00:27<02:37,  1.03s/it]"
     ]
    },
    {
     "name": "stdout",
     "output_type": "stream",
     "text": [
      "Titel: Data Scientist Principal – Bank AI/ML @ USAA\n",
      "---GRADE: DOCUMENT RELEVANT---\n",
      "Justification: The job-related document is relevant to the candidate's job search. The job title matches the candidate's expertise as a Data Scientist, and the location includes San Antonio, TX, which aligns with the candidate's preference. The job is full-time, and the salary range exceeds $170,000.\n"
     ]
    },
    {
     "name": "stderr",
     "output_type": "stream",
     "text": [
      " 16%|█▌        | 28/180 [00:29<02:54,  1.15s/it]"
     ]
    },
    {
     "name": "stdout",
     "output_type": "stream",
     "text": [
      "Titel: Data Scientist IRC264561 @ GlobalLogic\n",
      "---GRADE: DOCUMENT RELEVANT---\n",
      "Justification: The job-related document is relevant to the candidate's job search. The document matches the candidate's skills and experience as a seasoned Data Scientist with a Ph.D., specializing in AI/ML solutions, machine learning algorithms, programming languages like Python, and data visualization tools. Additionally, the document aligns with the user's preferences for roles related to AI/ML implementation, data analysis, and large language models.\n"
     ]
    },
    {
     "name": "stderr",
     "output_type": "stream",
     "text": [
      " 16%|█▌        | 29/180 [00:30<02:41,  1.07s/it]"
     ]
    },
    {
     "name": "stdout",
     "output_type": "stream",
     "text": [
      "Titel: Director of Data Science @ Worth AI \n",
      "---GRADE: DOCUMENT RELEVANT---\n",
      "Justification: The job description for Director of Data Science at Worth AI aligns with the candidate's skills and experience in data science, machine learning, and leadership. The candidate's expertise in predictive modeling, statistical analysis, machine learning, and deep learning matches the requirements of the job description.\n"
     ]
    },
    {
     "name": "stderr",
     "output_type": "stream",
     "text": [
      " 17%|█▋        | 30/180 [00:31<02:30,  1.01s/it]"
     ]
    },
    {
     "name": "stdout",
     "output_type": "stream",
     "text": [
      "Titel: Director Data Science @ Harnham\n",
      "---GRADE: DOCUMENT NOT RELEVANT---\n",
      "Justification: The job title is 'Director Data Science,' which does not include 'data scientist' as specified in the user guidance. Additionally, the job is at a managerial level, which is considered not relevant based on the criteria provided.\n"
     ]
    },
    {
     "name": "stderr",
     "output_type": "stream",
     "text": [
      " 17%|█▋        | 31/180 [00:32<02:45,  1.11s/it]"
     ]
    },
    {
     "name": "stdout",
     "output_type": "stream",
     "text": [
      "Titel: Principal Data Scientist - Generative AI, Machine Learning, Python, R - Remote @ Lensa\n",
      "---GRADE: DOCUMENT RELEVANT---\n",
      "Justification: The job description for Principal Data Scientist at Molina Healthcare aligns with the candidate's skills in Generative AI, Machine Learning, Python, and R. The role requires expertise in AI technologies, model governance, and data analysis, which are areas where the candidate has demonstrated proficiency in their resume.\n"
     ]
    },
    {
     "name": "stderr",
     "output_type": "stream",
     "text": [
      " 18%|█▊        | 32/180 [00:33<02:33,  1.04s/it]"
     ]
    },
    {
     "name": "stdout",
     "output_type": "stream",
     "text": [
      "Titel: Data Scientist (L4) - Product @ Netflix\n",
      "---GRADE: DOCUMENT RELEVANT---\n",
      "Justification: The job description for Data Scientist (L4) at Netflix aligns with the candidate's skills in data science, machine learning, and deep learning. The role also involves working on product innovation and experimentation, which matches the candidate's experience in leading data science projects and mentoring junior practitioners.\n"
     ]
    },
    {
     "name": "stderr",
     "output_type": "stream",
     "text": [
      " 18%|█▊        | 33/180 [00:34<02:43,  1.12s/it]"
     ]
    },
    {
     "name": "stdout",
     "output_type": "stream",
     "text": [
      "Titel: Data Scientist @ Dataminr\n",
      "---GRADE: DOCUMENT NOT RELEVANT---\n",
      "Justification: The job title in the document is 'Senior Data Scientist,' which meets the user's criteria. However, the job location is not in San Antonio, TX, and the maximum base salary listed is between $95,200 - $140,000, which is below the user's specified threshold of $170,000.\n"
     ]
    },
    {
     "name": "stderr",
     "output_type": "stream",
     "text": [
      " 19%|█▉        | 34/180 [00:35<02:38,  1.08s/it]"
     ]
    },
    {
     "name": "stdout",
     "output_type": "stream",
     "text": [
      "Titel: Director, Data Scientist & Data Operations @ Eisai US\n",
      "---GRADE: DOCUMENT NOT RELEVANT---\n",
      "Justification: The job title includes 'Director,' which is not relevant as per the user's guidance that managerial or director level roles are not considered relevant. Additionally, the job location is in Nutley, NJ, not in San Antonio, TX or remote in the US.\n"
     ]
    },
    {
     "name": "stderr",
     "output_type": "stream",
     "text": [
      " 19%|█▉        | 35/180 [00:36<02:32,  1.05s/it]"
     ]
    },
    {
     "name": "stdout",
     "output_type": "stream",
     "text": [
      "Titel: Director, Data Scientist & Data Operations @ Eisai US\n",
      "---GRADE: DOCUMENT NOT RELEVANT---\n",
      "Justification: The job title includes 'Director,' which is not relevant as per the user's guidance that managerial or director level roles are not considered relevant. Additionally, the job location is in Nutley, NJ, which does not match the specified locations of San Antonio, TX, or remote in the US.\n"
     ]
    },
    {
     "name": "stderr",
     "output_type": "stream",
     "text": [
      " 20%|██        | 36/180 [00:37<02:43,  1.14s/it]"
     ]
    },
    {
     "name": "stdout",
     "output_type": "stream",
     "text": [
      "Titel: Senior Data Scientist @ TieTalent\n",
      "---GRADE: DOCUMENT RELEVANT---\n",
      "Justification: The job-related document is relevant to the candidate's job search. The document matches the candidate's skills and experience as a Senior Data Scientist, and the job title includes 'Senior Data Scientist.' Additionally, the job location is in San Antonio, TX, which aligns with the user's preference.\n"
     ]
    },
    {
     "name": "stderr",
     "output_type": "stream",
     "text": [
      " 21%|██        | 37/180 [00:39<02:43,  1.14s/it]"
     ]
    },
    {
     "name": "stdout",
     "output_type": "stream",
     "text": [
      "Titel: Staff Data Scientist, Machine Learning @ Valo Health\n",
      "---GRADE: DOCUMENT RELEVANT---\n",
      "Justification: The job of Staff Data Scientist, Machine Learning at Valo Health aligns with the candidate's skills in machine learning, deep learning, big data technologies, optimization, and forecasting. The job title includes 'Data Scientist,' the location is remote in the US, and the salary range exceeds $170,000, meeting all the user's specified criteria.\n"
     ]
    },
    {
     "name": "stderr",
     "output_type": "stream",
     "text": [
      " 21%|██        | 38/180 [00:40<02:33,  1.08s/it]"
     ]
    },
    {
     "name": "stdout",
     "output_type": "stream",
     "text": [
      "Titel: Machine Learning Scientist (L5) - Content & Studio @ Netflix\n",
      "---GRADE: DOCUMENT NOT RELEVANT---\n",
      "Justification: The job title is 'Machine Learning Scientist' and does not include 'data scientist' as required. Additionally, the job location is not in San Antonio, TX or remote in the US, and the salary range is not specified, making it not relevant based on the user's guidance.\n"
     ]
    },
    {
     "name": "stderr",
     "output_type": "stream",
     "text": [
      " 22%|██▏       | 39/180 [00:41<02:31,  1.07s/it]"
     ]
    },
    {
     "name": "stdout",
     "output_type": "stream",
     "text": [
      "Titel: Data Scientist @ knownwell\n",
      "---GRADE: DOCUMENT RELEVANT---\n",
      "Justification: The job description for Data Scientist at knownwell aligns with the candidate's skills and experience in data science, predictive modeling, statistical analysis, and proficiency in Python and R. The location of the job in San Antonio, TX, matches the user's preference, and the job is full-time with a focus on healthcare analytics.\n"
     ]
    },
    {
     "name": "stderr",
     "output_type": "stream",
     "text": [
      " 22%|██▏       | 40/180 [00:42<02:28,  1.06s/it]"
     ]
    },
    {
     "name": "stdout",
     "output_type": "stream",
     "text": [
      "Titel: Data Scientist, Customer Analytics (Remote) @ Lensa\n",
      "---GRADE: DOCUMENT NOT RELEVANT---\n",
      "Justification: The job title in the document is 'Customer Analytics Data Scientist,' which does not exactly match the user's preference for 'data scientist.' Additionally, the job location is not in San Antonio, TX, and the salary information is not provided, making it not fully aligned with the user's criteria.\n"
     ]
    },
    {
     "name": "stderr",
     "output_type": "stream",
     "text": [
      " 23%|██▎       | 41/180 [00:43<02:27,  1.06s/it]"
     ]
    },
    {
     "name": "stdout",
     "output_type": "stream",
     "text": [
      "Titel: Data Scientist  NLP/ML @ Jobs via Dice\n",
      "---GRADE: DOCUMENT RELEVANT---\n",
      "Justification: The job description for Data Scientist NLP/ML aligns with the candidate's skills in NLP, ML, Python, and SQL, as well as experience in AI/ML solutions. The job location is remote, meeting the user's preference for remote jobs in the US. The document also mentions working with transformer-based models, which matches the candidate's experience with large language models.\n"
     ]
    },
    {
     "name": "stderr",
     "output_type": "stream",
     "text": [
      " 23%|██▎       | 42/180 [00:44<02:35,  1.13s/it]"
     ]
    },
    {
     "name": "stdout",
     "output_type": "stream",
     "text": [
      "Titel: Senior Data/Cost Analyst @ Systems Planning & Analysis\n",
      "---GRADE: DOCUMENT NOT RELEVANT---\n",
      "Justification: The job title is 'Senior Data/Cost Analyst' which does not include 'data scientist' as required by the user guidance. Additionally, the job location is not in San Antonio, TX, and the salary information is not provided to determine if it meets the specified criteria.\n"
     ]
    },
    {
     "name": "stderr",
     "output_type": "stream",
     "text": [
      " 24%|██▍       | 43/180 [00:45<02:39,  1.16s/it]"
     ]
    },
    {
     "name": "stdout",
     "output_type": "stream",
     "text": [
      "Titel: Senior Data Analyst @ Centene Corporation\n",
      "---GRADE: DOCUMENT NOT RELEVANT---\n",
      "Justification: The job title is 'Senior Data Analyst' and does not include 'data scientist' as required by the user guidance. Additionally, the job location is not in San Antonio, TX, or remote in the US, and the salary range is below $170,000.\n"
     ]
    },
    {
     "name": "stderr",
     "output_type": "stream",
     "text": [
      " 24%|██▍       | 44/180 [00:46<02:29,  1.10s/it]"
     ]
    },
    {
     "name": "stdout",
     "output_type": "stream",
     "text": [
      "Titel: Remote Data Scientist @ Lensa\n",
      "---GRADE: DOCUMENT NOT RELEVANT---\n",
      "Justification: The job title in the document is 'Remote Data Scientist,' which does not exactly match the user's preference for job titles including 'data scientist.' Additionally, the job location is in Mexico, not in San Antonio, TX or remote in the US as specified by the user guidance.\n"
     ]
    },
    {
     "name": "stderr",
     "output_type": "stream",
     "text": [
      " 25%|██▌       | 45/180 [00:47<02:29,  1.11s/it]"
     ]
    },
    {
     "name": "stdout",
     "output_type": "stream",
     "text": [
      "Titel: Data Scientist -  AV Safety @ Jobs via Dice\n",
      "---GRADE: DOCUMENT NOT RELEVANT---\n",
      "Justification: The job title in the document is 'Data Scientist - AV Safety,' which does not exactly match the user's specified criteria of 'data scientist.' Additionally, the job location is not in San Antonio, TX, and the salary range is not provided, making it unclear if it meets the salary requirement.\n"
     ]
    },
    {
     "name": "stderr",
     "output_type": "stream",
     "text": [
      " 26%|██▌       | 46/180 [00:48<02:24,  1.08s/it]"
     ]
    },
    {
     "name": "stdout",
     "output_type": "stream",
     "text": [
      "Titel: Senior Data Scientist @ Medical Solutions\n",
      "---GRADE: DOCUMENT RELEVANT---\n",
      "Justification: The job description for Senior Data Scientist at Medical Solutions aligns with the candidate's skills and experience in advanced analytics, machine learning, and data science. The job title includes 'data scientist,' the location is not specified, and the document does not mention a managerial or director level position, making it relevant based on the user's guidance.\n"
     ]
    },
    {
     "name": "stderr",
     "output_type": "stream",
     "text": [
      " 26%|██▌       | 47/180 [00:49<02:09,  1.03it/s]"
     ]
    },
    {
     "name": "stdout",
     "output_type": "stream",
     "text": [
      "Titel: Data Scientist II -  Quantitative Medicine and Genomics @ Orion Group\n",
      "---GRADE: DOCUMENT NOT RELEVANT---\n",
      "Justification: The job title does not include 'data scientist' as required by the user guidance. Additionally, the job is a contract position, which is not preferred by the user.\n"
     ]
    },
    {
     "name": "stderr",
     "output_type": "stream",
     "text": [
      " 27%|██▋       | 48/180 [00:50<02:18,  1.05s/it]"
     ]
    },
    {
     "name": "stdout",
     "output_type": "stream",
     "text": [
      "Titel: Sr. Machine Learning Researcher @ AKASA\n",
      "---GRADE: DOCUMENT NOT RELEVANT---\n",
      "Justification: The job title is 'Sr. Machine Learning Researcher' and does not include 'data scientist' as required by the user guidance. Additionally, the job location is not in San Antonio, TX, or remote in the US, and the salary range is not specified, making it not relevant based on the specified criteria.\n"
     ]
    },
    {
     "name": "stderr",
     "output_type": "stream",
     "text": [
      " 27%|██▋       | 49/180 [00:51<02:10,  1.00it/s]"
     ]
    },
    {
     "name": "stdout",
     "output_type": "stream",
     "text": [
      "Titel: Senior Data Scientist - Remote Nationwide @ Optum\n",
      "---GRADE: DOCUMENT RELEVANT---\n",
      "Justification: The job description for Senior Data Scientist at Optum aligns with the candidate's skills and experience in data science, machine learning, and deep learning. The remote nationwide location also meets the candidate's preference for remote work within the US.\n"
     ]
    },
    {
     "name": "stderr",
     "output_type": "stream",
     "text": [
      " 28%|██▊       | 50/180 [00:53<02:25,  1.12s/it]"
     ]
    },
    {
     "name": "stdout",
     "output_type": "stream",
     "text": [
      "Titel: Operations Research Analyst / Data Scientist (Remote) @ Lensa\n",
      "---GRADE: DOCUMENT NOT RELEVANT---\n",
      "Justification: The job title in the document is 'Operations Research Analyst / Data Scientist,' which does not exactly match the user's specified job title requirement of 'data scientist.' Additionally, the job location is listed as US-Remote, which meets the remote work requirement but does not specify San Antonio, TX.\n"
     ]
    },
    {
     "name": "stderr",
     "output_type": "stream",
     "text": [
      " 28%|██▊       | 51/180 [00:53<02:13,  1.04s/it]"
     ]
    },
    {
     "name": "stdout",
     "output_type": "stream",
     "text": [
      "Titel: Senior Clinical Bioinformatics Data Scientist @ Labcorp\n",
      "---GRADE: DOCUMENT NOT RELEVANT---\n",
      "Justification: The job title is 'Senior Clinical Bioinformatics Data Scientist' which does not exactly match the user's preference for 'data scientist' roles. Additionally, the job location is remote in the US, but not specifically in San Antonio, TX as requested.\n"
     ]
    },
    {
     "name": "stderr",
     "output_type": "stream",
     "text": [
      " 29%|██▉       | 52/180 [00:54<02:14,  1.05s/it]"
     ]
    },
    {
     "name": "stdout",
     "output_type": "stream",
     "text": [
      "Titel: People Tech - System Architect-Data Science Senior Manager @ PwC\n",
      "---GRADE: DOCUMENT NOT RELEVANT---\n",
      "Justification: The job title is 'Senior Manager' which does not include 'data scientist' as required. Additionally, the job location is not in San Antonio, TX, and the salary range is not specified, making it not relevant based on the user's guidance.\n"
     ]
    },
    {
     "name": "stderr",
     "output_type": "stream",
     "text": [
      " 29%|██▉       | 53/180 [00:55<02:08,  1.01s/it]"
     ]
    },
    {
     "name": "stdout",
     "output_type": "stream",
     "text": [
      "Titel: Senior Data Analyst @ Worth AI \n",
      "---GRADE: DOCUMENT NOT RELEVANT---\n",
      "Justification: The job title is 'Senior Data Analyst' which does not match the user's preference for 'data scientist' roles. Additionally, the job location is not in San Antonio, TX, and the salary information is not provided, making it not fully aligned with the user's criteria.\n"
     ]
    },
    {
     "name": "stderr",
     "output_type": "stream",
     "text": [
      " 30%|███       | 54/180 [00:57<02:17,  1.09s/it]"
     ]
    },
    {
     "name": "stdout",
     "output_type": "stream",
     "text": [
      "Titel: Data Scientist, Marketing @ Wealthfront\n",
      "---GRADE: DOCUMENT RELEVANT---\n",
      "Justification: The job description for Data Scientist at Wealthfront aligns with the candidate's skills and experience in data science, machine learning, and AI. The location is not a match, but the focus on marketing and data-driven decision-making is highly relevant to the candidate's background.\n"
     ]
    },
    {
     "name": "stderr",
     "output_type": "stream",
     "text": [
      " 31%|███       | 55/180 [00:58<02:15,  1.08s/it]"
     ]
    },
    {
     "name": "stdout",
     "output_type": "stream",
     "text": [
      "Titel: Data Scientist – AV Safety @ General Motors\n",
      "---GRADE: DOCUMENT NOT RELEVANT---\n",
      "Justification: The job title does not specifically include 'data scientist' as required in the user guidance. Additionally, the job location is not in San Antonio, TX, or remote in the US, as specified in the criteria.\n"
     ]
    },
    {
     "name": "stderr",
     "output_type": "stream",
     "text": [
      " 31%|███       | 56/180 [00:59<02:12,  1.07s/it]"
     ]
    },
    {
     "name": "stdout",
     "output_type": "stream",
     "text": [
      "Titel: Senior Data Analyst @ Bee Talent Solutions\n",
      "---GRADE: DOCUMENT NOT RELEVANT---\n",
      "Justification: The job title is 'Senior Data Analyst' which does not include 'data scientist' as required by the user guidance. Additionally, the job location is not in San Antonio, TX, and the salary information is not provided to determine relevance based on that criterion.\n"
     ]
    },
    {
     "name": "stderr",
     "output_type": "stream",
     "text": [
      " 32%|███▏      | 57/180 [01:00<02:27,  1.20s/it]"
     ]
    },
    {
     "name": "stdout",
     "output_type": "stream",
     "text": [
      "Titel: Data Scientist @ Curate Partners\n",
      "---GRADE: DOCUMENT RELEVANT---\n",
      "Justification: The job-related document for the Data Scientist position at Curate Partners is relevant to the candidate. The document aligns with the candidate's skills in data science, machine learning, and deep learning, as well as experience in leading data science projects. Additionally, the document matches the user's preference for jobs related to healthcare data analysis and predictive modeling.\n"
     ]
    },
    {
     "name": "stderr",
     "output_type": "stream",
     "text": [
      " 32%|███▏      | 58/180 [01:02<02:38,  1.30s/it]"
     ]
    },
    {
     "name": "stdout",
     "output_type": "stream",
     "text": [
      "Titel: Data Scientist (Marketing Science+Causal) @ Tredence Inc.\n",
      "---GRADE: DOCUMENT RELEVANT---\n",
      "Justification: The job description for Data Scientist (Marketing Science+Causal) at Tredence Inc. matches the candidate's skills and experience in data science, machine learning, Python, SQL, and Spark. The candidate's background in leading data science projects, collaborating with teams, and strong communication skills align well with the requirements of the job.\n"
     ]
    },
    {
     "name": "stderr",
     "output_type": "stream",
     "text": [
      " 33%|███▎      | 59/180 [01:03<02:21,  1.17s/it]"
     ]
    },
    {
     "name": "stdout",
     "output_type": "stream",
     "text": [
      "Titel: Manager, Data Science @ Mozilla\n",
      "---GRADE: DOCUMENT NOT RELEVANT---\n",
      "Justification: The job title is 'Manager, Data Science' which does not include 'data scientist' as specified in the user guidance. Additionally, the location is not San Antonio, TX, and the salary information is not provided to determine if it meets the specified criteria.\n"
     ]
    },
    {
     "name": "stderr",
     "output_type": "stream",
     "text": [
      " 33%|███▎      | 60/180 [01:04<02:09,  1.08s/it]"
     ]
    },
    {
     "name": "stdout",
     "output_type": "stream",
     "text": [
      "Titel: Senior Data Scientist @ TieTalent\n",
      "---GRADE: DOCUMENT RELEVANT---\n",
      "Justification: The job title matches the candidate's expertise as a seasoned Data Scientist. The job is located in San Antonio, TX, which aligns with the candidate's preferred location. The job is full-time and offers a salary range above $170,000, meeting all the specified criteria.\n"
     ]
    },
    {
     "name": "stderr",
     "output_type": "stream",
     "text": [
      " 34%|███▍      | 61/180 [01:04<02:01,  1.02s/it]"
     ]
    },
    {
     "name": "stdout",
     "output_type": "stream",
     "text": [
      "Titel: Manager, Data Science and Analytics (Remote) @ American Medical Association\n",
      "---GRADE: DOCUMENT NOT RELEVANT---\n",
      "Justification: The job title is 'Manager, Data Science and Analytics,' which includes 'Manager' and is not specifically 'data scientist.' The job location is in Chicago, IL, not in San Antonio, TX or remote in the US. The salary listed is $138,715, which is below the minimum of $170,000 specified in the user guidance.\n"
     ]
    },
    {
     "name": "stderr",
     "output_type": "stream",
     "text": [
      " 34%|███▍      | 62/180 [01:06<02:06,  1.07s/it]"
     ]
    },
    {
     "name": "stdout",
     "output_type": "stream",
     "text": [
      "Titel: Data Scientist @ Insight Global\n",
      "---GRADE: DOCUMENT RELEVANT---\n",
      "Justification: The job description for Data Scientist at Insight Global aligns with the candidate's skills and experience in data science, analytics, and machine learning. The candidate's expertise in Python, R, SQL, machine learning frameworks, and big data technologies matches the required skills in the job description.\n"
     ]
    },
    {
     "name": "stderr",
     "output_type": "stream",
     "text": [
      " 35%|███▌      | 63/180 [01:07<02:08,  1.10s/it]"
     ]
    },
    {
     "name": "stdout",
     "output_type": "stream",
     "text": [
      "Titel: Machine Learning Researcher @ Skills Alliance\n",
      "---GRADE: DOCUMENT NOT RELEVANT---\n",
      "Justification: The job title is 'Machine Learning Scientist' and does not include 'data scientist' as required by the user guidance. Additionally, the job location is remote but not specifically in San Antonio, TX or the US, as requested.\n"
     ]
    },
    {
     "name": "stderr",
     "output_type": "stream",
     "text": [
      " 36%|███▌      | 64/180 [01:08<02:08,  1.11s/it]"
     ]
    },
    {
     "name": "stdout",
     "output_type": "stream",
     "text": [
      "Titel: Data Scientist - Fully Remote @ Acceler8 Talent\n",
      "---GRADE: DOCUMENT RELEVANT---\n",
      "Justification: The job-related document for a Data Scientist position at Acceler8 Talent matches the candidate's skills in Python, SQL, machine learning, deep learning, big data technologies, optimization, forecasting, cloud computing, collaboration, and leadership. The document also aligns with the user's preference for a full-time, remote job in the US, even though the location is not specific to San Antonio, TX.\n"
     ]
    },
    {
     "name": "stderr",
     "output_type": "stream",
     "text": [
      " 36%|███▌      | 65/180 [01:09<02:05,  1.09s/it]"
     ]
    },
    {
     "name": "stdout",
     "output_type": "stream",
     "text": [
      "Titel: Senior Healthcare Data Analyst @ Interwell Health\n",
      "---GRADE: DOCUMENT NOT RELEVANT---\n",
      "Justification: The job title is 'Senior Healthcare Data Analyst' which does not include 'data scientist' as required by the user guidance. Additionally, the job location is not in San Antonio, TX, and the salary information is not provided, making it not relevant based on the specified criteria.\n"
     ]
    },
    {
     "name": "stderr",
     "output_type": "stream",
     "text": [
      " 37%|███▋      | 66/180 [01:10<01:57,  1.03s/it]"
     ]
    },
    {
     "name": "stdout",
     "output_type": "stream",
     "text": [
      "Titel: People Tech - System Architect-Data Science Senior Manager @ PwC\n",
      "---GRADE: DOCUMENT NOT RELEVANT---\n",
      "Justification: The job title is 'Senior Manager' which is not relevant as per the user's guidance that managerial roles are not considered relevant. Additionally, the job location is not in San Antonio, TX, and the salary range is not specified, making it unclear if it meets the salary criteria.\n"
     ]
    },
    {
     "name": "stderr",
     "output_type": "stream",
     "text": [
      " 37%|███▋      | 67/180 [01:11<01:54,  1.01s/it]"
     ]
    },
    {
     "name": "stdout",
     "output_type": "stream",
     "text": [
      "Titel: Data Scientist @ Brooksource\n",
      "---GRADE: DOCUMENT RELEVANT---\n",
      "Justification: The job description for Senior Data Scientist at Brooksource aligns with the candidate's skills and experience in Generative AI, large language models, and data science. The location is not a direct match, but the user's preference for remote jobs in the US makes it relevant.\n"
     ]
    },
    {
     "name": "stderr",
     "output_type": "stream",
     "text": [
      " 38%|███▊      | 68/180 [01:12<01:48,  1.03it/s]"
     ]
    },
    {
     "name": "stdout",
     "output_type": "stream",
     "text": [
      "Titel: Data Science Manager @ Stride, Inc.\n",
      "---GRADE: DOCUMENT NOT RELEVANT---\n",
      "Justification: The job title is 'Data Analytics Manager' which does not include 'data scientist' as required by the user guidance. Additionally, the job is at a managerial level, which is specified as not relevant in the user's criteria.\n"
     ]
    },
    {
     "name": "stderr",
     "output_type": "stream",
     "text": [
      " 38%|███▊      | 69/180 [01:13<01:46,  1.05it/s]"
     ]
    },
    {
     "name": "stdout",
     "output_type": "stream",
     "text": [
      "Titel: Lead Data Scientist - MMM @ Burtch Works\n",
      "---GRADE: DOCUMENT RELEVANT---\n",
      "Justification: The job title matches the candidate's expertise as a seasoned Data Scientist with a Ph.D. The job location is either in San Antonio, TX, or remote in the US, aligning with the user's preferences. The salary mentioned is competitive at ~$190,000, exceeding the minimum threshold set by the user guidance.\n"
     ]
    },
    {
     "name": "stderr",
     "output_type": "stream",
     "text": [
      " 39%|███▉      | 70/180 [01:14<01:46,  1.03it/s]"
     ]
    },
    {
     "name": "stdout",
     "output_type": "stream",
     "text": [
      "Titel: Senior Staff Data Scientist @ Mozilla\n",
      "---GRADE: DOCUMENT RELEVANT---\n",
      "Justification: The job title matches the candidate's expertise as a seasoned Data Scientist, and the location requirement includes San Antonio, TX, which aligns with the candidate's preference. The job is full-time and the candidate's skills in AI, ML, and large language models are relevant to the job description.\n"
     ]
    },
    {
     "name": "stderr",
     "output_type": "stream",
     "text": [
      " 39%|███▉      | 71/180 [01:14<01:41,  1.07it/s]"
     ]
    },
    {
     "name": "stdout",
     "output_type": "stream",
     "text": [
      "Titel: Senior Data Scientist @ DuckDuckGo\n",
      "---GRADE: DOCUMENT RELEVANT---\n",
      "Justification: The job title matches the candidate's expertise as a seasoned Data Scientist. The job location is in San Antonio, TX, which aligns with the candidate's preference. The salary offered is above $170,000, meeting the specified criteria.\n"
     ]
    },
    {
     "name": "stderr",
     "output_type": "stream",
     "text": [
      " 40%|████      | 72/180 [01:16<01:55,  1.07s/it]"
     ]
    },
    {
     "name": "stdout",
     "output_type": "stream",
     "text": [
      "Titel: Data Scientist @ Motion Recruitment\n",
      "---GRADE: DOCUMENT RELEVANT---\n",
      "Justification: The job description for Data Scientist at Motion Recruitment aligns with the candidate's skills and experience in data science, machine learning, Python, SQL, and cloud platforms. The role also matches the candidate's interest in generative AI and large language model development. Additionally, the job is fully remote, meeting the location preference of the candidate.\n"
     ]
    },
    {
     "name": "stderr",
     "output_type": "stream",
     "text": [
      " 41%|████      | 73/180 [01:17<01:49,  1.02s/it]"
     ]
    },
    {
     "name": "stdout",
     "output_type": "stream",
     "text": [
      "Titel: Senior Data Analyst @ Centene Corporation\n",
      "---GRADE: DOCUMENT NOT RELEVANT---\n",
      "Justification: The job title is 'Senior Data Analyst' and does not include 'data scientist' as required by the user guidance. Additionally, the job location is not in San Antonio, TX, or remote in the US, and the salary range is below $170,000.\n"
     ]
    },
    {
     "name": "stderr",
     "output_type": "stream",
     "text": [
      " 41%|████      | 74/180 [01:18<01:39,  1.06it/s]"
     ]
    },
    {
     "name": "stdout",
     "output_type": "stream",
     "text": [
      "Titel: Senior Data Analyst, Quality - Remote @ Talentify.io\n",
      "---GRADE: DOCUMENT NOT RELEVANT---\n",
      "Justification: The job title is 'Senior Data Analyst' and does not include 'data scientist' as required by the user guidance. Additionally, the job location is remote within the U.S., but not specifically in San Antonio, TX.\n"
     ]
    },
    {
     "name": "stderr",
     "output_type": "stream",
     "text": [
      " 42%|████▏     | 75/180 [01:18<01:34,  1.11it/s]"
     ]
    },
    {
     "name": "stdout",
     "output_type": "stream",
     "text": [
      "Titel: Engagement Director, Utilities & Data Science - HYBRID @ E Source\n",
      "---GRADE: DOCUMENT NOT RELEVANT---\n",
      "Justification: The job title is 'Engagement Director, Utilities & Data Science' which does not include 'data scientist' as required. Additionally, the job is at a managerial/director level, which is not relevant to the candidate's preferences.\n"
     ]
    },
    {
     "name": "stderr",
     "output_type": "stream",
     "text": [
      " 42%|████▏     | 76/180 [01:19<01:33,  1.11it/s]"
     ]
    },
    {
     "name": "stdout",
     "output_type": "stream",
     "text": [
      "Titel: People Tech - System Architect-Data Science Senior Manager @ PwC\n",
      "---GRADE: DOCUMENT NOT RELEVANT---\n",
      "Justification: The job title mentioned in the document is 'Senior Data Scientist,' which aligns with the candidate's expertise. However, the job location is not in San Antonio, TX, and the salary range is not specified, making it not fully relevant based on the user's criteria.\n"
     ]
    },
    {
     "name": "stderr",
     "output_type": "stream",
     "text": [
      " 43%|████▎     | 77/180 [01:20<01:35,  1.08it/s]"
     ]
    },
    {
     "name": "stdout",
     "output_type": "stream",
     "text": [
      "Titel: Senior Data Analyst, Growth and Lifecycle Marketing @ Visana Health\n",
      "---GRADE: DOCUMENT NOT RELEVANT---\n",
      "Justification: The job title is 'Senior Data Analyst' and does not include 'data scientist' as required. Additionally, the job location is not in San Antonio, TX, and the salary information is not provided, making it not relevant based on the user's criteria.\n"
     ]
    },
    {
     "name": "stderr",
     "output_type": "stream",
     "text": [
      " 43%|████▎     | 78/180 [01:22<01:50,  1.09s/it]"
     ]
    },
    {
     "name": "stdout",
     "output_type": "stream",
     "text": [
      "Titel: Remote Data Scientist @ Lensa\n",
      "---GRADE: DOCUMENT NOT RELEVANT---\n",
      "Justification: The job title in the document is 'Remote Data Scientist,' which matches the candidate's expertise as a Data Scientist. However, the job location is in Mexico, not in San Antonio, TX or remote in the US as per the user's guidance, making it not relevant.\n"
     ]
    },
    {
     "name": "stderr",
     "output_type": "stream",
     "text": [
      " 44%|████▍     | 79/180 [01:23<01:46,  1.06s/it]"
     ]
    },
    {
     "name": "stdout",
     "output_type": "stream",
     "text": [
      "Titel: Senior Data Scientist @ Akkodis\n",
      "---GRADE: DOCUMENT NOT RELEVANT---\n",
      "Justification: The job title in the document is 'Senior Data Scientist,' which matches the candidate's expertise as a seasoned Data Scientist with a Ph.D. However, the job location is in Chicago, not San Antonio, TX, as specified in the user guidance, making it not relevant based on the location requirement.\n"
     ]
    },
    {
     "name": "stderr",
     "output_type": "stream",
     "text": [
      " 44%|████▍     | 80/180 [01:24<01:42,  1.03s/it]"
     ]
    },
    {
     "name": "stdout",
     "output_type": "stream",
     "text": [
      "Titel: Director of Data Science (Remote Eligible) @ Mathematica\n",
      "---GRADE: DOCUMENT NOT RELEVANT---\n",
      "Justification: The job title is 'Director of Data Science,' which is at a managerial level and not relevant according to the user's guidance. Additionally, the job location is not in San Antonio, TX, or remote in the US, as required.\n"
     ]
    },
    {
     "name": "stderr",
     "output_type": "stream",
     "text": [
      " 45%|████▌     | 81/180 [01:25<01:46,  1.07s/it]"
     ]
    },
    {
     "name": "stdout",
     "output_type": "stream",
     "text": [
      "Titel: People Tech - System Architect-Data Science Senior Manager @ PwC\n",
      "---GRADE: DOCUMENT RELEVANT---\n",
      "Justification: The job-related document is relevant to the candidate's job search. The document matches the candidate's skills and experience in data science, machine learning, and AI, aligning with the candidate's Ph.D. in Mechanical and Manufacturing Systems Engineering with a focus on cybersecurity. Additionally, the document mentions roles related to data science, such as Senior Data Scientist, and includes information on generative AI and large language models, which are areas of interest for the candidate.\n"
     ]
    },
    {
     "name": "stderr",
     "output_type": "stream",
     "text": [
      " 46%|████▌     | 82/180 [01:26<01:43,  1.06s/it]"
     ]
    },
    {
     "name": "stdout",
     "output_type": "stream",
     "text": [
      "Titel: Data Scientist (L5) - Customer Service @ Netflix\n",
      "---GRADE: DOCUMENT RELEVANT---\n",
      "Justification: The job description for Data Scientist (L5) at Netflix aligns with the candidate's skills in data science, machine learning, and forecasting. The candidate's experience in leading data science projects, developing AI solutions, and working with large language models matches the requirements of the job. Additionally, the job location is not specified, making remote work in the US a possibility.\n"
     ]
    },
    {
     "name": "stderr",
     "output_type": "stream",
     "text": [
      " 46%|████▌     | 83/180 [01:27<01:45,  1.09s/it]"
     ]
    },
    {
     "name": "stdout",
     "output_type": "stream",
     "text": [
      "Titel: Data Scientist, MLB @ PENN Interactive\n",
      "---GRADE: DOCUMENT RELEVANT---\n",
      "Justification: The job description for Senior Data Scientist at PENN Interactive aligns with the candidate's skills and experience in data science, machine learning, and forecasting. The location is not a perfect match, but the job is remote in the US, meeting the user's criteria.\n"
     ]
    },
    {
     "name": "stderr",
     "output_type": "stream",
     "text": [
      " 47%|████▋     | 84/180 [01:28<01:51,  1.16s/it]"
     ]
    },
    {
     "name": "stdout",
     "output_type": "stream",
     "text": [
      "Titel: People Tech - System Architect-Data Science Senior Manager @ PwC\n",
      "---GRADE: DOCUMENT NOT RELEVANT---\n",
      "Justification: The job title is 'Senior Manager' which is not relevant as per the user's guidance that managerial roles are not considered relevant. Additionally, the job location is not in San Antonio, TX, and the salary range is not specified, making it unclear if it meets the salary criteria.\n"
     ]
    },
    {
     "name": "stderr",
     "output_type": "stream",
     "text": [
      " 47%|████▋     | 85/180 [01:29<01:40,  1.06s/it]"
     ]
    },
    {
     "name": "stdout",
     "output_type": "stream",
     "text": [
      "Titel: Senior Machine Learning Engineer @ Reserv\n",
      "---GRADE: DOCUMENT NOT RELEVANT---\n",
      "Justification: The job title is 'Senior Machine Learning Engineer' which does not include 'data scientist' as required by the user guidance. Additionally, the job location is not in San Antonio, TX, and the salary information is not provided.\n"
     ]
    },
    {
     "name": "stderr",
     "output_type": "stream",
     "text": [
      " 48%|████▊     | 86/180 [01:30<01:41,  1.08s/it]"
     ]
    },
    {
     "name": "stdout",
     "output_type": "stream",
     "text": [
      "Titel: Principal Data Scientist @ Mission Lane\n",
      "---GRADE: DOCUMENT RELEVANT---\n",
      "Justification: The job title matches the candidate's expertise as a seasoned Data Scientist with a Ph.D. The job location is in San Antonio, TX, which aligns with the user's preference. The salary range provided is higher than $170,000, meeting the specified criteria.\n"
     ]
    },
    {
     "name": "stderr",
     "output_type": "stream",
     "text": [
      " 48%|████▊     | 87/180 [01:31<01:39,  1.07s/it]"
     ]
    },
    {
     "name": "stdout",
     "output_type": "stream",
     "text": [
      "Titel: Data Scientist (Federal) @ Systecon North America\n",
      "---GRADE: DOCUMENT RELEVANT---\n",
      "Justification: The job description for Data Scientist (Federal) aligns with the candidate's skills and experience in data science, machine learning, and analytics. The document also mentions working with federal clients, which matches the candidate's interest in government programs. However, the job location and salary criteria specified in the user guidance are not met.\n"
     ]
    },
    {
     "name": "stderr",
     "output_type": "stream",
     "text": [
      " 49%|████▉     | 88/180 [01:32<01:37,  1.06s/it]"
     ]
    },
    {
     "name": "stdout",
     "output_type": "stream",
     "text": [
      "Titel: People Tech - System Architect-Data Science Senior Manager @ PwC\n",
      "---GRADE: DOCUMENT NOT RELEVANT---\n",
      "Justification: The job title is 'Senior Manager' which is not relevant as per the user's guidance that managerial roles are not considered relevant. Additionally, the job location is not in San Antonio, TX, and the salary range is not specified, making it unclear if it meets the salary criteria.\n"
     ]
    },
    {
     "name": "stderr",
     "output_type": "stream",
     "text": [
      " 49%|████▉     | 89/180 [01:33<01:29,  1.02it/s]"
     ]
    },
    {
     "name": "stdout",
     "output_type": "stream",
     "text": [
      "Titel: Data Scientist @ Theron Solutions\n",
      "---GRADE: DOCUMENT RELEVANT---\n",
      "Justification: The job description for Data Scientist at Theron Solutions aligns with the candidate's skills and experience in AI/ML, Python programming, machine learning models, AWS services, and data engineering. The candidate's resume also mentions proficiency in Generative AI and large language models, which are highlighted in the job description.\n"
     ]
    },
    {
     "name": "stderr",
     "output_type": "stream",
     "text": [
      " 50%|█████     | 90/180 [01:34<01:29,  1.00it/s]"
     ]
    },
    {
     "name": "stdout",
     "output_type": "stream",
     "text": [
      "Titel: Director, Data Scientist & Data Operations @ Eisai US\n",
      "---GRADE: DOCUMENT NOT RELEVANT---\n",
      "Justification: The job title includes 'Director,' which is not relevant as per the user's guidance that managerial or director level roles are not considered relevant. Additionally, the job location is in Nutley, NJ, which does not match the specified locations of San Antonio, TX, or remote in the US.\n"
     ]
    },
    {
     "name": "stderr",
     "output_type": "stream",
     "text": [
      " 51%|█████     | 91/180 [01:35<01:28,  1.00it/s]"
     ]
    },
    {
     "name": "stdout",
     "output_type": "stream",
     "text": [
      "Titel: Sr. Data Scientist (Commercial Analytics) @ Cedar\n",
      "---GRADE: DOCUMENT RELEVANT---\n",
      "Justification: The job of Senior Data Scientist at Cedar aligns with the candidate's skills and experience in data science, machine learning, and deep learning. The job location is in the United States, and the salary range of $178,500 - $210,000 meets the candidate's criteria.\n"
     ]
    },
    {
     "name": "stderr",
     "output_type": "stream",
     "text": [
      " 51%|█████     | 92/180 [01:36<01:33,  1.06s/it]"
     ]
    },
    {
     "name": "stdout",
     "output_type": "stream",
     "text": [
      "Titel: Envista Sr. Data Scientist (Remote-Brea, CA) @ Lensa\n",
      "---GRADE: DOCUMENT NOT RELEVANT---\n",
      "Justification: The job title in the document is 'Sr. Data Scientist,' which does not exactly match the user's preference for 'data scientist.' Additionally, the job location is listed as 'Remote-Brea, CA,' which does not align with the user's specified locations of San Antonio, TX or remote in the US. The maximum base salary range is within the user's specified range, but the job does not meet all the specified criteria.\n"
     ]
    },
    {
     "name": "stderr",
     "output_type": "stream",
     "text": [
      " 52%|█████▏    | 93/180 [01:37<01:30,  1.04s/it]"
     ]
    },
    {
     "name": "stdout",
     "output_type": "stream",
     "text": [
      "Titel: Senior Functional Data Analyst (Remote) @ The University of Texas at Austin\n",
      "---GRADE: DOCUMENT NOT RELEVANT---\n",
      "Justification: The job title is 'Senior Functional Data Analyst' and does not include 'data scientist' as required by the user guidance. Additionally, the job location is Texas, not San Antonio, and the salary range is below $170,000.\n"
     ]
    },
    {
     "name": "stderr",
     "output_type": "stream",
     "text": [
      " 52%|█████▏    | 94/180 [01:38<01:29,  1.04s/it]"
     ]
    },
    {
     "name": "stdout",
     "output_type": "stream",
     "text": [
      "Titel: Principal Data Scientist - Generative AI, Machine Learning, Python, R - Remote @ Lensa\n",
      "---GRADE: DOCUMENT RELEVANT---\n",
      "Justification: The job description for Principal Data Scientist at Molina Healthcare aligns with the candidate's skills and experience in AI, machine learning, generative AI, and large language models. The job location is remote, meeting the candidate's preference for remote positions in the US.\n"
     ]
    },
    {
     "name": "stderr",
     "output_type": "stream",
     "text": [
      " 53%|█████▎    | 95/180 [01:39<01:25,  1.01s/it]"
     ]
    },
    {
     "name": "stdout",
     "output_type": "stream",
     "text": [
      "Titel: People Tech - System Architect-Data Science Senior Manager @ PwC\n",
      "---GRADE: DOCUMENT NOT RELEVANT---\n",
      "Justification: The job title is 'Senior Manager' which is not relevant as per the user's guidance that managerial roles are not considered. Additionally, the job location is not in San Antonio, TX, and the salary range is not specified, making it unclear if it meets the salary criteria.\n"
     ]
    },
    {
     "name": "stderr",
     "output_type": "stream",
     "text": [
      " 53%|█████▎    | 96/180 [01:40<01:25,  1.01s/it]"
     ]
    },
    {
     "name": "stdout",
     "output_type": "stream",
     "text": [
      "Titel: Technical Data Scientist/ETL Engineer @ Jobs via Dice\n",
      "---GRADE: DOCUMENT NOT RELEVANT---\n",
      "Justification: The job title in the document is 'ETL Engineer' or 'Data Scientist,' not specifically 'data scientist.' Additionally, the job location is in Hanover, MD, not in San Antonio, TX or remote in the US as per the user's guidance. The salary range is not specified, so it does not meet all the specified criteria.\n"
     ]
    },
    {
     "name": "stderr",
     "output_type": "stream",
     "text": [
      " 54%|█████▍    | 97/180 [01:42<01:28,  1.07s/it]"
     ]
    },
    {
     "name": "stdout",
     "output_type": "stream",
     "text": [
      "Titel: Sr Data Scientist - Remote @ Lensa\n",
      "---GRADE: DOCUMENT NOT RELEVANT---\n",
      "Justification: The job title does not include 'data scientist' as required by the user guidance. Additionally, the job location is not in San Antonio, TX, or remote in the US, and the salary range is not specified to be greater than $170,000.\n"
     ]
    },
    {
     "name": "stderr",
     "output_type": "stream",
     "text": [
      " 54%|█████▍    | 98/180 [01:43<01:43,  1.27s/it]"
     ]
    },
    {
     "name": "stdout",
     "output_type": "stream",
     "text": [
      "Titel: Senior Data Scientist @ Tiger Analytics\n",
      "---GRADE: DOCUMENT RELEVANT---\n",
      "Justification: The job description for Senior Data Scientist at Tiger Analytics aligns with the candidate's skills and experience as a seasoned Data Scientist with expertise in AI, ML, and data science tools like Python, SQL, and PySpark. The document also matches the user's preference for roles related to generative AI and large language model development.\n"
     ]
    },
    {
     "name": "stderr",
     "output_type": "stream",
     "text": [
      " 55%|█████▌    | 99/180 [01:45<01:41,  1.25s/it]"
     ]
    },
    {
     "name": "stdout",
     "output_type": "stream",
     "text": [
      "Titel: Lead Data Scientist II, Agents/Partnerships @ Root Inc.\n",
      "---GRADE: DOCUMENT RELEVANT---\n",
      "Justification: The job title matches the candidate's expertise as a seasoned Data Scientist with a Ph.D. The job location is in San Antonio, TX, which aligns with the user's preference. The salary range of $151,200 - $189,000 exceeds the minimum requirement of $170,000. The focus on generative AI and large language models also aligns with the candidate's skills and interests.\n"
     ]
    },
    {
     "name": "stderr",
     "output_type": "stream",
     "text": [
      " 56%|█████▌    | 100/180 [01:46<01:37,  1.21s/it]"
     ]
    },
    {
     "name": "stdout",
     "output_type": "stream",
     "text": [
      "Titel: Senior Data Scientist @ Newfront\n",
      "---GRADE: DOCUMENT RELEVANT---\n",
      "Justification: The job title matches the candidate's expertise as a seasoned Data Scientist. The job is located in San Antonio, TX, which aligns with the candidate's preference for job location. The salary range mentioned is above $170,000, meeting the specified criteria.\n"
     ]
    },
    {
     "name": "stderr",
     "output_type": "stream",
     "text": [
      " 56%|█████▌    | 101/180 [01:47<01:29,  1.13s/it]"
     ]
    },
    {
     "name": "stdout",
     "output_type": "stream",
     "text": [
      "Titel: Data Scientist - Optimization and Modeling @ Blend\n",
      "---GRADE: DOCUMENT RELEVANT---\n",
      "Justification: The job description for Data Scientist - Optimization and Modeling at Blend aligns with the candidate's skills and experience in data science, machine learning, optimization, and forecasting. The candidate's expertise in Python, SQL, cloud platforms, and mathematical optimization matches the qualifications required for the position.\n"
     ]
    },
    {
     "name": "stderr",
     "output_type": "stream",
     "text": [
      " 57%|█████▋    | 102/180 [01:48<01:27,  1.12s/it]"
     ]
    },
    {
     "name": "stdout",
     "output_type": "stream",
     "text": [
      "Titel: People Tech - System Architect-Data Science Senior Manager @ PwC Experience Center Stockholm\n",
      "---GRADE: DOCUMENT NOT RELEVANT---\n",
      "Justification: The job title mentioned in the document is 'Senior Data Scientist,' which aligns with the user's preference for 'data scientist' roles. However, the job location is not in San Antonio, TX, and the salary range is not specified, making it not fully relevant based on the user's criteria.\n"
     ]
    },
    {
     "name": "stderr",
     "output_type": "stream",
     "text": [
      " 57%|█████▋    | 103/180 [01:49<01:23,  1.09s/it]"
     ]
    },
    {
     "name": "stdout",
     "output_type": "stream",
     "text": [
      "Titel: People Tech - System Architect-Data Science Senior Manager @ PwC\n",
      "---GRADE: DOCUMENT NOT RELEVANT---\n",
      "Justification: The job title is 'Senior Manager' which does not match the user's preference for job titles including 'data scientist'. Additionally, the job location is not in San Antonio, TX or remote in the US, as required by the user's guidance. The salary range is within the specified range, but other criteria are not met.\n"
     ]
    },
    {
     "name": "stderr",
     "output_type": "stream",
     "text": [
      " 58%|█████▊    | 104/180 [01:50<01:21,  1.07s/it]"
     ]
    },
    {
     "name": "stdout",
     "output_type": "stream",
     "text": [
      "Titel: Staff Data Scientist @ CareDx, Inc.\n",
      "---GRADE: DOCUMENT RELEVANT---\n",
      "Justification: The job-related document for Staff Data Scientist at CareDx, Inc. is relevant to the candidate. The document aligns with the candidate's skills in data science, machine learning, and AI, as well as their experience in leading data science projects. Additionally, the document matches the user's preference for roles related to generative AI and large language model development.\n"
     ]
    },
    {
     "name": "stderr",
     "output_type": "stream",
     "text": [
      " 58%|█████▊    | 105/180 [01:51<01:21,  1.09s/it]"
     ]
    },
    {
     "name": "stdout",
     "output_type": "stream",
     "text": [
      "Titel: Growth Data Scientist/ Analyst @ Crypto.com\n",
      "---GRADE: DOCUMENT NOT RELEVANT---\n",
      "Justification: The job title in the document is 'Growth Data Scientist/Analyst,' which does not exactly match the user's specified job title requirement of 'data scientist.' Additionally, the job location is not in San Antonio, TX, and the salary information is not provided, making it not fully aligned with the user's preferences.\n"
     ]
    },
    {
     "name": "stderr",
     "output_type": "stream",
     "text": [
      " 59%|█████▉    | 106/180 [01:52<01:17,  1.05s/it]"
     ]
    },
    {
     "name": "stdout",
     "output_type": "stream",
     "text": [
      "Titel: Data Scientist @ G2\n",
      "---GRADE: DOCUMENT NOT RELEVANT---\n",
      "Justification: The job-related document is not relevant to the candidate's job search. The document does not match the user's stated preferences, as the job location is not in San Antonio, TX, or remote in the US, and the job title does not specifically include 'data scientist'.\n"
     ]
    },
    {
     "name": "stderr",
     "output_type": "stream",
     "text": [
      " 59%|█████▉    | 107/180 [01:53<01:12,  1.00it/s]"
     ]
    },
    {
     "name": "stdout",
     "output_type": "stream",
     "text": [
      "Titel: Innovation Data Scientist III @ WEX\n",
      "---GRADE: DOCUMENT NOT RELEVANT---\n",
      "Justification: The job title does not include 'data scientist' as required in the user guidance. Additionally, the job location is not in San Antonio, TX, or remote in the US, as specified in the criteria.\n"
     ]
    },
    {
     "name": "stderr",
     "output_type": "stream",
     "text": [
      " 60%|██████    | 108/180 [01:54<01:12,  1.01s/it]"
     ]
    },
    {
     "name": "stdout",
     "output_type": "stream",
     "text": [
      "Titel: Decision Scientist, Client Analytics @ Simbe\n",
      "---GRADE: DOCUMENT NOT RELEVANT---\n",
      "Justification: The job title is 'Decision Scientist' which does not include 'data scientist' as specified in the user guidance. Additionally, the job location is not in San Antonio, TX, and the salary information is not provided to determine if it meets the specified criteria.\n"
     ]
    },
    {
     "name": "stderr",
     "output_type": "stream",
     "text": [
      " 61%|██████    | 109/180 [01:55<01:12,  1.02s/it]"
     ]
    },
    {
     "name": "stdout",
     "output_type": "stream",
     "text": [
      "Titel: Senior Data Scientist @ LogicMatrix\n",
      "---GRADE: DOCUMENT RELEVANT---\n",
      "Justification: The job-related document for Senior Data Scientist at LogicMatrix is relevant to the candidate. The candidate's resume aligns well with the job requirements, including the experience in data science, machine learning, programming languages, and advanced AI techniques. The job location in San Antonio, TX matches the user's preference, and the salary range is within the specified threshold.\n"
     ]
    },
    {
     "name": "stderr",
     "output_type": "stream",
     "text": [
      " 61%|██████    | 110/180 [01:56<01:09,  1.00it/s]"
     ]
    },
    {
     "name": "stdout",
     "output_type": "stream",
     "text": [
      "Titel: Principal Data & AI Scientist @ PEMCO\n",
      "---GRADE: DOCUMENT RELEVANT---\n",
      "Justification: The job title matches the candidate's expertise as a seasoned Data Scientist with a Ph.D. The job location is in San Antonio, TX, which aligns with the user's preference. The salary range provided is higher than $170,000, meeting the specified criteria.\n"
     ]
    },
    {
     "name": "stderr",
     "output_type": "stream",
     "text": [
      " 62%|██████▏   | 111/180 [01:57<01:11,  1.03s/it]"
     ]
    },
    {
     "name": "stdout",
     "output_type": "stream",
     "text": [
      "Titel: Director, Data Scientist & Data Operations @ Eisai US\n",
      "---GRADE: DOCUMENT NOT RELEVANT---\n",
      "Justification: The job title in the document is 'Director, Data Scientist & Data Operations,' which includes 'Director' and 'Data Scientist,' making it not relevant as per the user's guidance that managerial or director level roles are not considered relevant. Additionally, the job location is in Nutley, NJ, not in San Antonio, TX or remote in the US.\n"
     ]
    },
    {
     "name": "stderr",
     "output_type": "stream",
     "text": [
      " 62%|██████▏   | 112/180 [01:58<01:16,  1.12s/it]"
     ]
    },
    {
     "name": "stdout",
     "output_type": "stream",
     "text": [
      "Titel: People Tech - System Architect-Data Science Senior Manager @ PwC\n",
      "---GRADE: DOCUMENT RELEVANT---\n",
      "Justification: The job-related document is relevant to the candidate's job search. The document matches the candidate's skills and experience in data science, machine learning, predictive modeling, and deep learning. Additionally, the document aligns with the user's preferences for roles related to data science, even though the job title does not explicitly include 'data scientist'.\n"
     ]
    },
    {
     "name": "stderr",
     "output_type": "stream",
     "text": [
      " 63%|██████▎   | 113/180 [01:59<01:18,  1.17s/it]"
     ]
    },
    {
     "name": "stdout",
     "output_type": "stream",
     "text": [
      "Titel: Data Scientist, Operations Research @ Cardinal Health\n",
      "---GRADE: DOCUMENT RELEVANT---\n",
      "Justification: The job description for Data Scientist, Operations Research at Cardinal Health aligns with the candidate's skills and experience in data science, machine learning, optimization, and forecasting. The location is also relevant as it mentions San Antonio, TX, which matches the user's preference.\n"
     ]
    },
    {
     "name": "stderr",
     "output_type": "stream",
     "text": [
      " 63%|██████▎   | 114/180 [02:01<01:19,  1.20s/it]"
     ]
    },
    {
     "name": "stdout",
     "output_type": "stream",
     "text": [
      "Titel: Senior Data Analyst (Remote - Anywhere) @ Jobgether\n",
      "---GRADE: DOCUMENT NOT RELEVANT---\n",
      "Justification: The job title is 'Senior Data Analyst' which does not match the user's preference for 'data scientist' roles. Additionally, the job location is listed as 'Anywhere' which does not meet the specified locations of San Antonio, TX, or remote in the US.\n"
     ]
    },
    {
     "name": "stderr",
     "output_type": "stream",
     "text": [
      " 64%|██████▍   | 115/180 [02:02<01:11,  1.10s/it]"
     ]
    },
    {
     "name": "stdout",
     "output_type": "stream",
     "text": [
      "Titel: Senior Data Analyst (RDP) @ The Rawlings Group\n",
      "---GRADE: DOCUMENT NOT RELEVANT---\n",
      "Justification: The job title is 'Senior Data Analyst' and does not include 'data scientist' as required. Additionally, the job location is remote in the US, but not specifically in San Antonio, TX as requested by the user guidance. The salary information is not provided to determine relevance based on that criterion.\n"
     ]
    },
    {
     "name": "stderr",
     "output_type": "stream",
     "text": [
      " 64%|██████▍   | 116/180 [02:03<01:07,  1.06s/it]"
     ]
    },
    {
     "name": "stdout",
     "output_type": "stream",
     "text": [
      "Titel: IoT Data Scientist @ RandomTrees\n",
      "---GRADE: DOCUMENT RELEVANT---\n",
      "Justification: The job-related document is relevant to the candidate's job search. The candidate's resume showcases skills and experience in AI, ML, predictive modeling, and data analysis, which align well with the IoT Data Scientist position description. Additionally, the candidate's interest in generative AI and LLM development is also addressed in the job description.\n"
     ]
    },
    {
     "name": "stderr",
     "output_type": "stream",
     "text": [
      " 65%|██████▌   | 117/180 [02:04<01:08,  1.08s/it]"
     ]
    },
    {
     "name": "stdout",
     "output_type": "stream",
     "text": [
      "Titel: Data Scientist - Product Analytics @ Haus\n",
      "---GRADE: DOCUMENT RELEVANT---\n",
      "Justification: The job description for Data Scientist - Product Analytics at Haus aligns with the candidate's skills and experience in data science, machine learning, and AI. The candidate's expertise in Python, SQL, machine learning frameworks, and data processing technologies matches the qualifications and responsibilities mentioned in the job description.\n"
     ]
    },
    {
     "name": "stderr",
     "output_type": "stream",
     "text": [
      " 66%|██████▌   | 118/180 [02:05<01:04,  1.04s/it]"
     ]
    },
    {
     "name": "stdout",
     "output_type": "stream",
     "text": [
      "Titel: People Tech - System Architect-Data Science Senior Manager @ PwC\n",
      "---GRADE: DOCUMENT NOT RELEVANT---\n",
      "Justification: The job title is 'Senior Manager' which does not match the user's preference for job titles including 'data scientist'. Additionally, the job location is not in San Antonio, TX, and the salary range is not specified, making it unclear if it meets the salary criteria.\n"
     ]
    },
    {
     "name": "stderr",
     "output_type": "stream",
     "text": [
      " 66%|██████▌   | 119/180 [02:06<01:02,  1.03s/it]"
     ]
    },
    {
     "name": "stdout",
     "output_type": "stream",
     "text": [
      "Titel: Staff Data Scientist @ Mission Lane\n",
      "---GRADE: DOCUMENT NOT RELEVANT---\n",
      "Justification: The job title in the document is 'Staff Data Scientist,' which does not exactly match the user's preference for job titles including 'data scientist.' Additionally, the job location is not in San Antonio, TX, and the salary range listed is below $170,000, making it not relevant based on the user's criteria.\n"
     ]
    },
    {
     "name": "stderr",
     "output_type": "stream",
     "text": [
      " 67%|██████▋   | 120/180 [02:06<00:57,  1.05it/s]"
     ]
    },
    {
     "name": "stdout",
     "output_type": "stream",
     "text": [
      "Titel: Senior Data Science Manager @ Blend\n",
      "---GRADE: DOCUMENT RELEVANT---\n",
      "Justification: The job description for Senior Data Science Manager at Blend does not meet the user's criteria as it is a managerial level position and does not have 'data scientist' in the job title.\n"
     ]
    },
    {
     "name": "stderr",
     "output_type": "stream",
     "text": [
      " 67%|██████▋   | 121/180 [02:07<00:55,  1.06it/s]"
     ]
    },
    {
     "name": "stdout",
     "output_type": "stream",
     "text": [
      "Titel: Senior Data Analyst @ Centene Corporation\n",
      "---GRADE: DOCUMENT NOT RELEVANT---\n",
      "Justification: The job title is 'Senior Data Analyst' and does not include 'data scientist' as required. Additionally, the job location is not in San Antonio, TX, and the salary range is below $170,000, which are both specified preferences.\n"
     ]
    },
    {
     "name": "stderr",
     "output_type": "stream",
     "text": [
      " 68%|██████▊   | 122/180 [02:09<01:02,  1.08s/it]"
     ]
    },
    {
     "name": "stdout",
     "output_type": "stream",
     "text": [
      "Titel: People Tech - System Architect-Data Science Senior Manager @ PwC\n",
      "---GRADE: DOCUMENT RELEVANT---\n",
      "Justification: The job-related document is relevant to the candidate's job search. The document matches the candidate's skills and experience in data science, machine learning, and AI, aligning with the candidate's Ph.D. in Data Science and professional experience as a Senior Data Scientist. Additionally, the document mentions roles related to data science and machine learning engineering, which are in line with the candidate's expertise.\n"
     ]
    },
    {
     "name": "stderr",
     "output_type": "stream",
     "text": [
      " 68%|██████▊   | 123/180 [02:10<01:01,  1.09s/it]"
     ]
    },
    {
     "name": "stdout",
     "output_type": "stream",
     "text": [
      "Titel: Senior Data Analyst @ Worth AI \n",
      "---GRADE: DOCUMENT NOT RELEVANT---\n",
      "Justification: The job title is 'Senior Data Analyst' which does not match the user's preference for 'data scientist' roles. Additionally, the job location is not in San Antonio, TX, and the salary information is not provided, making it not fully aligned with the user's criteria.\n"
     ]
    },
    {
     "name": "stderr",
     "output_type": "stream",
     "text": [
      " 69%|██████▉   | 124/180 [02:11<00:55,  1.00it/s]"
     ]
    },
    {
     "name": "stdout",
     "output_type": "stream",
     "text": [
      "Titel: Senior Data Scientist, Remote @ Experian\n",
      "---GRADE: DOCUMENT NOT RELEVANT---\n",
      "Justification: The job title in the document is 'Senior Data Scientist,' which matches the candidate's expertise. However, the job location is not in San Antonio, TX, and the salary range is not specified, making it not fully aligned with the user's preferences.\n"
     ]
    },
    {
     "name": "stderr",
     "output_type": "stream",
     "text": [
      " 69%|██████▉   | 125/180 [02:12<00:55,  1.00s/it]"
     ]
    },
    {
     "name": "stdout",
     "output_type": "stream",
     "text": [
      "Titel: Data Analytics Software Developer - XynQAPI @ CareDx, Inc.\n",
      "---GRADE: DOCUMENT NOT RELEVANT---\n",
      "Justification: The job title is 'Data Analytics Software Developer' which does not include 'data scientist' as required by the user guidance. Additionally, the job location preference is near Omaha, NE or St. Louis, MO, which does not align with the user's specified locations of San Antonio, TX or remote in the US.\n"
     ]
    },
    {
     "name": "stderr",
     "output_type": "stream",
     "text": [
      " 70%|███████   | 126/180 [02:12<00:51,  1.05it/s]"
     ]
    },
    {
     "name": "stdout",
     "output_type": "stream",
     "text": [
      "Titel: People Tech - System Architect-Data Science Senior Manager @ PwC\n",
      "---GRADE: DOCUMENT NOT RELEVANT---\n",
      "Justification: The job title is 'Senior Manager' which is not relevant as per the user's guidance that managerial roles are not considered relevant. Additionally, the job location is not in San Antonio, TX, and the salary range is not specified, making it unclear if it meets the salary criteria.\n"
     ]
    },
    {
     "name": "stderr",
     "output_type": "stream",
     "text": [
      " 71%|███████   | 127/180 [02:13<00:51,  1.03it/s]"
     ]
    },
    {
     "name": "stdout",
     "output_type": "stream",
     "text": [
      "Titel: Data Scientist (R&D Project) @ PLOS\n",
      "---GRADE: DOCUMENT NOT RELEVANT---\n",
      "Justification: The job title in the document is 'Data Scientist,' which matches the candidate's expertise. However, the job location is not in San Antonio, TX, or remote in the US, as required by the user guidance. Additionally, the salary range is not specified, so it does not meet all the specified criteria.\n"
     ]
    },
    {
     "name": "stderr",
     "output_type": "stream",
     "text": [
      " 71%|███████   | 128/180 [02:15<00:51,  1.00it/s]"
     ]
    },
    {
     "name": "stdout",
     "output_type": "stream",
     "text": [
      "Titel: People Tech - System Architect-Data Science Senior Manager @ PwC\n",
      "---GRADE: DOCUMENT NOT RELEVANT---\n",
      "Justification: The job title mentioned in the document is 'Senior Data Scientist,' which aligns with the candidate's expertise. However, the job location is not in San Antonio, TX, and the salary range is not specified, making it not fully relevant based on the user's guidance.\n"
     ]
    },
    {
     "name": "stderr",
     "output_type": "stream",
     "text": [
      " 72%|███████▏  | 129/180 [02:16<00:51,  1.00s/it]"
     ]
    },
    {
     "name": "stdout",
     "output_type": "stream",
     "text": [
      "Titel: Data Scientist @ Intermedia Cloud Communications\n",
      "---GRADE: DOCUMENT RELEVANT---\n",
      "Justification: The job-related document is relevant to the candidate's job search. The document matches the candidate's skills and experience as a seasoned Data Scientist with expertise in Generative AI and large language models. The job description specifically seeks a Data Scientist with experience in AI-powered solutions, machine learning, NLP, and generative AI, which aligns well with the candidate's profile.\n"
     ]
    },
    {
     "name": "stderr",
     "output_type": "stream",
     "text": [
      " 72%|███████▏  | 130/180 [02:17<00:49,  1.00it/s]"
     ]
    },
    {
     "name": "stdout",
     "output_type": "stream",
     "text": [
      "Titel: Director of Health Data Science, HEOR Research @ Inovalon\n",
      "---GRADE: DOCUMENT NOT RELEVANT---\n",
      "Justification: The job title is 'Director of Health Data Science' which does not include 'data scientist' as specified in the user guidance. Additionally, the job is at a managerial level, which is considered not relevant according to the user's criteria.\n"
     ]
    },
    {
     "name": "stderr",
     "output_type": "stream",
     "text": [
      " 73%|███████▎  | 131/180 [02:17<00:46,  1.05it/s]"
     ]
    },
    {
     "name": "stdout",
     "output_type": "stream",
     "text": [
      "Titel: Senior Data Analyst - Remote Nationwide @ Optum\n",
      "---GRADE: DOCUMENT NOT RELEVANT---\n",
      "Justification: The job title is 'Senior Data Analyst' and does not include 'data scientist' as required by the user guidance. Additionally, the job location is remote nationwide, not specifically in San Antonio, TX as requested.\n"
     ]
    },
    {
     "name": "stderr",
     "output_type": "stream",
     "text": [
      " 73%|███████▎  | 132/180 [02:18<00:44,  1.08it/s]"
     ]
    },
    {
     "name": "stdout",
     "output_type": "stream",
     "text": [
      "Titel: Senior Data Analyst - Remote Nationwide @ Talentify.io\n",
      "---GRADE: DOCUMENT NOT RELEVANT---\n",
      "Justification: The job title is 'Senior Data Analyst' and does not include 'data scientist' as required. Additionally, the job location is remote nationwide, not specifically in San Antonio, TX, as requested in the user guidance. The salary is within the specified range, but other key criteria are not met.\n"
     ]
    },
    {
     "name": "stderr",
     "output_type": "stream",
     "text": [
      " 74%|███████▍  | 133/180 [02:19<00:44,  1.06it/s]"
     ]
    },
    {
     "name": "stdout",
     "output_type": "stream",
     "text": [
      "Titel: Senior Data Analyst - Supply @ Dandy\n",
      "---GRADE: DOCUMENT NOT RELEVANT---\n",
      "Justification: The job title is 'Senior Data Analyst - Supply' which does not include 'data scientist' as required by the user guidance. Additionally, the job location is not in San Antonio, TX, or remote in the US, and the salary information is not provided.\n"
     ]
    },
    {
     "name": "stderr",
     "output_type": "stream",
     "text": [
      " 74%|███████▍  | 134/180 [02:20<00:47,  1.04s/it]"
     ]
    },
    {
     "name": "stdout",
     "output_type": "stream",
     "text": [
      "Titel: Data Scientist @ AEP Hawaii\n",
      "---GRADE: DOCUMENT NOT RELEVANT---\n",
      "Justification: The job title in the document is 'Data Scientist,' which matches the candidate's expertise. However, the job location is in Hawaiian Islands, not in San Antonio, TX or remote in the US as per the user's guidance. Additionally, the salary range of $140-190K does not meet the minimum requirement of over $170,000.\n"
     ]
    },
    {
     "name": "stderr",
     "output_type": "stream",
     "text": [
      " 75%|███████▌  | 135/180 [02:22<00:47,  1.05s/it]"
     ]
    },
    {
     "name": "stdout",
     "output_type": "stream",
     "text": [
      "Titel: Senior Staff Data Scientist (Growth) - (Remote - US) @ Jobgether\n",
      "---GRADE: DOCUMENT RELEVANT---\n",
      "Justification: The job description for Senior Staff Data Scientist (Growth) at Jobgether matches the candidate's skills and experience in data science, machine learning, and AI. The job location is remote in the US, meeting the specified location criteria. The salary range provided also exceeds the minimum threshold of $170,000.\n"
     ]
    },
    {
     "name": "stderr",
     "output_type": "stream",
     "text": [
      " 76%|███████▌  | 136/180 [02:23<00:55,  1.26s/it]"
     ]
    },
    {
     "name": "stdout",
     "output_type": "stream",
     "text": [
      "Titel: Principal Data Scientist, Product @ Field Nation\n",
      "---GRADE: DOCUMENT RELEVANT---\n",
      "Justification: The job document is relevant to the candidate's job search. The job title matches the candidate's expertise as a seasoned Data Scientist, and the location is in San Antonio, TX. The job is full-time, and the base salary range of $180,000 - $200,000 exceeds the minimum salary requirement of $170,000.\n"
     ]
    },
    {
     "name": "stderr",
     "output_type": "stream",
     "text": [
      " 76%|███████▌  | 137/180 [02:24<00:51,  1.19s/it]"
     ]
    },
    {
     "name": "stdout",
     "output_type": "stream",
     "text": [
      "Titel: Data Scientist - Fully Remote @ Understanding Recruitment\n",
      "---GRADE: DOCUMENT RELEVANT---\n",
      "Justification: The job-related document for a Data Scientist position aligns with the candidate's skills in Python, SQL, machine learning, deep learning, big data technologies, and optimization, as well as experience in data analysis, predictive modeling, and forecasting. The document also matches the user's preference for roles related to generative AI and large language model development.\n"
     ]
    },
    {
     "name": "stderr",
     "output_type": "stream",
     "text": [
      " 77%|███████▋  | 138/180 [02:25<00:46,  1.11s/it]"
     ]
    },
    {
     "name": "stdout",
     "output_type": "stream",
     "text": [
      "Titel: Data Scientist @ Jerry\n",
      "---GRADE: DOCUMENT NOT RELEVANT---\n",
      "Justification: The job description for a Data Scientist at Jerry does not meet all the user's criteria. The job title does match, but the location is not limited to San Antonio, TX or remote in the US, and the salary information is not provided.\n"
     ]
    },
    {
     "name": "stderr",
     "output_type": "stream",
     "text": [
      " 77%|███████▋  | 139/180 [02:26<00:42,  1.04s/it]"
     ]
    },
    {
     "name": "stdout",
     "output_type": "stream",
     "text": [
      "Titel: People Tech - System Architect-Data Science Senior Manager @ PwC\n",
      "---GRADE: DOCUMENT NOT RELEVANT---\n",
      "Justification: The job title is 'Senior Manager' which does not match the user's preference for job titles including 'data scientist'. Additionally, the job location is not in San Antonio, TX, and the salary range is not specified, making it unclear if it meets the salary criteria.\n"
     ]
    },
    {
     "name": "stderr",
     "output_type": "stream",
     "text": [
      " 78%|███████▊  | 140/180 [02:27<00:44,  1.11s/it]"
     ]
    },
    {
     "name": "stdout",
     "output_type": "stream",
     "text": [
      "Titel: Senior Data Center Operations Analyst @ Ensono\n",
      "---GRADE: DOCUMENT NOT RELEVANT---\n",
      "Justification: The job title is 'Senior Data Center Operations Analyst' which does not include 'data scientist' as required by the user guidance. Additionally, the job location is not in San Antonio, TX or remote in the US, and the salary information is not provided.\n"
     ]
    },
    {
     "name": "stderr",
     "output_type": "stream",
     "text": [
      " 78%|███████▊  | 141/180 [02:29<00:44,  1.13s/it]"
     ]
    },
    {
     "name": "stdout",
     "output_type": "stream",
     "text": [
      "Titel: People Tech - System Architect-Data Science Senior Manager @ PwC\n",
      "---GRADE: DOCUMENT RELEVANT---\n",
      "Justification: The job-related document is relevant to the candidate's job search. The document matches the candidate's skills and experience in data science, machine learning, and AI, aligning with the candidate's Ph.D. in Data Science and their expertise in Python, R, TensorFlow, and other relevant technologies. Additionally, the job location is in San Antonio, TX, which meets the user's specified location preference.\n"
     ]
    },
    {
     "name": "stderr",
     "output_type": "stream",
     "text": [
      " 79%|███████▉  | 142/180 [02:29<00:38,  1.00s/it]"
     ]
    },
    {
     "name": "stdout",
     "output_type": "stream",
     "text": [
      "Titel: Senior Data Scientist @ Galent\n",
      "---GRADE: DOCUMENT RELEVANT---\n",
      "Justification: The job title matches the candidate's expertise as a seasoned Data Scientist. The document also aligns with the user's preference for roles related to generative AI and large language model development.\n"
     ]
    },
    {
     "name": "stderr",
     "output_type": "stream",
     "text": [
      " 79%|███████▉  | 143/180 [02:30<00:35,  1.04it/s]"
     ]
    },
    {
     "name": "stdout",
     "output_type": "stream",
     "text": [
      "Titel: Data Scientist III @ Orion Group\n",
      "---GRADE: DOCUMENT RELEVANT---\n",
      "Justification: The job description for Data Scientist III at Orion Group aligns with the candidate's skills and experience in AI, ML, deep learning, and large language models. The candidate's expertise in Python, PyTorch, TensorFlow, and generative AI matches the requirements of the job description.\n"
     ]
    },
    {
     "name": "stderr",
     "output_type": "stream",
     "text": [
      " 80%|████████  | 144/180 [02:31<00:34,  1.05it/s]"
     ]
    },
    {
     "name": "stdout",
     "output_type": "stream",
     "text": [
      "Titel: Senior Staff Data Scientist @ Mozilla\n",
      "---GRADE: DOCUMENT RELEVANT---\n",
      "Justification: The job title matches the candidate's expertise as a seasoned Data Scientist, and the location requirement includes San Antonio, TX, which aligns with the candidate's preference. The job is full-time and the base salary exceeds $170,000, meeting all specified criteria.\n"
     ]
    },
    {
     "name": "stderr",
     "output_type": "stream",
     "text": [
      " 81%|████████  | 145/180 [02:33<00:38,  1.10s/it]"
     ]
    },
    {
     "name": "stdout",
     "output_type": "stream",
     "text": [
      "Titel: Data Scientist (L6), Games @ Netflix\n",
      "---GRADE: DOCUMENT NOT RELEVANT---\n",
      "Justification: The job title does not include 'data scientist' as required in the user guidance. Additionally, the job location is not in San Antonio, TX, or remote in the US, and the salary range is not specified, making it not relevant based on the specified criteria.\n"
     ]
    },
    {
     "name": "stderr",
     "output_type": "stream",
     "text": [
      " 81%|████████  | 146/180 [02:33<00:34,  1.00s/it]"
     ]
    },
    {
     "name": "stdout",
     "output_type": "stream",
     "text": [
      "Titel: Data Scientist (Statistical inference, causal inference, experimental design, A/B testing, etc.) @ Curate Partners\n",
      "---GRADE: DOCUMENT RELEVANT---\n",
      "Justification: The job description for Senior Data Scientist at Curate Partners aligns with the candidate's skills and experience in statistical inference, experimental design, and A/B testing. Additionally, the remote U.S. location requirement matches the candidate's preference for job locations.\n"
     ]
    },
    {
     "name": "stderr",
     "output_type": "stream",
     "text": [
      " 82%|████████▏ | 147/180 [02:34<00:32,  1.01it/s]"
     ]
    },
    {
     "name": "stdout",
     "output_type": "stream",
     "text": [
      "Titel: Lead Data Scientist I, Lifetime Value @ Root Inc.\n",
      "---GRADE: DOCUMENT NOT RELEVANT---\n",
      "Justification: The job title does not include 'data scientist' as required in the user guidance. Additionally, the job location is not in San Antonio, TX, or remote in the US, and the salary range provided does not exceed $170,000.\n"
     ]
    },
    {
     "name": "stderr",
     "output_type": "stream",
     "text": [
      " 82%|████████▏ | 148/180 [02:36<00:35,  1.10s/it]"
     ]
    },
    {
     "name": "stdout",
     "output_type": "stream",
     "text": [
      "Titel: Sr. Data Scientist, Product Analytics and Experimentation - Yahoo! Mail @ Yahoo\n",
      "---GRADE: DOCUMENT NOT RELEVANT---\n",
      "Justification: The job title does not include 'data scientist' as specified in the user guidance. Additionally, the job location is not in San Antonio, TX, or remote in the US, and the salary range is not provided to determine relevance based on that criterion.\n"
     ]
    },
    {
     "name": "stderr",
     "output_type": "stream",
     "text": [
      " 83%|████████▎ | 149/180 [02:37<00:33,  1.07s/it]"
     ]
    },
    {
     "name": "stdout",
     "output_type": "stream",
     "text": [
      "Titel: Network Security Data Scientist @ Corelight\n",
      "---GRADE: DOCUMENT NOT RELEVANT---\n",
      "Justification: The job title mentioned in the document is 'Network Security Data Scientist,' which does not exactly match the user's preference for job titles containing 'data scientist.' Additionally, the job location is not in San Antonio, TX, and the salary range is not specified, making it not fully aligned with the user's criteria.\n"
     ]
    },
    {
     "name": "stderr",
     "output_type": "stream",
     "text": [
      " 83%|████████▎ | 150/180 [02:38<00:30,  1.02s/it]"
     ]
    },
    {
     "name": "stdout",
     "output_type": "stream",
     "text": [
      "Titel: Senior Data Analyst @ Worth AI \n",
      "---GRADE: DOCUMENT NOT RELEVANT---\n",
      "Justification: The job title is 'Senior Data Analyst' which does not include 'data scientist' as required by the user guidance. Additionally, the job location is not in San Antonio, TX, or remote in the US, and the salary information is not provided.\n"
     ]
    },
    {
     "name": "stderr",
     "output_type": "stream",
     "text": [
      " 84%|████████▍ | 151/180 [02:39<00:29,  1.01s/it]"
     ]
    },
    {
     "name": "stdout",
     "output_type": "stream",
     "text": [
      "Titel: People Tech - System Architect-Data Science Senior Manager @ PwC\n",
      "---GRADE: DOCUMENT NOT RELEVANT---\n",
      "Justification: The job title is 'Senior Manager' which is not relevant as per the user's guidance that managerial roles are not considered relevant. Additionally, the job location is not in San Antonio, TX, and the salary range is not specified, making it unclear if it meets the salary criteria.\n"
     ]
    },
    {
     "name": "stderr",
     "output_type": "stream",
     "text": [
      " 84%|████████▍ | 152/180 [02:39<00:27,  1.02it/s]"
     ]
    },
    {
     "name": "stdout",
     "output_type": "stream",
     "text": [
      "Titel: Operations Research Analyst / Data Scientist (Remote) @ Lensa\n",
      "---GRADE: DOCUMENT RELEVANT---\n",
      "Justification: The job description for Operations Research Analyst / Data Scientist at GovCIO aligns with the candidate's skills and experience in data analytics, machine learning, and deep learning. The remote location in the US also meets the candidate's preference for job location.\n"
     ]
    },
    {
     "name": "stderr",
     "output_type": "stream",
     "text": [
      " 85%|████████▌ | 153/180 [02:40<00:26,  1.02it/s]"
     ]
    },
    {
     "name": "stdout",
     "output_type": "stream",
     "text": [
      "Titel: Senior Data Analyst - Remote Nationwide @ Optum\n",
      "---GRADE: DOCUMENT NOT RELEVANT---\n",
      "Justification: The job title is 'Senior Data Analyst' and does not include 'data scientist' as required by the user guidance. Additionally, the job location is remote nationwide, not specifically in San Antonio, TX, and the salary range is not provided to determine if it meets the minimum threshold.\n"
     ]
    },
    {
     "name": "stderr",
     "output_type": "stream",
     "text": [
      " 86%|████████▌ | 154/180 [02:41<00:25,  1.01it/s]"
     ]
    },
    {
     "name": "stdout",
     "output_type": "stream",
     "text": [
      "Titel: Operations Research Analyst / Data Scientist (Remote) @ Lensa\n",
      "---GRADE: DOCUMENT NOT RELEVANT---\n",
      "Justification: The job title in the document is 'Operations Research Analyst / Data Scientist,' which does not exactly match the user's specified job title requirement of 'data scientist.' Additionally, the job location is listed as US-Remote, which meets the location criteria, but the salary range is below the specified minimum of $170,000.\n"
     ]
    },
    {
     "name": "stderr",
     "output_type": "stream",
     "text": [
      " 86%|████████▌ | 155/180 [02:43<00:28,  1.14s/it]"
     ]
    },
    {
     "name": "stdout",
     "output_type": "stream",
     "text": [
      "Titel: Principal Data Scientist - Generative AI, Machine Learning, Python, R - Remote @ Lensa\n",
      "---GRADE: DOCUMENT RELEVANT---\n",
      "Justification: The job description for Principal Data Scientist at Molina Healthcare aligns with the candidate's skills in Generative AI, Machine Learning, Python, and R. The document also matches the user's preferences by being a full-time role, located remotely, and offering a salary range above $170,000.\n"
     ]
    },
    {
     "name": "stderr",
     "output_type": "stream",
     "text": [
      " 87%|████████▋ | 156/180 [02:44<00:26,  1.11s/it]"
     ]
    },
    {
     "name": "stdout",
     "output_type": "stream",
     "text": [
      "Titel: Data Scientist @ Enlyte\n",
      "---GRADE: DOCUMENT RELEVANT---\n",
      "Justification: The job-related document for the Data Scientist position at Enlyte is relevant to the candidate's job search. The document aligns with the candidate's skills in machine learning, data analysis, and programming, as well as their experience in leading data science projects and mentoring junior practitioners. Additionally, the job location in San Antonio, TX, matches the user's preference.\n"
     ]
    },
    {
     "name": "stderr",
     "output_type": "stream",
     "text": [
      " 87%|████████▋ | 157/180 [02:46<00:30,  1.32s/it]"
     ]
    },
    {
     "name": "stdout",
     "output_type": "stream",
     "text": [
      "Titel: People Tech - System Architect-Data Science Senior Manager @ PwC\n",
      "---GRADE: DOCUMENT RELEVANT---\n",
      "Justification: The job-related document is relevant to the candidate's job search. The document matches the candidate's skills and experience in data science, machine learning, and AI, aligns with the candidate's interest in generative AI and LLM development, and meets the user's criteria for job relevance based on the job title, location, and full-time status.\n"
     ]
    },
    {
     "name": "stderr",
     "output_type": "stream",
     "text": [
      " 88%|████████▊ | 158/180 [02:47<00:28,  1.31s/it]"
     ]
    },
    {
     "name": "stdout",
     "output_type": "stream",
     "text": [
      "Titel: Data Scientist @ Jerry\n",
      "---GRADE: DOCUMENT NOT RELEVANT---\n",
      "Justification: The job description for a Data Scientist at Jerry does not meet all the user's criteria. The job title does include 'Data Scientist,' but it is not in San Antonio, TX, or remote in the US. Additionally, the salary information is not provided, and the document mentions managerial aspects like reporting directly to the Director of BizOps & Analytics.\n"
     ]
    },
    {
     "name": "stderr",
     "output_type": "stream",
     "text": [
      " 88%|████████▊ | 159/180 [02:49<00:29,  1.38s/it]"
     ]
    },
    {
     "name": "stdout",
     "output_type": "stream",
     "text": [
      "Titel: Director Biostatistician - Oncology Data Scientist @ EPM Scientific\n",
      "---GRADE: DOCUMENT NOT RELEVANT---\n",
      "Justification: The job title is 'Director Biostatistician - Oncology Data Scientist,' which includes 'Director' and 'Oncology Data Scientist,' making it managerial and not a standard 'data scientist' role. Additionally, the job location is in Redwood City, not in San Antonio, TX or remote in the US.\n"
     ]
    },
    {
     "name": "stderr",
     "output_type": "stream",
     "text": [
      " 89%|████████▉ | 160/180 [02:50<00:25,  1.29s/it]"
     ]
    },
    {
     "name": "stdout",
     "output_type": "stream",
     "text": [
      "Titel: Data Scientist (L5) - Customer Service Experimentation @ Netflix\n",
      "---GRADE: DOCUMENT NOT RELEVANT---\n",
      "Justification: The job title does not include 'data scientist' as required in the user guidance. Additionally, the job location is not in San Antonio, TX, or remote in the US, which are the specified locations of interest.\n"
     ]
    },
    {
     "name": "stderr",
     "output_type": "stream",
     "text": [
      " 89%|████████▉ | 161/180 [02:51<00:22,  1.20s/it]"
     ]
    },
    {
     "name": "stdout",
     "output_type": "stream",
     "text": [
      "Titel: Senior Data Analyst @ Talent Groups\n",
      "---GRADE: DOCUMENT NOT RELEVANT---\n",
      "Justification: The job title is 'Senior Data Analyst' and does not include 'data scientist' as required by the user guidance. Additionally, the job location is remote but not specified to be in the US, and the salary information is not provided to determine if it meets the minimum threshold.\n"
     ]
    },
    {
     "name": "stderr",
     "output_type": "stream",
     "text": [
      " 90%|█████████ | 162/180 [02:52<00:21,  1.18s/it]"
     ]
    },
    {
     "name": "stdout",
     "output_type": "stream",
     "text": [
      "Titel: Senior Quantitative Scientist (ML/NLP) @ Verana Health\n",
      "---GRADE: DOCUMENT NOT RELEVANT---\n",
      "Justification: The job title does not include 'data scientist' as required by the user guidance. Additionally, the job location is not in San Antonio, TX, or remote in the US, and the salary range is not specified.\n"
     ]
    },
    {
     "name": "stderr",
     "output_type": "stream",
     "text": [
      " 91%|█████████ | 163/180 [02:53<00:19,  1.12s/it]"
     ]
    },
    {
     "name": "stdout",
     "output_type": "stream",
     "text": [
      "Titel: People Tech - System Architect-Data Science Senior Manager @ PwC\n",
      "---GRADE: DOCUMENT RELEVANT---\n",
      "Justification: The job-related document is relevant to the candidate's job search. The document matches the candidate's skills and experience in data science, machine learning, and AI, aligns with the candidate's interest in generative AI and LLM development, and meets the user's criteria for job relevance based on the job title, location, and full-time status.\n"
     ]
    },
    {
     "name": "stderr",
     "output_type": "stream",
     "text": [
      " 91%|█████████ | 164/180 [02:54<00:16,  1.03s/it]"
     ]
    },
    {
     "name": "stdout",
     "output_type": "stream",
     "text": [
      "Titel: Senior Data Scientist - Remote Nationwide @ Optum\n",
      "---GRADE: DOCUMENT NOT RELEVANT---\n",
      "Justification: The job title does not include 'data scientist' as required in the user guidance. Additionally, the location is not specific to San Antonio, TX, and the salary range provided does not meet the minimum requirement set by the user.\n"
     ]
    },
    {
     "name": "stderr",
     "output_type": "stream",
     "text": [
      " 92%|█████████▏| 165/180 [02:55<00:16,  1.10s/it]"
     ]
    },
    {
     "name": "stdout",
     "output_type": "stream",
     "text": [
      "Titel: Senior Data Analyst @ Centene Corporation\n",
      "---GRADE: DOCUMENT NOT RELEVANT---\n",
      "Justification: The job title is 'Senior Data Analyst' and does not include 'data scientist' as required by the user guidance. Additionally, the job location is not in San Antonio, TX, or remote in the US, and the salary range is below $170,000.\n"
     ]
    },
    {
     "name": "stderr",
     "output_type": "stream",
     "text": [
      " 92%|█████████▏| 166/180 [02:57<00:19,  1.36s/it]"
     ]
    },
    {
     "name": "stdout",
     "output_type": "stream",
     "text": [
      "Titel: Data Scientist @ GlobalPros\n",
      "---GRADE: DOCUMENT RELEVANT---\n",
      "Justification: The job-related document is relevant to the candidate's job search. The document matches the candidate's skills and experience as a seasoned Data Scientist with expertise in AI/ML, deep learning, big data technologies, optimization, forecasting, and cloud computing. Additionally, the job aligns with the user's preferences for a Data Scientist role, remote work in the US, and a focus on generative AI and large language model development.\n"
     ]
    },
    {
     "name": "stderr",
     "output_type": "stream",
     "text": [
      " 93%|█████████▎| 167/180 [02:58<00:16,  1.29s/it]"
     ]
    },
    {
     "name": "stdout",
     "output_type": "stream",
     "text": [
      "Titel: Senior Data Analyst @ Centene Corporation\n",
      "---GRADE: DOCUMENT NOT RELEVANT---\n",
      "Justification: The job title is 'Senior Data Analyst' and does not include 'data scientist' as required. Additionally, the job location is not in San Antonio, TX, and the salary range is below $170,000, which are both specified preferences.\n"
     ]
    },
    {
     "name": "stderr",
     "output_type": "stream",
     "text": [
      " 93%|█████████▎| 168/180 [02:59<00:14,  1.20s/it]"
     ]
    },
    {
     "name": "stdout",
     "output_type": "stream",
     "text": [
      "Titel: FP&A Business Manager - Strategic Energy Analysis and Decision Sciences (SEADS) @ National Renewable Energy Laboratory\n",
      "---GRADE: DOCUMENT NOT RELEVANT---\n",
      "Justification: The job title is 'FP&A Business Manager' which does not include 'data scientist' as required by the user guidance. Additionally, the job is at a managerial level, located in Golden, CO, not in San Antonio, TX, and the salary range provided is below $170,000.\n"
     ]
    },
    {
     "name": "stderr",
     "output_type": "stream",
     "text": [
      " 94%|█████████▍| 169/180 [03:00<00:12,  1.17s/it]"
     ]
    },
    {
     "name": "stdout",
     "output_type": "stream",
     "text": [
      "Titel: People Tech - System Architect-Data Science Senior Manager @ PwC\n",
      "---GRADE: DOCUMENT NOT RELEVANT---\n",
      "Justification: The job title mentioned in the document is 'Senior Data Scientist,' which aligns with the candidate's expertise. However, the job location is not in San Antonio, TX, and the salary range is not specified, making it not fully relevant based on the user's guidance.\n"
     ]
    },
    {
     "name": "stderr",
     "output_type": "stream",
     "text": [
      " 94%|█████████▍| 170/180 [03:01<00:11,  1.18s/it]"
     ]
    },
    {
     "name": "stdout",
     "output_type": "stream",
     "text": [
      "Titel: Scientist II, Real World Data Science - Translational Research @ Tempus AI\n",
      "---GRADE: DOCUMENT NOT RELEVANT---\n",
      "Justification: The job title does not include 'data scientist' as required by the user guidance. Additionally, the job location is not in San Antonio, TX, or remote in the US, and the salary range is below $170,000.\n"
     ]
    },
    {
     "name": "stderr",
     "output_type": "stream",
     "text": [
      " 95%|█████████▌| 171/180 [03:02<00:10,  1.17s/it]"
     ]
    },
    {
     "name": "stdout",
     "output_type": "stream",
     "text": [
      "Titel: IT SENIOR DATA ANALYST - DIGITAL TECHNOLOGY SERVICES @ JFK Johnson Rehabilitation Institute \n",
      "---GRADE: DOCUMENT NOT RELEVANT---\n",
      "Justification: The job description is for an IT Senior Data Analyst position in New Jersey, which does not match the candidate's preference for a data scientist role in San Antonio, TX or remote in the US. Additionally, the job title does not include 'data scientist' as required by the user guidance.\n"
     ]
    },
    {
     "name": "stderr",
     "output_type": "stream",
     "text": [
      " 96%|█████████▌| 172/180 [03:03<00:09,  1.15s/it]"
     ]
    },
    {
     "name": "stdout",
     "output_type": "stream",
     "text": [
      "Titel: Senior Data Analyst @ Centene Corporation\n",
      "---GRADE: DOCUMENT NOT RELEVANT---\n",
      "Justification: The job title is 'Senior Data Analyst' and does not include 'data scientist' as required. Additionally, the job location is not in San Antonio, TX, and the salary range is below $170,000, which are both specified preferences.\n"
     ]
    },
    {
     "name": "stderr",
     "output_type": "stream",
     "text": [
      " 96%|█████████▌| 173/180 [03:04<00:07,  1.09s/it]"
     ]
    },
    {
     "name": "stdout",
     "output_type": "stream",
     "text": [
      "Titel: Senior GTM Data Scientist @ Stripe\n",
      "---GRADE: DOCUMENT RELEVANT---\n",
      "Justification: The job title matches the candidate's expertise as a seasoned Data Scientist, and the job location is in San Antonio, TX, which aligns with the user's preference. The salary range provided is also above $170,000, meeting the specified criteria.\n"
     ]
    },
    {
     "name": "stderr",
     "output_type": "stream",
     "text": [
      " 97%|█████████▋| 174/180 [03:05<00:06,  1.05s/it]"
     ]
    },
    {
     "name": "stdout",
     "output_type": "stream",
     "text": [
      "Titel: People Tech - System Architect-Data Science Senior Manager @ PwC\n",
      "---GRADE: DOCUMENT RELEVANT---\n",
      "Justification: The job-related document is relevant to the candidate's job search. The document matches the candidate's skills and experience in data science, machine learning, and AI, aligns with the candidate's interest in generative AI and LLM development, and meets the user's criteria for job relevance based on the job title, location, and full-time status.\n"
     ]
    },
    {
     "name": "stderr",
     "output_type": "stream",
     "text": [
      " 97%|█████████▋| 175/180 [03:07<00:05,  1.07s/it]"
     ]
    },
    {
     "name": "stdout",
     "output_type": "stream",
     "text": [
      "Titel: Senior Data Scientist @ Storm4\n",
      "---GRADE: DOCUMENT NOT RELEVANT---\n",
      "Justification: The job title in the document is 'Senior Data Scientist,' which matches the candidate's expertise. However, the job location is remote in the US, not specifically in San Antonio, TX as per the user's guidance. Additionally, the salary range of $150,000 - $180,000 is below the candidate's specified minimum of $170,000.\n"
     ]
    },
    {
     "name": "stderr",
     "output_type": "stream",
     "text": [
      " 98%|█████████▊| 176/180 [03:08<00:04,  1.10s/it]"
     ]
    },
    {
     "name": "stdout",
     "output_type": "stream",
     "text": [
      "Titel: Data Scientist @ Render\n",
      "---GRADE: DOCUMENT RELEVANT---\n",
      "Justification: The job-related document is relevant to the candidate's job search. The document matches the candidate's skills and experience as a seasoned Data Scientist, especially in areas like machine learning, deep learning, big data technologies, optimization, and forecasting. Additionally, the job title includes 'Data Scientist,' the location is in San Antonio, TX, the job is full-time, and the salary range exceeds $170,000.\n"
     ]
    },
    {
     "name": "stderr",
     "output_type": "stream",
     "text": [
      " 98%|█████████▊| 177/180 [03:09<00:03,  1.10s/it]"
     ]
    },
    {
     "name": "stdout",
     "output_type": "stream",
     "text": [
      "Titel: Senior Clinical Bioinformatics Data Scientist @ Lensa\n",
      "---GRADE: DOCUMENT NOT RELEVANT---\n",
      "Justification: The job title is 'Senior Clinical Bioinformatics Data Scientist,' which does not match the user's preference for a job title including 'data scientist.' Additionally, the job location is remote in the US, but it does not specify San Antonio, TX, as required by the user guidance. The salary range is within the user's specified range, but the job does not meet all the criteria.\n"
     ]
    },
    {
     "name": "stderr",
     "output_type": "stream",
     "text": [
      " 99%|█████████▉| 178/180 [03:10<00:02,  1.12s/it]"
     ]
    },
    {
     "name": "stdout",
     "output_type": "stream",
     "text": [
      "Titel: People Tech - System Architect-Data Science Senior Manager @ PwC\n",
      "---GRADE: DOCUMENT NOT RELEVANT---\n",
      "Justification: The job title is 'Senior Manager' which is not relevant as per the user's guidance that managerial roles are not considered. Additionally, the job location is not in San Antonio, TX, and the salary range is not specified, making it unclear if it meets the salary criteria.\n"
     ]
    },
    {
     "name": "stderr",
     "output_type": "stream",
     "text": [
      " 99%|█████████▉| 179/180 [03:11<00:01,  1.09s/it]"
     ]
    },
    {
     "name": "stdout",
     "output_type": "stream",
     "text": [
      "Titel: Principal Data Scientist @ Brahma Consulting Group\n",
      "---GRADE: DOCUMENT NOT RELEVANT---\n",
      "Justification: The job title in the document is 'Senior Principal Data Scientist,' which includes 'data scientist' but also has 'senior' and 'principal' which are above the desired level of 'data scientist' according to the user guidance. Additionally, the job location is not in San Antonio, TX, or remote in the US, as required.\n"
     ]
    },
    {
     "name": "stderr",
     "output_type": "stream",
     "text": [
      "100%|██████████| 180/180 [03:12<00:00,  1.07s/it]"
     ]
    },
    {
     "name": "stdout",
     "output_type": "stream",
     "text": [
      "Titel: Data Scientist, Growth @ Eight Sleep\n",
      "---GRADE: DOCUMENT RELEVANT---\n",
      "Justification: The job description for Data Scientist, Growth at Eight Sleep aligns with the candidate's skills in data science, machine learning, and deep learning. The candidate's experience in predictive modeling, forecasting, and optimization matches the job requirements. Additionally, the job location is within the United States, meeting the user's preference for job location.\n",
      "Number of relevant documents: 71\n"
     ]
    },
    {
     "name": "stderr",
     "output_type": "stream",
     "text": [
      "\n"
     ]
    }
   ],
   "source": [
    "relevent_documents =  filter_graph.invoke(input={\"guidance\": user_guidance, \"resume\": resume})"
   ]
  },
  {
   "cell_type": "code",
   "execution_count": 15,
   "id": "b84fc4b4",
   "metadata": {},
   "outputs": [
    {
     "data": {
      "text/plain": [
       "{'documents': [Document(id='45b6bc4b-e476-452b-bcf7-38489c7d2bd1', metadata={'company': 'HCA Healthcare', 'title': 'Data Science Manager', 'level': 'Mid-Senior level', 'employment_type': 'Full-time', 'job_function': 'Engineering and Information Technology', 'industries': 'Technology, Information and Media', 'posted_time': '3 days ago', 'applicants': 'N/A', 'parsing_link': 'https://www.linkedin.com/jobs-guest/jobs/api/jobPosting/4222341754', 'job_posting_link': 'https://www.linkedin.com/jobs/view/data-science-manager-at-hca-healthcare-4222341754?trk=public_jobs_topcard-title', 'job_id': '4222341754', 'date': '2025-05-26'}, page_content=\"Data Science Manager \\n HCA Healthcare \\n Job Summary and QualificationsAt HCA Healthcare, we are committed to providing our patients and care providers with the highest quality of healthcare services. HCA’s Care Transformation and Innovation (CT&I) team delivers a step change in that direction through clinically led integration of digital and AI technologies into care.The Manager, Data Science is a technical managerial position that provides technical and organizational leadership to deliver Data Science products. This person engages with department leadership to understand strategy to align long term data science initiatives and budgets with product roadmaps and business requirements. This person guides planning, development, and implementation of components with the Data Science team.This role is expected to drive a positive change throughout the organization (both Business and Technology) and is expected to show empathy for the stakeholders and build products which deliver a delightful experience.What You'll Do:AGILE AND VALUE BASED DELIVERY: Lead, research, strategize, design, implement, document and evangelize Data Science products from incubation to deployment to monitoring. Responsible for team level OKRs related to product modules and agile delivery.FRAMEWORK, TOOLING, AND BEST PRACTICES: Facilitate the delivery of enterprise wide, production grade, and accurate data science products by establishing and standardizing tooling and process frameworks for best practices that produce maintainable code, automated testing, and CI/CD. Enable good developer experience in code-centric and low-code environments.CODE AND DELIVERABLE QUALITY: Provide technical code review for delivery work; ensure adherence to Responsible AI framework, ensure model interpretability, explainability, and model KPIs (both functional and non-functional)LEADERSHIP: Manage, mentor, and coordinate the team of data scientists, product managers, analysts, and vendors/contractors to meet project goals and expectations. Facilitate the team to master full stack technical capabilities. Deep dive with Data Scientists on the design and performance of AI services. Explain data science approach and results to Business and IT stakeholders in understandable terms.STRATEGIC LEADERSHIP: Actively participate in the development of the company's data science strategy and roadmap, working closely with senior leadership.DOMAIN LEADERSHIP: Stay up-to-date with healthcare industry trends and AI technologies, bringing new ideas and best practices to CT&I.PRODUCT DEVELOPMENT MINDSET: Communicate with senior management and stakeholders to ensure alignment of goals and priorities through an unrelenting focus on end users. Develop and track data product OKRs for measurable value creation for the enterprise.What qualifications you will need:Bachelor’s Degree in Computer Science or related field4+ years of overall experience in various aspects of data science and machine learning with demonstrated progressive responsibilities; particularly in Predictive Modeling, Optimization and/or Operations ResearchExpert experience in SQL and PythonExperience with structured and unstructured data (ie. tabular, text, images, video, etc)Experience with SQL relational and non-relational databasesExperience with data processing and ETL tools (e.g Apache Spark)Experience with data visualization and data monitoring toolsExperience with Infrastructure as Code (IAC) such as Terraform, Github Actions, and DockerExperience with cloud deployments in GCP or another cloud platformExperience with Agile development methods and tools (e.g. Azure Dev Ops)Excellent communication and collaboration skills, with the ability to work effectively across multiple teams and stakeholdersStrong leadership skills with a proven track record of motivating, mentoring, and managing multidisciplinary data science and engineering teamsAbility to tell a story using data and insights that drives action and changeDemonstrated leadership in a fast-paced environment with decisiveness, consensus-building, empathy and kindnessPreferred RequirementsMasters/PhD Degree in Computer Science or related fieldHealthcare domain knowledge and experienceStrong project management skills with the ability to manage multiple projects simultaneouslyAgile Delivery, Product Management or Scrum Master certificationsExperience managing and unblocking teams in GCP platformWork Location/Schedule:Must reside in or be willing to relocate to Nashville, TN, Orlando, FL, or Austin, TXWFH: M-F Show more Show less \\n Engineering and Information Technology \\n Technology, Information and Media\"),\n",
       "  Document(id='5a97b60c-63fe-4d52-ad23-aefc2799a412', metadata={'company': 'Gormat', 'title': 'Data Scientist 3', 'level': 'Entry level', 'employment_type': 'Full-time', 'job_function': 'Engineering and Information Technology', 'industries': 'Hospitals and Health Care, Non-profit Organizations, and Government Administration', 'posted_time': '1 day ago', 'applicants': '42 applicants', 'parsing_link': 'https://www.linkedin.com/jobs-guest/jobs/api/jobPosting/4237502589', 'job_posting_link': 'https://www.linkedin.com/jobs/view/data-scientist-3-at-gormat-4237502589?trk=public_jobs_topcard-title', 'job_id': '4237502589', 'date': '2025-05-26'}, page_content=\"Data Scientist 3 \\n Gormat \\n Job Description: Performs technical analysis for malicious, in order to ascertain functionality and capability, assist with attribution and identification of indicators of compromise. Provide information and documentation that enables malware detection, signature creation, and mitigation. The Level 3 Data Scientist shall possess the following capabilities: Employ some combination (2 or more) of the following skill areas: Foundations: (Mathematical, Computational, Statistical) Data Processing: (Data management and curation, data description and visualization, workflow and reproducibility) Modeling, Inference, and Prediction: (Data modeling and assessment, domain-specific considerations) Devise strategies for extracting meaning and value from large datasets. Make and communicate principled conclusions from data using elements of mathematics, statistics, computer science, and application specific knowledge. Through analytic modeling, statistical analysis, programming, and/or another appropriate scientific method, develop and implement qualitative and quantitative methods for characterizing, exploring, and assessing large datasets in various states of organization, cleanliness, and structure that account for the unique features and limitations inherent in Government data holdings. Translate practical mission needs and analytic questions related to large datasets into technical requirements and, conversely, assist others with drawing appropriate conclusions from the analysis of such data. Effectively communicate complex technical information to non-technical audiences. Make informed recommendations regarding competing technical solutions by maintaining awareness of the constantly shifting Government collection, processing, storage and analytic capabilities and limitations Providing advanced discovery support utilizing machine learning, analytical prototyping, scripting, automation, data visualization, statistical analysis, and TechSIGINT tools. Req is Mass data analytics, data processing and modeling utilizing all available SIGINT. Team based / Collaboration with TDNAs , DS, and fellow SMEs. SIGDEV or RF (HF, VHF, UHF, SATCOM) exp are nice to haves.; Solution needs demonstrated exp with data processing, normalization, and exploratory analysis. JupyterNB & Python exp is required; Data modeling exp leveraging various algorithms along with Data Visualization skills is a requirement; Capability to deliver presentations or briefings to a non technical/technical audience as needed. Qualifications: Bachelor's Degree with 10 years of relevant experience Associates degree with 12 years of relevant experience Bachelor's Degree must be in Mathematics, Applied Mathematics Statistics, Applied Statistics, Machine learning, Data Science, Operations Research, or Computer Science or a degree in a related field (Computer Information Systems, Engineering), a degree in the physical/hard sciences (e.g. physics, chemistry, biology, astronomy), or other science disciplines with a substantial computational component (i.e. behavioral, social, or life) may be considered if it included a concentration of coursework (5 or more courses) in advanced Mathematics (typically 300 level or higher, such as linear algebra, probability and statistics, machine learning) and/or computer science (e.g. algorithms, programming, , data structures, data mining, artificial intelligence). College-level requirement, or upper-level math courses designated as elementary or basic do not count. Note: A broader range of degrees will be considered if accompanied by a Certificate in Data Science from an accredited college/university. Relevant experience must be in designing/implementing machine learning, data science, advanced analytical algorithms, programming (skill in at least one high-level language (e.g. Python)), statistical analysis (e.g. variability, sampling error, inference, hypothesis testing, EDA, application of linear models), data management (e.g. data cleaning and transformation), data mining, data modeling and assessment, artificial intelligence, and/or software engineering. Experience in more than one area is strongly preferred. Must Have an Active TS/SCI With Full Scope Poly. Job Posted by ApplicantPro Show more Show less \\n Engineering and Information Technology \\n Hospitals and Health Care, Non-profit Organizations, and Government Administration\"),\n",
       "  Document(id='33cde05d-faf4-49f1-969b-20a5272b5d96', metadata={'company': 'Kforce Inc', 'title': 'Data Scientist', 'level': 'Associate', 'employment_type': 'Contract', 'job_function': 'Engineering and Information Technology', 'industries': 'Hospitals and Health Care, Non-profit Organizations, and Government Administration', 'posted_time': '4 days ago', 'applicants': 'N/A', 'parsing_link': 'https://www.linkedin.com/jobs-guest/jobs/api/jobPosting/4233430613', 'job_posting_link': 'https://www.linkedin.com/jobs/view/data-scientist-at-kforce-inc-4233430613?trk=public_jobs_topcard-title', 'job_id': '4233430613', 'date': '2025-05-26'}, page_content=\"Data Scientist \\n Kforce Inc \\n ResponsibilitiesKforce has a client that is seeking a remote Data Scientist. Summary: The Data Scientist typically involves using data to answer business questions and improve decision-making. This includes collecting, cleaning, and analyzing large datasets using statistical and machine learning techniques to extract meaningful insights and build predictive models. Data Scientists communicate their findings through visualizations and reports, providing actionable recommendations to stakeholders. Job Duties may include: Data Scientist will design various AB tests, multivariate tests and works with organizations stakeholders to identify opportunities for leveraging data Produces innovative solutions driven by exploratory data analysis from large high dimensional datasets Expertise in analytics algorithm such as Apriori, Decision Trees algorithm, Naive Bayes algorithm, clustering algorithm, Neural Network algorithm, Linear Regression algorithm, Random Forest Applies strong knowledge of statistics, machine learning, Data modelling and simulations to recognize patterns Identifies opportunities, pose business questions and make valuable discoveries leading to new product development, enhancements and prototype development As a Data Scientist, you will develop increasing complex models & monitors performance of developed models and makes recommendations to increase accuracy Documents implementation details and choice of models, rationale and reasoning Acts as a mentor to lesser tenured colleaguesRequirements Bachelor's degree 2+ years of experience as a Data Scientist Strong expertise in statistical computation and numerical packages in tools (R, Spark, Mahout, RapidMiner, Alteryx, Knime, and Python) Significant experience with analyzing data from different sources and visualizing tools such as KNIME, Spotfire, Tableau, etc. Significant experience and familiarity in Big Data Technologies i.e. Apache Hadoop, Map Reduce, Hive, PIG, Sqoop, Flume, etc. Excellent understanding of theory of statistics and their applicationThe pay range is the lowest to highest compensation we reasonably in good faith believe we would pay at posting for this role. We may ultimately pay more or less than this range. Employee pay is based on factors like relevant education, qualifications, certifications, experience, skills, seniority, location, performance, union contract and business needs. This range may be modified in the future.We offer comprehensive benefits including medical/dental/vision insurance, HSA, FSA, 401(k), and life, disability & ADD insurance to eligible employees. Salaried personnel receive paid time off. Hourly employees are not eligible for paid time off unless required by law. Hourly employees on a Service Contract Act project are eligible for paid sick leave.Note: Pay is not considered compensation until it is earned, vested and determinable. The amount and availability of any compensation remains in Kforce's sole discretion unless and until paid and may be modified in its discretion consistent with the law.This job is not eligible for bonuses, incentives or commissions.Kforce is an Equal Opportunity/Affirmative Action Employer. All qualified applicants will receive consideration for employment without regard to race, color, religion, sex, pregnancy, sexual orientation, gender identity, national origin, age, protected veteran status, or disability status.By clicking “Apply Today” you agree to receive calls, AI-generated calls, text messages or emails from Kforce and its affiliates, and service providers. Note that if you choose to communicate with Kforce via text messaging the frequency may vary, and message and data rates may apply. Carriers are not liable for delayed or undelivered messages. You will always have the right to cease communicating via text by using key words such as STOP. Show more Show less \\n Engineering and Information Technology \\n Hospitals and Health Care, Non-profit Organizations, and Government Administration\"),\n",
       "  Document(id='2e43ac13-2fc4-42ad-a7e0-38d67a36db09', metadata={'company': 'Trace3', 'title': 'Senior Data Scientist', 'level': 'Mid-Senior level', 'employment_type': 'Full-time', 'job_function': 'Engineering and Information Technology', 'industries': 'Hospitals and Health Care, Non-profit Organizations, and Government Administration', 'posted_time': '1 day ago', 'applicants': '37 applicants', 'parsing_link': 'https://www.linkedin.com/jobs-guest/jobs/api/jobPosting/4207115907', 'job_posting_link': 'https://www.linkedin.com/jobs/view/senior-data-scientist-at-trace3-4207115907?trk=public_jobs_topcard-title', 'job_id': '4207115907', 'date': '2025-05-26'}, page_content=\"Senior Data Scientist \\n Trace3 \\n Who is Trace3?Trace3 is a leading Transformative IT Authority, providing unique technology solutions and consulting services to our clients. Equipped with elite engineering and dynamic innovation, we empower IT executives and their organizations to achieve competitive advantage through a process of Integrate, Automate, Innovate.Our culture at Trace3 embodies the spirit of a startup with the advantage of a scalable business. Employees can grow their career and have fun while doing it!Trace3 is headquartered in Irvine, California. We employ more than 1,200 people all over the United States. Our major field office locations include Denver, Indianapolis, Grand Rapids, Lexington, Los Angeles, Louisville, Texas, San Francisco.Ready to discover the possibilities that live in technology?Come Join Us!Street-Smart - Thriving in Dynamic TimesWe are flexible and resilient in a fast-changing environment. We continuously innovate and drive constructive change while keeping a focus on the “big picture.” We exercise sound business judgment in making high-quality decisions in a timely and cost-effective manner. We are highly creative and can dig deep within ourselves to find positive solutions to different problems.Juice - The “Stuff” it takes to be a Needle Mover We get things done and drive results. We lead without a title, empowering others through a can-do attitude. We look forward to the goal, mentally mapping out every checkpoint on the pathway to success, and visualizing what the final destination looks and feels like.Teamwork - Humble, Hungry and SmartWe are humble individuals who understand how our job impacts the company's mission. We treat others with respect, admit mistakes, give credit where it’s due and demonstrate transparency. We “bring the weather” by exhibiting positive leadership and solution-focused thinking. We hug people in their trials, struggles, and failures – not just their success. We appreciate the individuality of the people around us.*Please note, this is a permanent placement position through Trace3*Position SummaryWe are seeking a highly skilled and experienced Senior Data Scientist to join our dynamic Data Science and AI team. In this role, you will be instrumental in transforming data into actionable insights and innovative solutions, driving forward our business strategy. You will leverage advanced machine learning, statistical techniques, and analytical prowess to solve complex business challenges, collaborating closely with cross-functional teams to design, develop, and deploy scalable AI-driven models and algorithms.This position belongs to a family of jobs with increasing responsibility, competency, and skill level. Actual position title and pay grade will be based on the selected candidate’s experience and qualifications. Ideal candidate will be located in San Antonio, TX, Findlay, OH, or Denver, CO.Key ResponsibilitiesLeads multiple data science projects ensuring alignment with business goals.Develops predictive models and integrates them with Business Intelligence tools.Develops and maintains data pipelines for efficient data retrieval and processing. Collaborates with applications and data engineering teams for deploying models at scale.Mentors junior data scientists in model development and data handling.Engages with Senior Leadership to inform strategic decisions using business intelligence insights.Researches and adopts cutting-edge technologies and methodologies in data science.Manages stakeholder expectations and delivers actionable solutions.Oversees data processing pipelines ensuring data quality and consistency.Drives ethical considerations in model deployment and data utilization.Collaborates with external partners, research institutions, and subject matter experts to gather domain-specific knowledge and datasets.Performs exploratory data analysis to identify patterns, insights, and communicate findings.Engage in the ideation and prototyping of new solutions to meet emerging business requirements.Utilize advanced machine learning techniques (e.g., deep learning, NLP, computer vision, reinforcement learning) to create innovative solutions.Education And ExperienceBachelor’s Degree in Information Technology or related field required.Master’s or Ph.D. in Computer Science, Statistics, Mathematics, or a related field preferred5+ years of relevant experience required.Expertise in Python and proficiency in ML frameworks (TensorFlow, PyTorch, scikit-learn).Deep understanding of ML algorithms (supervised, unsupervised learning, and deep learning) and their applications.Strong problem-solving, critical thinking, and analytical capabilities.Actual salary will be based on a variety of factors, including location, experience, skill set, performance, licensure and certification, and business needs. The range for this position in other geographic locations may differ. Certain positions may also be eligible for variable incentive compensation, such as bonuses or commissions, that is not included in the base salary.Estimated Pay Range$105,000—$148,000 USDThe PerksComprehensive medical, dental and vision plans for you and your dependents401(k) Retirement Plan with Employer Match, 529 College Savings Plan, Health Savings Account, Life Insurance, and Long-Term DisabilityCompetitive CompensationTraining and development programsStocked kitchen with snacks and beveragesCollaborative and cool cultureWork-life balance and generous paid time offOur CommitmentAt the core of Trace3's DNA is our people. We are a diverse group of talented individuals who understand the importance of teamwork and demonstrating leadership, character, and passion in all that we do.We’re committed to fostering an inclusive workplace where everyone feels respected, valued, and empowered to grow. We recognize that embracing diversity drives innovation, improves outcomes, fosters collaboration, boosts teammate satisfaction, and builds a more inclusive culture.As an equal opportunity employer, Trace3 bases all employment decisions based on individual qualifications, merit, and business requirements. We do not engage in discrimination on the basis of race, color, religion, sex (including gender identity, sexual orientation, and pregnancy), national origin, age (40 or older), disability, genetic information, or any other characteristic protected by federal, state, or local law.Any demographic information provided is strictly voluntary, kept confidential in accordance with Equal Employment Opportunity (EEO) regulations, and will not be used in employment decisions, including hiring, promotions, or mentorship programs. We are committed to providing equal employment opportunities for all.If you require a reasonable accommodation to complete the application process or participate in an interview, please email recruiting@trace3.com.To all recruitment agencies: Trace3 does not accept unsolicited agency resumes/CVs. Please do not forward resumes/CVs to our careers email addresses, Trace3 employees or any other company location. Trace3 is not responsible for any fees related to unsolicited resumes/CVs. Show more Show less \\n Engineering and Information Technology \\n Hospitals and Health Care, Non-profit Organizations, and Government Administration\"),\n",
       "  Document(id='94ae2c5f-c263-4619-9bac-fe288f3e5136', metadata={'company': 'Worth AI ', 'title': 'Director of Data Science', 'level': 'Mid-Senior level', 'employment_type': 'Full-time', 'job_function': 'Engineering', 'industries': 'IT Services and IT Consulting', 'posted_time': '3 days ago', 'applicants': 'N/A', 'parsing_link': 'https://www.linkedin.com/jobs-guest/jobs/api/jobPosting/4236122660', 'job_posting_link': 'https://www.linkedin.com/jobs/view/director-of-data-science-at-worth-ai-4236122660?trk=public_jobs_topcard-title', 'job_id': '4236122660', 'date': '2025-05-26'}, page_content=\"Director of Data Science \\n Worth AI  \\n Worth is seeking an experienced and visionary Director of Data Science to lead the development and deployment of machine learning and statistical modeling solutions that drive business impact across our organization. This individual will guide a team of data scientists and partner with cross-functional stakeholders to build scalable, production-grade models for both analytical and product applications.The ideal candidate brings a strong foundation in predictive modeling, statistical analysis, and machine learning, with proven leadership experience in building data science teams and influencing strategic decisions. Expertise in areas such as NLP, computer vision, or reinforcement learning is highly desirable. This role requires exceptional communication skills and the ability to distill complex insights into clear, actionable recommendations for executive audiences.ResponsibilitiesLead, mentor, and scale a high-performing team of data scientists while fostering a culture of innovation, collaboration, and continuous learningOversee the end-to-end development of machine learning models—design, training, validation, and deployment—within cloud-based production environmentsPartner with product, engineering, and business teams to identify opportunities for data science solutions, define success metrics, and deliver measurable impactDrive the integration of large-scale data systems and pipelines to power intelligent, adaptive models that reflect changing customer, market, and business dynamicsEnsure rigorous model monitoring, governance, and retraining protocols to maintain accuracy, fairness, and complianceCommunicate technical results and strategic insights clearly and persuasively to senior leadership and non-technical stakeholdersChampion the adoption of advanced analytics tools, frameworks, and best practices across the companyRequirementsBachelor's degree and 8+ years of professional experience, or Master's degree and 6+ years, or PhD and 4+ years, in a quantitative field such as Computer Science, Statistics, Applied Mathematics, or EngineeringProven leadership experience managing data science or machine learning teams in fast-paced, agile environmentsDeep expertise in statistical modeling and machine learning techniques (e.g., regression, time series, clustering, ensemble methods, simulation, NLP, deep learning, etc.)Hands-on proficiency in Python and SQL; familiarity with R or other languages is a plusPractical experience with ML libraries and frameworks such as Scikit-learn, TensorFlow, Keras, PyTorch, Statsmodels, NumPy, and SciPy. Strong understanding of data architecture and MLOps practices in cloud environments such as AWS, Azure, or GCPExcellent data storytelling and executive communication skills; confident in building and delivering compelling visual presentations (e.g., Tableau, PowerBI)Deep understanding of Agile methodologies such as Scrum or KanbanBenefitsHealth Care Plan (Medical, Dental & Vision)Retirement Plan (401k, IRA)Life InsuranceUnlimited Paid Time Off9 paid HolidaysFamily LeaveWork From HomeFree Food & Snacks (Access to Industrious Co-working Membership!)Wellness Resources Show more Show less \\n Engineering \\n IT Services and IT Consulting\"),\n",
       "  Document(id='eda1a8ce-5236-4a10-a610-8132eebbec27', metadata={'company': 'Worth AI ', 'title': 'Director of Data Science', 'level': 'Mid-Senior level', 'employment_type': 'Full-time', 'job_function': 'Engineering', 'industries': 'IT Services and IT Consulting', 'posted_time': '3 days ago', 'applicants': '37 applicants', 'parsing_link': 'https://www.linkedin.com/jobs-guest/jobs/api/jobPosting/4236124270', 'job_posting_link': 'https://www.linkedin.com/jobs/view/director-of-data-science-at-worth-ai-4236124270?trk=public_jobs_topcard-title', 'job_id': '4236124270', 'date': '2025-05-26'}, page_content=\"Director of Data Science \\n Worth AI  \\n Worth is seeking an experienced and visionary Director of Data Science to lead the development and deployment of machine learning and statistical modeling solutions that drive business impact across our organization. This individual will guide a team of data scientists and partner with cross-functional stakeholders to build scalable, production-grade models for both analytical and product applications.The ideal candidate brings a strong foundation in predictive modeling, statistical analysis, and machine learning, with proven leadership experience in building data science teams and influencing strategic decisions. Expertise in areas such as NLP, computer vision, or reinforcement learning is highly desirable. This role requires exceptional communication skills and the ability to distill complex insights into clear, actionable recommendations for executive audiences.ResponsibilitiesLead, mentor, and scale a high-performing team of data scientists while fostering a culture of innovation, collaboration, and continuous learningOversee the end-to-end development of machine learning models—design, training, validation, and deployment—within cloud-based production environmentsPartner with product, engineering, and business teams to identify opportunities for data science solutions, define success metrics, and deliver measurable impactDrive the integration of large-scale data systems and pipelines to power intelligent, adaptive models that reflect changing customer, market, and business dynamicsEnsure rigorous model monitoring, governance, and retraining protocols to maintain accuracy, fairness, and complianceCommunicate technical results and strategic insights clearly and persuasively to senior leadership and non-technical stakeholdersChampion the adoption of advanced analytics tools, frameworks, and best practices across the companyRequirementsBachelor's degree and 8+ years of professional experience, or Master's degree and 6+ years, or PhD and 4+ years, in a quantitative field such as Computer Science, Statistics, Applied Mathematics, or EngineeringProven leadership experience managing data science or machine learning teams in fast-paced, agile environmentsDeep expertise in statistical modeling and machine learning techniques (e.g., regression, time series, clustering, ensemble methods, simulation, NLP, deep learning, etc.)Hands-on proficiency in Python and SQL; familiarity with R or other languages is a plusPractical experience with ML libraries and frameworks such as Scikit-learn, TensorFlow, Keras, PyTorch, Statsmodels, NumPy, and SciPy. Strong understanding of data architecture and MLOps practices in cloud environments such as AWS, Azure, or GCPExcellent data storytelling and executive communication skills; confident in building and delivering compelling visual presentations (e.g., Tableau, PowerBI)Deep understanding of Agile methodologies such as Scrum or KanbanBenefitsHealth Care Plan (Medical, Dental & Vision)Retirement Plan (401k, IRA)Life InsuranceUnlimited Paid Time Off9 paid HolidaysFamily LeaveWork From HomeFree Food & Snacks (Access to Industrious Co-working Membership!)Wellness Resources Show more Show less \\n Engineering \\n IT Services and IT Consulting\"),\n",
       "  Document(id='ce7cd27d-9534-4d3d-a707-91a3d04d1329', metadata={'company': 'Jobs via Dice', 'title': 'Senior Data Scientist', 'level': 'Mid-Senior level', 'employment_type': 'Full-time', 'job_function': 'Engineering and Information Technology', 'industries': 'Hospitals and Health Care, Non-profit Organizations, and Government Administration', 'posted_time': '2 hours ago', 'applicants': 'N/A', 'parsing_link': 'https://www.linkedin.com/jobs-guest/jobs/api/jobPosting/4235491484', 'job_posting_link': 'https://www.linkedin.com/jobs/view/senior-data-scientist-at-jobs-via-dice-4235491484?trk=public_jobs_topcard-title', 'job_id': '4235491484', 'date': '2025-05-26'}, page_content=\"Senior Data Scientist \\n Jobs via Dice \\n Dice is the leading career destination for tech experts at every stage of their careers. Our client, Kforce Technology Staffing, is seeking the following. Apply via Dice today!RESPONSIBILITIES:Kforce has a client that is seeking an experienced Senior Data Scientist to join our Data Science and AI team.Summary:In this role, the Senior Data Scientist will help transform data into actionable insights, drive business strategy, and develop innovative AI-driven solutions. They will leverage advanced machine learning, statistical techniques, and analytics to solve complex challenges, collaborating with cross-functional teams to design, develop, and deploy scalable models and algorithms.Key Responsibilities: Lead the development of new solutions to meet evolving business needs Use advanced machine learning techniques (e.g., deep learning, NLP, computer vision) to create innovative solutions Manage multiple data science projects, ensuring alignment with business goals Develop and optimize predictive models, integrating them with business intelligence tools Build and maintain efficient data pipelines and collaborate with engineering teams for large-scale deployment Mentor junior data scientists in model development and data handling best practices Collaborate with leadership to provide data-driven insights that inform strategic decisions Stay current with emerging data science technologies and methodologies Conduct exploratory data analysis to uncover patterns and communicate findings Manage stakeholder expectations and deliver actionable solutions Ensure data quality and consistency across data processing pipelines Advocate for ethical use of data and models Partner with external experts to enhance domain knowledge and improve data solutionsREQUIREMENTS: Bachelor's degree in Information Technology, related field, or equivalent experience required; Master's or Ph.D. in Computer Science, Statistics, Mathematics, or a related field preferred 5+ years of relevant experience in data science or a similar role Expertise in Python and machine learning frameworks (e.g., TensorFlow, PyTorch, scikit-learn) Deep understanding of machine learning algorithms (supervised, unsupervised, deep learning) Strong problem-solving and analytical skills AI/ML - Strong knowledge of AI/ML concepts and algorithms to design intelligent systems and applications Business Domain Knowledge - Understanding of business processes and market trends to deliver actionable insights Communication & Collaboration - Excellent communication skills for engaging with stakeholders and cross-functional teams Data Analysis - Expertise in analyzing data and applying statistical methods to support decision-making Data Ethics - Knowledge of ethical considerations in data usage and mitigating bias in models and decisions Data Mining - Experience in techniques like clustering, classification, and forecasting to extract insights from data Data Monetization - Familiarity with strategies to unlock value from data, including commercialization and data marketplaces NLP - Proficiency in natural language processing to analyze and extract insights from text data Problem-Solving - Strong ability to identify challenges, analyze solutions, and make data-driven recommendations Reporting & Dashboarding - Skilled in preparing reports and dashboards to communicate insights and guide decision-making Statistical Analysis - Solid foundation in statistical principles to support data-driven decisions and analysisThe pay range is the lowest to highest compensation we reasonably in good faith believe we would pay at posting for this role. We may ultimately pay more or less than this range. Employee pay is based on factors like relevant education, qualifications, certifications, experience, skills, seniority, location, performance, union contract and business needs. This range may be modified in the future.We offer comprehensive benefits including medical/dental/vision insurance, HSA, FSA, 401(k), and life, disability & ADD insurance to eligible employees. Salaried personnel receive paid time off. Hourly employees are not eligible for paid time off unless required by law. Hourly employees on a Service Contract Act project are eligible for paid sick leave.Note: Pay is not considered compensation until it is earned, vested and determinable. The amount and availability of any compensation remains in Kforce's sole discretion unless and until paid and may be modified in its discretion consistent with the law.This job is not eligible for bonuses, incentives or commissions.Kforce is an Equal Opportunity/Affirmative Action Employer. All qualified applicants will receive consideration for employment without regard to race, color, religion, sex, pregnancy, sexual orientation, gender identity, national origin, age, protected veteran status, or disability status.By clicking ?Apply Today? you agree to receive calls, AI-generated calls, text messages or emails from Kforce and its affiliates, and service providers. Note that if you choose to communicate with Kforce via text messaging the frequency may vary, and message and data rates may apply. Carriers are not liable for delayed or undelivered messages. You will always have the right to cease communicating via text by using key words such as STOP. Show more Show less \\n Engineering and Information Technology \\n Hospitals and Health Care, Non-profit Organizations, and Government Administration\"),\n",
       "  Document(id='5b0483a1-826c-4002-96f8-9041c0d5a5e9', metadata={'company': 'H-E-B', 'title': 'Sr Data Scientist - ML Engineering', 'level': 'Mid-Senior level', 'employment_type': 'Full-time', 'job_function': 'Engineering and Information Technology', 'industries': 'Hospitals and Health Care, Non-profit Organizations, and Government Administration', 'posted_time': '5 days ago', 'applicants': '59 applicants', 'parsing_link': 'https://www.linkedin.com/jobs-guest/jobs/api/jobPosting/4231638091', 'job_posting_link': 'https://www.linkedin.com/jobs/view/sr-data-scientist-ml-engineering-at-h-e-b-4231638091?trk=public_jobs_topcard-title', 'job_id': '4231638091', 'date': '2025-05-26'}, page_content=\"Sr Data Scientist - ML Engineering \\n H-E-B \\n ResponsibilitiesH-E-B's Corporate Planning and Analysis Team develops and maintains budgets and financial systems while providing current, reliable financial data, analysis, and technical information.As a Senior Data Scientist, your archetype is a Business Decision Scientist. Your passions include building a framework to stitch cross domains learning and optimizing them toward mission-specific and multi-mission tasks, uncovering ML models causality relationships, creating an enterprise domain-specific reasoning system to boost actionable insights and optimize resources of machine learning process, and orchestrating reusable storytelling methodology to apply toward AI translation.Once you're eligible, you'll become an Owner in the company, so we're looking for commitment, hard work, and focus on quality and Customer service. 'Partner-owned' means our most important resources--People--drive the innovation, growth, and success that make H-E-B The Greatest Omnichannel Retailing Company.Do you have a:HEART FOR PEOPLE... willingness to mentor?HEAD FOR BUSINESS... skills to serve as technical lead to support decision-making for complex cross-functional business issues?PASSION FOR RESULTS... ability to generate business-valued questions and data-driven solutions?We are looking for: a creative data storyteller with measurable and predictive business recommendationsWhat is the work? Handles the design, creation, and maintenance of an ML platform and related environments. Manages Docker containers and Kubernetes clusters, oversees dependencies and configurations, and implements CI/CD pipelines for automated building, testing, and deployment of machine learning models. Monitors and optimizes model training performance and resource usage. Deploys ML models to production environments and manages model versioning and rollback mechanisms. Ensures scalable and reliable model serving using tools like Vertex, Databricks, TensorFlow Serving, Flask, or FastAPI, ensuring the infrastructure can scale to meet the growing demands as the complexity and number of ML models increase. Works closely with data scientists, data engineers, and stakeholders to understand and fulfill their infrastructure needs. Stays updated with the latest technologies and best practices in ML infrastructure. Architects and develops Generative AI solutions utilizing Machine Learning and GenAI techniques. Collaborates with leadership to identify AI opportunities and promote AI strategy. Specializes in engineering and deploying Generative AImodels, with a specific focus on Retrieval-Augmented Generation (RAG) systems, search, knowledge graphs, and multi-agent workflows. Handles both unstructured and structured data, preparing it to be used as context for Language Model Learning (LLM). This involves tasks ranging from embedding large text corpora and developing generative SQL queries, to building connectors to structured databases. Trains models on prepared data and fine-tuning hyperparameters to achieve optimal performance.Analytics / Design & Development: Builds a framework to stitch cross domains learning; optimizes them toward mission-specific and multi-mission tasks Serves as expert specializing in AI interpretation and causality; uncovers ML model's causality relationships; builds framework to measure each model's bias, underspecification, and latent drivers with their connections Creates an enterprise domain-specific reasoning system to boost actionable insights and optimize the resources of machine learning process Orchestrates reusable storytelling methodology to apply toward AI translation Applies an inquisitive nature to creating ML / AI transparency to the business Applies AI reasoning into business action recommendations Applies AI research to accelerate business innovationWhat is your background? A related degree or comparable formal training, certification, or work experience 7+ years of experience in a retail or retail-related decision science role Expertise in ML visualization flow Expertise in optimizing distributed machine learning in a heterogeneous domain environmentDo you have what it takes to be a Senior Data Scientist at H-E-B? Technical knowledge in programming languages: SQL, R, Python, Scala, Java, C/C++ Technical knowledge in big data / ML optimization: GPU code optimization, Horovod, Spark MLlib optimization, Cython, JNI, Numba Technical knowledge in mainstream ML / AI: manifold learning, distributed clustering, graph network, hierarchical model, Bayesian network, deep learning, computer vision, NLP/NLU, reinforcement learning, meta-Learning, federated learning Technical skills to consider and apply causal reasoning representation and learning, and human-centric, explainable, responsible AI Ability as a creative storyteller and translator between business questions and ML solutions Ability to work comfortably with imperfect or incomplete data Ability to apply AI reasoning into business action recommendationCan you... Work in a fast-paced retail environment with frequently shifting priorities Work extended hours; sit for long periods08-2021 Show more Show less \\n Engineering and Information Technology \\n Hospitals and Health Care, Non-profit Organizations, and Government Administration\"),\n",
       "  Document(id='bb11a358-62cb-4a3a-a6c0-6bc7e3c2f02e', metadata={'company': 'H-E-B', 'title': 'Data Scientist - eCommerce', 'level': 'Entry level', 'employment_type': 'Full-time', 'job_function': 'Engineering and Information Technology', 'industries': 'Hospitals and Health Care, Non-profit Organizations, and Government Administration', 'posted_time': '6 days ago', 'applicants': '83 applicants', 'parsing_link': 'https://www.linkedin.com/jobs-guest/jobs/api/jobPosting/4216489085', 'job_posting_link': 'https://www.linkedin.com/jobs/view/data-scientist-ecommerce-at-h-e-b-4216489085?trk=public_jobs_topcard-title', 'job_id': '4216489085', 'date': '2025-05-26'}, page_content=\"Data Scientist - eCommerce \\n H-E-B \\n ResponsibilitiesH-E-B's Corporate Planning and Analysis Team develops and maintains budgets and financial systems while providing current, reliable financial data, analysis, and technical information.As a Data Scientist II, your archetype is an ML / AI Business Solution Designer. Your passions include creating end-to-end business solutions packages by integrating multi-modals and data pipelines, innovating new ML algorithms to establish strong competitive advantage for H-E-B business, and designing and implementing different ML integration patterns to facilitate multi-modal orchestration.Once you're eligible, you'll become an Owner in the company, so we're looking for commitment, hard work, and focus on quality and Customer service. 'Partner-owned' means our most important resources--People--drive the innovation, growth, and success that make H-E-B The Greatest Omnichannel Retailing Company.Do you have a:HEART FOR PEOPLE... willingness to take a break from algorithmic thinking / detecting to translate and share your findings with a variety of business customers?HEAD FOR BUSINESS... skills to blend mass data-wrangling with business acumen?PASSION FOR RESULTS... drive to generate business-valued questions and data-based n solutions?We are looking for: a thought leader of ML innovation who orchestrates business solutions across ML pipelinesWhat is the work?Analytics / Design & Development: Analyzes clickstream data and customer interactions to drive insights. Develops and deploy machine learning models to support e-commerce initiatives Presents findings to both technical and non-technical audiences, including senior leadership Manages multiple data science projects while collaborating with Product, Business, and Engineering teams Serves H-E-B as a thought leader in selected mainstream ML / AI fields Builds a concrete roadmap for ML solution maturity revolution Creates end-to-end business solutions packages by integrating multi-modals and data pipelines Designs / implements different ML integration patterns to facilitate multi-modal orchestration Innovates new ML algorithms to establish strong competitive advantage for H-E-B business; ensures new algorithms are backed by solid math and science proof Applies an inquisitive nature about open source algorithms, their theories, and their implementation Grows expertise in constructing distributed machine learning pipeline from scratchWhat is your background? A related degree or comparable formal training, certification, or work experience 5+ years of experience in a retail or retail-related decision science role Expertise / in-depth knowledge of business domain Well-rounded experience integrating math / science and platform engineeringDo you have what it takes to be a Data Scientist at H-E-B? Experience with Clickstream Analytics (BQ/Amplitude) (Preferably in Retail) Experience with Recommendation Systems Able to continuously learn new methodologies and applications of ML/AI techniques Strong capabilities in translating data science findings into business-friendly results. Able to present findings to leaders and peers. Ability to contribute to multiple work streams concurrently while staying connected to Product, Business, and Engineering teams. Experience working with visualization tools such as Tableau and Dash Proficiency in DS techniques (classification, regression, optimization) Some familiarity with big data ecosystems (e.g., Spark, Hadoop) and UNIX commands / scripting Understanding of best-in-class AI techniques to customize algorithms that created H-E-B-unique differentiators Strong research and analytical skills Critical and lateral thinking skills Experience working with e-commerce data and understanding customer behavior Proficiency in tools like BigQuery, Amplitude, or similar for clickstream data analysis Experience with Tableau, Dash, or equivalent platforms to visualize data Ability to develop end-to-end ML solutions, including NLU/LLM modeling Proficiency in Python, SQL, Spark Strong ability to present findings clearly and collaborate across teams Programming language skills (SQL, R, Python, Scala, Java, C/C++) ML optimization skills (GPU code optimization, Horovod, SparkMLlib optimization, Cython, JNI, Numba Mainstream ML / AI skills (deep learning, computer vision, NLP / NLU, reinforcement learning, meta-learning, federated learning) Ability to grow expertise in constructing distributed machine learning pipeline from scratchCan you... Work in a fast-paced retail environment with frequently shifting priorities Work extended hours; sit for long periods08-2021CPFA3232 Show more Show less \\n Engineering and Information Technology \\n Hospitals and Health Care, Non-profit Organizations, and Government Administration\"),\n",
       "  Document(id='66ceda58-fc08-4712-ab1e-9c735670bd18', metadata={'company': 'USAA', 'title': 'Data Scientist Principal – Bank AI/ML', 'level': 'Entry level', 'employment_type': 'Full-time', 'job_function': 'Engineering and Information Technology', 'industries': 'Hospitals and Health Care, Non-profit Organizations, and Government Administration', 'posted_time': '1 day ago', 'applicants': 'N/A', 'parsing_link': 'https://www.linkedin.com/jobs-guest/jobs/api/jobPosting/4220874206', 'job_posting_link': 'https://www.linkedin.com/jobs/view/data-scientist-principal-%E2%80%93-bank-ai-ml-at-usaa-4220874206?trk=public_jobs_topcard-title', 'job_id': '4220874206', 'date': '2025-05-26'}, page_content=\"Data Scientist Principal – Bank AI/ML \\n USAA \\n Why USAA?At USAA, our mission is to empower our members to achieve financial security through highly competitive products, exceptional service and trusted advice. We seek to be the #1 choice for the military community and their families.Embrace a fulfilling career at USAA, where our core values – honesty, integrity, loyalty and service – define how we treat each other and our members. Be part of what truly makes us special and impactful.The OpportunityAs a dedicated Data Scientist Principal, you will leverage technical expertise and industry experience to influence the application, scalability, and enablement of artificial intelligence/machine learning (AI/ML) at USAA. The incumbent will identify novel opportunities for advanced analytics solutions, effectively communicates with business leaders, product teams, and other key stakeholders and guides end-to-end solution development, IT implementation, and business adoption. Provides strategic guidance to executive leadership by seeking, vetting, proposing, and enabling “best in class” tools and technologies. Collaborates with IT Architecture and leadership to ensure data and analytics tools are consistent with USAA’s strategic vision.We offer a flexible work environment that requires an individual to be in the office 4 days per week. This position can be based in one of the following locations: San Antonio, TX, Plano, TX, Phoenix, AZ, Colorado Springs, CO, Charlotte, NC, Chesapeake, VA or Tampa, FL. Relocation assistance is available for this position.What You'll DoIdentifies, researches, and defines large-scale, cross-functional AI/ML use cases in collaboration with business leaders, executive peers, and strategic partners. Guides end-to-end efforts to develop scalable, efficient, highly-performant, automated AI/ML solutions.Applies deep expertise to amplify the impact of modeling techniques on emerging business initiatives. Collaborates with IT architects to design, implement, monitor, and scale cutting-edge AI/ML solutions that translate prototypes into novel products, services, and features.Ensures that AI/ML solutions are built using industry best practices, and sound methodology. Works with model risk partners to promote a culture of regulatory compliance.Designs large, complex information assets that enable applied analytics. Collaborates with engineering, data, and information architects to establish and maintain well-governed, documented, and controlled datasets from internal and external, structured, and unstructured sources.Seeks opportunities to simplify, modernize, and standardize the model development lifecycle. Provides expert technical advice and guidance by vetting vendor acquisitions.Actively raises the bar on talent and recruitment by leading or participating in communities of practice, talent development initiatives, and technical interview panels.Clearly translates complex analytical and technical concepts to diverse, technical, and non-technical audiences in a way that promotes organizational data literacy and informs business priorities.Provides technical oversight for building and maintaining a robust library of reusable, production-quality algorithms and supporting code.Develops and maintains academic and industry relationships for research purposes. Represents USAA in key internal/external technology and advanced analytics conferences.Ensures risks associated with business activities are effectively identified, measured, monitored, and controlled in accordance with risk and compliance policies and procedures.What You HaveBachelor’s degree in mathematics, computer science, statistics, economics, finance, actuarial sciences, science and engineering, or other similar quantitative discipline.10 years of progressive experience in predictive analytics or data analysis, to include 6 years of experience in training and validating statistical, physical, machine learning, and other advanced analytics models.6 years of experience in one or more dynamic scripted language (such as Python, R, etc.) with a focus on writing code that is easy to follow, well documented, and commented where necessary to explain logic (high code transparency).Subject matter expert in the concepts and technologies associated with classical supervised modeling for prediction such as linear/logistic models, discriminant analysis, support vector machines, decision trees, forest models, etc.Subject matter expert in the concepts and technologies associated with unsupervised modeling such as k-means clustering, hierarchical/agglomerative clustering, neighbors algorithms, DBSCAN, etc.Deep hands-on experience building, deploying, and managing the performance of advanced analytics solutions. Proven track record of providing cutting-edge solutions that drive business adoption and value.Extensive project management experience and can anticipate and appropriately manage project milestones, risks, and impediments. Demonstrated history of appropriately communicating and escalating potential impediments and limitations to leadership.Demonstrated experience in guiding and mentoring junior technical staff in business interactions and model building.Extensive experience explaining and influencing complex technology decisions to both technical and nontechnical audiences at all levels in the organization and with cross functional and enterprise teams.Demonstrated experience leading business or product/portfolio transformation through use of advanced analytics.What Sets You ApartDeep technical expertise in machine learning and NLP and generative AI with hands on experience developing agent-based AI solutions tailored for banking use case.Extensive experience in a lead capacity in technology research, strategy, and implementation in the areas of Generative AI development for large scale cross-enterprise initiatives.Skilled at bridging business needs and technical solutions driving innovation in customer experience, contact center, underwriting and operational efficiency through advanced AI applications.Compensation range: The salary range for this position is: $217,520 - $415,760.Compensation: USAA has an effective process for assessing market data and establishing ranges to ensure we remain competitive. You are paid within the salary range based on your experience and market data of the position. The actual salary for this role may vary by location.Employees may be eligible for pay incentives based on overall corporate and individual performance and at the discretion of the USAA Board of Directors.The above description reflects the details considered necessary to describe the principal functions of the job and should not be construed as a detailed description of all the work requirements that may be performed in the job.Benefits: At USAA our employees enjoy best-in-class benefits to support their physical, financial, and emotional wellness. These benefits include comprehensive medical, dental and vision plans, 401(k), pension, life insurance, parental benefits, adoption assistance, paid time off program with paid holidays plus 16 paid volunteer hours, and various wellness programs. Additionally, our career path planning and continuing education assists employees with their professional goals.For more details on our outstanding benefits, visit our benefits page on USAAjobs.com.Applications for this position are accepted on an ongoing basis, this posting will remain open until the position is filled. Thus, interested candidates are encouraged to apply the same day they view this posting. USAA is an Equal Opportunity Employer. All qualified applicants will receive consideration for employment without regard to race, color, religion, sex, sexual orientation, gender identity, national origin, disability, or status as a protected veteran. Show more Show less \\n Engineering and Information Technology \\n Hospitals and Health Care, Non-profit Organizations, and Government Administration\"),\n",
       "  Document(id='02a82416-d87b-4874-aef7-d9dc4fc2cc9a', metadata={'company': 'GlobalLogic', 'title': 'Data Scientist IRC264561', 'level': 'Not Applicable', 'employment_type': 'Full-time', 'job_function': 'Engineering and Information Technology', 'industries': 'Hospitals and Health Care, Non-profit Organizations, and Government Administration', 'posted_time': '1 day ago', 'applicants': '145 applicants', 'parsing_link': 'https://www.linkedin.com/jobs-guest/jobs/api/jobPosting/4235027594', 'job_posting_link': 'https://www.linkedin.com/jobs/view/data-scientist-irc264561-at-globallogic-4235027594?trk=public_jobs_topcard-title', 'job_id': '4235027594', 'date': '2025-05-26'}, page_content='Data Scientist IRC264561 \\n GlobalLogic \\n DescriptionOur client is embarking on a journey to make data a central part of its business strategy over the next 5-10 years. GL client Data platform team will support this journey by collaborating within the client data ecosystem to ensure client can have a robust Client Data Management Platform in place.RequirementsProven experience as a Data Scientist with a focus on AI/ML implementation.Strong understanding of machine learning algorithms and statistical models.Proficiency in programming languages such as Python.Experience with data visualization tools and techniques.Ability to work collaboratively in a team-oriented environment.Excellent problem-solving and analytical skills.Strong communication skills, both written and verbal.Hand-on experience in AWS to conduct end to end data analysis and data pipeline build out in using Python, Glue, S3, Airflow, Redshift, RDS, etc.Job responsibilitiesDesign, develop, and implement AI/ML models to solve complex business problems.Collaborate with cross-functional teams to determine the best AI/ML solutions for various projects.Analyze large datasets to extract valuable insights and patterns.Conduct rigorous testing and validation of models to ensure accuracy and reliability.Continuously monitor and refine models to improve performance over time.Communicate findings and recommendations to collaborators in a clear and concise manner.Stay updated with the latest advancements in AI and machine learning technologies.What we offerCulture of caring. At GlobalLogic, we prioritize a culture of caring. Across every region and department, at every level, we consistently put people first. From day one, you’ll experience an inclusive culture of acceptance and belonging, where you’ll have the chance to build meaningful connections with collaborative teammates, supportive managers, and compassionate leaders.Learning and development. We are committed to your continuous learning and development. You’ll learn and grow daily in an environment with many opportunities to try new things, sharpen your skills, and advance your career at GlobalLogic. With our Career Navigator tool as just one example, GlobalLogic offers a rich array of programs, training curricula, and hands-on opportunities to grow personally and professionally.Interesting & meaningful work. GlobalLogic is known for engineering impact for and with clients around the world. As part of our team, you’ll have the chance to work on projects that matter. Each is a unique opportunity to engage your curiosity and creative problem-solving skills as you help clients reimagine what’s possible and bring new solutions to market. In the process, you’ll have the privilege of working on some of the most cutting-edge and impactful solutions shaping the world today.Balance and flexibility. We believe in the importance of balance and flexibility. With many functional career areas, roles, and work arrangements, you can explore ways of achieving the perfect balance between your work and life. Your life extends beyond the office, and we always do our best to help you integrate and balance the best of work and life, having fun along the way!High-trust organization. We are a high-trust organization where integrity is key. By joining GlobalLogic, you’re placing your trust in a safe, reliable, and ethical global company. Integrity and trust are a cornerstone of our value proposition to our employees and clients. You will find truthfulness, candor, and integrity in everything we do.About GlobalLogicGlobalLogic, a Hitachi Group Company, is a trusted digital engineering partner to the world’s largest and most forward-thinking companies. Since 2000, we’ve been at the forefront of the digital revolution – helping create some of the most innovative and widely used digital products and experiences. Today we continue to collaborate with clients in transforming businesses and redefining industries through intelligent products, platforms, and services. Show more Show less \\n Engineering and Information Technology \\n Hospitals and Health Care, Non-profit Organizations, and Government Administration'),\n",
       "  Document(id='3b06aa84-5cff-4ce1-98c7-41290e6696a7', metadata={'company': 'Worth AI ', 'title': 'Director of Data Science', 'level': 'Mid-Senior level', 'employment_type': 'Full-time', 'job_function': 'Engineering', 'industries': 'IT Services and IT Consulting', 'posted_time': '3 days ago', 'applicants': '37 applicants', 'parsing_link': 'https://www.linkedin.com/jobs-guest/jobs/api/jobPosting/4236126054', 'job_posting_link': 'https://www.linkedin.com/jobs/view/director-of-data-science-at-worth-ai-4236126054?trk=public_jobs_topcard-title', 'job_id': '4236126054', 'date': '2025-05-26'}, page_content=\"Director of Data Science \\n Worth AI  \\n Worth is seeking an experienced and visionary Director of Data Science to lead the development and deployment of machine learning and statistical modeling solutions that drive business impact across our organization. This individual will guide a team of data scientists and partner with cross-functional stakeholders to build scalable, production-grade models for both analytical and product applications.The ideal candidate brings a strong foundation in predictive modeling, statistical analysis, and machine learning, with proven leadership experience in building data science teams and influencing strategic decisions. Expertise in areas such as NLP, computer vision, or reinforcement learning is highly desirable. This role requires exceptional communication skills and the ability to distill complex insights into clear, actionable recommendations for executive audiences.ResponsibilitiesLead, mentor, and scale a high-performing team of data scientists while fostering a culture of innovation, collaboration, and continuous learningOversee the end-to-end development of machine learning models—design, training, validation, and deployment—within cloud-based production environmentsPartner with product, engineering, and business teams to identify opportunities for data science solutions, define success metrics, and deliver measurable impactDrive the integration of large-scale data systems and pipelines to power intelligent, adaptive models that reflect changing customer, market, and business dynamicsEnsure rigorous model monitoring, governance, and retraining protocols to maintain accuracy, fairness, and complianceCommunicate technical results and strategic insights clearly and persuasively to senior leadership and non-technical stakeholdersChampion the adoption of advanced analytics tools, frameworks, and best practices across the companyRequirementsBachelor's degree and 8+ years of professional experience, or Master's degree and 6+ years, or PhD and 4+ years, in a quantitative field such as Computer Science, Statistics, Applied Mathematics, or EngineeringProven leadership experience managing data science or machine learning teams in fast-paced, agile environmentsDeep expertise in statistical modeling and machine learning techniques (e.g., regression, time series, clustering, ensemble methods, simulation, NLP, deep learning, etc.)Hands-on proficiency in Python and SQL; familiarity with R or other languages is a plusPractical experience with ML libraries and frameworks such as Scikit-learn, TensorFlow, Keras, PyTorch, Statsmodels, NumPy, and SciPy. Strong understanding of data architecture and MLOps practices in cloud environments such as AWS, Azure, or GCPExcellent data storytelling and executive communication skills; confident in building and delivering compelling visual presentations (e.g., Tableau, PowerBI)Deep understanding of Agile methodologies such as Scrum or KanbanBenefitsHealth Care Plan (Medical, Dental & Vision)Retirement Plan (401k, IRA)Life InsuranceUnlimited Paid Time Off9 paid HolidaysFamily LeaveWork From HomeFree Food & Snacks (Access to Industrious Co-working Membership!)Wellness Resources Show more Show less \\n Engineering \\n IT Services and IT Consulting\"),\n",
       "  Document(id='86a84b6f-f029-413a-b8ac-b61ad2fb16ee', metadata={'company': 'Lensa', 'title': 'Principal Data Scientist - Generative AI, Machine Learning, Python, R - Remote', 'level': 'Entry level', 'employment_type': 'Full-time', 'job_function': 'Engineering and Information Technology', 'industries': 'Hospitals and Health Care, Non-profit Organizations, and Government Administration', 'posted_time': '2 hours ago', 'applicants': 'N/A', 'parsing_link': 'https://www.linkedin.com/jobs-guest/jobs/api/jobPosting/4235493173', 'job_posting_link': 'https://www.linkedin.com/jobs/view/principal-data-scientist-generative-ai-machine-learning-python-r-remote-at-lensa-4235493173?trk=public_jobs_topcard-title', 'job_id': '4235493173', 'date': '2025-05-26'}, page_content='Principal Data Scientist - Generative AI, Machine Learning, Python, R - Remote \\n Lensa \\n Lensa is the leading career site for job seekers at every stage of their career. Our client, Molina Healthcare, is seeking professionals. Apply via Lensa today!Job DescriptionJob SummaryResponsible for overseeing data science projects, managing and mentoring a team, and aligning data initiatives with business goals. Lead the development and implementation of data models, collaborate with cross-functional teams, and stay updated on industry trends. Ensure ethical data use and communicate complex technical concepts to non-technical stakeholders. Lead initiatives on model governance and model ops to align with regulatory and security requirements. This role requires technical expertise, strategic thinking, and leadership to drive data-driven decision-making within the organization and be the pioneer on generative AI healthcare solutions, aimed at revolutionizing healthcare operations as well as enhancing member experience.Job Duties Research and Development: Stay current with the latest advancements in AI and machine learning and apply these insights to improve existing models and develop new methodologies. AI Model Deployment, Monitoring & Model Governance: Deploy AI models into production environments, monitor their performance, and adjust as necessary to maintain accuracy and effectiveness and meet all governance and regulatory requirements. Innovation Projects: Lead pilot projects to test and implement new AI technologies within the organization Data Analysis and Interpretation: Extract meaningful insights from complex datasets, identify patterns, and interpret data to inform strategic decision-making. Machine Learning Model Development : Design, develop, and train machine learning models using a variety of algorithms and techniques, including supervised and unsupervised learning, deep learning, and reinforcement learning. Agentic Workflows Implementation: Develop and implement agentic workflows that utilize AI agents for autonomous task execution, enhancing operational efficiency and decision-making capabilities. RAG Pattern Utilization: Employ retrieval-augmented generation patterns to improve the performance of language models, ensuring they can access and utilize external knowledge effectively to enhance their outputs. Model Fine-Tuning : Fine-tune pre-trained models to adapt them to specific tasks or datasets, ensuring optimal performance and relevance in various applications. Data Cleaning and Preprocessing: Prepare data for analysis by performing data cleaning, handling missing values, and removing outliers to ensure high-quality inputs for modeling. Collaboration: Work closely with cross-functional teams, including software engineers, product managers, and business analysts, to integrate AI solutions into existing systems and processes. Documentation and Reporting: Create comprehensive documentation of models, methodologies, and results; communicate findings clearly to non-technical stakeholders. Mentors, coaches, and provides guidance to newer data scientists. Partner closely with business and other technology teams to build ML models which helps in improving Star ratings, reduce care gap and other business objectives. Present complex analytical information to all level of audiences in a clear and concise manner Collaborate with analytics team, assigning and managing delivery of analytical projects as appropriate Perform other duties as business requirements change, looking out for data solutions and technology enabled solution opportunities and make referrals to the appropriate team members in building out payment integrity solutions. Use a broad range of tools and techniques to extract insights from current industry or sector trendsJob QualificationsREQUIRED EDUCATION:Master’s Degree in Computer Science, Data Science, Statistics, or a related fieldRequired Experience/Knowledge, Skills & Abilities 10+ years’ work experience as a data scientist preferably in healthcare environment but candidates with suitable experience in other industries will be considered Knowledge of big data technologies (e.g., Hadoop, Spark) Familiar with relational database concepts, and SDLC concepts Demonstrate critical thinking and the ability to bring order to unstructured problems Technical Proficiency: Strong programming skills in languages such as Python and R, and experience with machine learning frameworks like TensorFlow, Keras, or PyTorch. Statistical Analysis: Excellent understanding of statistical methods and machine learning algorithms, including k-NN, Naive Bayes, SVM, and neural networks. Experience with Agentic Workflows: Familiarity with designing and implementing agentic workflows that leverage AI agents for autonomous operations. RAG Techniques: Knowledge of retrieval-augmented generation techniques and their application in enhancing AI model outputs. Model Fine-Tuning Expertise: Proven experience in fine-tuning models for specific tasks, ensuring they meet the required performance metrics. Data Visualization: Proficiency in data visualization tools (e.g., Tableau, Power BI) to present complex data insights effectively. Database Management: Experience with SQL and NoSQL databases, data warehousing, and ETL processes. Problem-Solving Skills: Strong analytical and problem-solving abilities, with a focus on developing innovative solutions to complex challenges.Preferred EducationPHD or additional experiencePreferred Experience Experience with cloud platforms (e.g., Databricks, Snowflake, Azure AI Studio etc.) for working with AI workflows and deploying models. Familiarity with natural language processing (NLP) and computer vision techniques.#PJCorp2To all current Molina employees: If you are interested in applying for this position, please apply through the intranet job listing.Molina Healthcare offers a competitive benefits and compensation package. Molina Healthcare is an Equal Opportunity Employer (EOE) M/F/D/V.Pay Range: $117,731 - $275,491 / ANNUALActual compensation may vary from posting based on geographic location, work experience, education and/or skill level. Show more Show less \\n Engineering and Information Technology \\n Hospitals and Health Care, Non-profit Organizations, and Government Administration'),\n",
       "  Document(id='3da1d90d-f00c-4f36-8417-1d28eabc530e', metadata={'company': 'Netflix', 'title': 'Data Scientist (L4) - Product', 'level': 'Not Applicable', 'employment_type': 'Full-time', 'job_function': 'Other', 'industries': 'Hospitals and Health Care, Non-profit Organizations, and Government Administration', 'posted_time': '4 days ago', 'applicants': 'N/A', 'parsing_link': 'https://www.linkedin.com/jobs-guest/jobs/api/jobPosting/4219204765', 'job_posting_link': 'https://www.linkedin.com/jobs/view/data-scientist-l4-product-at-netflix-4219204765?trk=public_jobs_topcard-title', 'job_id': '4219204765', 'date': '2025-05-26'}, page_content=\"Data Scientist (L4) - Product \\n Netflix \\n Netflix is one of the world's leading entertainment services, with 283 million paid memberships in over 190 countries enjoying TV series, films and games across a wide variety of genres and languages. Members can play, pause and resume watching as much as they want, anytime, anywhere, and can change their plans at any time.Great entertainment thrills and inspires. Around the world, we connect hundreds of millions of people with the best television, films, live events, games, and more. Our product is at the heart of making these connections. To build best-in-class product experiences, we develop thoughtful long-term strategies, bring the best talent together, and let them creatively problem-solve with a strong and unique work culture.We are seeking a Data Scientist with strong analysis, causal inference/experimentation experience, and great product sense to elevate and evolve the Live experience for our members. In this role, you will drive experimentation and analytical studies to determine our in-product approach to Live positioning and discovery. Working in a highly collaborative and cross-functional environment, you will be responsible for partnering with our Product and Engineering teams to identify, incubate, and enable product innovations leveraging robust measurement techniques (e.g. experimentation, modeling, analytics). You’ll work with other data scientists, data and analytics engineers, and business teams to drive product vision and advance measurement strategies through new metrics, methodological approaches, and deep-dive analyses. This is an exciting opportunity to help shape the Live experience for our members around the world!In This Role, You WillDrive product innovation focused on our nascent Live business and help shape the member Live experience through robust measurement strategies covering experimentation, modeling, and analytics.Establish strong partnerships with stakeholders to realize our vision for Live, whether by helping determine a product strategy or defining new metrics.Develop experimentation and measurement frameworks to increase the velocity of investments and aid complex decision-making.Facilitate ownership and accountability by ensuring that the team produces trustworthy, high-quality outputs that influence the decisions and direction of member experience. Be flexible to changing circumstances. Netflix Live is evolving rapidly, and this role will help shape its future.To Be Successful In This Role, You HaveExperience with supporting experimentation at scale and observational causal inference to drive product developmentStrong statistical intuition and applied experience solving problems in consumer-facing products. Experience analyzing recommender systems is a plus.Expertise in SQL and statistical programming (Python and/or R)Exceptional communication with technical and non-technical audiences. Excellent at managing multiple stakeholders and competing priorities.Comfort with ambiguity; ability to thrive with minimal oversight and process.A passion for product development and design.Our compensation structure consists solely of an annual salary; we do not have bonuses. You choose each year how much of your compensation you want in salary versus stock options. To determine your personal top of market compensation, we rely on market indicators and consider your specific job family, background, skills, and experience to determine your compensation in the market range. The range for this role is $150,000 - $750,000.Inclusion is a Netflix value and we strive to host a meaningful interview experience for all candidates. If you want an accommodation/adjustment for a disability or any other reason during the hiring process, please send a request to your recruiting partner.We are an equal-opportunity employer and celebrate diversity, recognizing that diversity builds stronger teams. We approach diversity and inclusion seriously and thoughtfully. We do not discriminate on the basis of race, religion, color, ancestry, national origin, caste, sex, sexual orientation, gender, gender identity or expression, age, disability, medical condition, pregnancy, genetic makeup, marital status, or military service.Job is open for no less than 7 days and will be removed when the position is filled. Show more Show less \\n Other \\n Hospitals and Health Care, Non-profit Organizations, and Government Administration\"),\n",
       "  Document(id='5ee74cf9-b6d9-4771-b0b2-cec173e28aa7', metadata={'company': 'TieTalent', 'title': 'Senior Data Scientist', 'level': 'Mid-Senior level', 'employment_type': 'Part-time', 'job_function': 'Engineering and Information Technology', 'industries': 'Technology, Information and Internet', 'posted_time': '6 days ago', 'applicants': 'N/A', 'parsing_link': 'https://www.linkedin.com/jobs-guest/jobs/api/jobPosting/4233302579', 'job_posting_link': 'https://www.linkedin.com/jobs/view/senior-data-scientist-at-tietalent-4233302579?trk=public_jobs_topcard-title', 'job_id': '4233302579', 'date': '2025-05-26'}, page_content='Senior Data Scientist \\n TieTalent \\n AboutVerikai stands apart from traditional insurtech companies. As a remote-first team, we\\'re fueled by a commitment to cultivating top talent. Here, you\\'ll thrive in a collaborative environment that celebrates integrity, teamwork, and inclusivity. Diverse perspectives are valued, and a \"dare to fail\" spirit fuels groundbreaking innovation. This dedication to fostering talent is central to our mission. We\\'re revolutionizing the insurance industry through cutting-edge technology, and we\\'re looking for passionate individuals to join us on that journey. Verikai is the leading provider of predictive analytics and AI-powered solutions for the insurance industry. Through our innovative platform, Verikai empowers insurers with advanced data-driven risk assessment insights, streamlining the underwriting process and optimizing business outcomes. With a commitment to technological advancement, Verikai is changing the insurance industry by assisting underwriters with decision-making when it comes to risk. We are a growing and well-funded company with a great product and even better ideas. If you want to make an immediate impact on the way the insurance industry works while working in a fun, fast-paced, and supportive environment, you’ve come to the right place. As part of the analytics team at Verikai, you will be in front of real customer issues and the data they generate in real time. You will be tasked with analyzing large-scale datasets and rewarded by witnessing your analysis being leveraged by the customers and creating tremendous value for them. You will have the opportunity to train yourself, with help from more senior team members, on using various data tools to analyze various types of complex datasets. You will also be able to manipulate our cutting-edge machine learning platform and improve it to build insightful models while learning and practicing how to build a truly operational model. Our culture will allow you to work closely with all aspects of the business, and really shine on building up our analytics process and infrastructure. Responsibilities Develop cutting-edge machine learning algorithms, complement to our proprietary modeling platform, to extract greater lift from our data and provide more value for the customers. Refine / tailor our proprietary machine learning algorithm to better fit into various scenarios presented by the customers and our own visions. Constantly look for useful attributes to expand our core data assets from various data sources, like US census bureau, and validate the usefulness of the new data. Utilize proper tools to clean customer data, like PySpark, R, Python, or Excel, to prepare for upcoming data analysis or modeling exercises. Conduct descriptive analysis or other statistical analysis on customer data to identify valuable patterns to guide customers’ business decisions. Analyze the data creatively so that the results directly meet what customers want. Help prepare presentations or other customer-facing materials to demonstrate the value of our insights and to educate the customers on what we did and how we did it. Present the results / findings / models to customers as a technical expert, an industry insider, and a company promoter. Skills and Qualifications Bachelor’s degree or above in Statistics, Mathematics, or Computer Science with 3-5 years of relevant working experience. Demonstrates experience dealing with large datasets and creating models to solve real customer problems; Experience of modeling insurance data is a plus. Deep knowledge in statistical modeling, knowing what’s good and what’s bad and how to tweak the parameters. Proficient in Python or R, familiar with PySpark and Excel. Critical and independent thinking, able to establish logical assumptions and think through scenarios. Creative, open-minded, and positive attitude when challenges present themselves. Not afraid of doing independent research, not settling on trivial progress. Attention to detail; Sense of ownership in your work. Effective communication, able to explain complex statistical terms and results to both technical and non-technical audiences. Security, Confidentiality, and Availability Review, accept, and adhere to all security and confidentiality policies and procedures listed below where many policies apply directly to every company employee and some policies only apply directly to employees in particular departments: Proprietary Information and Inventions Agreement (PIIA), Acceptable Use Policy, Access Control and Termination Policy, Business Continuity and Disaster Recovery Plan, Change Management Policy, Code of Conduct, Configuration and Asset Management Policy, Data Classification Policy, Data Retention and Disposal Policy, Encryption and Key Management Policy, Information Security Policy. Make conscientious decisions in what information is shared with internal and external stakeholders keeping in mind security and confidentiality policies. Be available during local regular business hours and respond to requests and concerns as quickly as possible outside of those hours based on urgency. Company :VERIKAI Verikai Inc. Salary Range154,000.00 - $174,000.00 Benefits : The wage range for this job is based on role, level, and location. Within the range, individual pay takes into account a variety of factors that are considered in making compensation decisions including but not limited to skills, education, training, licensure and certifications, experience of the candidate, the role\\'s scope, complexity, and other business and organizational needs. In addition to the base compensation, we offer a competitive Total Rewards package, which includes but is not limited to medical, dental, vision, paid time off, and 401(k) plan for full-time and part-time employees who are eligible for benefits. Your recruiter may be able to tell you more about our total rewards offerings and the specific wage range for the relevant location(s) during the hiring process.#J-18808-LjbffrNice-to-have skillsMachine LearningPySparkRPythonStatistical ModelingData AnalysisDistrict of Columbia, United StatesWork experienceData EngineerMachine LearningData AnalystData ScientistLanguagesEnglish Show more Show less \\n Engineering and Information Technology \\n Technology, Information and Internet'),\n",
       "  Document(id='9909a65f-1ee1-4134-a3d1-03887fc13eff', metadata={'company': 'Valo Health', 'title': 'Staff Data Scientist, Machine Learning', 'level': 'Entry level', 'employment_type': 'Full-time', 'job_function': 'Engineering and Information Technology', 'industries': 'Hospitals and Health Care, Non-profit Organizations, and Government Administration', 'posted_time': '3 days ago', 'applicants': '77 applicants', 'parsing_link': 'https://www.linkedin.com/jobs-guest/jobs/api/jobPosting/4187135186', 'job_posting_link': 'https://www.linkedin.com/jobs/view/staff-data-scientist-machine-learning-at-valo-health-4187135186?trk=public_jobs_topcard-title', 'job_id': '4187135186', 'date': '2025-05-26'}, page_content='Staff Data Scientist, Machine Learning \\n Valo Health \\n About UsValo Health is a technology company that is integrating human-centric data and AI-powered technology to accelerate the creation of life-changing drugs for more patients faster. Valo was created with the belief that the drug discovery and development process can and should be faster and less expensive, with a much higher probability of success. We are using models early to fail less often, executing clinical trials to add valuation to the company, and generating fit-for-purpose data to feed back into Valo’s Opal Computational Platform™ as we reinvent drug discovery and development from the ground up. Disease doesn’t wait, so neither can we.About The RoleAs a Staff Data Scientist, Machine Learning, you will be a core member of a team of data scientists and engineers building a powerful computational platform for advancing the research and development of new medicines. As part of the Translational Platform Engineering team, you will help design, develop, and apply machine learning (ML) models, methods, and pipelines for scientific problems involving clinical and biomedical data. Successful candidates will work with a diverse set of data scientists, biological scientists, epidemiologists, and software engineers in ways that cut across traditional industry boundaries.What You’ll Do…Propose, design, and develop ML approaches on high dimensional electronic health records and omics data leveraging Valo’s proprietary platform (data assets and data science packages).Design, develop, and support ML pipelines, workbenches, and dashboards to enable users to solve scientific problems.Develop well-designed, tested, and documented software packages.Collaborate with cross-functional teams and stakeholders to derive user requirements, maintain alignment, and ensure the relevance and impact of models, analyses, and pipelines.Be an active team member in code, design, and analysis review.What You Bring...Degree in a quantitative field with 7+ (BS), 5+ (MS), or 3+ (PhD) years of post-degree experience or equivalentBroad experience in ML including supervised learning, unsupervised learning, dimensionality reduction, clustering, metrics, model selection, feature selection, and explainability (3+ years required).Demonstrated experience with ML on electronic health records (2+ years required).Proficient in Python (5+ years required) and experience with ML and data science packages (e.g., scikit-learn, statsmodels, scipy, MLlib).Experience with MLops methodology such as workflow orchestration (e.g., Airflow, Prefect), experiment tracking (e.g., MLflow), containerization (e.g., Docker), and reproducible research (3+ years required).Experience with collaborative software development using source control management (e.g., git, unit testing, code review, CI/CD) (3+ years required).Experience with large-scale data analytics engines (e.g., Spark or Dask) and working in cloud environments (e.g., AWS) (2+ years required).Experience with statistical methods such as hypothesis testing, longitudinal modeling, and time to event analysis.Strong work ethic with a bias for execution and an ability to manage multiple priorities, ambiguity, and tight timelines. Ability to work effectively in teams or independently.Experience with omics data is a plus.Familiarity with the drug discovery and development process is a plus.More on ValoValo Health, LLC (“Valo”) is a technology company built to transform the drug discovery and development process using human-centric data and artificial intelligence-driven computation. As a digitally native company, Valo aims to fully integrate human-centric data across the entire drug development life cycle into a single unified architecture, thereby accelerating the discovery and development of life-changing drugs while simultaneously reducing costs, time, and failure rates. The company’s Opal Computational Platform™ is an integrated set of capabilities designed to transform data into valuable insights that may accelerate discoveries and enable Valo to advance a robust pipeline of programs across cardiovascular metabolic renal, oncology, and neurodegenerative diseases. Founded by Flagship Pioneering, Valo is headquartered in Lexington, MA with tissue engineering research based in New York, NY. To learn more, visit www.valohealth.com.Remote Salary Range$175,000—$235,000 USD Show more Show less \\n Engineering and Information Technology \\n Hospitals and Health Care, Non-profit Organizations, and Government Administration'),\n",
       "  Document(id='fa47db9d-d6ff-421a-b4ce-78291a64ff06', metadata={'company': 'knownwell', 'title': 'Data Scientist', 'level': 'Not Applicable', 'employment_type': 'Full-time', 'job_function': 'Engineering and Information Technology', 'industries': 'Hospitality, Food and Beverage Services, and Retail', 'posted_time': '6 days ago', 'applicants': 'N/A', 'parsing_link': 'https://www.linkedin.com/jobs-guest/jobs/api/jobPosting/4233839644', 'job_posting_link': 'https://www.linkedin.com/jobs/view/data-scientist-at-knownwell-4233839644?trk=public_jobs_topcard-title', 'job_id': '4233839644', 'date': '2025-05-26'}, page_content='Data Scientist \\n knownwell \\n Meet knownwell, weight-inclusive healthcare for all. Join a dynamic company that is changing the way care is delivered for patients with obesity. knownwell is a weight-inclusive healthcare company offering metabolic health services, primary care, nutrition counseling and health coaching services for anyone of any size. Our hybrid model allows for both in-clinic and virtual care to bring support to patients where and when they need it. To learn more about our recent Series A funding, led by Andreessen Horowitz, please check out this article.We are looking to build our team with a Data Scientist, reporting into our Head of Analytics. You will be responsible for supporting our team’s efforts in building both statistical and predictive models that help us identify trends and better operate our business.Responsibilities: Design, develop, and deploy predictive models to enhance decision-making and improve healthcare outcomes. Conduct in-depth statistical analyses to derive actionable insights from complex datasets. Collaborate with cross-functional teams to identify business needs and opportunities for analytical solutions. Leverage Python or R to build statistical and machine-learning models tailored to business requirements. Deploy and maintain models in production environments using AWS cloud services. Optimize model performance through rigorous testing, validation, and ongoing maintenance. Translate analytical findings into clear, actionable recommendations for stakeholders. Continuously stay current with new methodologies and technologies relevant to data science. Qualifications: Bachelor’s degree in Data Science, Statistics, Computer Science, Mathematics, or a related quantitative field; Master’s degree preferred. 2-3 years of professional experience in data science, predictive modeling, and statistical analysis. Proficiency in Python or R for statistical modeling and data analysis. Strong SQL skills for data extraction, transformation, and loading. Experience with AWS cloud services for deploying models into production (e.g., AWS SageMaker, Lambda, EC2, S3). Proven track record of building, validating, and deploying predictive models. Excellent analytical, problem-solving, and communication skills. Ability to work independently and collaboratively within a dynamic team environment. We offer a comprehensive benefits package (Medical, Dental, Vision, 401k match, PTO), competitive salary and the opportunity to be part of a purpose-driven organization that is dedicated to making a positive impact on the lives of patients. If you are an ambitious and experienced clinician who is passionate about transforming healthcare and creating meaningful change, we invite you to apply and join our dynamic team. Please send us a note at hiring@knownwell.health.knownwell, Inc. provides equal employment opportunities to all employees and applicants for employment and prohibits discrimination and harassment of any type without regard to race, color, religion, age, sex, national origin, disability status, genetics, protected veteran status, sexual orientation, gender identity or expression, or any other characteristic protected by federal, state or local laws.This policy applies to all terms and conditions of employment, including recruiting, hiring, placement, promotion, termination, layoff, recall, transfer, leaves of absence, compensation, and training. Based on current size of the clinic and HIPAA regulation, providers cannot receive care in clinic and provider’s household members cannot receive primary care in the clinic. Show more Show less \\n Engineering and Information Technology \\n Hospitality, Food and Beverage Services, and Retail'),\n",
       "  Document(id='07754b5d-b80c-46f4-a613-4f12a44f0b68', metadata={'company': 'Jobs via Dice', 'title': 'Data Scientist  NLP/ML', 'level': 'Entry level', 'employment_type': 'Full-time', 'job_function': 'Engineering and Information Technology', 'industries': 'Hospitals and Health Care, Non-profit Organizations, and Government Administration', 'posted_time': '5 days ago', 'applicants': '37 applicants', 'parsing_link': 'https://www.linkedin.com/jobs-guest/jobs/api/jobPosting/4231990302', 'job_posting_link': 'https://www.linkedin.com/jobs/view/data-scientist-nlp-ml-at-jobs-via-dice-4231990302?trk=public_jobs_topcard-title', 'job_id': '4231990302', 'date': '2025-05-26'}, page_content='Data Scientist  NLP/ML \\n Jobs via Dice \\n Dice is the leading career destination for tech experts at every stage of their careers. Our client, Stellar IT Solutions, is seeking the following. Apply via Dice today!Job Title: Data Scientist NLP/MLInterview: VirtualJob Duration: 6+ MonthsJob Location: RemoteJob Description:We are seeking an experienced NLP Data Scientist to support a cutting-edge AI/ML initiative focused on analyzing and enhancing call center transcript data within the insurance domain. This role will involve building and optimizing NLP models to flag compliance issues, extract insights, and deliver automated coaching recommendations for customer service teams.Key Responsibilities:Develop and enhance NLP models to analyze text and voice transcripts from call centers.Apply machine learning techniques to automate quality assurance and flag compliance risks.Use Python, SQL, and modern NLP tools (e.g., Transformers) to process and analyze large-scale text data.Build scalable pipelines and automation tools for transcript evaluation.Collaborate with cross-functional teams to improve agent coaching strategies through data insights.Work with Sift queries for structured data interrogation (experience with Gridspace not required).Required Skills:Strong hands-on experience with Natural Language Processing (NLP) techniques and tools.Proficiency in Python and SQL.Experience working with transformer-based models (e.g., BERT, RoBERTa).Background in building ML models for text analytics or voice-to-text data.Familiarity with automation and data quality validation workflows. Show more Show less \\n Engineering and Information Technology \\n Hospitals and Health Care, Non-profit Organizations, and Government Administration'),\n",
       "  Document(id='08927480-26e6-4b4a-810c-87f7b231617a', metadata={'company': 'Medical Solutions', 'title': 'Senior Data Scientist', 'level': 'Mid-Senior level', 'employment_type': 'Full-time', 'job_function': 'Information Technology', 'industries': 'Staffing and Recruiting', 'posted_time': '3 days ago', 'applicants': 'N/A', 'parsing_link': 'https://www.linkedin.com/jobs-guest/jobs/api/jobPosting/4236130152', 'job_posting_link': 'https://www.linkedin.com/jobs/view/senior-data-scientist-at-medical-solutions-4236130152?trk=public_jobs_topcard-title', 'job_id': '4236130152', 'date': '2025-05-26'}, page_content='Senior Data Scientist \\n Medical Solutions \\n Senior Data Scientist - Job DescriptionOur team is currently looking for a Senior Data Scientist who is passionate about creating awesome advanced analytics solutions for our customers and our teammates. You’ll be hands-on with solution delivery, working with data engineering and business stakeholders. The ideal candidate will identify, design, and implement solutions that optimize business processes in a strategic and impactful way. We value open and honest communication, and we strive to create a positive and fun team-based environment. We want teammates that challenge themselves, as well as those around them to create high quality analytical products and services. You’ll be flexible, proactive, and solution focused.Responsibilities:Learn business processes and gain deep understanding of their data requirements to design and apply advanced analytics solutions to optimize themDesign, develop, evaluate, and deploy predictive modeling, machine learning (ML), and advanced analytics solutionsExpert level data visualization to summarize and present key insights to both technical and non-technical audiences including presenting predictions, experiment results, and other analytical outcomesContributes to identifying new statistical methods, technologies, and design patternsContributes to architectural design discussions of enterprise-grade ML platforms that meet compliance, performance/scalability, and operational requirementsPartner closely with dev ops engineers to support development, experimentation, continuous integration, continuous delivery, validation, and monitoring of AI/ML ModelsMentor less experienced data scientistsWork cross-functionally with resources such as business SMEs, analysts, data engineers, architects, DBAs, and infrastructure to design and deliver advanced analytic solutionsWork with other members of the analytics team to document requirements, assumptions, and methodologies including validation, testing, and implementation strategiesWork with the analytics team to standardize reporting practices across the organizationTraining and tuning production quality modelsDeployment of production models through low latency rest endpointsAssists with building data science and advanced analytics roadmapsActs as a thought leader in solutioning for new projectsEstablishes and maintains coding and ML standards, source control, scalability, testing processes, etc.Stay current with the approved enterprise technology and ML stackQualifications:Master’s degree in Statistics, Data Science, or a closely related discipline in a Computer Science field (or equivalent), or equivalent work experienceMinimum 5 years of demonstrated experience with utilizing machine learning to optimize business outcomes including detailed experience with machine learning methods, design, build, testing, and implementationMinimum 5 years of experience working with Database Management Systems, Data Lake, and cloud-based ML Ecosystems such as Spark or Azure Data BricksDeep understanding and experience with advanced statistics and modern machine learning predictive techniques, including GLMs, decision trees, forests, boosted ensembles, neural networks, deep learning, and graph analyticsExperience using Integrated Development Environments like Notebooks (e.g., Jupyter), and Visual Studio with SSDT, Azure Data Tools, SQL Server Management StudioSkilled in data modeling for advanced analyticsDeep understanding of common design patterns and their usesSkilled in creating operational production machine learning modelsProficiency with ETL and ELT design patterns and optimization as well as complex orchestration via tools like Azure Data Factory, Azure Data Bricks, or similarUsing work management tools such as Jira or Azure DevOpsExperienced with web services and other Application Programming InterfacesExpert knowledge of SQLExpert knowledge and application of modern data science languages such as Python, R, Scala, etc.Strong interpersonal communication and presentation skillsCollaborative and team-centricStrong desire to uphold best practicesAbility to anticipate changes and impactsIterative mindset focused on constant improvement Show more Show less \\n Information Technology \\n Staffing and Recruiting'),\n",
       "  Document(id='c6848d9a-cb1a-454d-a9e7-11ac8b2a7043', metadata={'company': 'Optum', 'title': 'Senior Data Scientist - Remote Nationwide', 'level': 'Mid-Senior level', 'employment_type': 'Full-time', 'job_function': 'Engineering and Information Technology', 'industries': 'Hospitals and Health Care, Non-profit Organizations, and Government Administration', 'posted_time': '3 days ago', 'applicants': '55 applicants', 'parsing_link': 'https://www.linkedin.com/jobs-guest/jobs/api/jobPosting/4236442771', 'job_posting_link': 'https://www.linkedin.com/jobs/view/senior-data-scientist-remote-nationwide-at-optum-4236442771?trk=public_jobs_topcard-title', 'job_id': '4236442771', 'date': '2025-05-26'}, page_content='Senior Data Scientist - Remote Nationwide \\n Optum \\n Optum is a global organization that delivers care, aided by technology, to help millions of people live healthier lives. The work you do with our team will directly improve health outcomes by connecting people with the care, pharmacy benefits, data and resources they need to feel their best. Here, you will find a culture guided by inclusion, talented peers, comprehensive benefits and career development opportunities. Come make an impact on the communities we serve as you help us advance health optimization on a global scale. Join us to start Caring. Connecting. Growing together.You will enjoy the flexibility to telecommute* from anywhere within the U.S. as you take on some tough challenges.Primary ResponsibilitiesWork with business to develop and operationalize analytic solutionsEngage in communications for all important functions including data understanding/exploration, strategizing solutions etc.Leverage big data analytics infrastructure comprising Hadoop, MapR, Python, H2O, Spark and Snowflake to solve complex business problems in the healthcare domainCollaborate with fellow data scientists, business analysts and subject matter experts to design and oversee the development of working prototypes of data science solutionsParticipate in Sprint Planning and Sprint Review meetings with the Scrum Team and project stakeholdersSupport and drive analytic efforts around machine learning and innovationCommunicate analytic results and predictive models to business partnersManipulation and analysis of data in support of a variety of analytic solutionsWork with vast amounts of data from multiple sources to provide predictive and prescriptive analytics to the enterpriseProduce innovative solutions driven by exploration data analysis from unstructured, diverse datasets typically measured in gigabytes or largerApply knowledge of statistics, machine learning, programming, data modeling, simulation, and advanced mathematics to recognize patterns, identify opportunities, pose business questions, and make valuable discoveries leading to prototype development and product improvementUses a flexible, analytical approach to design, develop, and evaluate predictive and prescriptive models and advanced algorithms that lead to optimal value extraction from the dataWorks with analytics and statistical software to perform analysis and interpret dataYou’ll be rewarded and recognized for your performance in an environment that will challenge you and give you clear directions on what it takes to succeed in your role as well as provide development for other roles you may be interested in.Required QualificationsHigh School Diploma/GED (or higher)5+ years of experience as a Data Scientist5+ years of experience with SQL, R, Python, Hadoop, PowerBI and Snowflake 5+ years of demonstrated experience using programming to solve complex technical problems5+ years of demonstrated experience accessing data from various data environmentsPreferred QualificationsDegree in applied mathematics, physics, computer science, engineering, statistics, bioinformatics, actuarial science or similarExperience in analytics / data science in a business or academic contextAbility to break down and clearly define problemsDemonstrated ability to own and deliver projects that deliver real business valueStrong communication, presentation and influencing skillsAll Telecommuters will be required to adhere to UnitedHealth Group’s Telecommuter Policy.The salary range for this role is $89,800 to $176,700 annually based on full-time employment. Pay is based on several factors including but not limited to local labor markets, education, work experience, certifications, etc. UnitedHealth Group complies with all minimum wage laws as applicable. In addition to your salary, UnitedHealth Group offers benefits such as a comprehensive benefits package, incentive and recognition programs, equity stock purchase and 401k contribution (all benefits are subject to eligibility requirements). No matter where or when you begin a career with UnitedHealth Group, you’ll find a far-reaching choice of benefits and incentives.Pursuant to the San Francisco Fair Chance Ordinance, we will consider for employment qualified applicants with arrest and conviction records.Application Deadline: This will be posted for a minimum of 2 business days or until a sufficient candidate pool has been collected. Job posting may come down early due to the volume of applicants. At UnitedHealth Group, our mission is to help people live healthier lives and make the health system work better for everyone. We believe everyone-of every race, gender, sexuality, age, location, and income-deserves the opportunity to live their healthiest life. Today, however, there are still far too many barriers to good health which are disproportionately experienced by people of color, historically marginalized groups, and those with lower incomes. We are committed to mitigating our impact on the environment and enabling and delivering equitable care that addresses health disparities and improves health outcomes — an enterprise priority reflected in our mission.UnitedHealth Group is an Equal Employment Opportunity employer under applicable law and qualified applicants will receive consideration for employment without regard to race, national origin, religion, age, color, sex, sexual orientation, gender identity, disability, or protected veteran status, or any other characteristic protected by local, state, or federal laws, rules, or regulations. UnitedHealth Group is a drug-free workplace. Candidates are required to pass a drug test before beginning employment.#RPO #GREEN Show more Show less \\n Engineering and Information Technology \\n Hospitals and Health Care, Non-profit Organizations, and Government Administration'),\n",
       "  Document(id='b23e9c18-7ec9-424f-8768-86b080a8d675', metadata={'company': 'Wealthfront', 'title': 'Data Scientist, Marketing', 'level': 'Entry level', 'employment_type': 'Full-time', 'job_function': 'Engineering and Information Technology', 'industries': 'Financial Services', 'posted_time': '2 days ago', 'applicants': '161 applicants', 'parsing_link': 'https://www.linkedin.com/jobs-guest/jobs/api/jobPosting/4187176363', 'job_posting_link': 'https://www.linkedin.com/jobs/view/data-scientist-marketing-at-wealthfront-4187176363?trk=public_jobs_topcard-title', 'job_id': '4187176363', 'date': '2025-05-26'}, page_content=\"Data Scientist, Marketing \\n Wealthfront \\n The Wealthfront Data Science team utilizes our rich financial and behavioral data to influence Marketing, Product and information security decisions. The team draws from backgrounds in Computer Science, Natural Sciences, Statistics, Operations Research, Economics and Finance.The Data Scientist in this role will be primarily embedded within Wealthfront’s Marketing team. The Marketing team aims to acquire new clients and increase awareness of Wealthfront's brand and products among potential customers. The team addresses these goals by designing and executing targeted advertising campaigns for Wealthfront products. The potential set of projects for this role includes (but is not limited to) campaign performance analysis, paths to conversion, incrementality estimation, media mix modeling, client segmentation, AB Experiment design and client revenue modeling. A key desired trait for this role is an advanced ability to reduce business problems to mathematical language and communicate results to the broader team. An ideal candidate will also act as a mentor to junior team members and demonstrate an ability to explain technical concepts in a simple language.ResponsibilitiesProvide hands-on technical leadership to a team of data scientists working in the Marketing area, translating business problems into Data Science tasks.Employ and exemplify rigor in mathematical analyses and sound design principles in software development. Collaborate with the Marketing team to define quarterly and yearly initiatives. Turn initiatives into projects with clear rationale, candidate approaches and milestones.Execute planned projects through hands-on work and delegation. This includes tracking priority and progress of projects in weekly meetings.Articulate technical information, including assumptions, methodologies, and outcomes to specialists across disciplines. Translate hunches to hypotheses and numbers into recommendations.Absorb and articulate the Marketing strategy and project rationales to Data Scientists. RequirementsA Masters or PhD degree in Computer Science, Statistics, Operations Research or Natural Sciences, with 4-8 years of prior experience as a Data Scientist.Proficiency in Python and SQLA strong foundation in practical Statistics including the use of causal inference.Strong mathematical and software engineering skills.Fluency in long and short form oral and written communication.Ability to sharpen or reframe project requirements through effective collaboration. Strong desire and ability to mentor junior Data Scientists by exemplifying math, engineering and technical communication skills.Experience in a Marketing facing role preferred, but not required.Estimated annual salary range: $164,000 - $211,000 USD plus equity and a discretionary bonus.Benefits include medical, vision, dental, 401K plan, generous time off, parental leave, wellness reimbursements, professional development, employee investing discount, and more!About WealthfrontHere at Wealthfront, our mission is to create a financial system that favors people, not institutions. We do this by leveraging technology to build powerful, low-cost, and easy-to-use financial products that help modern investors grow and manage their money.We started with the ambition to transform the investment advisory business. By automating strategies typically reserved for the wealthy, we unlocked access to high quality investment advice for a digitally-native generation that was underserved by traditional institutions. Since then, we've expanded to a full suite of products designed to help our clients turn their savings into long-term wealth, including:• A Cash Account that, through our partner banks, offers one of the highest annual percentage yields on uninvested cash in the industry, while providing instant and secure access to your money with no account fees and a full suite of checking features.• A zero-commission Stock Investing Account with 50+ handpicked collections that help DIY investors discover new companies and make smarter investing decisions.• Multiple automated investing portfolios designed to unlock tax savings through sophisticated strategies like fixed income, tax-loss harvesting, and direct indexing—which we offer at industry-leading low costs and accessible minimums.Our award-winning products have attracted over 1 million clients who trust us with more than $80 billion of their hard earned savings—and we're far from done. If you’re inspired to help us reshape the financial industry as we create our next chapter, let’s talk!For more information please visit www.wealthfront.com.We are an equal opportunity employer and value diversity at our company. We do not discriminate on the basis of race, religion, color, national origin, gender, sexual orientation, age, marital status, veteran status, or disability status.Please review our candidate privacy notice. Disclosures: All investing involves risk, including the possible loss of principal. Tax-Loss Harvesting benefits vary depending on the client's entire tax and investment profile. Wealthfront doesn’t provide tax advice. The Cash Account is offered by Wealthfront Brokerage LLC (“Wealthfront Brokerage”), Member of FINRA/SIPC. Wealthfront Brokerage is not a bank. We convey funds to partner banks who accept and maintain deposits, provide the variable interest rate, and provide access to FDIC pass-through insurance. Investment management and advisory services–which are not FDIC insured–are provided by Wealthfront Advisers LLC (“Wealthfront Advisers”), an SEC-registered investment adviser. The checking features offered in the Wealthfront Cash Account are provided by Green Dot Bank, Member FDIC. Fees and Eligibility requirements may apply to certain checking features, please see the Deposit Account Agreement for details.By “award-winning products”, please refer to www.wealthfront.com/reviews for more information. Wealthfront Corporation oversees Total Client Assets and Trusted Clients through Wealthfront Advisers and Wealthfront Brokerage. Wealthfront Advisers and Wealthfront Brokerage are wholly owned subsidiaries of Wealthfront Corporation. Show more Show less \\n Engineering and Information Technology \\n Financial Services\"),\n",
       "  Document(id='db45c90a-efb9-4cf6-8fc7-2d729d519082', metadata={'company': 'Curate Partners', 'title': 'Data Scientist', 'level': 'Mid-Senior level', 'employment_type': 'Contract', 'job_function': 'Engineering', 'industries': 'IT Services and IT Consulting', 'posted_time': '3 days ago', 'applicants': 'N/A', 'parsing_link': 'https://www.linkedin.com/jobs-guest/jobs/api/jobPosting/4236109765', 'job_posting_link': 'https://www.linkedin.com/jobs/view/data-scientist-at-curate-partners-4236109765?trk=public_jobs_topcard-title', 'job_id': '4236109765', 'date': '2025-05-26'}, page_content=\"Data Scientist \\n Curate Partners \\n Position SummaryWe are seeking a highly skilled and motivated Data Scientist with a strong background in healthcare to join our analytics team. The ideal candidate will have experience working with clinical, claims, or EMR/EHR data, and a passion for improving healthcare delivery through advanced data modeling and analysis.Key ResponsibilitiesDesign, build, and implement predictive models and machine learning algorithms to support clinical and operational decision-making.Analyze complex healthcare datasets (e.g., EMR, claims, clinical trials) to identify trends, insights, and opportunities.Collaborate with clinicians, data engineers, and business stakeholders to define and solve high-impact problems.Develop dashboards and reports to communicate insights and model results to non-technical audiences.Ensure data integrity, privacy, and compliance with HIPAA and other healthcare regulations.Contribute to the development of data pipelines and data governance processes.Required QualificationsBachelor's or Master's degree in Data Science, Statistics, Computer Science, Health Informatics, or a related field.3+ years of experience in data science, preferably within the healthcare industry.Proficiency in Python or R, SQL, and data visualization tools (e.g., Tableau, Power BI).Experience with healthcare data standards (ICD, CPT, HL7, FHIR).Solid understanding of statistical analysis and machine learning techniques.Knowledge of healthcare regulatory requirements and data privacy standards.Preferred QualificationsPhD in a related field.Experience working with large-scale healthcare data (e.g., population health, genomics, wearable data).Familiarity with cloud platforms (e.g., AWS, GCP, Azure) and big data tools (e.g., Spark, Hadoop).Experience in natural language processing (NLP) for clinical text.Strong communication and storytelling skills with data. Show more Show less \\n Engineering \\n IT Services and IT Consulting\"),\n",
       "  Document(id='320eb269-0355-4bc3-99a2-d2f5ca86c386', metadata={'company': 'Tredence Inc.', 'title': 'Data Scientist (Marketing Science+Causal)', 'level': 'Mid-Senior level', 'employment_type': 'Full-time', 'job_function': 'Engineering', 'industries': 'Retail', 'posted_time': '4 days ago', 'applicants': 'N/A', 'parsing_link': 'https://www.linkedin.com/jobs-guest/jobs/api/jobPosting/4235529833', 'job_posting_link': 'https://www.linkedin.com/jobs/view/data-scientist-marketing-science%2Bcausal-at-tredence-inc-4235529833?trk=public_jobs_topcard-title', 'job_id': '4235529833', 'date': '2025-05-26'}, page_content='Data Scientist (Marketing Science+Causal) \\n Tredence Inc. \\n Dear Candidate,We have an opening for Data Scientist (Marketing Science+ Causal) - Tredence Inc - USA.Looking for a candidate strong with Marketing Science and Causal interface experience.Data Science JD:1. 8-12 years of experience in data science, building hands-on MLmodels.2. Hands-on experience with SQL, R, Python, Spark, and building machine learning models.3. Proven ability as a full stack data scientist who develops, optimizes, and scales models for theproduction environment. a. Derive metrics for model performance monitoring and conductcontinuous model performance monitoring (after deployment).4. Proven industry experience of designing, leading, and managing large-scale data science projectsand collaborating with data engineers and Product Managers. a. Work with data engineers totest and validate training and production data pipelines, among other tasks.5. Strong understanding of the fundamental concepts of popular statistical and MLmodels.6. Experience in managing multiple priorities and leading a team.7. Strong communication skills with excellent ability to synthesize complex information. Show more Show less \\n Engineering \\n Retail'),\n",
       "  Document(id='f77c7533-d31a-4a5c-a3c2-98a52b3abec9', metadata={'company': 'TieTalent', 'title': 'Senior Data Scientist', 'level': 'Mid-Senior level', 'employment_type': 'Full-time', 'job_function': 'Engineering and Information Technology', 'industries': 'Technology, Information and Internet', 'posted_time': '6 days ago', 'applicants': '26 applicants', 'parsing_link': 'https://www.linkedin.com/jobs-guest/jobs/api/jobPosting/4233305226', 'job_posting_link': 'https://www.linkedin.com/jobs/view/senior-data-scientist-at-tietalent-4233305226?trk=public_jobs_topcard-title', 'job_id': '4233305226', 'date': '2025-05-26'}, page_content=\"Senior Data Scientist \\n TieTalent \\n AboutInsurance is a trillion dollar market that is fundamental to society, yet it has not modernized — until now. Newfront is building the modern insurance experience. We've reimagined the experience for clients, prospects, and employees, altering the way people create, understand, select, transact, and use insurance. We're changing the approach so that it starts and ends with the client, not the product, and empowering people for moments that matter. Our unique approach recognizes both the vast potential of technology and the fundamental role of insurance experts. We're a technology-driven company with DE&I in our DNAand strong valueswe believe people matter most. Our mission is to define the future of the insurance industry, while instilling a high performance culture in combination with living our Work, Love, Play ethos each day. We value balanced lives and are passionate about creating a culture of wellness that results in healthier, happier, and more productive employees, and more successful clients. The Data team is a critical organization at the heart of Newfront's data-driven approach. Our mission is to build valuable data products that enable a novel and differentiated experience for our clients and colleagues. We support multiple key business areas including executive leadership, business insurance analytics, sales analytics, finance, and data-driven product development. This position is a salaried, exempt and full-time role. This is a US Hybrid/Remote role, with the option to work from any of Newfront’s offices. . What You’ll Be Responsible For:QualificationsLead the development of a comprehensive metrics tree to track business performance across the organization Conduct deep-dive analyses for executive leadership on strategic business questions and opportunities Enhance and optimize our sales analytics capabilities to improve revenue performance tracking Translate business goals into well-designed metrics and accurate measures Develop and maintain data visualization dashboards that provide actionable insights Collaborate with business stakeholders to understand their data needs and deliver insightful analytics Improve data quality by leveraging existing operational processes Support product analytics initiatives and help identify areas for data-driven improvements Mentor team members on analytical best practices and data visualization techniques Qualifications:Bachelor's degree in Statistics, Mathematics, Economics, or related quantitative field 5+ years of professional experience in data analytics or data science roles Expert-level SQL skills for complex data manipulation and analysis Strong proficiency in Python, particularly with data analysis libraries and experience implementing predictive analytics models Experience with data visualization tools (Tableau, Looker, PowerBI, or similar) or data visualization libraries. Proven track record of successfully leading complex analytical projects from inception to completion, including setting project scope, managing timelines, and delivering high-quality results that drive business impact Experience developing and implementing metrics frameworks or KPI systems Strong analytical thinking and problem-solving skills Excellent communication skills with ability to present complex data insights to both technical and non-technical audiences Experience working in a collaborative, cross-functional environment with demonstrated ability to build strong stakeholder relationships and effectively manage competing priorities across multiple business units Preferred Knowledge, Skills and Abilities:Experience in the insurance or financial services industry Familiarity with dbt, Snowflake, and similar modern data stack technologies Knowledge of statistical analysis and experimental design Experience with forecasting and predictive modeling Background in business intelligence and performance measurement Active use of AI tools (chat, IDE) as a productivity multiplier Understanding of data governance and data quality management Experience working with executive leadership on strategic analytics initiatives The pay range for this position in California, Washington, Colorado and New York at commencement of employment is expected to be between $168,800 and $211,000/yr; however, base pay offered may vary depending on multiple individualized factors, including market location, job-related knowledge, skills, and experience. The total compensation package for this position may also include other elements, including a bonus, restricted stock units, and discretionary awards in addition to a full range of medical, financial, and/or other benefits (including 401(k) eligibility and various paid time off benefits, such as vacation, sick time, and parental leave), dependent on the position offered. Details of participation in these benefit plans will be provided if an employee receives an offer of employment. If hired, employee will be in an “at-will position” and the Company reserves the right to modify base salary (as well as any other discretionary payment or compensation program) at any time, including for reasons related to individual performance, Company or individual department/team performance, and market factors. At Newfront, we are committed to hiring diverse talent and supporting an inclusive workplace environment. If you are excited about a role at Newfront but feel you’re missing a few of the qualifications, we still encourage you to apply and tell us about yourself. You may just be the next Newfront team member that we are looking for! Newfront is proud to be an equal opportunity workplace. Diversity is in our DNA and we believe that creating an inclusive workplace elevates the value we are able to bring to our customers and employees alike. All qualified applicants will receive consideration for employment without regard to age, race, color, religion, sex, sexual orientation, gender identity, national origin, genetic information, disability, veteran status, or any other applicable status protected by state or local law. If you require reasonable accommodations throughout the application or interview process, please contact us at careers@newfront.com. For information regarding how Newfront collects and uses personal information, please review ourPrivacy Policy#J-18808-LjbffrNice-to-have skillsSQLPythonTableauLookerData VisualizationForecastingPredictive ModelingIDEDistrict of Columbia, United StatesWork experienceData EngineerData AnalystData ScientistBusiness IntelligenceLanguagesEnglish Show more Show less \\n Engineering and Information Technology \\n Technology, Information and Internet\"),\n",
       "  Document(id='808f048c-a1fb-472a-b44c-62fd9e1f1363', metadata={'company': 'Insight Global', 'title': 'Data Scientist', 'level': 'Mid-Senior level', 'employment_type': 'Contract', 'job_function': 'Other', 'industries': 'Technology, Information and Media', 'posted_time': '3 days ago', 'applicants': 'N/A', 'parsing_link': 'https://www.linkedin.com/jobs-guest/jobs/api/jobPosting/4233990040', 'job_posting_link': 'https://www.linkedin.com/jobs/view/data-scientist-at-insight-global-4233990040?trk=public_jobs_topcard-title', 'job_id': '4233990040', 'date': '2025-05-26'}, page_content='Data Scientist \\n Insight Global \\n JOB DESCRIPTIONInsight Global is seeking a highly skilled and motivated Data Scientist to join the Edge Network Services (ENS) division. This role will support the M360 Analytics project, which aims to enhance operational efficiency through data-driven decision-making, robust metrics development, and automation of key financial tracking systems. As a member of the newly formed ENS Analytics team, you will play a critical role in designing scalable data solutions, building and automating data pipelines, and establishing governance for L1/L2/L3 metrics. Your work will directly support the optimization of Opex and Capex tracking, and empower ENS teams with actionable insights through dashboards, reports, and self-service analytics tools. Key Responsibilities: Design, implement, and maintain scalable data pipelines and ETL processes. Develop and govern L1/L2/L3 operational metrics to monitor ENS performance. Automate tracking systems for Opex and Capex to improve financial transparency. Collaborate with cross-functional teams including engineering, finance, and operations to define data requirements and deliver insights. Build interactive dashboards and self-service tools using platforms like Tableau or Meta’s internal tools. Ensure data quality, consistency, and integrity across all analytics outputs. Conduct exploratory data analysis and statistical modeling to uncover trends and opportunities. Translate complex data into clear, actionable insights for technical and non-technical stakeholders.REQUIRED SKILLS AND EXPERIENCEBachelor’s or Master’s degree in Computer Science, Statistics, Mathematics, Engineering, or a related field. 3+ years of experience in data science, analytics, or a related field. Proficiency in SQL and at least one programming language (Python or R preferred). Experience with data visualization tools (e.g., Tableau, Power BI, or internal equivalents). Strong understanding of data modeling, ETL processes, and data warehousing. Familiarity with cloud platforms and big data technologies (e.g., Hive, Presto, Spark).NICE TO HAVE SKILLS AND EXPERIENCEExperience in infrastructure, network services, or operations analytics. Knowledge of financial tracking systems and cost optimization strategies. Experience with experimentation frameworks and A/B testing. Show more Show less \\n Other \\n Technology, Information and Media'),\n",
       "  Document(id='5cf9fedc-2611-45d1-820d-a04eceea8a1a', metadata={'company': 'Acceler8 Talent', 'title': 'Data Scientist - Fully Remote', 'level': 'Mid-Senior level', 'employment_type': 'Full-time', 'job_function': 'Information Technology', 'industries': 'Staffing and Recruiting', 'posted_time': '3 days ago', 'applicants': 'N/A', 'parsing_link': 'https://www.linkedin.com/jobs-guest/jobs/api/jobPosting/4233713618', 'job_posting_link': 'https://www.linkedin.com/jobs/view/data-scientist-fully-remote-at-acceler8-talent-4233713618?trk=public_jobs_topcard-title', 'job_id': '4233713618', 'date': '2025-05-26'}, page_content='Data Scientist - Fully Remote \\n Acceler8 Talent \\n Data ScientistLocation: Remote (US)About UsA Series A startup with a leading database of crime, unrest, and media trends, delivering actionable insights via an innovative platform.ResponsibilitiesWrite and deploy Python scripts and SQL queries for large-scale data analysis.Solve customer problems using crime, unrest, and media data.Ensure production-ready code.Collaborate with CTO, Team Lead, and Product team.RequirementsProficient in Python and SQL; 5+ years’ experience +.US-based; able to attend annual meetings in DC.Ideal:Experience in national security, risk intelligence (cyber/physical), cybersecurity, insurance, or fintech.Familiarity with dual-use defence firms.Interview Process1- 2 hr tech challenge.CTO interview.Team Lead interview.Product team/CEO discussion. Show more Show less \\n Information Technology \\n Staffing and Recruiting'),\n",
       "  Document(id='aa6dedbf-50b6-4c59-9bc1-50e968176d38', metadata={'company': 'Brooksource', 'title': 'Data Scientist', 'level': 'Mid-Senior level', 'employment_type': 'Contract', 'job_function': 'Information Technology', 'industries': 'Utilities', 'posted_time': '6 days ago', 'applicants': 'N/A', 'parsing_link': 'https://www.linkedin.com/jobs-guest/jobs/api/jobPosting/4231479274', 'job_posting_link': 'https://www.linkedin.com/jobs/view/data-scientist-at-brooksource-4231479274?trk=public_jobs_topcard-title', 'job_id': '4231479274', 'date': '2025-05-26'}, page_content=\"Data Scientist \\n Brooksource \\n Summary:This Senior Data Scientist will help scale our Call Center AI (CCAI) initiatives within the client Customer organization. Their primary responsibilities are to develop Generative AI (GenAI) systems that support the CCAI initiatives & then to productionalize these within client's technical ecosystem This role will join a growing team of data scientists and machine learning engineers to solve key business needs. They will collaborate with data scientists, SMEs and communicate results to non-technical audiences. Responsibilities:Lead efforts prototyping and deploying production-grade GenAI models at scale.Promote and role-model AIOps best practices (prompt engineering, evaluation, versioning).Design and create workflows for building and deploying AI agents and tool-using models.Build scalable pipelines for embedding generation, vector storage, prompt templates, etc.Design rigorous evaluation frameworks for LLMs, agents, and prompt chains across domains.Collaborate and maintain codebases using standard version control and GIT principles.Partner with data engineers and analysts to align data architecture with GenAI needs.Write well-structured code that implements software engineering best practices.Work closely with stakeholders to translate business problems into GenAI products.Required Skills:Bachelor’s degree in a STEM discipline: Statistics, Mathematics, Computer Science, etc.Minimum of 2-4 years of experience building production-grade Generative AI applications.Strong experience building GenAI workflows (e.g., agents, RAG, fine-tuning, orchestration).Advanced proficiency in Python and experience with frameworks like LangChain or LlamaIndex.Deep understanding of transformer models, tokenization, embeddings, and context windows.Experience with cloud infrastructure (preferably GCP) and managing vector databases at scale.Demonstrated ability to design and deploy autonomous or semi-autonomous agent workflows.Preferred Skills:Master’s/PhD degree in a STEM discipline: Statistics, Mathematics, Computer Science, etcExperience deploying LLM-powered agents in enterprise or critical applications.Familiarity with AI practices (bias mitigation, prompt safety, hallucination detection). Show more Show less \\n Information Technology \\n Utilities\"),\n",
       "  Document(id='ebae409a-6450-4359-ab26-3505760f70dd', metadata={'company': 'Burtch Works', 'title': 'Lead Data Scientist - MMM', 'level': 'Mid-Senior level', 'employment_type': 'Full-time', 'job_function': 'Engineering and Information Technology', 'industries': 'Hospitals and Health Care, Non-profit Organizations, and Government Administration', 'posted_time': '2 days ago', 'applicants': 'N/A', 'parsing_link': 'https://www.linkedin.com/jobs-guest/jobs/api/jobPosting/4040639778', 'job_posting_link': 'https://www.linkedin.com/jobs/view/lead-data-scientist-mmm-at-burtch-works-4040639778?trk=public_jobs_topcard-title', 'job_id': '4040639778', 'date': '2025-05-26'}, page_content=\"Lead Data Scientist - MMM \\n Burtch Works \\n Job Title: Lead Data Scientist Omnichannel AnalyticsLocation: RemoteAbout the Company:We are committed to leveraging data to drive insights, optimize customer experiences, and contribute to the overall success of our omnichannel initiatives. We value innovation, collaboration, and a keen analytical mind to address business challenges and recommend data-driven solutions.Job SummaryWe are looking for a Lead, Omnichannel Analytics to join our team. The ideal candidate will have a Master's or Ph.D. in Data Science, Statistics, Computer Science, or a related field, and a minimum of 8 years of experience in analytics/data science with a focus on omnichannel analytics. This role will involve leading the Next Best Action initiative, developing predictive models, and providing strategic insights to support brand promotional and campaign objectives.Key ResponsibilitiesRemote work from certain states may be permitted.Providing valuable strategic and tactical business insight and recommendations to Marketing, Agencies, and Omnichannel Strategy & Operations (OSO) teams.Leveraging data to drive insights, optimize customer experiences, and contribute to the overall success of our omnichannel initiatives.Leading the Next Best Action initiative, analyzing and measuring the promotional effectiveness of omnichannel activities, and building recommendation systems using predictive models.Collaborating with key brand stakeholders and cross-functional teams to understand business objectives, measurability of campaigns, and developing data-driven strategies to enhance the omnichannel experience.Requirements:Education: Master’s or Ph.D. in Data Science, Statistics, Computer Science, or a related field.Experience: Minimum 8 years of analytics/data science experience with a focus on omnichannel analytics and demonstrated success in managing projects of increasing size and complexity.Skills: Strong proficiency in coding languages (e.g., SQL, R, and/or Python), expertise in machine learning techniques, statistical analysis, and data visualization.Certifications: Experience working with Google Analytics or Adobe Analytics.Other: Ability to work independently in a dynamic, fast-paced environment with minimal supervision. Demonstrated ability in taking initiative to proactively evaluate existing sales strategies and recommend changes, when appropriate.Preferred Qualifications:Experience in omnichannel concepts and data sources, e.g., impressions/click data, web data.Extensive proficiency with software in a Windows environment, including Microsoft Excel and PowerPoint.Keen analytical mind with superior problem-solving and technical skills.Benefits : Competitive Salary: ~190,000 USDHealth and Wellness: Medical, Dental, and Vision Insurance.Work-Life Balance: Generous Paid Time Off options, including Vacation and Sick time, plus national holidays including year-end shut down.Professional Development: 401(k) match and annual company contribution, company paid life insurance, annual Corporate Bonus and Quarterly Sales Incentive for eligible positions, Long Term Incentive Plan for eligible positions, Referral bonus program.Additional Perks: Company events, volunteer opportunities, etc. Show more Show less \\n Engineering and Information Technology \\n Hospitals and Health Care, Non-profit Organizations, and Government Administration\"),\n",
       "  Document(id='ec088602-80e8-4965-9d57-37bae745dccd', metadata={'company': 'Mozilla', 'title': 'Senior Staff Data Scientist', 'level': 'Mid-Senior level', 'employment_type': 'Full-time', 'job_function': 'Engineering and Information Technology', 'industries': 'Hospitals and Health Care, Non-profit Organizations, and Government Administration', 'posted_time': '5 days ago', 'applicants': '84 applicants', 'parsing_link': 'https://www.linkedin.com/jobs-guest/jobs/api/jobPosting/4226231645', 'job_posting_link': 'https://www.linkedin.com/jobs/view/senior-staff-data-scientist-at-mozilla-4226231645?trk=public_jobs_topcard-title', 'job_id': '4226231645', 'date': '2025-05-26'}, page_content='Senior Staff Data Scientist \\n Mozilla \\n To learn the Hiring Ranges for this position, please select your location from the Apply Now dropdown menu.To learn more about our Hiring Range System, please click this link.Why Mozilla?Mozilla Corporation is the non-profit-backed technology company that has shaped the internet for the better over the last 25 years. We make pioneering brands like Firefox, the privacy-minded web browser, and Pocket, a service for keeping up with the best content online. Now, with more than 225 million people around the world using our products each month, we’re shaping the next 25 years of technology and helping to reclaim an internet built for people, not companies. Our work focuses on diverse areas including AI, social media, security and more. And we’re doing this while never losing our focus on our core mission – to make the internet better for people.The Mozilla Corporation is wholly owned by the non-profit 501(c) Mozilla Foundation. This means we aren’t beholden to any shareholders — only to our mission. Along with thousands of volunteer contributors and collaborators all over the world, Mozillians design, build and distribute open-source software that enables people to enjoy the internet on their terms.About This Team And RoleAs a Sr. Staff Data Scientist, you’ll be taking a lead role in a cross-functional team that is responsible for understanding and empowering the future of Mozilla.The RoleThe Data Science team sits at the intersection of product, marketing, engineering, finance, business, and leadership. We collaborate closely with these partners to create impactful data products. As a leader on this team, you will serve as a data expert who can represent the function of data science broadly across Mozilla, while helping the team advance its practice.As a Sr. Staff Data Scientist at Mozilla you will:Drive the vision and execution of work, often to address ambiguous issues, that creates impact across organizations.Generate data-informed insights and communicate these narratives with data to a range of technical and non-technical colleagues to influence decision making and uplevel data fluency across MozillaApply a variety of statistical methods to understand user behaviors and long-term trends. Define, forecast, evaluate, and report on key business metrics.Build key data sets to empower operational and exploratory analysis.Advocate for standard methodologies across the organization.Design and implement instrumentation and data models to improve product and business visibility.Your Professional ProfileYou lead with empathy. You value teamwork and teammates. You are invested in knowledge sharing and learning from others. You contribute positively and meaningfully to cultivate an inclusive and equitable team culture. You consider contributing to a collaborative and open team culture an important responsibility.You have a background in quantitative analysis knowing how to analyze, visualize, and interpret data and have 10+ years of experience applying these skills in an industry setting. You have used forecasting or other predictive methods on large scale data. Working on machine learning in production is a plus.You are well-versed in data platforms and productionalizing insights at scale. You also have experience with product analytics platforms (e.g., PostHog, Amplitude) and their implementation. You have experience bridging the gap between data science, data engineering, and business stakeholders.You have experience with extracting data from a variety of sources using SQL or SQL-like tools as well as scripting languages such as Python or R.You take stakeholder needs into account, bridging methodology and data into meaningful strategy from your analyses. You are a communicator who crafts impactful data narratives that inform company decisions around product, business, and finance.You have a passion for a healthy web and the well-being of its users. You are conversant about the challenges and opportunities that exist where Mozilla has impact.Commitment to our values:Welcoming differencesBeing relationship-mindedPracticing responsible participationHaving gritWhat You’ll GetGenerous performance-based bonus plans to all eligible employees - we share in our success as one teamRich medical, dental, and vision coverageGenerous retirement contributions with 100% immediate vesting (regardless of whether you contribute)Quarterly all-company wellness days where everyone takes a pause togetherCountry specific holidays plus a day off for your birthdayOne-time home office stipendAnnual professional development budgetQuarterly well-being stipendConsiderable paid parental leaveEmployee referral bonus programOther benefits (life/AD&D, disability, EAP, etc. - varies by country)About MozillaWhen you work at Mozilla, you give yourself a chance to make a difference in the lives of web users everywhere. And you give us a chance to make a difference in your life every single day. Join us to work on the web as the platform and help create more opportunity and innovation for everyone online. We’re not a normal tech company. The things we create prioritize people and their privacy over profits. We exist to make the internet a healthier, happier place for everyone.Commitment to diversity, equity and inclusionMozilla believes in the value of diverse creative practices and forms of knowledge, and knows diversity, equity and inclusion are crucial to and enrich the company’s core mission. We encourage applications from everyone, including members of all equity-seeking communities, such as (but not limited to) women, racialized and Indigenous persons, persons with disabilities, persons of all sexual orientations, gender identities and expressions.We will ensure that qualified individuals with disabilities are provided reasonable accommodations to participate in the job application or interview process, to perform essential job functions, and to receive other benefits and privileges of employment, as appropriate. Please contact us at hiringaccommodation@mozilla.com to request accommodation.We are an equal opportunity employer. We do not discriminate on the basis of race (including hairstyle and texture), religion (including religious grooming and dress practices), gender, gender identity, gender expression, color, national origin, pregnancy, ancestry, domestic partner status, disability, sexual orientation, age, genetic predisposition, medical condition, marital status, citizenship status, military or veteran status, or any other basis covered by applicable laws. Mozilla will not tolerate discrimination or harassment based on any of these characteristics or any other unlawful behavior, conduct, or purpose.Group: C#DNIReqID: R2771 Show more Show less \\n Engineering and Information Technology \\n Hospitals and Health Care, Non-profit Organizations, and Government Administration'),\n",
       "  Document(id='c89e3bed-1937-444b-a32d-e533771b40a5', metadata={'company': 'DuckDuckGo', 'title': 'Senior Data Scientist', 'level': 'Mid-Senior level', 'employment_type': 'Full-time', 'job_function': 'Engineering and Information Technology', 'industries': 'Hospitals and Health Care, Non-profit Organizations, and Government Administration', 'posted_time': '4 days ago', 'applicants': 'N/A', 'parsing_link': 'https://www.linkedin.com/jobs-guest/jobs/api/jobPosting/4233061609', 'job_posting_link': 'https://www.linkedin.com/jobs/view/senior-data-scientist-at-duckduckgo-4233061609?trk=public_jobs_topcard-title', 'job_id': '4233061609', 'date': '2025-05-26'}, page_content=\"Senior Data Scientist \\n DuckDuckGo \\n Who We AreHi, we're DuckDuckGo, the online protection company and remote-first team of 300+ on a mission to raise the standard of trust online. Founded in 2008 and profitable since 2014, annual revenue now exceeds $100m USD and millions use our browser on Mac, Windows, iOS, and Android, our search engine, and the latest — Privacy Pro. Our culture of trust, inclusivity, and empowered project management underpins everything we do, where each team member takes full ownership of their projects, from scoping and execution to postmortem. If you're seeking end-to-end ownership of your work — you've come to the right place!Your team and role Working On The Data Science Functional Team, You'll Build Machine Learning Models, Conduct Statistical Analyses, And Improve Our Data Processes Using Tools Like Python, Jupyter And SQL, And Work On Related Projects. Recent Projects IncludeDeploying fast categorization models for search queries Grading the relevancy of advertisements at scaleExpanding our fraud-detection modelsAs a Senior Data Scientist, you'll work directly with product and business objectives, including our search engine, instant answers, and revenue optimization. You'll collaborate with team members across the organization and drive impact through experiments, validating direction and building trust through data, all while becoming an expert in our key metrics like searches, installs, and revenue.About You7+ years of experience in Data ScienceAbility to lead and collaborate on high-impact and complex projects from proposal through post-mortem.Skills to wrangle vague problems, propose innovative solutions, and execute them with a strong focus on metrics.Advanced programming experience, preferably in a high-level language like Python.And the basics: expertise in SQL and query optimization; familiarity with columnar databases (e.g., Redshift, Clickhouse, BigQuery, or Druid); expertise building data visualizations and dashboards.Compensation$178,500 USD annually and stock options. Compensation is identical within professional levels, regardless of geographic location or team. Compensation for each professional level is transparent across the organization.Our Team Member Support Guide explains how we prioritise your wellbeing including paid parental leave, office setup and co-working allowances.Hiring Process Hiring works best when it's a two-way street. Learn how we help you get to know DuckDuckGo, envision your future role here, and find out more about how we hire.Diversity, Equity and InclusionDuckDuckGo provides equal work opportunities to all team members and applicants, and it prohibits discrimination and harassment of any type on the basis of race, color, ethnicity, caste, religion, age, sex (including pregnancy), national origin, disability status, genetics, protected veteran status, sexual orientation, gender identity or expression, or any other characteristic protected by our policies or federal, state, or local laws.We want to ensure that our hiring process is accessible. If you need reasonable accommodation for any part of the application process because of a medical condition or disability, please send an email to careers@duckduckgo.com to let us know the nature of your request.Please Note ThatYou’ll be required to attend meetings on camera via video conferencingExpect to travel at least two times a year: once for our all-hands meetup and again for a team retreat (each around 4-5 days). While extenuating circumstances may impact attendance, everyone is strongly encouraged to attend.While we offer a flexible work arrangement with no core hours, expect an average full-time commitment of 40 hours per week.A successful candidate must pass a background check as a condition of joining the team.By applying for this role, you confirm that all information submitted is accurate and complete. You further acknowledge that providing false or fraudulent information during the application process is cause for denial of an offer, revocation of any existing offer, or other adverse action, up to and including termination after the start of your commencement of work. Show more Show less \\n Engineering and Information Technology \\n Hospitals and Health Care, Non-profit Organizations, and Government Administration\"),\n",
       "  Document(id='5b3d5fae-fb58-4dcc-a235-255963204dc5', metadata={'company': 'Motion Recruitment', 'title': 'Data Scientist', 'level': 'Mid-Senior level', 'employment_type': 'Contract', 'job_function': 'Engineering, Information Technology, and General Business', 'industries': 'Retail, Retail Apparel and Fashion, and Fashion Accessories Manufacturing', 'posted_time': '3 days ago', 'applicants': 'N/A', 'parsing_link': 'https://www.linkedin.com/jobs-guest/jobs/api/jobPosting/4236136240', 'job_posting_link': 'https://www.linkedin.com/jobs/view/data-scientist-at-motion-recruitment-4236136240?trk=public_jobs_topcard-title', 'job_id': '4236136240', 'date': '2025-05-26'}, page_content='Data Scientist \\n Motion Recruitment \\n Our client, an American retailer that owns and operates 4 brands that are well known, is looking for someone to join their team as a Data Scientist. This role is fully remote. In this role, you will work on high-impact projects in domains such as retail, inventory management, and operations research, collaborating with data scientists, engineers, and business stakeholders.Required Skills & Experience Hands-on experience with enterprise data science solutions, preferably in retail, inventory management, or operations research.Proficiency in Python, SQL, and PySpark.Experience with Databricks or similar enterprise cloud environments.Strong understanding of CI/CD principles and version control through GitHub Enterprise.Experience defining and validating service contracts using Pydantic for data validation and API schema enforcement.Experience with production-level coding and deployment practices.Proficient in data science libraries and ML pipelines such as; NumPy, SciPy, scikit-learn, MLlib, PyTorch, TensorFlow.Desired Skills & Experience Experience in Agile development environments.Exposure to cloud platforms (e.g., Azure, AWS, GCP).Familiarity with APIs including how RESTful services in data science workflows.What You Will Be Doing Develop, test, and deploy data science solutions using Python, SQL, and PySpark on enterprise platforms such as Databricks.Collaborate with data scientists to translate models into production-ready code.Implement CI/CD pipelines and manage code repositories using GitHub Enterprise.Design and optimize mathematical programming and machine learning models for real-world applications.Work independently to break down complex problems into actionable development tasks.Ensure code quality, scalability, and maintainability in a production environment.Contribute to sprint planning, documentation, and cross-functional collaboration. Show more Show less \\n Engineering, Information Technology, and General Business \\n Retail, Retail Apparel and Fashion, and Fashion Accessories Manufacturing'),\n",
       "  Document(id='fe06aabe-30a8-4ac5-b876-9556ffb0e5b2', metadata={'company': 'PwC', 'title': 'People Tech - System Architect-Data Science Senior Manager', 'level': 'Director', 'employment_type': 'Full-time', 'job_function': 'Engineering and Information Technology', 'industries': 'Hospitals and Health Care, Non-profit Organizations, and Government Administration', 'posted_time': '3 days ago', 'applicants': 'N/A', 'parsing_link': 'https://www.linkedin.com/jobs-guest/jobs/api/jobPosting/4233953524', 'job_posting_link': 'https://www.linkedin.com/jobs/view/people-tech-system-architect-data-science-senior-manager-at-pwc-4233953524?trk=public_jobs_topcard-title', 'job_id': '4233953524', 'date': '2025-05-26'}, page_content=\"People Tech - System Architect-Data Science Senior Manager \\n PwC \\n Specialty/Competency: Data ScienceIndustry/Sector: Not ApplicableTime Type: Full timeTravel Requirements: Up to 20%At PwC, our people in data and analytics engineering focus on leveraging advanced technologies and techniques to design and develop robust data solutions for clients. They play a crucial role in transforming raw data into actionable insights, enabling informed decision-making and driving business growth. Those in data science and machine learning engineering at PwC will focus on leveraging advanced analytics and machine learning techniques to extract insights from large datasets and drive data-driven decision making. You will work on developing predictive models, conducting statistical analysis, and creating data visualisations to solve complex business problems.Growing as a strategic advisor, you leverage your influence, expertise, and network to deliver quality results. You motivate and coach others, coming together to solve complex problems. As you increase in autonomy, you apply sound judgment, recognising when to take action and when to escalate. You are expected to solve through complexity, ask thoughtful questions, and clearly communicate how things fit together. Your ability to develop and sustain high performing, diverse, and inclusive teams, and your commitment to excellence, contributes to the success of our Firm.SkillsExamples of the skills, knowledge, and experiences you need to lead and deliver value at this level include but are not limited to:Craft and convey clear, impactful and engaging messages that tell a holistic story.Apply systems thinking to identify underlying problems and/or opportunities.Validate outcomes with clients, share alternative perspectives, and act on client feedback.Direct the team through complexity, demonstrating composure through ambiguous, challenging and uncertain situations.Deepen and evolve your expertise with a focus on staying relevant.Initiate open and honest coaching conversations at all levels.Make difficult decisions and take action to resolve issues hindering team effectiveness.Model and reinforce professional and technical standards (e.g. refer to specific PwC tax and audit guidance), the Firm's code of conduct, and independence requirements.The OpportunityAs part of the Data Platform’s Data Solution team you are expected to work closely with leaders across product functions to design the analytics roadmap and to support and implement top quality data driven decisions and deliverables. As a Senior Manager you are expected to lead large projects, innovate processes, and maintain operational excellence while interacting with clients at a senior level to drive project success. You are expected to develop and implement quality controls and standards to confirm data integrity and quality.Responsibilities Design the analytics roadmap in collaboration with leaders Support and implement data-driven decisions Lead large projects confirming operational excellence Interact with clients at a strategic level to drive success Develop and implement quality controls for data integrity Innovate processes to enhance data quality Deliver top-quality data solutions Foster relationships with product function leadersWhat You Must Have High School Diploma 6 years of progressive roles managing IT architecture and engineering designs and domainsWhat Sets You Apart Bachelor's Degree in Information Technology, Computer Systems Analysis, Management Information Systems, Computer Applications, Computer Engineering, Computer Programming preferred Building relationships with clients and developing requests for information Prioritizing and handling multiple tasks Coaching and collaborating with colleagues Understanding application of analytical techniques Selecting necessary analytical techniques Designing analytics roadmap and supporting data-driven decisions Implementing quality controls and standards Programming with Python and JavaLearn more about how we work: https://pwc.to/how-we-workPwC does not intend to hire experienced or entry level job seekers who will need, now or in the future, PwC sponsorship through the H-1B lottery, except as set forth within the following policy: https://pwc.to/H-1B-Lottery-Policy.As PwC is an equal opportunity employer, all qualified applicants will receive consideration for employment at PwC without regard to race; color; religion; national origin; sex (including pregnancy, sexual orientation, and gender identity); age; disability; genetic information (including family medical history); veteran, marital, or citizenship status; or, any other status protected by law. For only those qualified applicants that are impacted by the Los Angeles County Fair Chance Ordinance for Employers, the Los Angeles' Fair Chance Initiative for Hiring Ordinance, the San Francisco Fair Chance Ordinance, San Diego County Fair Chance Ordinance, and the California Fair Chance Act, where applicable, arrest or conviction records will be considered for Employment in accordance with these laws. At PwC, we recognize that conviction records may have a direct, adverse, and negative relationship to responsibilities such as accessing sensitive company or customer information, handling proprietary assets, or collaborating closely with team members. We evaluate these factors thoughtfully to establish a secure and trusted workplace for all.Applications will be accepted until the position is filled or the posting is removed, unless otherwise set forth on the following webpage. Please visit this link for information about anticipated application deadlines: https://pwc.to/us-application-deadlinesThe salary range for this position is: $124,000 - $280,000, plus individuals may be eligible for an annual discretionary bonus. For roles that are based in Maryland, this is the listed salary range for this position. Actual compensation within the range will be dependent upon the individual's skills, experience, qualifications and location, and applicable employment laws. PwC offers a wide range of benefits, including medical, dental, vision, 401k, holiday pay, vacation, personal and family sick leave, and more. To view our benefits at a glance, please visit the following link: https://pwc.to/benefits-at-a-glance Show more Show less \\n Engineering and Information Technology \\n Hospitals and Health Care, Non-profit Organizations, and Government Administration\"),\n",
       "  Document(id='be11d244-393b-4ba2-8349-50b470aaf20f', metadata={'company': 'Netflix', 'title': 'Data Scientist (L5) - Customer Service', 'level': 'Not Applicable', 'employment_type': 'Full-time', 'job_function': 'Other', 'industries': 'Hospitals and Health Care, Non-profit Organizations, and Government Administration', 'posted_time': '6 days ago', 'applicants': 'N/A', 'parsing_link': 'https://www.linkedin.com/jobs-guest/jobs/api/jobPosting/4231868796', 'job_posting_link': 'https://www.linkedin.com/jobs/view/data-scientist-l5-customer-service-at-netflix-4231868796?trk=public_jobs_topcard-title', 'job_id': '4231868796', 'date': '2025-05-26'}, page_content=\"Data Scientist (L5) - Customer Service \\n Netflix \\n Netflix is one of the world's leading entertainment services, with 283 million paid memberships in over 190 countries enjoying TV series, films and games across a wide variety of genres and languages. Members can play, pause and resume watching as much as they want, anytime, anywhere, and can change their plans at any time.Our Customer Service organization works to ensure nothing gets between our members and their favorite shows, movies and games. Data science plays a key role in guiding the CS team to deliver top-notch customer experiences that are aligned with Netflix's business strategy and executed with high operational excellence.In This Role, You WillLead the evolution of CS metrics, identifying “north star” metrics and the ways CS teams can drive themThink critically about the business problem at hand and deploy the appropriate measurement technique Partner with executives, Product Managers, Data Engineers, Analytics Engineers and Finance to further a statistically rigorous, data-driven decision-making culture in CSIdentify opportunity areas for experimentation and researchExpand the use of CS metrics across Netflix, where they hold insights for Product, Engineering, and Data Science We Are Looking ForAdvanced degree in Statistics, Mathematics, Physics, Economics or a related quantitative fieldStrong statistical knowledge and intuition, and applied experience developing business-centric metrics frameworks Strong SQL skills and programming experience (Python preferred) Ability to effectively communicate technical concepts and convey clear recommendations to a variety of audiences (Engineering, Product, senior leadership)Experience with a wide range of measurement and prediction techniques (correlation analysis, observational causal inference, forecasting, quasi experimentation) Comfort working with complex data; ability to thrive with minimal oversight and processPrior experience with Customer Service is not required, but a desire to learn and become an expert is a must.Our compensation structure consists solely of an annual salary; we do not have bonuses. You choose each year how much of your compensation you want in salary versus stock options. To determine your personal top of market compensation, we rely on market indicators and consider your specific job family, background, skills, and experience to determine your compensation in the market range. The range for this role is $170,000 - $720,000.Netflix provides comprehensive benefits including Health Plans, Mental Health support, a 401(k) Retirement Plan with employer match, Stock Option Program, Disability Programs, Health Savings and Flexible Spending Accounts, Family-forming benefits, and Life and Serious Injury Benefits. We also offer paid leave of absence programs. Full-time hourly employees accrue 35 days annually for paid time off to be used for vacation, holidays, and sick paid time off. Full-time salaried employees are immediately entitled to flexible time off. See more detail about our Benefits here.Inclusion is a Netflix value and we strive to host a meaningful interview experience for all candidates. If you want an accommodation/adjustment for a disability or any other reason during the hiring process, please send a request to your recruiting partner.We are an equal-opportunity employer and celebrate diversity, recognizing that diversity builds stronger teams. We approach diversity and inclusion seriously and thoughtfully. We do not discriminate on the basis of race, religion, color, ancestry, national origin, caste, sex, sexual orientation, gender, gender identity or expression, age, disability, medical condition, pregnancy, genetic makeup, marital status, or military service.Job is open for no less than 7 days and will be removed when the position is filled. Show more Show less \\n Other \\n Hospitals and Health Care, Non-profit Organizations, and Government Administration\"),\n",
       "  Document(id='139ec13b-14f2-4d9c-b869-287eea6bdb38', metadata={'company': 'PENN Interactive', 'title': 'Data Scientist, MLB', 'level': 'Entry level', 'employment_type': 'Full-time', 'job_function': 'Engineering and Information Technology', 'industries': 'Hospitals and Health Care, Non-profit Organizations, and Government Administration', 'posted_time': '2 days ago', 'applicants': '71 applicants', 'parsing_link': 'https://www.linkedin.com/jobs-guest/jobs/api/jobPosting/4203028354', 'job_posting_link': 'https://www.linkedin.com/jobs/view/data-scientist-mlb-at-penn-interactive-4203028354?trk=public_jobs_topcard-title', 'job_id': '4203028354', 'date': '2025-05-26'}, page_content=\"Data Scientist, MLB \\n PENN Interactive \\n PENN Entertainment, Inc. is North America’s leading provider of integrated entertainment, sports content, and casino gaming experiences. From casinos and racetracks to online gaming, sports betting and entertainment content, we deliver the experiences people want, how and where they want them.We’re always on the lookout for those who are passionate about creating and delivering cutting-edge online gaming and sports media products. Whether it’s through ESPN BET, Hollywood Casino, theScore Bet Sportsbook & Casino, or theScore media app, we’re excited to push the boundaries of what’s possible. These state-of-the-art platforms are powered by proprietary in-house technology, a key component of PENN’s omnichannel gaming and entertainment strategy.When you join PENN Entertainment’s digital team, you’ll not only work on these cutting-edge platforms through theScore and PENN Interactive, but you’ll also be part of a company that truly cares about your career growth. We’re committed to supporting you as you expand your skills and explore new opportunities.With locations throughout North America, you can build a future at PENN Entertainment wherever you are. If you want to challenge conventions in gaming, media and entertainment, we want to talk to you.About The Role & TeamWe are looking for a Senior Data Scientist to join our Data team. The Data Science team here at Penn is responsible for building models, forecasts, and simulations to help improve theScore Bet, ESPN Bet and iCasino products. Our team values creativity, collaboration, ingenuity, and ownership. We are looking for someone who is interested in joining a team responsible for building net new end-to-end sports data products to further our team’s mission of creating a world-class, data-driven product experience.About The WorkMachine learning & statistical modeling: we want to be able to predict the likelihood or expected outcome of various events across different sports. AB Testing: we want data to inform the development of our products and features. Predictive & Prescriptive Analytics: we want to share in-depth knowledge on how our features are working and our forecasts are performing. Developing pipelines and developing models: we work closely with data and infrastructure engineers to deploy our models and develop required data pipelines to build data products. Develop best practices for our internal data processes that include model building, modeling techniques, improved latency, and readability. Design and build new predictive models and optimization routines that have an enterprise level impact. This varies from modeling expected sporting outcomes at an event level to utilizing various game state data to simulate full spectrums of expected outcomes. Collaborate with other members of the Data Science and Engineering teams on ways to approach problems, augment code, and share new techniques. Deploy modeling deliverables in conjunction with functional team leaders and stakeholders (in Product, Trading, etc.). Analyze results using solid statistical methods to iteratively improve data products. Communicate clearly, efficiently, and empathetically with technical and non-technical stakeholders. Write and maintain technical design and git/confluence documentation. Other duties as required. About You4+ Years of experience working as a Data ScientistExperience solving quantitative problems with MLB Sports modelling data. A firm grasp of utilizing sport-specific problem-solving techniques to model various elements of the game. The ability to dynamically project various aspects of player and team performance. Proficiency in developing simulations replicating the dynamics and intricacies of a sporting game. Proficient at writing code in Python and SQL to create meaningful insights. Experienced at creating algorithms, features, and applying machine learning data models to solve sports problems. Collaboratively iterative on data science products in an experimental fashion to rapidly adapt and improve products. Understanding of classification, regression and forecasting models, and A/B testing. Experience provisioning services using GitHub. Ability to take ownership of your work to achieve the necessary high-level objectives. Nice to HaveFamiliarity with MLFlow. Familiarity with AWS/GCP. Experience setting up ML CI/CD pipelines, testing and validating code/data, managing databases, and deploying models. Experience with any of Docker, Kubernetes with Terraform, CloudwatchWhat We OfferCompetitive compensation packageEducation and conference reimbursementsOpportunities for career progression and mentoring othersSalary Range$90,000—$150,000 USDInitial placement within the salary range is based on an individual's relevant knowledge, skills, and experience. Base salary is just one component of our competitive Total Rewards package, which includes wellness programs designed to support our team members' financial, physical, and mental well-being. Specific benefits—such as day-one medical coverage, 401(k) matching, annual performance bonus and equity package — depending on position. Paid time off is earned according to the local policy and increases with the length of employment.Click HERE to discover how we empower team members to grow, thrive, and advance in their careers. Check out our LinkedIn page! Show more Show less \\n Engineering and Information Technology \\n Hospitals and Health Care, Non-profit Organizations, and Government Administration\"),\n",
       "  Document(id='a03f759d-b7e9-4b0c-9043-a7e07c379bbd', metadata={'company': 'Mission Lane', 'title': 'Principal Data Scientist', 'level': 'Mid-Senior level', 'employment_type': 'Full-time', 'job_function': 'Engineering and Information Technology', 'industries': 'Hospitals and Health Care, Non-profit Organizations, and Government Administration', 'posted_time': '3 days ago', 'applicants': '50 applicants', 'parsing_link': 'https://www.linkedin.com/jobs-guest/jobs/api/jobPosting/4204640119', 'job_posting_link': 'https://www.linkedin.com/jobs/view/principal-data-scientist-at-mission-lane-4204640119?trk=public_jobs_topcard-title', 'job_id': '4204640119', 'date': '2025-05-26'}, page_content='Principal Data Scientist \\n Mission Lane \\n Mission Lane is combining the power of data, technology, and exceptional service to pave a clear way forward for millions of people on the path to financial success. By attracting top talent and leveraging cutting-edge technology, we’re enabling people to unlock real financial progress. Sound like a mission you can get behind?About The RoleAs a Principal Data Scientist, you will innovate and improve the machine learning models we rely on to make billions of dollars of efficient and accurate decisions and to enable financial progress for our customers.As a Principal Data Scientist, You’llDesign, develop, and deploy machine learning models to solve practical problems and help our business and customers reach their financial goals. You’ll partner with business leaders and technical experts across the company to develop new data sources, improve our modeling methodology, and apply models with sound risk management.You Are a Person WhoHas created, deployed, and managed supervised learning models in production systems for vital applications and enjoys being a technical mentorHas a PhD in a quantitative field and 1+ years of experience in a related role Has a BS / MS in a quantitative field and 5+ years of experience in a related role You share best practices for software engineering and can help smart, experienced data scientists with complex technical problems - especially operationalizing and evaluating models for real-world applicationsConsiders themself a generalist data scientist more motivated by practical solutions than theoretical elegancePractices solid fundamentals with software engineering (test-driven development, code review, refactoring) and the PyData stack (numpy, scikit-learn, pandas, etc.)Is interested in a wide range of ML solutions, including established tools (e.g. Spark, Kubernetes, Airflow, MLFlow), emerging tools (like Chalk, BentoML, or DVC), and developing in-house tools You Get Bonus Points ForExperience solving problems in consumer lending or fintechInterest in developing ways to train, interpret, and deploy neural network architectures for time series classification tasksWe’re OfferingWe’re committed to ensuring our team members have balance in their lives. Our comprehensive benefits package provides the support you need to thrive at work and at home.Work: An engaging culture with access to training programs and advancement opportunitiesLife: Full health, dental, and vision benefits, Flexible Spending Account (for medical and childcare expenses), paid parental leave, and a 401k Company MatchBalance: Generous PTO, flexible schedules, a Calm App subscription, and moreCompensationAnnual full-time base salary range: $183,000 - 224,000Additional compensation in the form(s) of participation in our annual incentive program and equity are dependent on role. Pay is based on factors such as work experience, education, certification(s), training, skills, and competencies related to the role. Mission Lane also offers a comprehensive benefits plan, which includes unlimited paid time off, 401(k) match, a monthly wellness stipend, health/ dental/ vision insurance options, disability coverage, paid parental leave, flexible spending account (for childcare and healthcare), life insurance, and a remote-friendly work environment.About Mission LaneFounded in December 2018, Mission Lane is a purpose-driven fintech company based in the U.S., with headquarters in Richmond, Virginia.It all started with a realization: nearly fifty percent of the adult population in the U.S. doesn’t have access to a clear line of credit. Most traditional credit card companies either overlook or overcharge this group because they have less-than-perfect credit scores or no scores at all. We decided this just wouldn’t do.In partnership with our sponsor banks, we offer credit cards under the Mission Lane brand name, with better, clearer terms, and a more refined customer experience than the alternatives available to people working hard to improve their credit.To date, over four million consumers have chosen Mission Lane, earning high customer ratings on Credit Karma for its market segment and industry leading Net Promoter scores.Mission Lane has cumulatively raised over $600 million of equity from leading investors, including Invus Opportunities, QED Investors, LL Funds, funds affiliated with Oaktree Capital Management, and other leading investors.Interested in learning more? Check out The Mission Lane Junction for articles on culture, credit, and community, and The Mission Lane Newsroom for media mentions.At Mission Lane, we’re committed to a workplace built on respect and dignity, where everyone has the opportunity to contribute. We believe diversity in all forms makes us stronger, and we intentionally foster an inclusive environment where employees feel valued, respected, and free to be their true selves. We are proud to be an equal opportunity employer and do not discriminate based on race, color, religion, sex, national origin, age, disability, genetic information, sexual orientation, gender identity, or any other protected status.Mission Lane provides reasonable accommodations to applicants who need them for medical or religious reasons, as required by law. Applicants can initiate an accommodation request by contacting peopleexperience@missionlane.com.Mission Lane is not sponsoring new applicant employment authorization and please, no third-party recruiters. Show more Show less \\n Engineering and Information Technology \\n Hospitals and Health Care, Non-profit Organizations, and Government Administration'),\n",
       "  Document(id='db110292-64b2-4fd0-a976-0f75dd35979d', metadata={'company': 'Systecon North America', 'title': 'Data Scientist (Federal)', 'level': 'Associate', 'employment_type': 'Full-time', 'job_function': 'Engineering and Information Technology', 'industries': 'Defense and Space Manufacturing and Software Development', 'posted_time': '5 days ago', 'applicants': 'N/A', 'parsing_link': 'https://www.linkedin.com/jobs-guest/jobs/api/jobPosting/4232502799', 'job_posting_link': 'https://www.linkedin.com/jobs/view/data-scientist-federal-at-systecon-north-america-4232502799?trk=public_jobs_topcard-title', 'job_id': '4232502799', 'date': '2025-05-26'}, page_content='Data Scientist (Federal) \\n Systecon North America \\n About UsAt Systecon North America, we are at the forefront of predictive analytics and sustainment optimization for the U.S. Department of Defense and major defense contractors. Our industry-leading Opus Suite software empowers decision-makers to optimize sustainment strategies, enhance operational readiness, and reduce lifecycle costs across air, land, sea, and space domains.We are a trusted partner in data-driven decision-making, helping defense organizations and commercial industries improve sustainment planning and lifecycle management. If you’re a proven leader in program management with expertise in DoD acquisition and sustainment, join us in shaping the future of mission readiness and lifecycle optimization.Role OverviewWe are seeking a Data Scientist (Federal) to join our team supporting U.S. government and defense customers. This role is critical in delivering advanced analytics, machine learning, and data-driven insights to improve sustainment, logistics, and operational performance. You will work alongside domain experts, software engineers, and program managers to solve complex problems that directly impact mission success.Key ResponsibilitiesDevelop, deploy, and maintain predictive models and analytics tools to support sustainment and readiness decisions for defense customersAnalyze large, complex datasets from multiple sources to uncover trends, identify gaps, and provide actionable recommendationsCollaborate with cross-functional teams to integrate analytics into the Opus Suite software and client-specific solutionsWork closely with federal clients to understand mission needs, define analytical approaches, and communicate results effectivelyPrepare technical documentation, reports, and visualizations to clearly explain modeling techniques, assumptions, and outcomesStay current on emerging technologies, AI/ML trends, and federal data science requirements to inform solution developmentEnsure data security, compliance, and ethical use of data in accordance with federal regulations and standardsRequired Education, Experience & SkillsBachelor’s degree in Data Science, Computer Science, Statistics, Engineering, Applied Mathematics, or a related field (Master’s or PhD preferred)3+ years of experience in data science, machine learning, or analytics, ideally supporting defense, federal, or government programsProficiency with Python, R, SQL, or similar programming languages for data analysis and model developmentStrong knowledge of machine learning techniques, statistical modeling, and data visualization toolsExperience working with large datasets, including structured, unstructured, and time-series dataFamiliarity with DoD, defense acquisition, sustainment operations, or logistics domainsExcellent communication skills with the ability to present technical findings to non-technical audiencesActive U.S. security clearance (or the ability to obtain one) strongly preferred Show more Show less \\n Engineering and Information Technology \\n Defense and Space Manufacturing and Software Development'),\n",
       "  Document(id='d6c73f6d-3093-4bcb-923f-3eb7f9af0df5', metadata={'company': 'Theron Solutions', 'title': 'Data Scientist', 'level': 'Associate', 'employment_type': 'Full-time', 'job_function': 'Engineering and Consulting', 'industries': 'IT Services and IT Consulting and Outsourcing and Offshoring Consulting', 'posted_time': '1 day ago', 'applicants': 'N/A', 'parsing_link': 'https://www.linkedin.com/jobs-guest/jobs/api/jobPosting/4237363528', 'job_posting_link': 'https://www.linkedin.com/jobs/view/data-scientist-at-theron-solutions-4237363528?trk=public_jobs_topcard-title', 'job_id': '4237363528', 'date': '2025-05-26'}, page_content='Data Scientist \\n Theron Solutions \\n Job Description:Complete hands-on Experience in Python programming, along with experience with popular AI/ML frameworks such as Tensorflow, Pytorch, scikit-learn, Langchain, and Llamaindex.Strong background in building and implementing Machine learning models.Hands on experience in developing AI/ML/GenAI solutions using AWS services such as Sagemaker.Experience with search algorithms , indexing techniques, summarization and retrieval models for effective information retrieval tasks.Hands on Experience with RAG architecture and its applications in natural language processing tasks.Good Exposure to Agentic / Multi agent framework.Hands on Experience in End to End development of machine learning and deep learning techniques, like predictive modeling, applied machine learning, natural language processing.Expertise in data engineering such as preprocessing and cleaning large datasets efficiently using python, pyspark, and other manipulation tools like Pandas and NumPy. Experience with techniques such as data normalization, feature engineering and data generation.Experience with cloud computing principles and experience in deploying, scaling and monitoring AI/ML/GenAI solutions on cloud platforms like AWS.Deploy and monitor ML solutions using AWS services such as Lambda, API gateway, and ECS and monitor their performance using CloudWatch.Experience with docker and containerization.Able to communicate complex technical; concepts effectively to technical and non-technical stakeholders and collaborate with cross-functional teams.Must Have:A Masters Degree in Computer science and EngineeringMinimum of 14 years of IT experience.Minimum of 7 experience as an ML engineer / data Scientist.Hands on experience using python and APIs like flask/Django/fastAPI.Hands on experience with tools such as Langchain, llamaidnex, streamline.Hands on experience with semi structured and unstructured data.Must have implemented a use case using LLMs.Must have implemented a use case using prompt engineering and fine-tuning of LLMs using LoRA/ PEFT.Must have implemented a use case using RAG architecture. Multi-agent framework is an added advantage. Show more Show less \\n Engineering and Consulting \\n IT Services and IT Consulting and Outsourcing and Offshoring Consulting'),\n",
       "  Document(id='f5f9c68e-e0c6-4e3a-a584-d37d9ca6c6de', metadata={'company': 'Cedar', 'title': 'Sr. Data Scientist (Commercial Analytics)', 'level': 'Director', 'employment_type': 'Full-time', 'job_function': 'Engineering and Information Technology', 'industries': 'Technology, Information and Internet', 'posted_time': '5 days ago', 'applicants': '130 applicants', 'parsing_link': 'https://www.linkedin.com/jobs-guest/jobs/api/jobPosting/4203154568', 'job_posting_link': 'https://www.linkedin.com/jobs/view/sr-data-scientist-commercial-analytics-at-cedar-4203154568?trk=public_jobs_topcard-title', 'job_id': '4203154568', 'date': '2025-05-26'}, page_content='Sr. Data Scientist (Commercial Analytics) \\n Cedar \\n Our healthcare system is the leading cause of personal bankruptcy in the U.S. Every year, over 50 million Americans suffer adverse financial consequences as a result of seeking care, from lower credit scores to garnished wages. The challenge is only getting worse, as high deductible health plans are the fastest growing plan design in the U.S.Cedar’s mission is to leverage data science, smart product design and personalization to make healthcare more affordable and accessible. Today, healthcare providers still engage with its consumers in a “one-size-fits-all” approach; and Cedar is excited to leverage consumer best practices to deliver a superior experience. The RoleWe\\'re seeking a Senior Data Scientist to join our Commercial Analytics team and develop scalable analytics tooling that drives action. The Commercial Analytics team\\'s goal is to enable our clients to understand, appreciate, and extract the most value out of their Cedar relationship and products. The team\\'s ambition is to satisfy and delight Cedar\\'s clients through access to data and insights that:Help them build trust in Cedar\\'s products and recognize the value they deliverEmpower them to take advantage of Cedar\\'s varying features and levers to maximize valueAs a Senior Data Scientist, you will be viewed as a force multiplier for your squad, displaying leadership and beginning to have impact beyond your own tasks. You will lead squad-level projects, mentor junior team members, and drive decision-making within your team. You will develop expertise in Cedar\\'s data ecosystem and translate business problems into actionable insights that drive strategic decision-making at the squad level.Key ResponsibilitiesLead the successful delivery of Squad-level KRs with measurable business valueDesign and develop comprehensive analytics tooling and dashboards that drive strategic decision-makingExecute ambiguous projects independently, proactively asking for help when neededLead and execute complex ad-hoc data analyses, translating findings into scalable analytics solutionsServe as a thought partner to client-facing teams, providing data-driven insights that enhance client relationshipsDevelop and optimize data pipelines in dbt, ensuring data quality and reliabilityUtilize Python and SQL for notebook-based exploration and sophisticated ad-hoc analysesPresent and communicate data findings and methodology to commercial stakeholdersPartner with Data Engineers to implement robust data infrastructure for complex analysesMentor junior team members and provide constructive feedback within your teamIdentify and advocate for opportunities to deliver impact within your squadSolve hard problems that require depth of expertise in your domainProactively take on new challenges and projects to better the teamSkills and Experience7+ years of experience in analytical roles, with demonstrated impact on business outcomesStrong proficiency in SQL and visualization tools (e.g., Looker, Tableau, Power BI)Experience developing and maintaining data pipelines in dbtProficiency in Python for data analysis and notebook-based explorationsAbility to translate business problems into structured analytical approachesStrong presentation and communication skills, with ability to influence decision-making within the teamAnalytical ability and understanding of statistical methodsExperience decomposing ambiguous problems and executing on solutionsProactive attitude, ownership mentality, and growth mindsetAbility to accurately represent your work and its value to partners within CedarExperience mentoring junior team members is a plusKnowledge of or experience in the healthcare industry is a plusApplicants must be currently authorized to work in the United States on a full-time basis. Compensation Range and BenefitsSalary/Hourly Rate Range*: $178,500 - $210,000This role is equity eligibleThis role offers a competitive benefits and wellness package*Subject to location, experience, and education What do we offer to the ideal candidate?A chance to improve the U.S. healthcare system at a high-growth company! Our leading healthcare financial platform is scaling rapidly, helping millions of patients per yearUnless stated otherwise, most roles have flexibility to work from home or in the office, depending on what works best for youFor exempt employees: Unlimited PTO for vacation, sick and mental health days–we encourage everyone to take at least 20 days of vacation per year to ensure dedicated time to spend with loved ones, explore, rest and recharge16 weeks paid parental leave with health benefits for all parents, plus flexible re-entry schedules for returning to workDiversity initiatives that encourage Cedarians to bring their whole selves to work, including three employee resource groups: be@cedar (for BIPOC-identifying Cedarians and their allies), Pridecones (for LGBTQIA+ Cedarians and their allies) and Cedar Women+ (for female-identifying Cedarians) Competitive pay, equity (for qualifying roles) and health benefits that start on the first of the month following your start date (or on your start date if your start date coincides with the first of the month)Cedar matches 100% of your 401(k) contributions, up to 3% of your annual compensationAccess to hands-on mentorship, employee and management coaching, and a team discretionary budget for learning and development resources to help you grow both professionally and personallyAbout usCedar was co-founded by Florian Otto and Arel Lidow in 2016 after a negative medical billing experience inspired them to help improve our healthcare system. With a commitment to solving billing and patient experience issues, Cedar has become a leading healthcare technology company fueled by remarkable growth. \"Over the past several years, we\\'ve raised more than $350 million in funding & have the active support of Thrive and Andreessen Horowitz (a16z). As of November 2024, Cedar is engaging with 30 million patients annually and is on target to process $3.5 billion in patient payments annually. Cedar partners with more than 55 leading healthcare providers and payers including Highmark Inc., Allegheny Health Network, Novant Health, Allina Health and Providence. Show more Show less \\n Engineering and Information Technology \\n Technology, Information and Internet'),\n",
       "  Document(id='13011dd4-bcd6-4923-a7b1-b4ab76300455', metadata={'company': 'Lensa', 'title': 'Principal Data Scientist - Generative AI, Machine Learning, Python, R - Remote', 'level': 'Entry level', 'employment_type': 'Full-time', 'job_function': 'Engineering and Information Technology', 'industries': 'Hospitals and Health Care, Non-profit Organizations, and Government Administration', 'posted_time': '5 days ago', 'applicants': 'N/A', 'parsing_link': 'https://www.linkedin.com/jobs-guest/jobs/api/jobPosting/4231983593', 'job_posting_link': 'https://www.linkedin.com/jobs/view/principal-data-scientist-generative-ai-machine-learning-python-r-remote-at-lensa-4231983593?trk=public_jobs_topcard-title', 'job_id': '4231983593', 'date': '2025-05-26'}, page_content='Principal Data Scientist - Generative AI, Machine Learning, Python, R - Remote \\n Lensa \\n Lensa is the leading career site for job seekers at every stage of their career. Our client, Molina Healthcare, is seeking professionals. Apply via Lensa today!Job DescriptionJob SummaryResponsible for overseeing data science projects, managing and mentoring a team, and aligning data initiatives with business goals. Lead the development and implementation of data models, collaborate with cross-functional teams, and stay updated on industry trends. Ensure ethical data use and communicate complex technical concepts to non-technical stakeholders. Lead initiatives on model governance and model ops to align with regulatory and security requirements. This role requires technical expertise, strategic thinking, and leadership to drive data-driven decision-making within the organization and be the pioneer on generative AI healthcare solutions, aimed at revolutionizing healthcare operations as well as enhancing member experience.Job Duties Research and Development: Stay current with the latest advancements in AI and machine learning and apply these insights to improve existing models and develop new methodologies. AI Model Deployment, Monitoring & Model Governance: Deploy AI models into production environments, monitor their performance, and adjust as necessary to maintain accuracy and effectiveness and meet all governance and regulatory requirements. Innovation Projects: Lead pilot projects to test and implement new AI technologies within the organization Data Analysis and Interpretation: Extract meaningful insights from complex datasets, identify patterns, and interpret data to inform strategic decision-making. Machine Learning Model Development : Design, develop, and train machine learning models using a variety of algorithms and techniques, including supervised and unsupervised learning, deep learning, and reinforcement learning. Agentic Workflows Implementation: Develop and implement agentic workflows that utilize AI agents for autonomous task execution, enhancing operational efficiency and decision-making capabilities. RAG Pattern Utilization: Employ retrieval-augmented generation patterns to improve the performance of language models, ensuring they can access and utilize external knowledge effectively to enhance their outputs. Model Fine-Tuning : Fine-tune pre-trained models to adapt them to specific tasks or datasets, ensuring optimal performance and relevance in various applications. Data Cleaning and Preprocessing: Prepare data for analysis by performing data cleaning, handling missing values, and removing outliers to ensure high-quality inputs for modeling. Collaboration: Work closely with cross-functional teams, including software engineers, product managers, and business analysts, to integrate AI solutions into existing systems and processes. Documentation and Reporting: Create comprehensive documentation of models, methodologies, and results; communicate findings clearly to non-technical stakeholders. Mentors, coaches, and provides guidance to newer data scientists. Partner closely with business and other technology teams to build ML models which helps in improving Star ratings, reduce care gap and other business objectives. Present complex analytical information to all level of audiences in a clear and concise manner Collaborate with analytics team, assigning and managing delivery of analytical projects as appropriate Perform other duties as business requirements change, looking out for data solutions and technology enabled solution opportunities and make referrals to the appropriate team members in building out payment integrity solutions. Use a broad range of tools and techniques to extract insights from current industry or sector trendsJob QualificationsREQUIRED EDUCATION:Master’s Degree in Computer Science, Data Science, Statistics, or a related fieldRequired Experience/Knowledge, Skills & Abilities 10+ years’ work experience as a data scientist preferably in healthcare environment but candidates with suitable experience in other industries will be considered Knowledge of big data technologies (e.g., Hadoop, Spark) Familiar with relational database concepts, and SDLC concepts Demonstrate critical thinking and the ability to bring order to unstructured problems Technical Proficiency: Strong programming skills in languages such as Python and R, and experience with machine learning frameworks like TensorFlow, Keras, or PyTorch. Statistical Analysis: Excellent understanding of statistical methods and machine learning algorithms, including k-NN, Naive Bayes, SVM, and neural networks. Experience with Agentic Workflows: Familiarity with designing and implementing agentic workflows that leverage AI agents for autonomous operations. RAG Techniques: Knowledge of retrieval-augmented generation techniques and their application in enhancing AI model outputs. Model Fine-Tuning Expertise: Proven experience in fine-tuning models for specific tasks, ensuring they meet the required performance metrics. Data Visualization: Proficiency in data visualization tools (e.g., Tableau, Power BI) to present complex data insights effectively. Database Management: Experience with SQL and NoSQL databases, data warehousing, and ETL processes. Problem-Solving Skills: Strong analytical and problem-solving abilities, with a focus on developing innovative solutions to complex challenges.Preferred EducationPHD or additional experiencePreferred Experience Experience with cloud platforms (e.g., Databricks, Snowflake, Azure AI Studio etc.) for working with AI workflows and deploying models. Familiarity with natural language processing (NLP) and computer vision techniques.#PJCorp2To all current Molina employees: If you are interested in applying for this position, please apply through the intranet job listing.Molina Healthcare offers a competitive benefits and compensation package. Molina Healthcare is an Equal Opportunity Employer (EOE) M/F/D/V.Pay Range: $117,731 - $275,491 / ANNUALActual compensation may vary from posting based on geographic location, work experience, education and/or skill level. Show more Show less \\n Engineering and Information Technology \\n Hospitals and Health Care, Non-profit Organizations, and Government Administration'),\n",
       "  Document(id='c99bfe74-457a-48b1-9812-50887832e9de', metadata={'company': 'Tiger Analytics', 'title': 'Senior Data Scientist', 'level': 'Associate', 'employment_type': 'Full-time', 'job_function': 'Analyst', 'industries': 'IT Services and IT Consulting', 'posted_time': '5 days ago', 'applicants': 'N/A', 'parsing_link': 'https://www.linkedin.com/jobs-guest/jobs/api/jobPosting/4234089397', 'job_posting_link': 'https://www.linkedin.com/jobs/view/senior-data-scientist-at-tiger-analytics-4234089397?trk=public_jobs_topcard-title', 'job_id': '4234089397', 'date': '2025-05-26'}, page_content='Senior Data Scientist \\n Tiger Analytics \\n Tiger Analytics is looking for experienced Data Scientists to join our fast-growing advanced analytics consulting firm. Our consultants bring deep expertise in Data Science, Machine Learning and AI. We are the trusted analytics partner for multiple Fortune 500 companies, enabling them to generate business value from data. Our business value and leadership has been recognized by various market research firms, including Forrester and Gartner. We are looking for top-notch talent as we continue to build the best global analytics consulting team in the world.As a Data Scientist, you will apply strong expertise through the use of machine learning, data mining, and information retrieval to design, prototype, and build next generation advanced analytics engines and services. You will collaborate with cross-functional teams and business partners to define the technical problem statement and hypotheses to test. You will develop efficient and accurate analytical models which mimic business decisions and incorporate those models into analytical data products and tools. You will have the opportunity to drive current and future strategy by leveraging your analytical skills as you ensure business value and communicate the results.Key ResponsibilitiesCollaborate with business partners to develop innovative solutions to meet objectives utilizing cutting edge techniques and toolsDevelop, test, and deploy data science solutions using Python, SQL, and PySpark on enterprise platforms such as DatabricksCollaborate with data scientists to translate models into production-ready codeImplement CI/CD pipelines and manage code repositories using GitHub EnterpriseDesign and optimize mathematical programming and machine learning models for real-world applicationsWork independently to break down complex problems into actionable development tasksEnsure code quality, scalability, and maintainability in a production environmentContribute to sprint planning, documentation, and cross-functional collaborationCollaborate, coach, and learn with a growing team of experienced Data Scientists. Stay connected with external sources of ideas through conferences and community engagementsRequirements5 years of experience working as a Data ScientistHands-on experience with enterprise data science solutions, preferably in retail, inventory management, or operations researchProficiency in Python, SQL, and PySpark. Experience with Databricks or similar enterprise cloud environments. Strong understanding of CI/CD principles and version control through GitHub EnterpriseExperience defining and validating service contracts using Pydantic for data validation and API schema enforcementExperience with production-level coding and deployment practices. Familiarity with basic machine learning techniques and mathematical optimization methodsProficient in data science libraries and ML pipelines such as; NumPy, SciPy, scikit-learn, MLlib, PyTorch, TensorFlowSelf-starter with an ownership mindset and the ability to work with minimal supervisionBenefitsThis position offers an excellent opportunity for significant career development in a fast-growing and challenging entrepreneurial environment with a high degree of individual responsibility. Show more Show less \\n Analyst \\n IT Services and IT Consulting'),\n",
       "  Document(id='4a9ed36d-422c-4eb0-8836-bb9b2cda7ccc', metadata={'company': 'Root Inc.', 'title': 'Lead Data Scientist II, Agents/Partnerships', 'level': 'Mid-Senior level', 'employment_type': 'Full-time', 'job_function': 'Engineering and Information Technology', 'industries': 'Hospitals and Health Care, Non-profit Organizations, and Government Administration', 'posted_time': '6 days ago', 'applicants': '52 applicants', 'parsing_link': 'https://www.linkedin.com/jobs-guest/jobs/api/jobPosting/4211033275', 'job_posting_link': 'https://www.linkedin.com/jobs/view/lead-data-scientist-ii-agents-partnerships-at-root-inc-4211033275?trk=public_jobs_topcard-title', 'job_id': '4211033275', 'date': '2025-05-26'}, page_content=\"Lead Data Scientist II, Agents/Partnerships \\n Root Inc. \\n CURRENT ROOT EMPLOYEES - Please apply using the career page in Workday. This career site is for external applicants only.The OpportunityRoot is seeking a Lead Data Scientist II to join our fast-growing Data Science team and lead the charge in optimizing our Partnerships and Independent Agents distribution channels. This role will be instrumental in shaping how we research, build, and scale machine learning models and data-driven strategies that enhance partner performance, customer acquisition, and profitability.This is a unique opportunity to own a high-growth space from the ground up. You’ll collaborate closely with Product, Analytics, and Business Development to embed deeply in the problem space, drive strategic research initiatives, and deliver scalable data science solutions across a multi-partner landscape that includes names like Carvana, Goosehead, and Hyundai.Root is a “work where it works best” company. Meaning we will support you working in whatever location that works best for you across the US. We will continue to have our headquarters in Columbus and offices in other locations to give more flexibility and more choice about how we live and work.Salary Range: $151,200 - $189,000 (Bonus and LTI eligible)How You Will Make An ImpactServe as the technical lead for data science efforts across partnerships and agent channels.Translate partner needs and growth objectives into actionable data science projects.Conduct advanced research in pricing strategy, compensation optimization, and predictive agent performance.Develop lead-scoring models to prioritize high-conversion agents and tailor outreach strategies.Use NLP to extract insights from partner feedback and support logs, driving product and relationship improvements.Design and validate experiments and measurement frameworks that guide business decisions.Develop proof-of-concepts and quantitative models to evaluate new growth opportunities.Partner with engineering and analytics to deliver production-grade solutions.Mentor junior data scientists and set the standard for technical excellence and team collaboration.Foster alignment with cross-functional stakeholders through consistent communication and insight-sharing.Promote team effectiveness by championing good planning, process design, and best practices.What You Will Need To SucceedBS, MS, or PhD in Statistics, Computer Science, Economics, or a related field.6+ years of experience building predictive models, running experiments, and supporting decision-making in business environments.Proven expertise in Python (and/or R) and SQL; experience with modern ML and experimentation frameworks.Deep understanding of measurement, causal inference, and statistical validation.Strong communication skills with an ability to distill complex insights to non-technical partners.Familiarity with ML Ops concepts such as feature stores, retraining pipelines, and post-deployment monitoring.Ability to lead through ambiguity, prioritize high-impact work, and deliver in a fast-paced environment.Comfortable working across cross-functional teams to align technical work to business goals.Experience planning and sequencing team initiatives to deliver quarterly objectives.A team-first mindset with a track record of mentoring and elevating others.As part of Root's interview process, we kindly ask that all candidates be on camera for virtual interviews. This helps us create a more personal and engaging experience for both you and our interviewers. Being on camera is a standard requirement for our process and part of how we assess fit and communication style, so we do require it to move forward with any applicant's candidacy. If you have any concerns, feel free to let us know once you are contacted. We’re happy to talk it through.Don’t meet every single requirement?Studies have shown that women and people of color are less likely to apply to jobs unless they meet every single qualification. At Root, Inc., we are dedicated to building a diverse and inclusive workplace, so if you’re excited about this role but your past experience doesn’t align perfectly with every qualification in the job description, we encourage you to apply anyway!Join usAt Root, we judge people based on the merit of their work, not who they are. If you are passionate about what this role entails and solving real problems, we encourage you to apply. We want to learn about you and what you can add to our team.Who We AreWe’re harnessing the power of technology to revolutionize insurance. Using machine learning and mobile telematic platforms, we’ve built one of the most innovative FinTech companies in the world. And we’re just getting started.What Draws People To RootOur success is in large part due to our unwavering standards in hiring. We recognize that our products are only as good as the people building and promoting them. We want individuals who find solutions by going through the cycle of ideation to implementation with curiosity, rigor, and an analytical lens. Ask anyone who works here and you’ll hear similar reasons for why they joined:Autonomy—for assertive self-starters, the opportunities to contribute are limitless.Impact—by challenging the way it’s always been done, we solve problems that have a big impact on our business.Collaboration—we encourage rich discussion and civil debate at every turn.People—we are inspired by the collection of crazy-smart people around us. Show more Show less \\n Engineering and Information Technology \\n Hospitals and Health Care, Non-profit Organizations, and Government Administration\"),\n",
       "  Document(id='62fa228b-a234-4c71-b71a-b342ceecbdc7', metadata={'company': 'Newfront', 'title': 'Senior Data Scientist', 'level': 'Mid-Senior level', 'employment_type': 'Full-time', 'job_function': 'Engineering and Information Technology', 'industries': 'Hospitals and Health Care, Non-profit Organizations, and Government Administration', 'posted_time': '5 days ago', 'applicants': 'N/A', 'parsing_link': 'https://www.linkedin.com/jobs-guest/jobs/api/jobPosting/4191803492', 'job_posting_link': 'https://www.linkedin.com/jobs/view/senior-data-scientist-at-newfront-4191803492?trk=public_jobs_topcard-title', 'job_id': '4191803492', 'date': '2025-05-26'}, page_content=\"Senior Data Scientist \\n Newfront \\n Insurance is a trillion dollar market that is fundamental to society, yet it has not modernized — until now.Newfront is building the modern insurance experience.We've reimagined the experience for clients, prospects, and employees, altering the way people create, understand, select, transact, and use insurance. We're changing the approach so that it starts and ends with the client, not the product, and empowering people for moments that matter.Our unique approach recognizes both the vast potential of technology and the fundamental role of insurance experts. We're a technology-driven company with DE&I in our DNA and strong values; we believe people matter most.Our mission is to define the future of the insurance industry, while instilling a high performance culture in combination with living our Work, Love, Play ethos each day. We value balanced lives and are passionate about creating a culture of wellness that results in healthier, happier, and more productive employees, and more successful clients.The Data team is a critical organization at the heart of Newfront's data-driven approach. Our mission is to build valuable data products that enable a novel and differentiated experience for our clients and colleagues. We support multiple key business areas including executive leadership, business insurance analytics, sales analytics, finance, and data-driven product development.This position is a salaried, exempt and full-time role. This is a US Hybrid/Remote role, with the option to work from any of Newfront’s offices. .What You’ll Be Responsible ForLead the development of a comprehensive metrics tree to track business performance across the organizationConduct deep-dive analyses for executive leadership on strategic business questions and opportunitiesEnhance and optimize our sales analytics capabilities to improve revenue performance trackingTranslate business goals into well-designed metrics and accurate measuresDevelop and maintain data visualization dashboards that provide actionable insightsCollaborate with business stakeholders to understand their data needs and deliver insightful analyticsImprove data quality by leveraging existing operational processesSupport product analytics initiatives and help identify areas for data-driven improvementsMentor team members on analytical best practices and data visualization techniquesQualificationsBachelor's degree in Statistics, Mathematics, Economics, or related quantitative field5+ years of professional experience in data analytics or data science rolesExpert-level SQL skills for complex data manipulation and analysisStrong proficiency in Python, particularly with data analysis libraries and experience implementing predictive analytics modelsExperience with data visualization tools (Tableau, Looker, PowerBI, or similar) or data visualization libraries.Proven track record of successfully leading complex analytical projects from inception to completion, including setting project scope, managing timelines, and delivering high-quality results that drive business impactExperience developing and implementing metrics frameworks or KPI systemsStrong analytical thinking and problem-solving skillsExcellent communication skills with ability to present complex data insights to both technical and non-technical audiencesExperience working in a collaborative, cross-functional environment with demonstrated ability to build strong stakeholder relationships and effectively manage competing priorities across multiple business unitsPreferred Knowledge, Skills And AbilitiesExperience in the insurance or financial services industryFamiliarity with dbt, Snowflake, and similar modern data stack technologiesKnowledge of statistical analysis and experimental designExperience with forecasting and predictive modelingBackground in business intelligence and performance measurementActive use of AI tools (chat, IDE) as a productivity multiplierUnderstanding of data governance and data quality managementExperience working with executive leadership on strategic analytics initiativesThe pay range for this position in California, Washington, Colorado and New York at commencement of employment is expected to be between $168,800 and $211,000/yr; however, base pay offered may vary depending on multiple individualized factors, including market location, job-related knowledge, skills, and experience. The total compensation package for this position may also include other elements, including a bonus, restricted stock units, and discretionary awards in addition to a full range of medical, financial, and/or other benefits (including 401(k) eligibility and various paid time off benefits, such as vacation, sick time, and parental leave), dependent on the position offered. Details of participation in these benefit plans will be provided if an employee receives an offer of employment. If hired, employee will be in an “at-will position” and the Company reserves the right to modify base salary (as well as any other discretionary payment or compensation program) at any time, including for reasons related to individual performance, Company or individual department/team performance, and market factors.At Newfront, we are committed to hiring diverse talent and supporting an inclusive workplace environment. If you are excited about a role at Newfront but feel you’re missing a few of the qualifications, we still encourage you to apply and tell us about yourself. You may just be the next Newfront team member that we are looking for! Newfront is proud to be an equal opportunity workplace. Diversity is in our DNA and we believe that creating an inclusive workplace elevates the value we are able to bring to our customers and employees alike. All qualified applicants will receive consideration for employment without regard to age, race, color, religion, sex, sexual orientation, gender identity, national origin, genetic information, disability, veteran status, or any other applicable status protected by state or local law.If you require reasonable accommodations throughout the application or interview process, please contact us at careers@newfront.com. For information regarding how Newfront collects and uses personal information, please review our Privacy Policy. Show more Show less \\n Engineering and Information Technology \\n Hospitals and Health Care, Non-profit Organizations, and Government Administration\"),\n",
       "  Document(id='2501f7ea-e3e1-4eff-af66-682cc5a08f4f', metadata={'company': 'Blend', 'title': 'Data Scientist - Optimization and Modeling', 'level': 'Mid-Senior level', 'employment_type': 'Full-time', 'job_function': 'Marketing', 'industries': 'Hospitals and Health Care, Non-profit Organizations, and Government Administration', 'posted_time': '3 days ago', 'applicants': '121 applicants', 'parsing_link': 'https://www.linkedin.com/jobs-guest/jobs/api/jobPosting/4236460086', 'job_posting_link': 'https://www.linkedin.com/jobs/view/data-scientist-optimization-and-modeling-at-blend-4236460086?trk=public_jobs_topcard-title', 'job_id': '4236460086', 'date': '2025-05-26'}, page_content=\"Data Scientist - Optimization and Modeling \\n Blend \\n Company DescriptionBlend is a premier AI services provider, committed to co-creating meaningful impact for its clients through the power of data science, AI, technology, and people. With a mission to fuel bold visions, Blend tackles significant challenges by seamlessly aligning human expertise with artificial intelligence. The company is dedicated to unlocking value and fostering innovation for its clients by harnessing world-class people and data-driven strategy. We believe that the power of people and AI can have a meaningful impact on your world, creating more fulfilling work and projects for our people and clients. For more information, visit www.blend360.com Job DescriptionWe are looking for our next Data Scientists. We have a couple of open positions for Lead and Senior Data Scientists. As Data Scientists, we spend the majority of our time on getting data into proper shape, performing statistical analyses, developing predictive models and machine learning algorithms to solve clients’ business problems. We evaluate different sources of data, discover patterns hidden within raw data, create insightful variables, and develop competing models with different machine learning algorithms. We validate and cross validate our recommendations to make sure our recommendations will perform well over time. The role will also include significant consulting / client facing work comprised of:Working with practice leaders and clients to understand clients’ business problem, industry context, data sources, potential risk and constraints. Collaborate with cross-functional teams to develop and deliver data-driven solutions that support key business initiativesDesign and implement, and optimize advanced models using Python, SQL and Google Cloud Platform (GCP)Apply mathematical optimization techniques to address real-world healthcare challenges;experience with Gurobi is a strong plusBuild and manage scalable data pipelines and orchestrate workflows using tools such as Airflow and DataprocEffectively communicate analytical findings and technical methodologies to both technical and non-technical stakeholdersQualificationsMinimum 3-4 years (Senior Data Scientist level) or 5-7 years (Lead Data Scientist level) of experience in data science or advanced analytics roles. Proficient in Python, SQL, and cloud-based environments (GCP preferred). Proven experience in mathematical optimization; hands-on use of Gurobi is highly desirable. Familiarity with workflow orchestration tools such as Airflow or Dataproc. Strong business acumen with the ability to rapidly integrate into and contribute to complex projects. Excellent verbal and written communication skills, with a demonstrated ability to engage effectively with diverse stakeholders. Additional InformationIf you are interested in the position, please include the following information in your cover letter:Your experience with Optimization? How much Optimization experience do you have?What are some optimization methods you've used. Which libraries or tools have you used for optimization?Have you used optimization in conjunction with machine learning models?Do you have experience with Linear/Integer Programming (Gurobi, CPLEX). Show more Show less \\n Marketing \\n Hospitals and Health Care, Non-profit Organizations, and Government Administration\"),\n",
       "  Document(id='8bf0a455-da62-4283-859e-3eda80d0a028', metadata={'company': 'CareDx, Inc.', 'title': 'Staff Data Scientist', 'level': 'Entry level', 'employment_type': 'Full-time', 'job_function': 'Engineering and Information Technology', 'industries': 'Hospitals and Health Care, Non-profit Organizations, and Government Administration', 'posted_time': '2 days ago', 'applicants': '35 applicants', 'parsing_link': 'https://www.linkedin.com/jobs-guest/jobs/api/jobPosting/4208280450', 'job_posting_link': 'https://www.linkedin.com/jobs/view/staff-data-scientist-at-caredx-inc-4208280450?trk=public_jobs_topcard-title', 'job_id': '4208280450', 'date': '2025-05-26'}, page_content='Staff Data Scientist \\n CareDx, Inc. \\n CareDx, Inc. is a leading precision medicine solutions company focused on the discovery, development, and commercialization of clinically differentiated, high-value healthcare solutions for transplant patients and caregivers. CareDx offers products, testing services, and digital healthcare solutions along the pre- and post-transplant patient journey, and is the leading provider of genomics-based information for transplant patients.As a member of the Enterprise Data Science and AI team, you will bring the rigor and innovation of data science to the non-R&D sectors of the company. Our data scientists identify the most significant opportunities to increase revenue and reduce costs within our Operations and Commercial organizations. They experiment with and track the effectiveness of interventions implemented in Sales, Marketing, CLIA, manufacturing, and other areas. Additionally, they advocate for and implement generative AI solutions to enhance workflows across the company, driving productivity and innovation. Our Data Scientists collaborate with and learn from peers across the organization, including biostatistics, bioinformatics, R&D data scientists, and data engineers. Responsibilities: Conduct exploratory data analysis on diverse datasets related to operations, sales, and marketing Research, build, interpret, optimize, and deploy predictive models Design and execute studies that can show causal relationships between actions and improved KPIs (i.e “AB testing” or “Growth Hacking”) Translate data insights into actionable business strategies through effective data storytelling, succinct communication, and impactful visualizations Maintain a collaborative, well documented, and repeatable workflow Collaborate with other data scientists, and importantly, our enterprise stakeholders Sought Skills and Experience: Organization of large datasets from multiple sources and data streams (SQL, excel, pandas, etc) Modeling of cross-section and time series phenomena (mixed effects models, regression, custom function optimization, autocorrelation, SARIMAX) Signal Processing and Filtering (Spectral Analyses, Fourier Transform, Kalman Filters, Hidden Markov Models) Model Deployment (code automation, serverless, streamlit.io) Machine Learning (Random Forest, SVM, Cross Validation) Generative AI (Prompt Engineering, RAG application) Static and dynamic data visualization (seaborn, plotly) Cloud environment (Azure, DataBricks) Fundamental statistics (e.g hypothesis testing, data distributions) Qualifications: PhD in Computer Science, Electrical Engineering, Biostatistics, or other related field or a Master’s degree with over 10 yrs of industry experience 4+ years of data science experience in a research or academic environment 4+ years of data science experience in industry environment Strong research skills , insatiable curiosity, and a dedication to understanding the “why” High Integrity Excellent communication skills, robust workflows, and strong instinct for documentation Demonstrated impact through data science (publications, cost savings, etc) Additional Details:Every individual at CareDx has a direct impact on our collective mission to improve the lives of organ transplant patients worldwide. We believe in taking great care of our people, so they take even greater care of our patients.Our competitive Total Rewards package includes:Competitive base salary and incentive compensationHealth and welfare benefits including a gym reimbursement program401(k) savings plan matchEmployee Stock Purchase PlanPre-tax commuter benefitsAnd more!In addition, we have a Living Donor Employee Recovery Policy that allows up to 30 days of paid leave annually to a full-time employee who makes the selfless act of donating an organ or bone marrow.With products that are making a difference in the lives of transplant patients today and a promising pipeline for the future, it’s an exciting time to be part of the CareDx team. Join us in partnering with transplant patients to transform our future together.CareDx, Inc. is an Equal Opportunity Employer and participates in the E-Verify program. By proceeding with our application and submitting your information, you acknowledge that you have read our U.S. Personnel Privacy Notice and consent to receive email communication from CareDx. We do not accept resumes from headhunters, placement agencies, or other suppliers that have not signed a formal agreement with us. Show more Show less \\n Engineering and Information Technology \\n Hospitals and Health Care, Non-profit Organizations, and Government Administration'),\n",
       "  Document(id='0e910e5e-8e8b-46e4-b157-53d51c1a15d4', metadata={'company': 'LogicMatrix', 'title': 'Senior Data Scientist', 'level': 'Not Applicable', 'employment_type': 'Full-time', 'job_function': 'Engineering and Information Technology', 'industries': 'Hospitals and Health Care, Non-profit Organizations, and Government Administration', 'posted_time': '14 hours ago', 'applicants': '67 applicants', 'parsing_link': 'https://www.linkedin.com/jobs-guest/jobs/api/jobPosting/4235419190', 'job_posting_link': 'https://www.linkedin.com/jobs/view/senior-data-scientist-at-logicmatrix-4235419190?trk=public_jobs_topcard-title', 'job_id': '4235419190', 'date': '2025-05-26'}, page_content=\"Senior Data Scientist \\n LogicMatrix \\n Minimum Years of Experience Required: 6+ YearsSalary range: $160,000 - $190,000 (for Senior/Experienced level)Eligibility to Work: To be eligible for this role, applicants should be a Permanent Resident or have existing legal authorization to work in the U.S. Visa sponsorship is not available at this time.About the Role: Join our team as an experienced Senior Data Scientist to extract valuable insights from complex datasets and apply advanced analytical and machine learning techniques to solve critical business problems within an AI tech company context. You will be responsible for the full data science lifecycle, from data collection and cleaning to model development, deployment, and interpretation. This role is for a seasoned professional with a strong analytical mindset, deep expertise in data science methodologies, and the ability to drive data-informed decision-making.Key Responsibilities:Identify and formulate business problems that can be solved with data science and AI techniques.Collect, clean, process, and explore large and complex datasets.Design, develop, and implement data models, statistical analyses, and machine learning algorithms.Build and evaluate predictive and prescriptive models to address business challenges.Collaborate with engineering and ML teams to integrate data science models and solutions into production systems.Communicate findings, insights, and the results of analyses and models to technical and non-technical stakeholders effectively, using visualizations and clear explanations.Stay up-to-date with the latest research and advancements in data science and machine learning.Contribute to the development of data pipelines and infrastructure for data science workflows.Mentor junior data scientists and share knowledge within the team.Qualifications:Minimum 6 years of experience in data science, statistical analysis, or machine learning.Proficiency in programming languages such as Python or R, and extensive experience with data science libraries and frameworks (e.g., Pandas, NumPy, Scikit-learn, TensorFlow, PyTorch).Strong understanding of statistical concepts, experimental design, and various machine learning algorithms.Experience with data manipulation, cleaning, and feature engineering.Experience with data visualization tools and techniques.Familiarity with cloud platforms (AWS, Azure, GCP) and big data technologies (e.g., Spark, Hadoop) is often preferred for senior roles.Master's or Ph.D. in a quantitative field (e.g., Statistics, Mathematics, Computer Science, Economics, Operations Research) is typically preferred for senior roles.Proven ability to translate business problems into data science solutions and communicate technical results clearly.Benefits:Comprehensive Health, Dental, and Vision InsuranceProfessional Development StipendFlexible Work Arrangements401(k) with company matchGenerous Paid Time Off and HolidaysStock Options or RSU programPaid Parental Leave Show more Show less \\n Engineering and Information Technology \\n Hospitals and Health Care, Non-profit Organizations, and Government Administration\"),\n",
       "  Document(id='38aa0efe-6f57-4bb7-a17d-2076f63f7ac7', metadata={'company': 'PEMCO', 'title': 'Principal Data & AI Scientist', 'level': 'Mid-Senior level', 'employment_type': 'Full-time', 'job_function': 'Analyst and Other', 'industries': 'Insurance', 'posted_time': '6 days ago', 'applicants': '50 applicants', 'parsing_link': 'https://www.linkedin.com/jobs-guest/jobs/api/jobPosting/4231425165', 'job_posting_link': 'https://www.linkedin.com/jobs/view/principal-data-ai-scientist-at-pemco-4231425165?trk=public_jobs_topcard-title', 'job_id': '4231425165', 'date': '2025-05-26'}, page_content=\"Principal Data & AI Scientist \\n PEMCO \\n Who We Are: At PEMCO we’re all about people – our customers, our employees, and the community. We’re a mutual insurance company owned by our Northwest policyholders. We provide auto, home, renters, and boat coverage. Recognized by Forbes as one of America’s Best Insurance Companies in both Auto and Home for 2025 based on customer survey feedback and by Newsweek as one of America’s Greatest Midsize Workplaces 2025. We are consistently recognized for our outstanding customer service, employee expertise, community partnerships, and social impact programs. All of which makes PEMCO a great place to work!Our social impact programs motivate high achievement by youth in education; build stronger and greener communities; and increase safety at home, on the road, and at play. We’re committed to diversity, equity, inclusion, and belonging, and to fostering an inspiring and inclusive workplace. These efforts create and cultivate an environment that builds fairness and understanding, encourages collaboration and flexibility, and celebrates all the ways in which we’re different and the same – enabling all individuals to achieve their full potential.Why We Need You:PEMCO has a dynamic and challenging opportunity for a Principal Data & AI Scientist to join our community. In this role, you will be responsible for designing, developing, and operationalizing advanced data science, machine learning, and AI solutions across core insurance domains such as underwriting, claims automation, pricing optimization, risk modeling, and customer lifecycle personalization.What You’ll Be Doing: Lead development and deployment of AI models leveraging both supervised and unsupervised learning techniques. Design, implement, and optimize Retrieval-Augmented Generation (RAG) pipelines for AI-driven decision support. Utilize Vector Databases and Knowledge Graphs to enhance AI applications in underwriting, claims processing, and customer engagement. Develop data pipelines for ingestion, transformation, and storage to support AI/ML workloads. Design and implement scalable solutions using cloud-based AI platforms such as Azure Machine Learning, Databricks and Snowflake. Implement MLOps best practices, including CI/CD for model training, validation, deployment, and monitoring. Develop generative AI models for personalized customer experiences and automation of complex decision-making processes. Apply natural language processing (NLP) techniques to analyze and extract insights from unstructured data sources. Optimize AI models for performance, scalability, and reliability in enterprise environments. Conduct architecture design reviews and performance tuning for AI/ML applications Work cross-functionally with business and technology teams to identify AI-driven opportunities and define strategies. Ensure compliance with ethical AI principles, model governance, and data privacy regulations. Demonstrate behaviors consistent with PEMCO's policies, values, code of ethics and business conduct. Authentically support the PEMCO Brand and constantly are on the lookout for top talent to join us to achieve our Mission to Worry Less and Live More. Other duties as assigned. Provide guidance, mentorship, knowledge sharing, and technical growth to team members. What You'll Bring: B.A. or B.S. degree or equivalent work experience in a related field, such as Computer Science, Software Engineering, Artificial Intelligence, Machine Learning, Data Science, or Data Engineering. Master’s degree or Ph.D. in a related field, such as Artificial Intelligence, Data Science, or Machine Learning preferred. 10 years of enterprise-scale experience in designing, implementing, and deploying AI/ML models. 7 years of experience working with cloud-based AI platforms, including Azure Machine Learning, Databricks, and Snowflake. 7 years of experience in implementing both supervised and unsupervised learning techniques in real-world applications. Experience in the insurance industry, particularly in Auto, Home, and Umbrella insurance processes, underwriting, claims analysis, and risk assessment is required. Experience working with advanced AI frameworks such as LangChain, LlamaIndex, and Hugging Face transformers is preferred. Hands-on experience with Gen AI, RAG pipelines, Vector Databases, and Knowledge Graphs. Strong problem-solving skills and a deep understanding of statistical and mathematical principles. Strong experience in natural language processing (NLP) and generative AI applications. Expertise in MLOps, model lifecycle management, and AI model deployment at scale. Proficient in Python, PySpark, and SQL. Deep understanding of Azure Databricks, Delta Lake, Unity Catalog, Azure Synapse Analytics, and Azure Data Factory. Experience with distributed model training and serving on Databricks Familiarity with Azure OpenAI, LLM fine-tuning, or cognitive services is preferred. Expertise in both supervised and unsupervised learning techniques and the ability to implement AI/ML solutions that enhance data-driven decision-making in the insurance industry, particularly in Auto, Home, and Umbrella insurance. Familiarity with agile software delivery methodologies such as Scrum. What We Value:In fostering a culture where everyone thrives, PEMCO embodies a set of core traits that guide our collective efforts. These traits include: Make Agile Decisions: Define desired outcomes. Use a consistent, inclusive approach. Drive decisions with a sense of urgency. Pivot decisions quickly as supported by data. Build Trust: Listen to understand and use direct and open communication. Engage in healthy debate with mutual respect. Find solutions and move forward together. Own Results: Commit to desired outcomes. Define and achieve success metrics. Anticipate and mitigate risks, and always have a plan B. Take accountability for and learn from outcomes. Empower Execution: Take action to drive desired outcomes. Act with initiative, mastery, and purpose. Explore Fearlessly: Make swift, iterative progress through testing and learning, create a safe place to fail fast and learn from mistakes, and continuously improve. Value People: Appreciate and care about unique experiences and perspectives Respect the dignity of others and have empathy for people Authentically and meaningfully support and recognize people in real time. These traits form the bedrock of our commitment to caring deeply for each other, our customers, and our community. As you become a part of PEMCO, your contribution will further enrich our success story, where the power of these shared values propels us forward.Compensation:The pay range for this role is shown below. Compensation decisions are determined based on an individual’s qualifications, job-related knowledge, skills, and experience. Greater Seattle area target pay range: $165,369-$202,117. The full pay range is $137,807-$229,679. Outside greater Seattle area target pay range: $145,941-$178,373. The full pay range is $121,617-$202,696. Greater Seattle Area is defined as working within approximately 100 miles of Seattle.Outside Greater Seattle is defined as working approximately 100 miles or more from Seattle.Benefits:Regular part-time PEMCO employees working at least 24 hours per week and regular full-time PEMCO employees are eligible to elect coverage under medical, dental, and vision plans for themselves and their eligible family members with generous employer premium cost shares. In addition, as a benefits-eligible employee, you are: covered by employer-paid basic life and accidental death & dismemberment insurance policies as well as long- and short-term disability benefit coverages. eligible to participate in PEMCO’s 401(k) plan which includes a generous employer match (2 for 1 on the first 6% employee pre-tax and/or Roth deferral, up to federal maximums). PEMCO provides the following paid leave programs for benefits-eligible employees in their first year of PEMCO employment: Vacation accrues at a rate of 10 days for new hires, and increases based on a schedule to a maximum annual accrual of 25 days based on tenure. Granted four (4) personal days immediately upon hire. Paid holidays for the eight (8) holidays observed by PEMCO throughout the calendar year. Granted up to ten (10) days of sick leave immediately upon hire (pro-rated based on hire date and full-time/part-time status), which is approximately 28 hours more per year than the Washington state-required accrual. In addition, PEMCO provides paid time off for bereavement, jury duty, and employee volunteering in the community. Other miscellaneous benefit programs offered by PEMCO include: Flexible Spending Accounts. Education Assistance Program after one year of service. Scholarship program for children of PEMCO employees after one year of service. Employee Assistance Program. Well-being program. Discretionary taxable gifts and gift cards. And other Perks & Benefits including discounts on computer software and hardware, cell phone plans, and rental cars. Other compensation depending on role, contributions, and performance may include: Discretionary bonuses. Tiered sales commissions and/or incentives (from 5-25% of employee’s monthly sales). Employee referral bonuses. Shift differential pay. Equal Employment Opportunity:At PEMCO, we celebrate and support our differences. We know employing a team rich in diverse thoughts, experiences, and opinions allows our employees, our products, and our community to flourish. PEMCO is honored to be an equal opportunity workplace. We are dedicated to equal employment opportunities regardless of race, color, ancestry, religion, sex, national orientation, age, citizenship, marital status, disability, gender identity, sexual orientation, or veteran status.Applicants have rights under Federal Employment Laws: Family and Medical Leave Act (FMLA) Equal Employment Opportunity (EEO) Employee Polygraph Protection Act (EPPA) Show more Show less \\n Analyst and Other \\n Insurance\"),\n",
       "  Document(id='6cc8a6f9-6b29-4151-a15d-816a1feadb9b', metadata={'company': 'PwC', 'title': 'People Tech - System Architect-Data Science Senior Manager', 'level': 'Director', 'employment_type': 'Full-time', 'job_function': 'Engineering and Information Technology', 'industries': 'Hospitals and Health Care, Non-profit Organizations, and Government Administration', 'posted_time': '3 days ago', 'applicants': 'N/A', 'parsing_link': 'https://www.linkedin.com/jobs-guest/jobs/api/jobPosting/4233956188', 'job_posting_link': 'https://www.linkedin.com/jobs/view/people-tech-system-architect-data-science-senior-manager-at-pwc-4233956188?trk=public_jobs_topcard-title', 'job_id': '4233956188', 'date': '2025-05-26'}, page_content=\"People Tech - System Architect-Data Science Senior Manager \\n PwC \\n Specialty/Competency: Data ScienceIndustry/Sector: Not ApplicableTime Type: Full timeTravel Requirements: Up to 20%At PwC, our people in data and analytics engineering focus on leveraging advanced technologies and techniques to design and develop robust data solutions for clients. They play a crucial role in transforming raw data into actionable insights, enabling informed decision-making and driving business growth. Those in data science and machine learning engineering at PwC will focus on leveraging advanced analytics and machine learning techniques to extract insights from large datasets and drive data-driven decision making. You will work on developing predictive models, conducting statistical analysis, and creating data visualisations to solve complex business problems.Growing as a strategic advisor, you leverage your influence, expertise, and network to deliver quality results. You motivate and coach others, coming together to solve complex problems. As you increase in autonomy, you apply sound judgment, recognising when to take action and when to escalate. You are expected to solve through complexity, ask thoughtful questions, and clearly communicate how things fit together. Your ability to develop and sustain high performing, diverse, and inclusive teams, and your commitment to excellence, contributes to the success of our Firm.SkillsExamples of the skills, knowledge, and experiences you need to lead and deliver value at this level include but are not limited to:Craft and convey clear, impactful and engaging messages that tell a holistic story.Apply systems thinking to identify underlying problems and/or opportunities.Validate outcomes with clients, share alternative perspectives, and act on client feedback.Direct the team through complexity, demonstrating composure through ambiguous, challenging and uncertain situations.Deepen and evolve your expertise with a focus on staying relevant.Initiate open and honest coaching conversations at all levels.Make difficult decisions and take action to resolve issues hindering team effectiveness.Model and reinforce professional and technical standards (e.g. refer to specific PwC tax and audit guidance), the Firm's code of conduct, and independence requirements.The OpportunityAs part of the Data Platform’s Data Solution team you are expected to work closely with leaders across product functions to design the analytics roadmap and to support and implement top quality data driven decisions and deliverables. As a Senior Manager you are expected to lead large projects, innovate processes, and maintain operational excellence while interacting with clients at a senior level to drive project success. You are expected to develop and implement quality controls and standards to confirm data integrity and quality.Responsibilities Design the analytics roadmap in collaboration with leaders Support and implement data-driven decisions Lead large projects confirming operational excellence Interact with clients at a strategic level to drive success Develop and implement quality controls for data integrity Innovate processes to enhance data quality Deliver top-quality data solutions Foster relationships with product function leadersWhat You Must Have High School Diploma 6 years of progressive roles managing IT architecture and engineering designs and domainsWhat Sets You Apart Bachelor's Degree in Information Technology, Computer Systems Analysis, Management Information Systems, Computer Applications, Computer Engineering, Computer Programming preferred Building relationships with clients and developing requests for information Prioritizing and handling multiple tasks Coaching and collaborating with colleagues Understanding application of analytical techniques Selecting necessary analytical techniques Designing analytics roadmap and supporting data-driven decisions Implementing quality controls and standards Programming with Python and JavaLearn more about how we work: https://pwc.to/how-we-workPwC does not intend to hire experienced or entry level job seekers who will need, now or in the future, PwC sponsorship through the H-1B lottery, except as set forth within the following policy: https://pwc.to/H-1B-Lottery-Policy.As PwC is an equal opportunity employer, all qualified applicants will receive consideration for employment at PwC without regard to race; color; religion; national origin; sex (including pregnancy, sexual orientation, and gender identity); age; disability; genetic information (including family medical history); veteran, marital, or citizenship status; or, any other status protected by law. For only those qualified applicants that are impacted by the Los Angeles County Fair Chance Ordinance for Employers, the Los Angeles' Fair Chance Initiative for Hiring Ordinance, the San Francisco Fair Chance Ordinance, San Diego County Fair Chance Ordinance, and the California Fair Chance Act, where applicable, arrest or conviction records will be considered for Employment in accordance with these laws. At PwC, we recognize that conviction records may have a direct, adverse, and negative relationship to responsibilities such as accessing sensitive company or customer information, handling proprietary assets, or collaborating closely with team members. We evaluate these factors thoughtfully to establish a secure and trusted workplace for all.Applications will be accepted until the position is filled or the posting is removed, unless otherwise set forth on the following webpage. Please visit this link for information about anticipated application deadlines: https://pwc.to/us-application-deadlinesThe salary range for this position is: $124,000 - $280,000, plus individuals may be eligible for an annual discretionary bonus. For roles that are based in Maryland, this is the listed salary range for this position. Actual compensation within the range will be dependent upon the individual's skills, experience, qualifications and location, and applicable employment laws. PwC offers a wide range of benefits, including medical, dental, vision, 401k, holiday pay, vacation, personal and family sick leave, and more. To view our benefits at a glance, please visit the following link: https://pwc.to/benefits-at-a-glance Show more Show less \\n Engineering and Information Technology \\n Hospitals and Health Care, Non-profit Organizations, and Government Administration\"),\n",
       "  Document(id='1fa21fb8-fd5c-4023-b2c2-3889834407e3', metadata={'company': 'Cardinal Health', 'title': 'Data Scientist, Operations Research', 'level': 'Entry level', 'employment_type': 'Full-time', 'job_function': 'Engineering and Information Technology', 'industries': 'Hospitals and Health Care, Non-profit Organizations, and Government Administration', 'posted_time': '2 days ago', 'applicants': 'N/A', 'parsing_link': 'https://www.linkedin.com/jobs-guest/jobs/api/jobPosting/4220342794', 'job_posting_link': 'https://www.linkedin.com/jobs/view/data-scientist-operations-research-at-cardinal-health-4220342794?trk=public_jobs_topcard-title', 'job_id': '4220342794', 'date': '2025-05-26'}, page_content=\"Data Scientist, Operations Research \\n Cardinal Health \\n What Data Science Contributes To Cardinal HealthThe Data and Analytics Function oversees the analytics life-cycle in order to identify, analyze and present relevant insights that drive business decisions and anticipate opportunities to achieve a competitive advantage. This function manages analytic data platforms, the access, design and implementation of reporting/business intelligence solutions, and the application of advanced quantitative modeling. Data Science applies base, scientific methodologies from various disciplines, techniques and tools that extracts knowledge and insight from data to solve complex business problems on large data sets, integrating multiple systems.Department/Team OverviewWe are looking for a Data Scientist, Operations Research Analyst to join our Decision Science Solutions (DS2) team. Our mission is to improve our pharmaceutical supply chain’s performance to better service our pharmacy customers, so that they can focus on their patients. The DS2 team consists of Supply Chain Data Scientists, Operations Research Analysts, Data Analysts, and Data Engineers. We work cross-functionally to solve problems leveraging a variety of skillsets and perspectives to achieve the best outcomes. We perform analyses, recommend solutions, and build products to enable better decision making in the following areas:Distribution center network design and capacity planningFacility layout and design; warehouse capacity and utilizationWarehouse process improvementLabor management and automationInventory management: stocking strategies and replenishment policiesTransportation planning: first mile, middle mile, and final mileSales and operations planning (resource management in response to demand changes)ResponsibilitiesAs a Data Scientist in Supply Chain Operations, you will apply your knowledge of business processes, systems, data, and analytical tools to explore and identify root causes of problems. You will forecast future demand, build optimization and simulation models, and communicate actionable insights. You will work with cross-functional project teams to ideate, develop, and recommend solutions. Specific responsibilities are to:Listen to clients and ask questions to clearly define business problems.Perform exploratory analysis to determine root causes of problems and confirm/disprove hypotheses.Develop predictive models to forecast future volumes that will drive capacity/resource needs.Develop customer and product segmentation models and design our supply chain to support differentiated services.Build optimization and simulation models to recommend capacity investments, resource plans, policy changes, and process changes to improve supply chain performance.Develop prescriptive models using 3rd party optimization/simulation software and custom-build models.Recommend solutions. Summarize the financial and operational impact of the recommendation and pros/cons of alternatives considered.Work with Data Engineers to create data models for analyses.Qualifications2-4 years of experience, preferredBachelor's degree in a quantitative field, or equivalent work experience, preferredMS/MBA with focus in Data Science, Operations Research, Industrial Engineering, or Statistics preferredDemonstrated ability to apply Data Science and Operations Research techniques to logistics and supply chain management problems preferredExperience with Structured Query Language (SQL) and working with databases preferred Experience with data analysis tools such as R, Python, SQL, Alteryx, Tableau, and SAS preferredExperience with Strategic Network Design, Simulation (e.g., AnyLogic), or Mathematical Programming (e.g., CPLEX) software preferred Proven ability to work as part of a team as the key analytical resourceExcellent communication skills with an ability to explain quantitative analysis in simple business termsIntellectual curiosity, humility, genuine respect and desire to help othersBias for action and passion for driving changeAbility to travel up to 5% What is expected of you and others at this levelApplies comprehensive knowledge and a thorough understanding of concepts, principles, and technical capabilities to perform varied tasks and projectsMay contribute to the development of policies and proceduresWorks on complex projects of large scopeDevelops technical solutions to a wide range of difficult problemsSolutions are innovative and consistent with organization objectivesCompletes work; independently receives general guidance on new projectsWork reviewed for purpose of meeting objectivesMay act as a mentor to less experienced colleaguesAnticipated salary range: $93,500 - $133,600Bonus eligible: NoBenefits: Cardinal Health offers a wide variety of benefits and programs to support health and well-being.Medical, dental and vision coveragePaid time off planHealth savings account (HSA)401k savings planAccess to wages before pay day with myFlexPayFlexible spending accounts (FSAs)Short- and long-term disability coverageWork-Life resourcesPaid parental leaveHealthy lifestyle programsApplication window anticipated to close: 7/1/2025 *if interested in opportunity, please submit application as soon as possible.The salary range listed is an estimate. Pay at Cardinal Health is determined by multiple factors including, but not limited to, a candidate’s geographical location, relevant education, experience and skills and an evaluation of internal pay equity.Candidates who are back-to-work, people with disabilities, without a college degree, and Veterans are encouraged to apply.Cardinal Health supports an inclusive workplace that values diversity of thought, experience and background. We celebrate the power of our differences to create better solutions for our customers by ensuring employees can be their authentic selves each day. Cardinal Health is an Equal Opportunity/Affirmative Action employer. All qualified applicants will receive consideration for employment without regard to race, religion, color, national origin, ancestry, age, physical or mental disability, sex, sexual orientation, gender identity/expression, pregnancy, veteran status, marital status, creed, status with regard to public assistance, genetic status or any other status protected by federal, state or local law. Show more Show less \\n Engineering and Information Technology \\n Hospitals and Health Care, Non-profit Organizations, and Government Administration\"),\n",
       "  Document(id='7e27dee0-a8ef-4c28-a166-2e334ba2845f', metadata={'company': 'RandomTrees', 'title': 'IoT Data Scientist', 'level': 'Mid-Senior level', 'employment_type': 'Contract', 'job_function': 'Information Technology', 'industries': 'IT Services and IT Consulting', 'posted_time': '4 days ago', 'applicants': 'N/A', 'parsing_link': 'https://www.linkedin.com/jobs-guest/jobs/api/jobPosting/4232805911', 'job_posting_link': 'https://www.linkedin.com/jobs/view/iot-data-scientist-at-randomtrees-4232805911?trk=public_jobs_topcard-title', 'job_id': '4232805911', 'date': '2025-05-26'}, page_content='IoT Data Scientist \\n RandomTrees \\n Building AI models for analyzing Oscillation FrequencyReal-time analytics & dashboarding for operational insights and predictive maintenanceCustom IoT solutions leveraging edge compute and cloud services. Show more Show less \\n Information Technology \\n IT Services and IT Consulting'),\n",
       "  Document(id='ffb36a7c-927c-4148-bf4e-dbcebd86ee64', metadata={'company': 'Haus', 'title': 'Data Scientist - Product Analytics', 'level': 'Entry level', 'employment_type': 'Full-time', 'job_function': 'Engineering and Information Technology', 'industries': 'Hospitals and Health Care, Non-profit Organizations, and Government Administration', 'posted_time': '5 days ago', 'applicants': 'N/A', 'parsing_link': 'https://www.linkedin.com/jobs-guest/jobs/api/jobPosting/4231059076', 'job_posting_link': 'https://www.linkedin.com/jobs/view/data-scientist-product-analytics-at-haus-4231059076?trk=public_jobs_topcard-title', 'job_id': '4231059076', 'date': '2025-05-26'}, page_content='Data Scientist - Product Analytics \\n Haus \\n About HausHaus is a marketing science platform that helps brands measure and maximize the business impact of their marketing spend with scientific precision. Over $360B spent annually on paid advertising in the US alone, and the famous quote “half the money I spend on advertising is wasted; the trouble is I don\\'t know which half” still rings true. Haus helps marketers identify which half, and re-allocate it to maximize growth.Haus was built by a team of former product managers, economists, and engineers from Google, Netflix, Meta, and others to make high-quality decision science accessible to businesses of all sizes. By automating the heavy lifting of experiment design, data processing, and insights generation, we empower our customers to make more profitable, data-driven decisions. We hear our customers frequently rave about our product, for example \"we\\'ve seen north of 10x ROI on our annual investment in Haus in the first 2 months alone.”Haus is on a hypergrowth trajectory, well-capitalized, and backed by top-tier VCs including Insight Partners, Baseline Ventures, Haystack, and others. We\\'re honored that Haus has once again been recognized and has made the list for 2025\\'s exceptional startups !What You\\'ll DoWe’re looking for a data scientist who thrives at the intersection of analytics and strategy. This role goes beyond writing SQL queries and building dashboards—you’ll be a thought partner to the product team, using data to shape decisions and drive the product roadmap.If the following questions excite you, this might be the right role for you:Oversee the overarching UI/UX of the product, while going deep on certain projectsWhat early signals predict customer churn, and how can we prevent it?How do customers use our platform to allocate their advertising budgets?Can we extract cross-customer insights from the experiments they run?Where do users encounter friction, and how can we eliminate it?How do we build a foundational data stack that accelerates future analyses?This role will report directly into the Head of Product and will be the first data scientist on the product team.Qualifications3+ years experience in product analyticsBachelor’s degree in a quantitative fieldExpertise in SQL and proficiency in at least one object-oriented language (Python, Java, etc.)About YouYou dream in SQLYou’re relentlessly curious and skeptical of data—always questioning assumptions and digging deepYou take initiative, spotting opportunities and running with themYou tell compelling stories with data (and you have strong opinions about bad visualizations)You prioritize impact, always focusing on what moves the business forwardBonus PointsExperience with dbtExperience with CDPs (e.g. Rudderstack)What We OfferCompetitive salary and startup equityTop of the line health, dental, and vision insurance401k planProvide you with the tools and resources you need to be productive (new laptop, equipment, you name it)$150,000 - $175,000 a yearSalary ranges are determined by role and level, and within the range individual pay is determined by additional factors including job-related skills, experience, and relevant education or training. Please note that the compensation details listed in this job posting reflect the base salary only, and do not include equity or benefits.Haus is an equal opportunity employer and makes employment decisions without regard to race, color, religion, sex, sexual orientation, gender identity, national origin, veteran status, disability status, age, or any other status protected by law. Show more Show less \\n Engineering and Information Technology \\n Hospitals and Health Care, Non-profit Organizations, and Government Administration'),\n",
       "  Document(id='8f3c0c90-bcce-4bcb-a458-c3f3f520ea47', metadata={'company': 'Blend', 'title': 'Senior Data Science Manager', 'level': 'Mid-Senior level', 'employment_type': 'Full-time', 'job_function': 'Marketing', 'industries': 'Hospitals and Health Care, Non-profit Organizations, and Government Administration', 'posted_time': '4 days ago', 'applicants': '39 applicants', 'parsing_link': 'https://www.linkedin.com/jobs-guest/jobs/api/jobPosting/4235530444', 'job_posting_link': 'https://www.linkedin.com/jobs/view/senior-data-science-manager-at-blend-4235530444?trk=public_jobs_topcard-title', 'job_id': '4235530444', 'date': '2025-05-26'}, page_content='Senior Data Science Manager \\n Blend \\n Company DescriptionBlend is a premier AI services provider, committed to co-creating meaningful impact for its clients through the power of data science, AI, technology, and people. With a mission to fuel bold visions, Blend tackles significant challenges by seamlessly aligning human expertise with artificial intelligence. The company is dedicated to unlocking value and fostering innovation for its clients by harnessing world-class people and data-driven strategy. We believe that the power of people and AI can have a meaningful impact on your world, creating more fulfilling work and projects for our people and clients. For more information, visit www.blend360.com Job DescriptionWe’re looking for a Lead Data Scientist with deep technical expertise and strong communication skills to lead end-to-end AI/ML projects for top-tier clients across marketing, customer experience, and business process optimization and operations.As a player-coach, you’ll combine technical leadership, team mentorship, and hands-on delivery to produce client-facing impacts — designing cutting-edge solutions from statistical models to GenAI agents. This role is ideal for someone who thrives on innovation and is passionate about delivering measurable business value through data.What You Will DoLead development of advanced analytics and AI/ML models (e.g., classification, time series, GenAI, computer vision, associative rules and decisioning). Design and oversee robust data pipelines using SQL, Spark, and cloud platforms (AWS, GCP, Azure). Architect and implement solutions involving LLMs, transformer-based models, and AI agents for generative tasks and automation. Manage and mentor a team of data scientists; guide project execution and professional development. Collaborate with business stakeholders to translate problems into machine learning solutions, deliver insights, and drive model deployment. Own model lifecycle: from data exploration to production deployment and monitoring (MLOps). Engage with multimodal data: text, image, audio, or behavioral data from web and app interactions. Ensure quality, reproducibility, and documentation of models and findings. QualificationsMS or PhD in Data Science, Statistics, Computer Science, or a related field. 5+ years of experience in applied machine learning and advanced analytics. Effective communication skills to technical and non-technical audiences. Proficiency in Python (and optionally R or Scala), including libraries like scikit-learn, TensorFlow, PyTorch. ect Hands-on experience with generative models (e.g., GPT, diffusion models) or multimodal AI. Experience using these models during development. Strong SQL and data engineering skills; Spark/Databricks experience is a plus. Experience deploying ML models to production (API, batch, or streaming environments). Comfortable leading projects and collaborating cross-functionally in a fast-paced, client-facing setting. Familiarity with A/B testing platforms (Optimizely, Adobe Target), cloud AI services, or explainable AI tools. Additional InformationAll your information will be kept confidential according to EEO guidelines. Show more Show less \\n Marketing \\n Hospitals and Health Care, Non-profit Organizations, and Government Administration'),\n",
       "  Document(id='e02fc60a-f13b-4942-a13e-82a722c0f385', metadata={'company': 'PwC', 'title': 'People Tech - System Architect-Data Science Senior Manager', 'level': 'Director', 'employment_type': 'Full-time', 'job_function': 'Engineering and Information Technology', 'industries': 'Hospitals and Health Care, Non-profit Organizations, and Government Administration', 'posted_time': '3 days ago', 'applicants': 'N/A', 'parsing_link': 'https://www.linkedin.com/jobs-guest/jobs/api/jobPosting/4233956180', 'job_posting_link': 'https://www.linkedin.com/jobs/view/people-tech-system-architect-data-science-senior-manager-at-pwc-4233956180?trk=public_jobs_topcard-title', 'job_id': '4233956180', 'date': '2025-05-26'}, page_content=\"People Tech - System Architect-Data Science Senior Manager \\n PwC \\n Specialty/Competency: Data ScienceIndustry/Sector: Not ApplicableTime Type: Full timeTravel Requirements: Up to 20%At PwC, our people in data and analytics engineering focus on leveraging advanced technologies and techniques to design and develop robust data solutions for clients. They play a crucial role in transforming raw data into actionable insights, enabling informed decision-making and driving business growth. Those in data science and machine learning engineering at PwC will focus on leveraging advanced analytics and machine learning techniques to extract insights from large datasets and drive data-driven decision making. You will work on developing predictive models, conducting statistical analysis, and creating data visualisations to solve complex business problems.Growing as a strategic advisor, you leverage your influence, expertise, and network to deliver quality results. You motivate and coach others, coming together to solve complex problems. As you increase in autonomy, you apply sound judgment, recognising when to take action and when to escalate. You are expected to solve through complexity, ask thoughtful questions, and clearly communicate how things fit together. Your ability to develop and sustain high performing, diverse, and inclusive teams, and your commitment to excellence, contributes to the success of our Firm.SkillsExamples of the skills, knowledge, and experiences you need to lead and deliver value at this level include but are not limited to:Craft and convey clear, impactful and engaging messages that tell a holistic story.Apply systems thinking to identify underlying problems and/or opportunities.Validate outcomes with clients, share alternative perspectives, and act on client feedback.Direct the team through complexity, demonstrating composure through ambiguous, challenging and uncertain situations.Deepen and evolve your expertise with a focus on staying relevant.Initiate open and honest coaching conversations at all levels.Make difficult decisions and take action to resolve issues hindering team effectiveness.Model and reinforce professional and technical standards (e.g. refer to specific PwC tax and audit guidance), the Firm's code of conduct, and independence requirements.The OpportunityAs part of the Data Platform’s Data Solution team you are expected to work closely with leaders across product functions to design the analytics roadmap and to support and implement top quality data driven decisions and deliverables. As a Senior Manager you are expected to lead large projects, innovate processes, and maintain operational excellence while interacting with clients at a senior level to drive project success. You are expected to develop and implement quality controls and standards to confirm data integrity and quality.Responsibilities Design the analytics roadmap in collaboration with leaders Support and implement data-driven decisions Lead large projects confirming operational excellence Interact with clients at a strategic level to drive success Develop and implement quality controls for data integrity Innovate processes to enhance data quality Deliver top-quality data solutions Foster relationships with product function leadersWhat You Must Have High School Diploma 6 years of progressive roles managing IT architecture and engineering designs and domainsWhat Sets You Apart Bachelor's Degree in Information Technology, Computer Systems Analysis, Management Information Systems, Computer Applications, Computer Engineering, Computer Programming preferred Building relationships with clients and developing requests for information Prioritizing and handling multiple tasks Coaching and collaborating with colleagues Understanding application of analytical techniques Selecting necessary analytical techniques Designing analytics roadmap and supporting data-driven decisions Implementing quality controls and standards Programming with Python and JavaLearn more about how we work: https://pwc.to/how-we-workPwC does not intend to hire experienced or entry level job seekers who will need, now or in the future, PwC sponsorship through the H-1B lottery, except as set forth within the following policy: https://pwc.to/H-1B-Lottery-Policy.As PwC is an equal opportunity employer, all qualified applicants will receive consideration for employment at PwC without regard to race; color; religion; national origin; sex (including pregnancy, sexual orientation, and gender identity); age; disability; genetic information (including family medical history); veteran, marital, or citizenship status; or, any other status protected by law. For only those qualified applicants that are impacted by the Los Angeles County Fair Chance Ordinance for Employers, the Los Angeles' Fair Chance Initiative for Hiring Ordinance, the San Francisco Fair Chance Ordinance, San Diego County Fair Chance Ordinance, and the California Fair Chance Act, where applicable, arrest or conviction records will be considered for Employment in accordance with these laws. At PwC, we recognize that conviction records may have a direct, adverse, and negative relationship to responsibilities such as accessing sensitive company or customer information, handling proprietary assets, or collaborating closely with team members. We evaluate these factors thoughtfully to establish a secure and trusted workplace for all.Applications will be accepted until the position is filled or the posting is removed, unless otherwise set forth on the following webpage. Please visit this link for information about anticipated application deadlines: https://pwc.to/us-application-deadlinesThe salary range for this position is: $124,000 - $280,000, plus individuals may be eligible for an annual discretionary bonus. For roles that are based in Maryland, this is the listed salary range for this position. Actual compensation within the range will be dependent upon the individual's skills, experience, qualifications and location, and applicable employment laws. PwC offers a wide range of benefits, including medical, dental, vision, 401k, holiday pay, vacation, personal and family sick leave, and more. To view our benefits at a glance, please visit the following link: https://pwc.to/benefits-at-a-glance Show more Show less \\n Engineering and Information Technology \\n Hospitals and Health Care, Non-profit Organizations, and Government Administration\"),\n",
       "  Document(id='643b45a3-d7de-4032-8a93-102e229d3120', metadata={'company': 'Intermedia Cloud Communications', 'title': 'Data Scientist', 'level': 'Not Applicable', 'employment_type': 'Full-time', 'job_function': 'Engineering and Information Technology', 'industries': 'IT Services and IT Consulting', 'posted_time': '2 days ago', 'applicants': 'N/A', 'parsing_link': 'https://www.linkedin.com/jobs-guest/jobs/api/jobPosting/4165605159', 'job_posting_link': 'https://www.linkedin.com/jobs/view/data-scientist-at-intermedia-cloud-communications-4165605159?trk=public_jobs_topcard-title', 'job_id': '4165605159', 'date': '2025-05-26'}, page_content='Data Scientist \\n Intermedia Cloud Communications \\n About IntermediaAre you looking for a company where YOUR VOICE is heard? Where you can MAKE A DIFFERENCE? Do you THRIVE in a FAST-PACED work environment? Do you wake every morning EXCITED to work with GREAT PEOPLE and create SUCCESS TOGETHER? Then Intermedia is the place for you.Intermedia has established itself as a leading provider of cloud communications and collaboration tech that allows companies to connect better. We have a strong track record of growth, profitability, and creating an environment where everyone matters. Everyone. While we are fast-paced and admittedly a bit intense, we promise that you won’t be bored. You will find Intermedia is a place where you can indulge your passion for creating and supporting great cloud technology. What’s more, we always look to promote from within and have many employees who have been with us 10, 15, and 20+ years!Culture at Intermedia is built on teamwork and transparency. We hold each other accountable and always have each other’s back!Are you ready to make your mark?About The Role:We are seeking a Data Scientist to develop and implement data-driven, AI-powered solutions across the organization. In this role, you will apply analytical, statistical, and programming expertise to clean, aggregate, and interpret large datasets—translating complex information into actionable insights. You will leverage machine learning algorithms, generative AI (Gen AI), and Retrieval Augmented Generation (RAG) methodologies to drive innovation, inform strategic decisions, and effectively communicate findings to both technical and non-technical stakeholders. If you have a passion for turning data into insights using cutting-edge technologies like Gen AI and RAG, thrive in a collaborative environment, and are eager to grow your analytical and machine learning skills, we encourage you to apply. This role offers the opportunity to directly impact our organization’s strategic decisions and innovation.What you will be doing:Data Handling & PreprocessingGather, preprocess, and analyze large volumes of structured and unstructured data (up to terabytes/petabytes) from multiple sources.Use SQL, Python, R, Spark, and other relevant tools in a cloud-native AWS environment.Machine Learning & ModelingDevelop and deploy unsupervised and supervised machine learning models, including deep learning solutions.Apply advanced methods in NLP, optimization, and neural networks to solve complex business problems.Integrate Gen AI solutions and RAG approaches to enhance data-driven insights and improve model performance.Generative AI & RAGExperiment with and implement generative AI techniques for tasks such as text generation, content summarization, and data augmentation.Use Retrieval Augmented Generation to enhance model outputs by incorporating external knowledge sources and providing contextually relevant information.Contribute to designing and developing end-to-end pipelines that combine LLMs (Large Language Models) with retrieval systems.Statistical AnalysisUtilize sampling, descriptive statistics, hypothesis testing, attribution analysis, multivariate segmentation, and recommender systems.Ensure data quality through comprehensive testing, validation, and performance evaluation of algorithms.Solution Delivery & ScalabilityBuild scalable, custom, and commercial solutions for internal and external customers.Combine business requirements, existing processes, and data knowledge to create effective analytical outcomes.Maintain and optimize ML/AI pipelines to handle large-scale data in an Agile environment.Collaboration & CommunicationWork alongside fellow data scientists, analysts, and data engineers to solve complex business problems at scale.Contribute to data pipelines, model training, testing, and deployment frameworks.Present insights and recommendations to diverse audiences, ensuring clarity and alignment with strategic goals.What you will bring to the role: Basic Qualifications:Bachelor’s degree in computer science, Mathematics, Statistics, Machine Learning, Analytics, Data Science, or a related field.Minimum of 2 years of experience in a data science or analytical role, including relevant coursework or practical projects.Preferred QualificationsMaster’s degree in computer science, Statistics, or a related field.3+ years of experience in a data science or analytical role, including relevant coursework or practical projects.2 year of hands-on experience in data science, applying machine learning techniques to real-world problems.Exposure to generative AI frameworks, NLP libraries, or retrieval-based solutions (e.g., LLMs, RAG workflows).Diversity, Inclusion, and Equal OpportunityWe hire, promote, and compensate employees based on their ability to perform their job responsibilities, without regard to race, color, creed, religion, sex, gender, marital status, national origin, ancestry, age, citizenship, physical or mental disability, sexual orientation, or any other basis protected by applicable law (collectively referred to in our Code of Conduct as “Protected Classes”). We do not tolerate employment discrimination in the workplace, and we are committed to making reasonable accommodations for identified disabilities or other limitations as required by all applicable laws. We are an equal opportunity employer and value diversity at our company. We do not discriminate on the basis of race, religion, color, national origin, gender, sexual orientation, age, marital status, veteran status, or disability status. Show more Show less \\n Engineering and Information Technology \\n IT Services and IT Consulting'),\n",
       "  Document(id='d753e179-67af-4469-bead-c9910fbbd765', metadata={'company': 'Jobgether', 'title': 'Senior Staff Data Scientist (Growth) - (Remote - US)', 'level': 'Mid-Senior level', 'employment_type': 'Full-time', 'job_function': 'Engineering and Information Technology', 'industries': 'Hospitals and Health Care, Non-profit Organizations, and Government Administration', 'posted_time': '4 days ago', 'applicants': '46 applicants', 'parsing_link': 'https://www.linkedin.com/jobs-guest/jobs/api/jobPosting/4235526090', 'job_posting_link': 'https://www.linkedin.com/jobs/view/senior-staff-data-scientist-growth-remote-us-at-jobgether-4235526090?trk=public_jobs_topcard-title', 'job_id': '4235526090', 'date': '2025-05-26'}, page_content='Senior Staff Data Scientist (Growth) - (Remote - US) \\n Jobgether \\n DescriptionAbout JobgetherJobgether is a Talent Matching Platform that partners with companies worldwide to efficiently connect top talent with the right opportunities through AI-driven job matching.One of our companies is currently looking for a Senior Staff Data Scientist (Growth) in United States.As a Senior Staff Data Scientist, you will play a pivotal role in driving business growth through the development and deployment of advanced machine learning models. Your expertise will help enhance customer experiences, optimize processes, and deliver actionable insights at scale. You will work closely with cross-functional teams, including product managers and engineers, to implement cutting-edge AI solutions and ensure they deliver tangible value in a production environment. This is a unique opportunity to shape the future of a fast-growing company while solving complex, high-impact problems.AccountabilitiesLead the end-to-end machine learning project lifecycle, including data collection, model development, deployment, and post-launch monitoring.Design and implement advanced statistical and machine learning models to improve customer experience and drive growth.Collaborate with business, product, and engineering teams to understand objectives and translate them into technical solutions.Develop and maintain robust data pipelines and infrastructure for model training, deployment, and scalability.Conduct exploratory data analysis and generate insights to inform strategic business decisions.Evaluate model performance, perform A/B testing, and continuously iterate to optimize accuracy and efficiency.Stay updated on industry trends, advancements in machine learning, and fintech to apply best practices.RequirementsMaster’s or Ph.D. in Statistics, Mathematics, Computer Science, or a related quantitative field.6+ years of experience in data science, specializing in statistical modeling and machine learning.Expertise in predictive modeling, causal inference, and optimization techniques to address business challenges.Proficient in Python, R, or similar programming languages with expertise in machine learning libraries such as scikit-learn, TensorFlow, and PyTorch.Experience with large datasets, cloud platforms (AWS, GCP), and distributed computing frameworks.Strong communication skills with the ability to explain complex technical models and insights to both technical and non-technical audiences.Proven track record of using data science to drive measurable business outcomes in a cross-functional setting.BenefitsCompetitive salary with base pay ranges: $209,000–$225,000 (for NY/NJ/CA) or $188,000–$203,000 (for other states)100% company-paid medical, dental, and vision insurance401(k) retirement plan + company equityUnlimited paid time off (with minimum PTO requirements) + 13 company-paid holidaysPaid parental leaveFlex Cares Program: Non-profit company match + pet adoption coverageFree Flex subscription for employeesOpportunity to work in a dynamic, inclusive, and collaborative environmentCompany equity and competitive pay for full-time employees, including remote-first options.Jobgether Hiring Process DisclaimerThis job is posted on behalf of one of our partner companies. If you choose to apply, your application will go through our AI-powered 3-step screening process, where we automatically select the 5 best candidates.Our AI thoroughly analyzes every line of your CV and LinkedIn profile to assess your fit for the role, evaluating each experience in detail. When needed, our team may also conduct a manual review to ensure only the most relevant candidates are considered.Our process is fair, unbiased, and based solely on qualifications and relevance to the job. Only the best-matching candidates will be selected for the next round.If you are among the top 5 candidates, you will be notified within 7 days.If you do not receive feedback after 7 days, it means you were not selected. However, if you wish, we may consider your profile for other similar opportunities that better match your experience.Thank you for your interest! Show more Show less \\n Engineering and Information Technology \\n Hospitals and Health Care, Non-profit Organizations, and Government Administration'),\n",
       "  Document(id='543a3ab0-f920-43d6-aa8c-5ad1ce367332', metadata={'company': 'Field Nation', 'title': 'Principal Data Scientist, Product', 'level': 'Mid-Senior level', 'employment_type': 'Full-time', 'job_function': 'Engineering and Information Technology', 'industries': 'Hospitals and Health Care, Non-profit Organizations, and Government Administration', 'posted_time': '3 days ago', 'applicants': '69 applicants', 'parsing_link': 'https://www.linkedin.com/jobs-guest/jobs/api/jobPosting/4206281690', 'job_posting_link': 'https://www.linkedin.com/jobs/view/principal-data-scientist-product-at-field-nation-4206281690?trk=public_jobs_topcard-title', 'job_id': '4206281690', 'date': '2025-05-26'}, page_content=\"Principal Data Scientist, Product \\n Field Nation \\n Who We AreField Nation brings companies and service professionals together through an integrated, easy-to-use platform. We support businesses looking to grow their service offerings while also empowering technicians to leverage their skills on their own terms. Our mission is to help the service delivery industry do great work, and we live that mission by doing great work for the companies and service professionals that depend on us.Why This Role Is Important To Field NationThe Principal Product Data Scientist role will be embedded in the product organization with an initial focus on improving quality in the marketplace. This will include optimizing in-product reputation signals, developing a quality supply coverage framework, enhancing a network quality dashboard and conducting analysis that supports improved decision making. As the only data scientist, you will have the opportunity to shape the future of Product Data Science at Field Nation. This role reports to the Chief Product Officer.What You'll Get To DoOperationalize + own the Marketplace Supply Coverage Framework to identify quality supply gaps, recommend solutions and measure the impact of coverage initiatives.Monitor + optimize Provider Quality Reputation Signals to ensure the metrics are fair, accurate, and improve buyer outcomes when utilized.Enhance the Network Quality Dashboard to track key metrics, balance clarity with depth, and generate actionable insights into the root causes of quality issues.Utilize data to influence the product roadmap and drive a measurable reduction in negative buyer outcomes.Conduct ad hoc analysis to identify opportunities and quantify the impact of initiatives across the Product organization.Establish a data-driven product development culture by defining, tracking, and operationalizing feature, product, and company-level metrics.Develop an experimentation program that enables measuring the success of new features through A/B testing.You Might Be a Good Fit If You HaveExperience: 8+ years in a Data Science or Product Analytics role, marketplace experience as well as experience building data solutions in product experiences strongly preferred.Analytical Skills: You have the skills to turn raw complex data into insights.Technical Skills: Advanced SQL skills and intermediate skills in a scripting language (R or Python).Ownership: Proactively takes ownership over success of initiatives from ideation to delivery to achieve the desired impact.Balancing trade offs: You choose the right level of complexity to most effectively solve the problem given constraints.Customer obsession: You understand the customer and how your insights or data solutions will improve their experience.Clear Communicator: Able to translate complex data insights into simple, actionable narratives for both technical and non-technical stakeholders.Cross-Functional Partnership: Able to effectively work with cross-functional stakeholders to understand the problems to solve and serve as a thought partner, providing recommendations for data driven approaches.Prioritization: Effectively prioritizes work based on product priorities and communicates any required trade offs to stakeholders.Experimentation: Proficient in designing and analyzing A/B tests, with consideration for marketplace dynamics and strategies for handling smaller sample sizes.Why We Think You'll Love It HereUnlimited paid time offAnnual vacation bonus - yes, we’ll pay you a bonus to take paid time off!Individualized growth + development plansStrong values around work/life balanceCommunity involvement opportunitiesCompetitive benefits: medical, dental, vision, paid parental leave + 401KExposure to cutting-edge technologies to solve meaningful problems$180,000 - $200,000 a yearAt Field Nation, we share the value of transparency and enable this during our recruiting process. We believe it’s important to share the compensation range to best understand the full opportunity of a role! We select our initial range based on reliable compensation survey data. Other factors we consider in setting the specific pay for an individual will generally include, among other things, experience, specialized skills, work location, and internal equity to provide competitive offers. Additionally, every role is eligible for variable pay dependent on the position. As an agile and growing organization, the business needs may change. This may result in us hiring someone with less or more experience than the job description states. If that does happen, we will communicate the updated salary range and the new role to you as a candidate. The range stated below is a starting point of the compensation conversation, we’d like to hear what your compensation expectations are too!Base Salary Range | Minnesota or other Zone 3 | $180,000 - 200,000Come As You AreAt Field Nation, we believe work is about more than checking the right boxes. If you don’t meet 100% of the requirements for this role, but still feel you’d be a good fit, we want to hear from you! We review all applications and may even have another open position where you are the perfect fit.Field Nation offers a flexible, highly collaborative, hybrid work environment. We are looking for people to join our high performance culture in the states of WA, OR, AZ, UT, CO, TX, NE, KS, MN, WI, IL, IN, MI, OH, KY, VA, NC, SC, GA, FL + CA.Employment is contingent on passing a pre-employment background check. Your written consent will be obtained prior to a background check being performed.#LI-REMOTE Show more Show less \\n Engineering and Information Technology \\n Hospitals and Health Care, Non-profit Organizations, and Government Administration\"),\n",
       "  Document(id='0c9ea7ce-4dc7-450d-8570-b96450158398', metadata={'company': 'Understanding Recruitment', 'title': 'Data Scientist - Fully Remote', 'level': 'Mid-Senior level', 'employment_type': 'Full-time', 'job_function': 'Information Technology', 'industries': 'Staffing and Recruiting', 'posted_time': '3 days ago', 'applicants': 'N/A', 'parsing_link': 'https://www.linkedin.com/jobs-guest/jobs/api/jobPosting/4233707934', 'job_posting_link': 'https://www.linkedin.com/jobs/view/data-scientist-fully-remote-at-understanding-recruitment-4233707934?trk=public_jobs_topcard-title', 'job_id': '4233707934', 'date': '2025-05-26'}, page_content='Data Scientist - Fully Remote \\n Understanding Recruitment \\n Data ScientistLocation: Remote (US)About UsA Series A startup with a leading database of crime, unrest, and media trends, delivering actionable insights via an innovative platform.ResponsibilitiesWrite and deploy Python scripts and SQL queries for large-scale data analysis.Solve customer problems using crime, unrest, and media data.Ensure production-ready code.Collaborate with CTO, Team Lead, and Product team.RequirementsProficient in Python and SQL; 5+ years’ experience +.US-based; able to attend annual meetings in DC.Ideal:Experience in national security, risk intelligence (cyber/physical), cybersecurity, insurance, or fintech.Familiarity with dual-use defence firms.Interview Process1- 2 hr tech challenge.CTO interview.Team Lead interview.Product team/CEO discussion. Show more Show less \\n Information Technology \\n Staffing and Recruiting'),\n",
       "  Document(id='d78cdd55-59da-4352-8848-7e95e2fcbdf0', metadata={'company': 'PwC', 'title': 'People Tech - System Architect-Data Science Senior Manager', 'level': 'Director', 'employment_type': 'Full-time', 'job_function': 'Engineering and Information Technology', 'industries': 'Hospitals and Health Care, Non-profit Organizations, and Government Administration', 'posted_time': '8 hours ago', 'applicants': 'N/A', 'parsing_link': 'https://www.linkedin.com/jobs-guest/jobs/api/jobPosting/4235413635', 'job_posting_link': 'https://www.linkedin.com/jobs/view/people-tech-system-architect-data-science-senior-manager-at-pwc-4235413635?trk=public_jobs_topcard-title', 'job_id': '4235413635', 'date': '2025-05-26'}, page_content=\"People Tech - System Architect-Data Science Senior Manager \\n PwC \\n Specialty/Competency: Data ScienceIndustry/Sector: Not ApplicableTime Type: Full timeTravel Requirements: Up to 20%At PwC, our people in data and analytics engineering focus on leveraging advanced technologies and techniques to design and develop robust data solutions for clients. They play a crucial role in transforming raw data into actionable insights, enabling informed decision-making and driving business growth. Those in data science and machine learning engineering at PwC will focus on leveraging advanced analytics and machine learning techniques to extract insights from large datasets and drive data-driven decision making. You will work on developing predictive models, conducting statistical analysis, and creating data visualisations to solve complex business problems.Growing as a strategic advisor, you leverage your influence, expertise, and network to deliver quality results. You motivate and coach others, coming together to solve complex problems. As you increase in autonomy, you apply sound judgment, recognising when to take action and when to escalate. You are expected to solve through complexity, ask thoughtful questions, and clearly communicate how things fit together. Your ability to develop and sustain high performing, diverse, and inclusive teams, and your commitment to excellence, contributes to the success of our Firm.SkillsExamples of the skills, knowledge, and experiences you need to lead and deliver value at this level include but are not limited to:Craft and convey clear, impactful and engaging messages that tell a holistic story.Apply systems thinking to identify underlying problems and/or opportunities.Validate outcomes with clients, share alternative perspectives, and act on client feedback.Direct the team through complexity, demonstrating composure through ambiguous, challenging and uncertain situations.Deepen and evolve your expertise with a focus on staying relevant.Initiate open and honest coaching conversations at all levels.Make difficult decisions and take action to resolve issues hindering team effectiveness.Model and reinforce professional and technical standards (e.g. refer to specific PwC tax and audit guidance), the Firm's code of conduct, and independence requirements.The OpportunityAs part of the Data Platform’s Data Solution team you are expected to work closely with leaders across product functions to design the analytics roadmap and to support and implement top quality data driven decisions and deliverables. As a Senior Manager you are expected to lead large projects, innovate processes, and maintain operational excellence while interacting with clients at a senior level to drive project success. You are expected to develop and implement quality controls and standards to confirm data integrity and quality.Responsibilities Design the analytics roadmap in collaboration with leaders Support and implement data-driven decisions Lead large projects confirming operational excellence Interact with clients at a strategic level to drive success Develop and implement quality controls for data integrity Innovate processes to enhance data quality Deliver top-quality data solutions Foster relationships with product function leadersWhat You Must Have High School Diploma 6 years of progressive roles managing IT architecture and engineering designs and domainsWhat Sets You Apart Bachelor's Degree in Information Technology, Computer Systems Analysis, Management Information Systems, Computer Applications, Computer Engineering, Computer Programming preferred Building relationships with clients and developing requests for information Prioritizing and handling multiple tasks Coaching and collaborating with colleagues Understanding application of analytical techniques Selecting necessary analytical techniques Designing analytics roadmap and supporting data-driven decisions Implementing quality controls and standards Programming with Python and JavaLearn more about how we work: https://pwc.to/how-we-workPwC does not intend to hire experienced or entry level job seekers who will need, now or in the future, PwC sponsorship through the H-1B lottery, except as set forth within the following policy: https://pwc.to/H-1B-Lottery-Policy.As PwC is an equal opportunity employer, all qualified applicants will receive consideration for employment at PwC without regard to race; color; religion; national origin; sex (including pregnancy, sexual orientation, and gender identity); age; disability; genetic information (including family medical history); veteran, marital, or citizenship status; or, any other status protected by law. For only those qualified applicants that are impacted by the Los Angeles County Fair Chance Ordinance for Employers, the Los Angeles' Fair Chance Initiative for Hiring Ordinance, the San Francisco Fair Chance Ordinance, San Diego County Fair Chance Ordinance, and the California Fair Chance Act, where applicable, arrest or conviction records will be considered for Employment in accordance with these laws. At PwC, we recognize that conviction records may have a direct, adverse, and negative relationship to responsibilities such as accessing sensitive company or customer information, handling proprietary assets, or collaborating closely with team members. We evaluate these factors thoughtfully to establish a secure and trusted workplace for all.Applications will be accepted until the position is filled or the posting is removed, unless otherwise set forth on the following webpage. Please visit this link for information about anticipated application deadlines: https://pwc.to/us-application-deadlinesThe salary range for this position is: $124,000 - $280,000, plus individuals may be eligible for an annual discretionary bonus. For roles that are based in Maryland, this is the listed salary range for this position. Actual compensation within the range will be dependent upon the individual's skills, experience, qualifications and location, and applicable employment laws. PwC offers a wide range of benefits, including medical, dental, vision, 401k, holiday pay, vacation, personal and family sick leave, and more. To view our benefits at a glance, please visit the following link: https://pwc.to/benefits-at-a-glance Show more Show less \\n Engineering and Information Technology \\n Hospitals and Health Care, Non-profit Organizations, and Government Administration\"),\n",
       "  Document(id='d6824024-3a62-4011-93e9-dda51ef9b88a', metadata={'company': 'Galent', 'title': 'Senior Data Scientist', 'level': 'Mid-Senior level', 'employment_type': 'Contract', 'job_function': 'Information Technology', 'industries': 'Information Services', 'posted_time': '3 days ago', 'applicants': 'N/A', 'parsing_link': 'https://www.linkedin.com/jobs-guest/jobs/api/jobPosting/4233768047', 'job_posting_link': 'https://www.linkedin.com/jobs/view/senior-data-scientist-at-galent-4233768047?trk=public_jobs_topcard-title', 'job_id': '4233768047', 'date': '2025-05-26'}, page_content='Senior Data Scientist \\n Galent \\n Data Scientist with Pyspark and Python Location : Remote Contract RAG architectureStructured output and retrieshallucinations eliminationhardware optimizationcost management and optimizationLLM evaluatorImplement few shot learning fewshot learningvector database and semantic search serviceshybrid search a plusLoRA finetuning a plusSkillsMandatory Skills : PySpark-Data Science,Statistics-Data Science Show more Show less \\n Information Technology \\n Information Services'),\n",
       "  Document(id='29fed994-c3e0-465d-85af-a0fe4d88eb26', metadata={'company': 'Orion Group', 'title': 'Data Scientist III', 'level': 'Mid-Senior level', 'employment_type': 'Temporary', 'job_function': 'Information Technology, Science, and Analyst', 'industries': 'Pharmaceutical Manufacturing, Biotechnology Research, and Medical Equipment Manufacturing', 'posted_time': '5 days ago', 'applicants': 'N/A', 'parsing_link': 'https://www.linkedin.com/jobs-guest/jobs/api/jobPosting/4234729664', 'job_posting_link': 'https://www.linkedin.com/jobs/view/data-scientist-iii-at-orion-group-4234729664?trk=public_jobs_topcard-title', 'job_id': '4234729664', 'date': '2025-05-26'}, page_content='Data Scientist III \\n Orion Group \\n Data Scientist IIILocation: Remote6+ month contract to startHourly Pay Rate: $75-78/hr (individual medical benefits available at a cost)Key Responsibilities:Collaborate with cross-functional teams to design, develop, and implement AI models tailored to business needs.Internalize and integrate external AI programs and ensuring compatibility with our systems.Utilize Python/PyTorch/TensorFlow and other programming languages for developing and refining deep learning modelsResearch and implement large language models (LLMs) and contribute to their adaptation in Real World Data analysisImplement and apply Bayesian modeling techniques in multimodal data analysisSupport troubleshooting, optimization, and potential updates of AI models to improve performance.Qualifications:PhD in Computational Science, Computer Science, Data Science, or a related field (fresh graduates are welcome). Masters degree also acceptable with 5+ years of experience but prefer PhD.Proficiency in Python programming, with demonstrable experience in PyTorch or TensorFlow.Understanding of large language models and applied experience in deploying AI/ML solutions.Familiarity with Bayesian modeling and its application within AI frameworks is an advantage.Strong problem-solving abilities and analytical skills.Preferred Skills:Experience working at the intersection of AI and biology, with a focus on applying AI methodologies to biological data and research.Experience in image analysis using deep learning techniquesExperience in cloud computing environmentsExposure to other programming languages or AI frameworks (e.g., BERT, LLAMA). Show more Show less \\n Information Technology, Science, and Analyst \\n Pharmaceutical Manufacturing, Biotechnology Research, and Medical Equipment Manufacturing'),\n",
       "  Document(id='b551ff80-e458-40b9-bdec-8a89b121d78c', metadata={'company': 'Mozilla', 'title': 'Senior Staff Data Scientist', 'level': 'Mid-Senior level', 'employment_type': 'Full-time', 'job_function': 'Engineering and Information Technology', 'industries': 'Hospitals and Health Care, Non-profit Organizations, and Government Administration', 'posted_time': '5 days ago', 'applicants': '129 applicants', 'parsing_link': 'https://www.linkedin.com/jobs-guest/jobs/api/jobPosting/4226236274', 'job_posting_link': 'https://www.linkedin.com/jobs/view/senior-staff-data-scientist-at-mozilla-4226236274?trk=public_jobs_topcard-title', 'job_id': '4226236274', 'date': '2025-05-26'}, page_content='Senior Staff Data Scientist \\n Mozilla \\n To learn the Hiring Ranges for this position, please select your location from the Apply Now dropdown menu.To learn more about our Hiring Range System, please click this link.Why Mozilla?Mozilla Corporation is the non-profit-backed technology company that has shaped the internet for the better over the last 25 years. We make pioneering brands like Firefox, the privacy-minded web browser, and Pocket, a service for keeping up with the best content online. Now, with more than 225 million people around the world using our products each month, we’re shaping the next 25 years of technology and helping to reclaim an internet built for people, not companies. Our work focuses on diverse areas including AI, social media, security and more. And we’re doing this while never losing our focus on our core mission – to make the internet better for people.The Mozilla Corporation is wholly owned by the non-profit 501(c) Mozilla Foundation. This means we aren’t beholden to any shareholders — only to our mission. Along with thousands of volunteer contributors and collaborators all over the world, Mozillians design, build and distribute open-source software that enables people to enjoy the internet on their terms.About This Team And RoleAs a Sr. Staff Data Scientist, you’ll be taking a lead role in a cross-functional team that is responsible for understanding and empowering the future of Mozilla.The RoleThe Data Science team sits at the intersection of product, marketing, engineering, finance, business, and leadership. We collaborate closely with these partners to create impactful data products. As a leader on this team, you will serve as a data expert who can represent the function of data science broadly across Mozilla, while helping the team advance its practice.As a Sr. Staff Data Scientist at Mozilla you will:Drive the vision and execution of work, often to address ambiguous issues, that creates impact across organizations.Generate data-informed insights and communicate these narratives with data to a range of technical and non-technical colleagues to influence decision making and uplevel data fluency across MozillaApply a variety of statistical methods to understand user behaviors and long-term trends. Define, forecast, evaluate, and report on key business metrics.Build key data sets to empower operational and exploratory analysis.Advocate for standard methodologies across the organization.Design and implement instrumentation and data models to improve product and business visibility.Your Professional ProfileYou lead with empathy. You value teamwork and teammates. You are invested in knowledge sharing and learning from others. You contribute positively and meaningfully to cultivate an inclusive and equitable team culture. You consider contributing to a collaborative and open team culture an important responsibility.You have a background in quantitative analysis knowing how to analyze, visualize, and interpret data and have 10+ years of experience applying these skills in an industry setting. You have used forecasting or other predictive methods on large scale data. Working on machine learning in production is a plus.You are well-versed in data platforms and productionalizing insights at scale. You also have experience with product analytics platforms (e.g., PostHog, Amplitude) and their implementation. You have experience bridging the gap between data science, data engineering, and business stakeholders.You have experience with extracting data from a variety of sources using SQL or SQL-like tools as well as scripting languages such as Python or R.You take stakeholder needs into account, bridging methodology and data into meaningful strategy from your analyses. You are a communicator who crafts impactful data narratives that inform company decisions around product, business, and finance.You have a passion for a healthy web and the well-being of its users. You are conversant about the challenges and opportunities that exist where Mozilla has impact.Commitment to our values:Welcoming differencesBeing relationship-mindedPracticing responsible participationHaving gritWhat You’ll GetGenerous performance-based bonus plans to all eligible employees - we share in our success as one teamRich medical, dental, and vision coverageGenerous retirement contributions with 100% immediate vesting (regardless of whether you contribute)Quarterly all-company wellness days where everyone takes a pause togetherCountry specific holidays plus a day off for your birthdayOne-time home office stipendAnnual professional development budgetQuarterly well-being stipendConsiderable paid parental leaveEmployee referral bonus programOther benefits (life/AD&D, disability, EAP, etc. - varies by country)About MozillaWhen you work at Mozilla, you give yourself a chance to make a difference in the lives of web users everywhere. And you give us a chance to make a difference in your life every single day. Join us to work on the web as the platform and help create more opportunity and innovation for everyone online. We’re not a normal tech company. The things we create prioritize people and their privacy over profits. We exist to make the internet a healthier, happier place for everyone.Commitment to diversity, equity and inclusionMozilla believes in the value of diverse creative practices and forms of knowledge, and knows diversity, equity and inclusion are crucial to and enrich the company’s core mission. We encourage applications from everyone, including members of all equity-seeking communities, such as (but not limited to) women, racialized and Indigenous persons, persons with disabilities, persons of all sexual orientations, gender identities and expressions.We will ensure that qualified individuals with disabilities are provided reasonable accommodations to participate in the job application or interview process, to perform essential job functions, and to receive other benefits and privileges of employment, as appropriate. Please contact us at hiringaccommodation@mozilla.com to request accommodation.We are an equal opportunity employer. We do not discriminate on the basis of race (including hairstyle and texture), religion (including religious grooming and dress practices), gender, gender identity, gender expression, color, national origin, pregnancy, ancestry, domestic partner status, disability, sexual orientation, age, genetic predisposition, medical condition, marital status, citizenship status, military or veteran status, or any other basis covered by applicable laws. Mozilla will not tolerate discrimination or harassment based on any of these characteristics or any other unlawful behavior, conduct, or purpose.Group: CReqID: R2771Hiring RangesUS Tier 1 Locations$216,000—$288,000 USDUS Tier 2 Locations$199,000—$265,000 USDUS Tier 3 Locations$184,000—$245,000 USD Show more Show less \\n Engineering and Information Technology \\n Hospitals and Health Care, Non-profit Organizations, and Government Administration'),\n",
       "  Document(id='24a30b21-978f-49bd-9e39-d7389870a418', metadata={'company': 'Curate Partners', 'title': 'Data Scientist (Statistical inference, causal inference, experimental design, A/B testing, etc.)', 'level': 'Mid-Senior level', 'employment_type': 'Contract', 'job_function': 'Information Technology', 'industries': 'IT Services and IT Consulting', 'posted_time': '3 days ago', 'applicants': 'N/A', 'parsing_link': 'https://www.linkedin.com/jobs-guest/jobs/api/jobPosting/4236104639', 'job_posting_link': 'https://www.linkedin.com/jobs/view/data-scientist-statistical-inference-causal-inference-experimental-design-a-b-testing-etc-at-curate-partners-4236104639?trk=public_jobs_topcard-title', 'job_id': '4236104639', 'date': '2025-05-26'}, page_content='Data Scientist (Statistical inference, causal inference, experimental design, A/B testing, etc.) \\n Curate Partners \\n Senior Data Scientist (Remote - U.S. | Eastern Time Hours)We’re seeking a Senior Data Scientist with deep expertise in statistical inference, causal inference, experimental design, and A/B testing to join our growing analytics team. In this role, you’ll design and analyze experiments, uncover actionable insights, and guide data-driven decision-making across key business areas. This is a fully remote position within the U.S., with working hours aligned to Eastern Time.Key Skills:A/B testing & experimental designStatistical & causal inferenceStrong proficiency in Python, SQL, and data visualization toolsAbility to translate complex analysis into clear business recommendationsHealthcare is a plus! Show more Show less \\n Information Technology \\n IT Services and IT Consulting'),\n",
       "  Document(id='239055d9-e97c-468f-b49d-14101f6590d0', metadata={'company': 'Lensa', 'title': 'Operations Research Analyst / Data Scientist (Remote)', 'level': 'Mid-Senior level', 'employment_type': 'Full-time', 'job_function': 'Research, Analyst, and Information Technology', 'industries': 'Hospitals and Health Care, Non-profit Organizations, and Government Administration', 'posted_time': '2 days ago', 'applicants': 'N/A', 'parsing_link': 'https://www.linkedin.com/jobs-guest/jobs/api/jobPosting/4231984388', 'job_posting_link': 'https://www.linkedin.com/jobs/view/operations-research-analyst-data-scientist-remote-at-lensa-4231984388?trk=public_jobs_topcard-title', 'job_id': '4231984388', 'date': '2025-05-26'}, page_content=\"Operations Research Analyst / Data Scientist (Remote) \\n Lensa \\n Lensa is the leading career site for job seekers at every stage of their career. Our client, GovCIO, is seeking professionals. Apply via Lensa today!OverviewGovCIO is currently hiring for an Operations Research Analyst / Data Scientist to support database development, data configuration, data analytics, and reporting activities at Department of Homeland Security (DHS) Immigration and Customs Enforcement (ICE). This role will be responsible for working within an interconnected reporting and analytics team to pull, configure, and analyze data to create real-time metrics, tasking responses, and overall information to support the ICE mission. This will be a fully remote position.ResponsibilitiesProvide effective data management to enable complex analytics from a myriad of systems and software including Oracle, Databricks, AWS, and ServiceNow Ability to align data with data analytic tools such as Power BI, Tableau, and Qlik Dashboards. Facilitate the needs, issues, and challenges faced by the clients; perform gap analysis and recommend solutions and can be enabled within the data systems. Provide trade-off analyses on technical solutions to determine the best tools and methodologies to solve complex data requests. Create project deliverables, including artifacts to ensure adherence to team compliance and quality standards. Use source data to assess the effectiveness of projects and business processes. Work with all team members to analyze changes in requirements and recommend the most expedient solutions in a timely manner. Enable end-user visibility of data and metrics via dashboard creation and metric dissemination Leverage advanced analytic skills to translate complicated issues from multiple information sources into a clear picture for mission leadership. QualificationsRequired Skills and Experience:Bachelor’s Degree 5+ years of work experience (2 years of experience may be removed for a masters degree) 2+ years of experience in data exploration, data cleaning, visualization, and overall data analytics 2+ years of experience in data visualization tools such as Qlik or PowerBI Preferred Skills And ExperienceExperience in distributed data and computing tools including Databricks Experience with data modeling, mapping data flows and data design. Excellent data analytic and communication skills. Strong analytical, problem-solving, and organizational abilities. Ability to work independently in an extremely fast-paced environment. Be flexible to change direction on a moment’s notice while also tracking/executing tasks in progress. Ability to think “outside of the box” while communicating or dealing with a variety of situations. Clearance RequiredAbility to attain and maintain DHS clearance (US citizenship required)Company OverviewGovCIO is a team of transformers--people who are passionate about transforming government IT. Every day, we make a positive impact by delivering innovative IT services and solutions that improve how government agencies operate and serve our citizens.But we can't do it alone. We need great people to help us do great things - for our customers, our culture, and our ability to attract other great people. We are changing the face of government IT and building a workforce that fuels this mission. Are you ready to be a transformer?We are an Equal Opportunity Employer. All qualified applicants will receive consideration for employment without regard to race, color, religion, sex, gender, gender identity or expression, sexual orientation, national origin, disability, or status as a protected veteran. EOE, including disability/vets.Posted Pay RangeThe posted pay range, if referenced, reflects the range expected for this position at the commencement of employment, however, base pay offered may vary depending on multiple individualized factors, including market location, job-related knowledge, skills, education, experience, and internal equity. The total compensation package for this position may also include other compensation elements, to be discussed during the hiring process. If hired, employee will be in an “at-will position” and the GovCIO reserves the right to modify base salary (as well as any other discretionary payment or compensation program) at any time, including for reasons related to individual performance, GovCIO or individual department/team performance, and market factors.Posted Salary RangeUSD $90,000.00 - USD $100,000.00 /Yr.Submit a referral to this job (https://careers-govcio.icims.com/jobs/5856/operations-research-analyst---data-scientist-%28remote%29/job?mode=apply&apply=yes&in_iframe=1&hashed=-1834385473)Location US-RemoteID 2025-5856Category Information TechnologyPosition Type Full-Time Show more Show less \\n Research, Analyst, and Information Technology \\n Hospitals and Health Care, Non-profit Organizations, and Government Administration\"),\n",
       "  Document(id='47191d58-9700-49e0-9532-425d0bf984b0', metadata={'company': 'Lensa', 'title': 'Principal Data Scientist - Generative AI, Machine Learning, Python, R - Remote', 'level': 'Entry level', 'employment_type': 'Full-time', 'job_function': 'Engineering and Information Technology', 'industries': 'Hospitals and Health Care, Non-profit Organizations, and Government Administration', 'posted_time': '2 hours ago', 'applicants': 'N/A', 'parsing_link': 'https://www.linkedin.com/jobs-guest/jobs/api/jobPosting/4235493164', 'job_posting_link': 'https://www.linkedin.com/jobs/view/principal-data-scientist-generative-ai-machine-learning-python-r-remote-at-lensa-4235493164?trk=public_jobs_topcard-title', 'job_id': '4235493164', 'date': '2025-05-26'}, page_content='Principal Data Scientist - Generative AI, Machine Learning, Python, R - Remote \\n Lensa \\n Lensa is the leading career site for job seekers at every stage of their career. Our client, Molina Healthcare, is seeking professionals. Apply via Lensa today!Job DescriptionJob SummaryResponsible for overseeing data science projects, managing and mentoring a team, and aligning data initiatives with business goals. Lead the development and implementation of data models, collaborate with cross-functional teams, and stay updated on industry trends. Ensure ethical data use and communicate complex technical concepts to non-technical stakeholders. Lead initiatives on model governance and model ops to align with regulatory and security requirements. This role requires technical expertise, strategic thinking, and leadership to drive data-driven decision-making within the organization and be the pioneer on generative AI healthcare solutions, aimed at revolutionizing healthcare operations as well as enhancing member experience.Job Duties Research and Development: Stay current with the latest advancements in AI and machine learning and apply these insights to improve existing models and develop new methodologies. AI Model Deployment, Monitoring & Model Governance: Deploy AI models into production environments, monitor their performance, and adjust as necessary to maintain accuracy and effectiveness and meet all governance and regulatory requirements. Innovation Projects: Lead pilot projects to test and implement new AI technologies within the organization Data Analysis and Interpretation: Extract meaningful insights from complex datasets, identify patterns, and interpret data to inform strategic decision-making. Machine Learning Model Development : Design, develop, and train machine learning models using a variety of algorithms and techniques, including supervised and unsupervised learning, deep learning, and reinforcement learning. Agentic Workflows Implementation: Develop and implement agentic workflows that utilize AI agents for autonomous task execution, enhancing operational efficiency and decision-making capabilities. RAG Pattern Utilization: Employ retrieval-augmented generation patterns to improve the performance of language models, ensuring they can access and utilize external knowledge effectively to enhance their outputs. Model Fine-Tuning : Fine-tune pre-trained models to adapt them to specific tasks or datasets, ensuring optimal performance and relevance in various applications. Data Cleaning and Preprocessing: Prepare data for analysis by performing data cleaning, handling missing values, and removing outliers to ensure high-quality inputs for modeling. Collaboration: Work closely with cross-functional teams, including software engineers, product managers, and business analysts, to integrate AI solutions into existing systems and processes. Documentation and Reporting: Create comprehensive documentation of models, methodologies, and results; communicate findings clearly to non-technical stakeholders. Mentors, coaches, and provides guidance to newer data scientists. Partner closely with business and other technology teams to build ML models which helps in improving Star ratings, reduce care gap and other business objectives. Present complex analytical information to all level of audiences in a clear and concise manner Collaborate with analytics team, assigning and managing delivery of analytical projects as appropriate Perform other duties as business requirements change, looking out for data solutions and technology enabled solution opportunities and make referrals to the appropriate team members in building out payment integrity solutions. Use a broad range of tools and techniques to extract insights from current industry or sector trendsJob QualificationsREQUIRED EDUCATION:Master’s Degree in Computer Science, Data Science, Statistics, or a related fieldRequired Experience/Knowledge, Skills & Abilities 10+ years’ work experience as a data scientist preferably in healthcare environment but candidates with suitable experience in other industries will be considered Knowledge of big data technologies (e.g., Hadoop, Spark) Familiar with relational database concepts, and SDLC concepts Demonstrate critical thinking and the ability to bring order to unstructured problems Technical Proficiency: Strong programming skills in languages such as Python and R, and experience with machine learning frameworks like TensorFlow, Keras, or PyTorch. Statistical Analysis: Excellent understanding of statistical methods and machine learning algorithms, including k-NN, Naive Bayes, SVM, and neural networks. Experience with Agentic Workflows: Familiarity with designing and implementing agentic workflows that leverage AI agents for autonomous operations. RAG Techniques: Knowledge of retrieval-augmented generation techniques and their application in enhancing AI model outputs. Model Fine-Tuning Expertise: Proven experience in fine-tuning models for specific tasks, ensuring they meet the required performance metrics. Data Visualization: Proficiency in data visualization tools (e.g., Tableau, Power BI) to present complex data insights effectively. Database Management: Experience with SQL and NoSQL databases, data warehousing, and ETL processes. Problem-Solving Skills: Strong analytical and problem-solving abilities, with a focus on developing innovative solutions to complex challenges.Preferred EducationPHD or additional experiencePreferred Experience Experience with cloud platforms (e.g., Databricks, Snowflake, Azure AI Studio etc.) for working with AI workflows and deploying models. Familiarity with natural language processing (NLP) and computer vision techniques.#PJCorp2To all current Molina employees: If you are interested in applying for this position, please apply through the intranet job listing.Molina Healthcare offers a competitive benefits and compensation package. Molina Healthcare is an Equal Opportunity Employer (EOE) M/F/D/V.Pay Range: $117,731 - $275,491 / ANNUALActual compensation may vary from posting based on geographic location, work experience, education and/or skill level. Show more Show less \\n Engineering and Information Technology \\n Hospitals and Health Care, Non-profit Organizations, and Government Administration'),\n",
       "  Document(id='65ffc31d-864e-43dd-8756-a9fc8822a3d4', metadata={'company': 'Enlyte', 'title': 'Data Scientist', 'level': 'Not Applicable', 'employment_type': 'Full-time', 'job_function': 'Engineering and Information Technology', 'industries': 'Hospitals and Health Care, Non-profit Organizations, and Government Administration', 'posted_time': '3 days ago', 'applicants': 'N/A', 'parsing_link': 'https://www.linkedin.com/jobs-guest/jobs/api/jobPosting/4233974191', 'job_posting_link': 'https://www.linkedin.com/jobs/view/data-scientist-at-enlyte-4233974191?trk=public_jobs_topcard-title', 'job_id': '4233974191', 'date': '2025-05-26'}, page_content=\"Data Scientist \\n Enlyte \\n Company OverviewAt Enlyte, we combine innovative technology, clinical expertise, and human compassion to help people recover after workplace injuries or auto accidents. We support their journey back to health and wellness through our industry-leading solutions and services. Whether you're supporting a Fortune 500 client or a local business, developing cutting-edge technology, or providing clinical services you'll work alongside dedicated professionals who share your commitment to excellence and make a meaningful impact. Join us in fueling our mission to protect dreams and restore lives, while building your career in an environment that values collaboration, innovation, and personal growth.Be part of a team that makes a real difference.Job DescriptionKey ResponsibilitiesDesign, develop, and implement machine learning models and algorithms to address business problems related to medical claimsConduct exploratory data analysis to identify patterns, trends, and insightsClean, preprocess, and transform large, complex datasets to ensure data qualityCreate compelling data visualizations and dashboards to communicate findings to technical and non-technical stakeholdersCollaborate with engineering teams to deploy models into production environmentsMonitor model performance and implement improvements as neededMentor junior data scientists and contribute to best practices documentationStay current with emerging techniques and technologies in data science and machine learningPresent findings and recommendations to leadership and business stakeholdersQualificationsBachelor's degree in Computer Science, Statistics, Mathematics, Data Science, or related quantitative field3+ years of professional experience in data science, machine learning, or related analytical roleStrong programming skills in Python or R, and proficiency with data manipulation libraries (pandas, numpy, dplyr)Experience building and deploying machine learning models using frameworks such as scikit-learn, TensorFlow, or PyTorchSolid understanding of statistical methods, experimental design, and hypothesis testingProficiency with SQL and experience working with relational databasesExperience with data visualization tools (Tableau, Power BI, or similar)Strong communication skills with the ability to translate technical concepts to non-technical audiencesPreferred QualificationsExperience with cloud computing platforms (AWS, Azure, GCP)Experience with Snowflake cloud data platform, including:Writing optimized SQL queries for Snowflake's architectureLeveraging Snowflake's unique features like Time Travel, Zero-Copy Cloning, and Secure Data SharingWorking with Snowflake's semi-structured data capabilities (VARIANT, ARRAY, OBJECT types)Using Snowflake's integration with Python via connectors and SnowparkExperience with Snowflake's performance optimization techniquesKnowledge of big data technologies (Spark, Hadoop)Experience with version control systems (Git) and collaborative development workflowsFamiliarity with containerization and orchestration tools (Docker, Kubernetes)Experience with NLP, computer vision, or time series analysisContributions to open-source projects or research publicationsRequired Technical SkillsProgramming: Python, SQL, R (preferred)Cloud Data Warehousing: Snowflake SQL, Snowflake data objects and architectureMachine Learning: Classification, regression, clustering, dimensionality reductionData Processing: ETL pipelines, data cleaning, feature engineeringStatistics: Hypothesis testing, experimental design, A/B testingTools: Jupyter, Git, Docker (preferred)Visualization: Matplotlib, Seaborn, ggplot2, Tableau, PowerBISoft SkillsProblem-solving and analytical thinkingExcellent written and verbal communicationCollaboration and teamworkAttention to detailTime management and prioritizationContinuous learning mindsetBenefitsWe’re committed to supporting your ultimate well-being through our total compensation package offerings that support your health, wealth and self. These offerings include Medical, Dental, Vision, Health Savings Accounts / Flexible Spending Accounts, Life and AD&D Insurance, 401(k), Tuition Reimbursement, and an array of resources that encourage a lifetime of healthier living. Benefits eligibility may differ depending on full-time or part-time status. Compensation depends on the applicable US geographic market. The expected base pay for this position ranges from $70,000 - $110,000 annually, and will be based on a number of additional factors including skills, experience, and education.The Company is an equal opportunity employer. All qualified applicants will receive consideration for employment without regard to race, religion, color, national origin, gender, gender identity, sexual orientation, age, status as a protected veteran, among other things, or status as a qualified individual with disability. Don’t meet every single requirement? Studies have shown that women and underrepresented minorities are less likely to apply to jobs unless they meet every single qualification. We are dedicated to building a diverse, inclusive, and authentic workplace, so if you’re excited about this role but your past experience doesn’t align perfectly with every qualification in the job description, we encourage you to apply anyway. You may be just the right candidate for this or other roles. Show more Show less \\n Engineering and Information Technology \\n Hospitals and Health Care, Non-profit Organizations, and Government Administration\"),\n",
       "  Document(id='dede9632-e93f-4a05-bf34-0ee16ee0bb97', metadata={'company': 'PwC', 'title': 'People Tech - System Architect-Data Science Senior Manager', 'level': 'Director', 'employment_type': 'Full-time', 'job_function': 'Engineering and Information Technology', 'industries': 'Hospitals and Health Care, Non-profit Organizations, and Government Administration', 'posted_time': '3 days ago', 'applicants': 'N/A', 'parsing_link': 'https://www.linkedin.com/jobs-guest/jobs/api/jobPosting/4233951834', 'job_posting_link': 'https://www.linkedin.com/jobs/view/people-tech-system-architect-data-science-senior-manager-at-pwc-4233951834?trk=public_jobs_topcard-title', 'job_id': '4233951834', 'date': '2025-05-26'}, page_content=\"People Tech - System Architect-Data Science Senior Manager \\n PwC \\n Specialty/Competency: Data ScienceIndustry/Sector: Not ApplicableTime Type: Full timeTravel Requirements: Up to 20%At PwC, our people in data and analytics engineering focus on leveraging advanced technologies and techniques to design and develop robust data solutions for clients. They play a crucial role in transforming raw data into actionable insights, enabling informed decision-making and driving business growth. Those in data science and machine learning engineering at PwC will focus on leveraging advanced analytics and machine learning techniques to extract insights from large datasets and drive data-driven decision making. You will work on developing predictive models, conducting statistical analysis, and creating data visualisations to solve complex business problems.Growing as a strategic advisor, you leverage your influence, expertise, and network to deliver quality results. You motivate and coach others, coming together to solve complex problems. As you increase in autonomy, you apply sound judgment, recognising when to take action and when to escalate. You are expected to solve through complexity, ask thoughtful questions, and clearly communicate how things fit together. Your ability to develop and sustain high performing, diverse, and inclusive teams, and your commitment to excellence, contributes to the success of our Firm.SkillsExamples of the skills, knowledge, and experiences you need to lead and deliver value at this level include but are not limited to:Craft and convey clear, impactful and engaging messages that tell a holistic story.Apply systems thinking to identify underlying problems and/or opportunities.Validate outcomes with clients, share alternative perspectives, and act on client feedback.Direct the team through complexity, demonstrating composure through ambiguous, challenging and uncertain situations.Deepen and evolve your expertise with a focus on staying relevant.Initiate open and honest coaching conversations at all levels.Make difficult decisions and take action to resolve issues hindering team effectiveness.Model and reinforce professional and technical standards (e.g. refer to specific PwC tax and audit guidance), the Firm's code of conduct, and independence requirements.The OpportunityAs part of the Data Platform’s Data Solution team you are expected to work closely with leaders across product functions to design the analytics roadmap and to support and implement top quality data driven decisions and deliverables. As a Senior Manager you are expected to lead large projects, innovate processes, and maintain operational excellence while interacting with clients at a senior level to drive project success. You are expected to develop and implement quality controls and standards to confirm data integrity and quality.Responsibilities Design the analytics roadmap in collaboration with leaders Support and implement data-driven decisions Lead large projects confirming operational excellence Interact with clients at a strategic level to drive success Develop and implement quality controls for data integrity Innovate processes to enhance data quality Deliver top-quality data solutions Foster relationships with product function leadersWhat You Must Have High School Diploma 6 years of progressive roles managing IT architecture and engineering designs and domainsWhat Sets You Apart Bachelor's Degree in Information Technology, Computer Systems Analysis, Management Information Systems, Computer Applications, Computer Engineering, Computer Programming preferred Building relationships with clients and developing requests for information Prioritizing and handling multiple tasks Coaching and collaborating with colleagues Understanding application of analytical techniques Selecting necessary analytical techniques Designing analytics roadmap and supporting data-driven decisions Implementing quality controls and standards Programming with Python and JavaLearn more about how we work: https://pwc.to/how-we-workPwC does not intend to hire experienced or entry level job seekers who will need, now or in the future, PwC sponsorship through the H-1B lottery, except as set forth within the following policy: https://pwc.to/H-1B-Lottery-Policy.As PwC is an equal opportunity employer, all qualified applicants will receive consideration for employment at PwC without regard to race; color; religion; national origin; sex (including pregnancy, sexual orientation, and gender identity); age; disability; genetic information (including family medical history); veteran, marital, or citizenship status; or, any other status protected by law. For only those qualified applicants that are impacted by the Los Angeles County Fair Chance Ordinance for Employers, the Los Angeles' Fair Chance Initiative for Hiring Ordinance, the San Francisco Fair Chance Ordinance, San Diego County Fair Chance Ordinance, and the California Fair Chance Act, where applicable, arrest or conviction records will be considered for Employment in accordance with these laws. At PwC, we recognize that conviction records may have a direct, adverse, and negative relationship to responsibilities such as accessing sensitive company or customer information, handling proprietary assets, or collaborating closely with team members. We evaluate these factors thoughtfully to establish a secure and trusted workplace for all.Applications will be accepted until the position is filled or the posting is removed, unless otherwise set forth on the following webpage. Please visit this link for information about anticipated application deadlines: https://pwc.to/us-application-deadlinesThe salary range for this position is: $124,000 - $280,000, plus individuals may be eligible for an annual discretionary bonus. For roles that are based in Maryland, this is the listed salary range for this position. Actual compensation within the range will be dependent upon the individual's skills, experience, qualifications and location, and applicable employment laws. PwC offers a wide range of benefits, including medical, dental, vision, 401k, holiday pay, vacation, personal and family sick leave, and more. To view our benefits at a glance, please visit the following link: https://pwc.to/benefits-at-a-glance Show more Show less \\n Engineering and Information Technology \\n Hospitals and Health Care, Non-profit Organizations, and Government Administration\"),\n",
       "  Document(id='40167269-2396-4859-ad1d-ef06ec3a2ef5', metadata={'company': 'PwC', 'title': 'People Tech - System Architect-Data Science Senior Manager', 'level': 'Director', 'employment_type': 'Full-time', 'job_function': 'Engineering and Information Technology', 'industries': 'Hospitals and Health Care, Non-profit Organizations, and Government Administration', 'posted_time': '3 days ago', 'applicants': 'N/A', 'parsing_link': 'https://www.linkedin.com/jobs-guest/jobs/api/jobPosting/4233956189', 'job_posting_link': 'https://www.linkedin.com/jobs/view/people-tech-system-architect-data-science-senior-manager-at-pwc-4233956189?trk=public_jobs_topcard-title', 'job_id': '4233956189', 'date': '2025-05-26'}, page_content=\"People Tech - System Architect-Data Science Senior Manager \\n PwC \\n Specialty/Competency: Data ScienceIndustry/Sector: Not ApplicableTime Type: Full timeTravel Requirements: Up to 20%At PwC, our people in data and analytics engineering focus on leveraging advanced technologies and techniques to design and develop robust data solutions for clients. They play a crucial role in transforming raw data into actionable insights, enabling informed decision-making and driving business growth. Those in data science and machine learning engineering at PwC will focus on leveraging advanced analytics and machine learning techniques to extract insights from large datasets and drive data-driven decision making. You will work on developing predictive models, conducting statistical analysis, and creating data visualisations to solve complex business problems.Growing as a strategic advisor, you leverage your influence, expertise, and network to deliver quality results. You motivate and coach others, coming together to solve complex problems. As you increase in autonomy, you apply sound judgment, recognising when to take action and when to escalate. You are expected to solve through complexity, ask thoughtful questions, and clearly communicate how things fit together. Your ability to develop and sustain high performing, diverse, and inclusive teams, and your commitment to excellence, contributes to the success of our Firm.SkillsExamples of the skills, knowledge, and experiences you need to lead and deliver value at this level include but are not limited to:Craft and convey clear, impactful and engaging messages that tell a holistic story.Apply systems thinking to identify underlying problems and/or opportunities.Validate outcomes with clients, share alternative perspectives, and act on client feedback.Direct the team through complexity, demonstrating composure through ambiguous, challenging and uncertain situations.Deepen and evolve your expertise with a focus on staying relevant.Initiate open and honest coaching conversations at all levels.Make difficult decisions and take action to resolve issues hindering team effectiveness.Model and reinforce professional and technical standards (e.g. refer to specific PwC tax and audit guidance), the Firm's code of conduct, and independence requirements.The OpportunityAs part of the Data Platform’s Data Solution team you are expected to work closely with leaders across product functions to design the analytics roadmap and to support and implement top quality data driven decisions and deliverables. As a Senior Manager you are expected to lead large projects, innovate processes, and maintain operational excellence while interacting with clients at a senior level to drive project success. You are expected to develop and implement quality controls and standards to confirm data integrity and quality.Responsibilities Design the analytics roadmap in collaboration with leaders Support and implement data-driven decisions Lead large projects confirming operational excellence Interact with clients at a strategic level to drive success Develop and implement quality controls for data integrity Innovate processes to enhance data quality Deliver top-quality data solutions Foster relationships with product function leadersWhat You Must Have High School Diploma 6 years of progressive roles managing IT architecture and engineering designs and domainsWhat Sets You Apart Bachelor's Degree in Information Technology, Computer Systems Analysis, Management Information Systems, Computer Applications, Computer Engineering, Computer Programming preferred Building relationships with clients and developing requests for information Prioritizing and handling multiple tasks Coaching and collaborating with colleagues Understanding application of analytical techniques Selecting necessary analytical techniques Designing analytics roadmap and supporting data-driven decisions Implementing quality controls and standards Programming with Python and JavaLearn more about how we work: https://pwc.to/how-we-workPwC does not intend to hire experienced or entry level job seekers who will need, now or in the future, PwC sponsorship through the H-1B lottery, except as set forth within the following policy: https://pwc.to/H-1B-Lottery-Policy.As PwC is an equal opportunity employer, all qualified applicants will receive consideration for employment at PwC without regard to race; color; religion; national origin; sex (including pregnancy, sexual orientation, and gender identity); age; disability; genetic information (including family medical history); veteran, marital, or citizenship status; or, any other status protected by law. For only those qualified applicants that are impacted by the Los Angeles County Fair Chance Ordinance for Employers, the Los Angeles' Fair Chance Initiative for Hiring Ordinance, the San Francisco Fair Chance Ordinance, San Diego County Fair Chance Ordinance, and the California Fair Chance Act, where applicable, arrest or conviction records will be considered for Employment in accordance with these laws. At PwC, we recognize that conviction records may have a direct, adverse, and negative relationship to responsibilities such as accessing sensitive company or customer information, handling proprietary assets, or collaborating closely with team members. We evaluate these factors thoughtfully to establish a secure and trusted workplace for all.Applications will be accepted until the position is filled or the posting is removed, unless otherwise set forth on the following webpage. Please visit this link for information about anticipated application deadlines: https://pwc.to/us-application-deadlinesThe salary range for this position is: $124,000 - $280,000, plus individuals may be eligible for an annual discretionary bonus. For roles that are based in Maryland, this is the listed salary range for this position. Actual compensation within the range will be dependent upon the individual's skills, experience, qualifications and location, and applicable employment laws. PwC offers a wide range of benefits, including medical, dental, vision, 401k, holiday pay, vacation, personal and family sick leave, and more. To view our benefits at a glance, please visit the following link: https://pwc.to/benefits-at-a-glance Show more Show less \\n Engineering and Information Technology \\n Hospitals and Health Care, Non-profit Organizations, and Government Administration\"),\n",
       "  Document(id='2da0a2b4-63da-496d-b205-eafa879130b4', metadata={'company': 'GlobalPros', 'title': 'Data Scientist', 'level': 'Not Applicable', 'employment_type': 'Full-time', 'job_function': 'Information Technology and Engineering', 'industries': 'Software Development, IT System Custom Software Development, and IT Services and IT Consulting', 'posted_time': '4 days ago', 'applicants': 'N/A', 'parsing_link': 'https://www.linkedin.com/jobs-guest/jobs/api/jobPosting/4233436271', 'job_posting_link': 'https://www.linkedin.com/jobs/view/data-scientist-at-globalpros-4233436271?trk=public_jobs_topcard-title', 'job_id': '4233436271', 'date': '2025-05-26'}, page_content=\"Data Scientist \\n GlobalPros \\n Are you a talented Data Scientist (includes AI/ML Researcher, AI/ML Engineer, Data Engineer, ML Ops Engineer, QA Engineer with AI/ML focus, NLP Engineer, LLM Engineer) either,Looking for your next big challenge working remotely OREmployed, but open to offers from elite US companies to work remotely?Submit your resume to our GlobalPros.ai’s, an exclusive community of the world’s top pre-vetted developers dedicated to precisely matching you with our US employers.Globlpros.ai is followed internationally by over 13,000 employers, agencies and the world’s top developers.We are currently searching for a full-time AI/ML developer (includes AI/ML Researcher, AI/ML Engineer, Data Engineer, Data Scientist, ML Ops Engineer, QA Engineer with AI/ML focus, NLP Engineer) to work remotely for our US employer clients.What We Offer:Competitive Compensation. Compensation is negotiable and commensurate with your experience and expertise.Pre-vetting so you’re 2x more likely to be hired. Recent studies by Indeed and LinkedIn show pre-vetted candidates like you are twice as likely to be hired.Shortlist competitive advantage. Our machine learning technology matches you precisely to job requirements and because your pre-vetted ensures you're shortlisted ahead of other candidates.Personalized career support. Free one-on-one career counseling and interview prep to help guarantee you succeed.Anonymity. If you’re employed but open to offers, your profile is anonymous and is not available on our website or otherwise online. When matched with our clients, your profile is anonymous until you agree to be interviewed. So there’s no risk in submitting your resume now.We're Looking For:Experience. Must have at least 3 years of experience.Role . AI/ML developer (includes AI/ML Researcher, AI/ML Engineer, Data Engineer, Data Scientist, ML Ops Engineer, QA Engineer with AI/ML focus, NLP Engineer)Skills. TensorFlow, PyTorch, Scikit-learn Python, Java, C++, R, AWS, Azure, GCP, (SQL, NoSQL, Hadoop, Spark, Docker, Kubernetes, AWS Redshift, Google BigQuery.Willing to work full-time. (40 hours per week) .Available for an hour of assessment testing. Being deeply-vetted with a data enhanced resume and matched precisely by our machine learning algorithms substantially increases the probability of being hired quickly, at higher compensation levels over unvetted candidates. It's your substantial competitive advantage in a crowded job market. Show more Show less \\n Information Technology and Engineering \\n Software Development, IT System Custom Software Development, and IT Services and IT Consulting\"),\n",
       "  Document(id='16136748-84ee-40fc-8a4b-ac86eabbe455', metadata={'company': 'Stripe', 'title': 'Senior GTM Data Scientist', 'level': 'Mid-Senior level', 'employment_type': 'Full-time', 'job_function': 'Engineering and Information Technology', 'industries': 'Hospitals and Health Care, Non-profit Organizations, and Government Administration', 'posted_time': '3 days ago', 'applicants': '103 applicants', 'parsing_link': 'https://www.linkedin.com/jobs-guest/jobs/api/jobPosting/4236167990', 'job_posting_link': 'https://www.linkedin.com/jobs/view/senior-gtm-data-scientist-at-stripe-4236167990?trk=public_jobs_topcard-title', 'job_id': '4236167990', 'date': '2025-05-26'}, page_content='Senior GTM Data Scientist \\n Stripe \\n About StripeStripe is a financial infrastructure platform for businesses. Millions of companies—from the world’s largest enterprises to the most ambitious startups—use Stripe to accept payments, grow their revenue, and accelerate new business opportunities. Our mission is to increase the GDP of the internet, and we have a staggering amount of work ahead. That means you have an unprecedented opportunity to put the global economy within everyone\\'s reach while doing the most important work of your career.About The TeamWe are looking for a Senior Data Scientist to join our Global GTM Target Setting Competency Hub. This central analytics team plays a pivotal role in supporting Stripe’s Go-To-Market (GTM) and Marketing organizations. Our team collaborates with Finance & Strategy (F&S), Global Planning, Marketing Operations and our wider GTM Revenue Data Science team to align the Go-To-Market teams towards common goals, fostering a culture of accountability and empowering informed decision-making.As a Senior Data Scientist, you will be at the forefront of shaping Stripe\\'s commercial ambitions. You won\\'t just be analyzing data; you\\'ll be architecting the future of our target-setting frameworks, directly influencing resource allocation, strategic planning, and ultimately, Stripe\\'s success. In today’s rapidly evolving market, maintaining target setting integrity and fostering innovation are crucial for sustained success.Key Responsibilities * Goal Setting: Collaborate closely with leadership and cross-functional teams to establish data-driven goals and performance metrics that align with overall business objectives. Your expertise in target setting will be crucial to translating strategic goals into measurable and achievable targets at all levels of the organization. Forecasting & Modeling: Design and implement sophisticated predictive models and tools for sales forecasting and creating dynamic target allocation systems ensuring the connectivity of metrics throughout the sales funnel. Proactively identify opportunities for innovation in target setting, leveraging cutting-edge data science techniques and industry best practices. Lead the design and execution of rigorous experiments to evaluate the effectiveness of different target-setting methodologies and drive continuous improvement. Communication of complexity: Develop compelling data visualizations and narratives to communicate complex findings and recommendations to both technical and non-technical audiences, including executive leadership. Our predictive models need to be understandable and credible to stakeholders, including business leaders, sales teams, and marketing teams. Oversee implementation of enabling systems and tools, working closely with internal systems teams communicate goals and progress towards goals clearly for the wider organisation. Process, Policy and Tooling: Contribute to foundational principles and policies on how we measure success of teams and individuals. Define and prioritize the development of tools and platforms that streamline the target-setting and target cascade process, and facilitate more data-driven decision-making in the process. Metric design: Utilize statistical techniques to assess scenarios and quantify the potential impact of business outcomes on metric design and attainment distributions. Growth Analytics Innovation: Lead or contribute to exploratory initiatives aimed at uncovering new and innovative ways to leverage data science for driving Stripe\\'s growth including in the optimisation of territory design. Engage in research and experimentation with cutting-edge analytical techniques, exploring new data sources, and developing novel approaches to target setting and performance management. Stay abreast of the latest advancements in data science, machine learning, and the SaaS industry to ensure Stripe remains at the forefront of analytical capabilities. Mentorship: Act as a mentor to junior data scientists and analysts, sharing best practices in data analysis, goal management, and modeling techniques to enhance team capabilities and foster professional growth.Required Skills And QualificationsMaster’s degree or PhD in Data Science, Statistics, Mathematics, Computer Science, or a related field.8+ years of experience in data science partnering with business functions such as Revenue Operations, Finance, Growth, Marketing, preferably within the tech or financial services industry. You have a proven track record of independently leading go-to-market data science projects from problem definition to impactful business outcomes.You are comfortable with ambiguity and motivated by business results. This role would require a strong intellectual curiosity and a passion for pushing the boundaries of what\\'s possible with data. Technical SkillsYou have expertise in SQL for data extraction and manipulation.Skills in at least one scripting language (Python and/or R) for statistical analysis and modeling preferable.Experience with data visualization tools such as Tableau, Power BI, or similar.Familiarity with statistical modeling techniques, machine learning, and A/B testing.You are comfortable transforming raw data to build your own data sets if they don\\'t exist yetAnalytical Skills: Strong analytical and problem-solving capabilities with an ability to draw actionable insights from complex datasets.Business Acumen: Understanding of sales and marketing processes, including experience with KPI development and performance measurement.Communication Skills: Excellent verbal and written communication skills, with the ability to present complex data analysis to non-technical stakeholders clearly and effectively.Collaboration: Demonstrated ability to work effectively in a cross-functional team environment and influence decision-making through data-driven insights.You have a bias for using the right tools to get a job done with maximum efficiency. You have experience making tradeoffs between speed and accuracyPreferred QualificationsExperience with the Salesforce - knowledge of Salesforce data management, system configuration mechanics, and experience building Salesforce reports and dashboards.Experience with Anaplan for Headcount Management, Territories, Quota, or ProductivityHybrid work at StripeThis role is available either in an office or a remote location (typically, 35+ miles or 56+ km from a Stripe office).Office-assigned Stripes spend at least 50% of the time in a given month in their local office or with users. This hits a balance between bringing people together for in-person collaboration and learning from each other, while supporting flexibility about how to do this in a way that makes sense for individuals and their teams.A remote location, in most cases, is defined as being 35 miles (56 kilometers) or more from one of our offices. While you would be welcome to come into the office for team/business meetings, on-sites, meet-ups, and events, our expectation is you would regularly work from home rather than a Stripe office. Stripe does not cover the cost of relocating to a remote location. We encourage you to apply for roles that match the location where you currently or plan to live.Pay and benefitsThe annual US base salary range for this role is $172,000 - $258,000. For sales roles, the range provided is the role’s On Target Earnings (\"OTE\") range, meaning that the range includes both the sales commissions/sales bonuses target and annual base salary for the role. This salary range may be inclusive of several career levels at Stripe and will be narrowed during the interview process based on a number of factors, including the candidate’s experience, qualifications, and location. Applicants interested in this role and who are not located in the US may request the annual salary range for their location during the interview process.Additional benefits for this role may include: equity, company bonus or sales commissions/bonuses; 401(k) plan; medical, dental, and vision benefits; and wellness stipends. Show more Show less \\n Engineering and Information Technology \\n Hospitals and Health Care, Non-profit Organizations, and Government Administration'),\n",
       "  Document(id='e1c098e8-fcbc-4fed-b3f4-b7d0bca44e1d', metadata={'company': 'PwC', 'title': 'People Tech - System Architect-Data Science Senior Manager', 'level': 'Director', 'employment_type': 'Full-time', 'job_function': 'Engineering and Information Technology', 'industries': 'Hospitals and Health Care, Non-profit Organizations, and Government Administration', 'posted_time': '3 days ago', 'applicants': 'N/A', 'parsing_link': 'https://www.linkedin.com/jobs-guest/jobs/api/jobPosting/4233954402', 'job_posting_link': 'https://www.linkedin.com/jobs/view/people-tech-system-architect-data-science-senior-manager-at-pwc-4233954402?trk=public_jobs_topcard-title', 'job_id': '4233954402', 'date': '2025-05-26'}, page_content=\"People Tech - System Architect-Data Science Senior Manager \\n PwC \\n Specialty/Competency: Data ScienceIndustry/Sector: Not ApplicableTime Type: Full timeTravel Requirements: Up to 20%At PwC, our people in data and analytics engineering focus on leveraging advanced technologies and techniques to design and develop robust data solutions for clients. They play a crucial role in transforming raw data into actionable insights, enabling informed decision-making and driving business growth. Those in data science and machine learning engineering at PwC will focus on leveraging advanced analytics and machine learning techniques to extract insights from large datasets and drive data-driven decision making. You will work on developing predictive models, conducting statistical analysis, and creating data visualisations to solve complex business problems.Growing as a strategic advisor, you leverage your influence, expertise, and network to deliver quality results. You motivate and coach others, coming together to solve complex problems. As you increase in autonomy, you apply sound judgment, recognising when to take action and when to escalate. You are expected to solve through complexity, ask thoughtful questions, and clearly communicate how things fit together. Your ability to develop and sustain high performing, diverse, and inclusive teams, and your commitment to excellence, contributes to the success of our Firm.SkillsExamples of the skills, knowledge, and experiences you need to lead and deliver value at this level include but are not limited to:Craft and convey clear, impactful and engaging messages that tell a holistic story.Apply systems thinking to identify underlying problems and/or opportunities.Validate outcomes with clients, share alternative perspectives, and act on client feedback.Direct the team through complexity, demonstrating composure through ambiguous, challenging and uncertain situations.Deepen and evolve your expertise with a focus on staying relevant.Initiate open and honest coaching conversations at all levels.Make difficult decisions and take action to resolve issues hindering team effectiveness.Model and reinforce professional and technical standards (e.g. refer to specific PwC tax and audit guidance), the Firm's code of conduct, and independence requirements.The OpportunityAs part of the Data Platform’s Data Solution team you are expected to work closely with leaders across product functions to design the analytics roadmap and to support and implement top quality data driven decisions and deliverables. As a Senior Manager you are expected to lead large projects, innovate processes, and maintain operational excellence while interacting with clients at a senior level to drive project success. You are expected to develop and implement quality controls and standards to confirm data integrity and quality.Responsibilities Design the analytics roadmap in collaboration with leaders Support and implement data-driven decisions Lead large projects confirming operational excellence Interact with clients at a strategic level to drive success Develop and implement quality controls for data integrity Innovate processes to enhance data quality Deliver top-quality data solutions Foster relationships with product function leadersWhat You Must Have High School Diploma 6 years of progressive roles managing IT architecture and engineering designs and domainsWhat Sets You Apart Bachelor's Degree in Information Technology, Computer Systems Analysis, Management Information Systems, Computer Applications, Computer Engineering, Computer Programming preferred Building relationships with clients and developing requests for information Prioritizing and handling multiple tasks Coaching and collaborating with colleagues Understanding application of analytical techniques Selecting necessary analytical techniques Designing analytics roadmap and supporting data-driven decisions Implementing quality controls and standards Programming with Python and JavaLearn more about how we work: https://pwc.to/how-we-workPwC does not intend to hire experienced or entry level job seekers who will need, now or in the future, PwC sponsorship through the H-1B lottery, except as set forth within the following policy: https://pwc.to/H-1B-Lottery-Policy.As PwC is an equal opportunity employer, all qualified applicants will receive consideration for employment at PwC without regard to race; color; religion; national origin; sex (including pregnancy, sexual orientation, and gender identity); age; disability; genetic information (including family medical history); veteran, marital, or citizenship status; or, any other status protected by law. For only those qualified applicants that are impacted by the Los Angeles County Fair Chance Ordinance for Employers, the Los Angeles' Fair Chance Initiative for Hiring Ordinance, the San Francisco Fair Chance Ordinance, San Diego County Fair Chance Ordinance, and the California Fair Chance Act, where applicable, arrest or conviction records will be considered for Employment in accordance with these laws. At PwC, we recognize that conviction records may have a direct, adverse, and negative relationship to responsibilities such as accessing sensitive company or customer information, handling proprietary assets, or collaborating closely with team members. We evaluate these factors thoughtfully to establish a secure and trusted workplace for all.Applications will be accepted until the position is filled or the posting is removed, unless otherwise set forth on the following webpage. Please visit this link for information about anticipated application deadlines: https://pwc.to/us-application-deadlinesThe salary range for this position is: $124,000 - $280,000, plus individuals may be eligible for an annual discretionary bonus. For roles that are based in Maryland, this is the listed salary range for this position. Actual compensation within the range will be dependent upon the individual's skills, experience, qualifications and location, and applicable employment laws. PwC offers a wide range of benefits, including medical, dental, vision, 401k, holiday pay, vacation, personal and family sick leave, and more. To view our benefits at a glance, please visit the following link: https://pwc.to/benefits-at-a-glance Show more Show less \\n Engineering and Information Technology \\n Hospitals and Health Care, Non-profit Organizations, and Government Administration\"),\n",
       "  Document(id='1f21b19a-8e81-4c62-8bfc-b326ee6c3504', metadata={'company': 'Render', 'title': 'Data Scientist', 'level': 'Associate', 'employment_type': 'Full-time', 'job_function': 'Engineering, Information Technology, and Analyst', 'industries': 'Hospitals and Health Care, Non-profit Organizations, and Government Administration', 'posted_time': '6 days ago', 'applicants': 'N/A', 'parsing_link': 'https://www.linkedin.com/jobs-guest/jobs/api/jobPosting/4216706661', 'job_posting_link': 'https://www.linkedin.com/jobs/view/data-scientist-at-render-4216706661?trk=public_jobs_topcard-title', 'job_id': '4216706661', 'date': '2025-05-26'}, page_content=\"Data Scientist \\n Render \\n At Render, we're dedicated to building a powerful and user-friendly cloud that simplifies hosting for every developer and team. Our platform supports a wide range of applications, from simple static sites to complex multi-service architectures. By offering the flexibility of traditional cloud providers without their associated complexity and maintenance challenges, we enable our users to concentrate on product development instead of managing servers.Our team is a diverse and talented group addressing universal challenges of software development. We prioritize rapid iteration while maintaining a strong focus on user experience, craft, and reliability. This commitment drives us to improve continually. Our organic, product-led growth has attracted over 2.5 million developers, with rapid growth of new developers signing up every month. Our customers trust Render for our reliable and scalable cloud with enterprise-grade capabilities, fully managed datastores, and advanced security and compliance features.In January 2025, we reached a significant milestone by raising $80 million in Series C financing, bringing our total funding to $157M. This investment enables us to accelerate our vision of making cloud infrastructure both powerful and intuitive, while catering to the evolving needs of the AI era.Applying To RenderWe're seeking candidates who possess high integrity, humility, and an insatiable drive to learn. Through reasoned discussions and continuous feedback, we strive to improve both individually and collectively. We foster an environment of mutual trust and respect, empowering effective debate to achieve the best outcomes for our customers and team.Our interview process is unique to each role, and we value the candidate experience just as much as our customer experience. We hope your conversations with us reflect a thoughtful process that is illuminative, enjoyable, and respectful of your time.About The RoleAs an early member of the Data Science team at Render, you’ll have a critical impact on our growth by shaping product strategy and guiding investment decisions through clear, actionable insights. While collaborating with teams across the organization, you will be the first to explore many areas in our data and unlock opportunities to drive innovation.You WillCollaborate with cross-functional teams including Product, Engineering, and Marketing to guide, influence, and support product strategy with data insights.Analyze and interpret large, complex datasets to address diverse and challenging business problems using various analytical and statistical techniques.Explore and evaluate opportunities for product improvement.Develop and track success metrics for product initiatives.Provide actionable insights about our users such as how they work, how they discover features, and which obstacles they might run into on the platform.Contribute toward initiatives to enhance the reliability and accuracy of our data infrastructure and processes.We're Looking For Someone Who HasAt least five years of experience solving analytical problems using quantitative approaches.A minimum of four years of experience leading data-driven projects from definition to execution, including metric definition, experiment design, aggregation of results from disparate data sources, and communication of actionable insights to stakeholders.A track record of high ownership and taking initiative.Experience in cross-functional collaboration including effective communication with team members of varying skill sets and levels of experience.Proficiency in SQL with some experience in Python.Our data stack:Multiple sources of data (e.g. Segment, HubSpot, back-end data in Cloud SQL for PostgreSQL)ETL to BigQuery with StitchDbt layer for data transformationAnalysis and reporting with Metabase and MixPanelSome Projects You Might Work OnDefine metrics for measuring our growing marketing and sales pipelines and provide data to focus efforts on acquiring and converting high value leads.Conduct quantitative user research to support improvements to pricing and packaging.Develop algorithms for detecting abuse on our platform.Build trustworthy, standardized datasets around product usage to measure the impact of various feature improvements.BenefitsOur openings span more than one career level. The starting salary for this role is between $170,000 and $200,000 USD. The provided salary depends on many factors, such as work experience and transferable skills, business needs and impact, and market demands.The opportunity is also eligible for equity with early exercise options and extended exercise windows.12 weeks of fully paid parental leave for all parents to bond with a newly born, adopted, or fostered child, plus an additional 5 days off during your first few weeks back. We will work with you to create a supportive plan of return.Long-term disability, life insurance, and 401K plans.100% employer-paid medical coverage and 99% employer-paid dental and vision coverage for you and a dependent. FSAs available too.Monthly wellness stipendMonthly mental health stipendMonthly commuter stipend for Bay Area employees, and a home office stipend for remote employeesContinuous learning benefits & related support.Render is an equal-opportunity employer. We know employing a team rich in diverse thoughts, experiences, and opinions allows our employees, our product, and our community to flourish. We make all employment decisions including hiring, evaluation, termination, promotional, and training opportunities, without regard to race, religion, color, sex, age, national origin, ancestry, sexual orientation, physical handicap, mental disability, medical condition, disability, gender or identity or expression, pregnancy or pregnancy-related condition, marital status, height and/or weight.We will ensure that individuals with disabilities are provided reasonable accommodation to participate in the job application or interview process, to perform essential job functions, and to receive other benefits and privileges of employment. Please contact us to request accommodation.We encourage all who are interested to apply. We can't wait to hear from you! Show more Show less \\n Engineering, Information Technology, and Analyst \\n Hospitals and Health Care, Non-profit Organizations, and Government Administration\"),\n",
       "  Document(id='41bbcd0e-41a7-4c37-9f4f-70d4fb7e0813', metadata={'company': 'Eight Sleep', 'title': 'Data Scientist, Growth', 'level': 'Entry level', 'employment_type': 'Full-time', 'job_function': 'Engineering and Information Technology', 'industries': 'Hospitals and Health Care, Non-profit Organizations, and Government Administration', 'posted_time': '5 days ago', 'applicants': '172 applicants', 'parsing_link': 'https://www.linkedin.com/jobs-guest/jobs/api/jobPosting/4192245195', 'job_posting_link': 'https://www.linkedin.com/jobs/view/data-scientist-growth-at-eight-sleep-4192245195?trk=public_jobs_topcard-title', 'job_id': '4192245195', 'date': '2025-05-26'}, page_content=\"Data Scientist, Growth \\n Eight Sleep \\n Eight Sleep is the world’s first sleep fitness company. Our mission is to fuel human potential through optimal sleep. We use innovative technology, detailed design, and proven science and data to personalize and improve each night for everybody—changing the way people sleep forever and for the better.With our flagship product, the Pod, we are addressing critical sleep issues such as temperature regulation, bed elevation, snoring reduction, and the wake-up experience. Hundreds of thousands of customers around the world sleep better every night thanks to the Pod.But we’re just getting started. We’re committed to developing more groundbreaking products to tackle additional sleep problems, changing the role sleep plays in our lives forever. We’re excited about the journey ahead and the impact we can make as we continue to innovate and expand our offerings to fulfill our mission.We are backed by leading Silicon Valley investors like YC Combinator, Founders Fund, Valor, and Khosla Ventures, and we have been recognized as one of Fast Company’s Most Innovative Companies in 2018, 2022, and 2023. The Pod was also recognized two years in a row by TIME's “Best Inventions of the Year.” We currently sell the Pod in the United States, Canada, the United Kingdom, Europe, and Australia.Before you applyEight Sleep is an intense environment: we’re demanding and ambitious, which means we ask a lot of ourselves and one another. This means fantastic learning opportunities, achievements, and career growth, but it also requires a significant commitment. Our dedication, drive, and intensity rival those of Olympic athletes. At Eight Sleep, we embody Kobe Bryant’s mamba mentality: we always aim to be at the top 1% of what we do. If you’re looking for a 9-5, this is not for you. Our employees report working up to 60 hours per week. If you want to be challenged and pushed harder than ever before, we invite you to apply.About The RoleWe are looking to hire an experienced Data Scientist with a passion for scaling consumer brands. The ideal candidate will combine strong analytical skills with marketing acumen to guide optimizations to our growth strategies. Reporting to the CFO, the candidate will have an exceptional track record working as an individual contributor with sales and marketing data to build complex predictive demand and Media Mix models.How You’ll ContributeWork closely with the CFO, CEO, Growth and Finance teams, providing insights into business opportunities for incremental revenue growthDevelop and maintain predictive models for sales growth, customer behavior and lifetime valueCreate a Media Mix Model that allows us to assess various scenarios for allocating spend across our various channelsLead the quantitative analysis to provide insights that help the CEO, CFO, and VP of Growth understand marketing performance and member behavior Create and maintain dashboards for key marketing metricsBuild full-cycle analytics experiments, reports, and dashboards using SQL, R, Python, or other scripting and statistical toolsIdentify opportunities for growth and efficiency in our marketing funnelTranslate complex data insights into actionable recommendationsTranslate product objectives to data science problems and vice versaBuild analytical ETLs to power data science modelsWhy join Eight Sleep?Innovation in a culture of excellenceJoin us in a workplace where innovation isn’t just encouraged - it’s a standard. Our flagship product, the Pod, is a testament to our culture of excellence, beloved by hundreds of thousands of customers worldwide. At Eight Sleep, you will be part of a team that continuously pushes the boundaries of technology in sleep fitness.Immediate responsibility and accelerated career growthFrom your first day, you’ll take on substantial responsibilities that have a direct impact on our core business and product success. We are a small team that empowers you to own your projects and see the tangible effects of your efforts, enhancing both your professional growth and our company’s trajectory. Your path will be challenging but rewarding, perfect for those who thrive in fast-paced environments aiming for high standards.Collaboration with exceptional talentWork alongside other bright minds like you: at Eight Sleep exceptional intelligence and a passion for breakthroughs are the norms. Our team members are not only experts in their fields but also avid innovators who thrive in our dynamic, fast-paced environment.Equitable Compensation And Continuous Equity InvestmentWe extend equity participation to every full-time team member, recognizing and rewarding your direct contributions to our success. This includes periodic equity refreshments based on performance, ensuring that as Eight Sleep grows and succeeds, so do you – perfectly aligning your achievements with the broader triumphs of the company.Your Own Pod - And Other Great BenefitsEvery Eight Sleep employee receives the very product that defines our mission: a Pod of their own. If you join us you’ll get your own Pod, along with*:Full access to health, vision, and dental insurance for you and your dependentsSupplemental life insuranceFlexible PTOCommuter benefits to ease your daily commutePaid parental leaveList of benefits may vary depending on your locationAt Eight Sleep we continually celebrate the diverse community different individuals cultivate. As an equal opportunity employer, we stay true to our values by ensuring everyone feels they can flourish and grow. We are committed to equal employment opportunity regardless of race, color, ancestry, religion, sex, national origin, sexual orientation, age, citizenship, marital status, disability, gender identity or Veteran status.Please note: This role is open to applicants in the US, Canada, LATAM, UK, or Europe. Compensation (salary and equity) is competitive based on location. Show more Show less \\n Engineering and Information Technology \\n Hospitals and Health Care, Non-profit Organizations, and Government Administration\")],\n",
       " 'resume': '  \\nPROFESSIONAL SUMMARY  \\nSeasoned Data Scientist (Ph.D.) recognized for delivering advanced AI and ML solutions at scale across retail and \\nfinancial sectors. Proficient in Generative AI, time -series forecasting, and large language models, with a strong focus \\non driving strategic i nsights and measurable outcomes. Adept at leading cross -functional teams, mentoring junior \\npractitioners, and implementing robust model governance.  \\n \\nEDUCATION  \\nUniversity of Texas at San Antonio, Klesse College of Engineering  San Antonio, TX  \\nDoctor of Philosophy (Ph.D.) Mechanical and Manufacturing Systems Engineering  (Cybersecurity ) 2019  \\nUniversity of Tehran , Faculty of Engineering  Tehran, Iran  \\nMaster of Science in Mechanical Engineering (manufacturing and mechatronic focus)  2008  \\nAzad University  NajafAbad, Iran  \\nBachelor of Science in Mechanical Engineering (manufacturing)  2005  \\n \\nTECHNICAL SKILLS AND COMPETENCIES  \\n \\n● Programming Languages & Development:  Advanced expertise in Python, R, SQL, and Scala. Practical \\nknowledge in Java and C++ for broader application contexts.  \\n● Machine Learning & Deep Learning:  Proficient in employing deep learning frameworks like TensorFlow, \\nKeras, and PyTorch for predictive modeling and forecasting. Skilled in machine learning algorithms via Scikit -\\nlearn, XGBoost, and Spark MLlib.  \\n● Generative AI & Large Language Models (LLMs):  Deep understanding of transformer -based architectures \\nand hands -on experience in fine -tuning large language models (e.g., OpenAI, GPT variants), applying techniques \\nlike Retrieval -Augmented Generation (RAG), prompt engineering, and conversational AI to de liver innovative, \\nscalable AI solutions.  \\n● Big Data Technologies:  Expert in using Spark , Hadoop and Ray for data processing and distributed computing  \\nat scale . \\n● Optimization & Forecasting: Skilled in applying optimization techniques and time -series analysis for effective \\nforecasting, particularly in retail and e -commerce contexts.  \\n● Quantitative Analysis:  Strong background in statistical analysis, mathematical modeling, and hypothesis testing \\nto support data -driven insights and recommendations.  \\n● Cloud Computing & DevOps:  Demonstrated expertise in cloud platforms like GCP, AWS, and Azure \\nDatabricks, and in DevOps tools for deployment and CI/CD processes.  \\n● Data Architecture & Engineering:  Competent in designing and implementing robust data architectures, \\nensuring data quality and accessibility for analytics purposes. Experienced in using Dataform for data modeling \\nand preprocessing workflows.  \\n● Operationalization & Scaling: Proficient in deploying scalable machine learning models and integrating them \\ninto production environments, using tools like Vertex AI for ML pipelines and MLOps.  \\n● Collaboration & Leadership:  Demonstrated ability to lead cross -functional teams and collaborate with \\nstakeholders to drive data -driven decision -making. Effective mentorship of junior data scientists and interns, \\nfostering  a culture of learning and innovation.  \\n \\nPROFESSIONAL  EXPERIENCE  \\nH.E.B, Inc   San Antonio, Texas  \\nSenior Data Scientist  February  2020-present  \\n● Led a large -scale assortment space optimization initiative, migrating from SQL -based to Spark -based code, \\nemploying multi -stage predictive modeling (global/local XGBoost) and linear programming optimization, \\nsignificantly improving store layout and boosting revenue by 8%.  \\n● Led the design and implementation of an agentic RAG -based assistant using LangChain, LangGraph, OpenAI, \\nand Claude AI, enabling users to search and interpret extensive documentation and code for a demand forecasting \\nengine, significantly improving transpar ency and accelerating insights into forecasting logic and experimentation \\nhistory.  \\n● Led a large -scale warehouse item -class demand forecasting project on Databricks using Spark and an ensemble \\nof Temporal Fusion Transformer (TFT), LGBM, and XGBoost models. Mentored junior analysts and data \\nscientists, achieving a 40% uplift in forecast acc uracy and an 18% improvement in resource allocation.  \\n● Led the design and implementation of a forecasting engine using Ray , VertexAI on  GCP  and Dataform , using \\nvarious local and global models from conventional time series to state of art deep learning techniques achieving \\na 9% error reduction and a 15% reduction for promoted items, enhancing inventory efficiency by 5%.  \\n● Transformed promotional forecasting platform to Pyspark distributed computing from R and scala, revisit and \\nupgrade the logics and models in AWS which resulted in 2% reducing in error and astonishing nearly 70% in \\nruntime . \\n● Developed PipeLearner, a Spark distributed package, cutting down model training and deployment time by over \\n50%.  \\n● Directed multiple price/promotion optimization projects, consisting delivering both the predictive and \\nprescriptive modeling, using XGboost and Linear family models  at scale  for predictive part and use linear  \\nprogramming  and meta -heuristics for optimization, resulting in extreme satisfaction in super users, increasing \\nrevenue for markdown products by 5%, reduce stock out and expiring products . \\n \\nUniversity of Texas at San Antonio   San Antonio, Texas  \\nResearch Assistant/Instructor/Teaching Assistant  2016- 2019 \\n● Enhanced predictive accuracy in educational research using advanced statistical and machine learning techniques, \\nsignificantly influencing student success strategies.  \\n● Conducted actionable cybersecurity research with a game theory approach, enhancing security for manufacturing \\ndata systems.  \\n● Improved shop floor scheduling efficiency in a virtual manufacturing environment using optimization algorithms.  \\n \\nReef Chemical Industries Complex    Esfahan, Iran  \\nManufacturing/Enterprise Data Analytics Manager  2013- 2015 \\n● Developed and implemented a machine learning -based anomaly detection system for predictive maintenance, \\nreducing machinery downtime by 30% and saving the company over $200K annually. Utilized Python, Scikit -\\nLearn, and TensorFlow to analyze real -time operational data, effectively identifying potential failures and \\nenhancing maintenance schedules.  \\n● Implemented predictive maintenance models, significantly improving operational efficiency and equipment \\nlifespan.  \\n● Designed comprehensive data structures for operations tracking, boosting data analysis productivity and decision -\\nmaking.  \\n \\nIsfahan Steel Complex    Esfahan, Iran  \\nData Analyst/Consultant  2009- 2013 \\n● Led the implementation of an o ptimized maintenance system , reducing unplanned downtime significantly through \\nimproved machinery  health forecasting.  \\n● Applied statistical analysis to emergency maintenance data, achieving a marked reduction in emergency repairs.  \\n \\nINDEPENDENT PROJECTS  \\nPhD & Masters Application Assistant  \\nDeveloped an end -to-end solution to help prospective graduate students identify top universities, programs, and \\nadvisors. Scraped data from university websites with Scrapy, employed multiple LLM stages (including Retrieval -\\nAugmented Generation), and fine -tuned OpenAI/Anthropic models for personalized recommendations. Deployed an \\ninteractive demo using Gradio for testing text and code generation capabilit ies. \\nMMA Fighter Ranking Model  \\nDesigned a multi -stage ranking system leveraging graph/network analysis and domain -specific rules to objectively \\nassess MMA fighters’ performance. Utilized Scrapy in Python for data extraction, incorporated advanced ranking \\nalgorithms, and readied the solu tion as an API for seamless integration into third -party platforms.  \\nCollaborated with the University of Nebraska at Omaha on a predictive modeling project  \\nDeveloping models to estimate the mechanical properties of human femoropopliteal arteries, critical for customizing \\nstent designs. Utilized demographic and risk factor data to predict nonlinear orthotropic mechanical properties. Co -\\nauthored a paper titled \"Predicting Nonlinear Orthotropic Mechanical Properties of Human Femoropopliteal Arteries \\nUsing Demographics and Risk Factors,\" currently under review.  \\n \\n',\n",
       " 'guidance': '\\nPlease consider only jobs as relevant if they meet all of the following criteria:\\n\\nThe job title must include \"data scientist\" (for example: \"senior data scientist,\" \"lead data scientist,\" \"principal data scientist,\" or simply \"data scientist\").\\nJobs that are managerial or director level (such as \"manager,\" \"director,\" \"head,\" or \"VP\") are not relevant.\\nThe job location must be either in San Antonio, TX, or is remote in the United States (US).\\nThe job should be fulltime, not part-time or contract.\\nThe maximum base salary listed for the job must be greater than $170,000. If the salary is not listed, it should be considered relevant or not depending other criteria.\\nI am also interested in jobs related to generative AI and large language model (LLM) development, even if this is not a major focus in my resume.\\n'}"
      ]
     },
     "execution_count": 15,
     "metadata": {},
     "output_type": "execute_result"
    }
   ],
   "source": [
    "relevent_documents"
   ]
  },
  {
   "cell_type": "code",
   "execution_count": 16,
   "id": "89c6db82",
   "metadata": {},
   "outputs": [],
   "source": [
    "def load_list_to_dataframe(documents: List[Any]) -> pd.DataFrame:\n",
    "    \"\"\"\n",
    "    Convert a list of documents to a pandas DataFrame.\n",
    "\n",
    "    Args:\n",
    "        documents (List[Any]): List of documents to convert\n",
    "\n",
    "    Returns:\n",
    "        pd.DataFrame: DataFrame containing the document data\n",
    "    \"\"\"\n",
    "    import pandas as pd\n",
    "\n",
    "    # Create a list to store the extracted data\n",
    "    data = []\n",
    "\n",
    "    # Extract relevant information from each document\n",
    "    for doc in documents:\n",
    "        # Extract metadata and content\n",
    "        metadata = doc.metadata\n",
    "        content = doc.page_content\n",
    "        \n",
    "        # Create a dictionary for this document\n",
    "        doc_data = {\n",
    "            'id': doc.id,\n",
    "            'company': metadata.get('company', ''),\n",
    "            'title': metadata.get('title', ''),            \n",
    "            'level': metadata.get('level', ''),\n",
    "            'content': content, \n",
    "            'employment_type': metadata.get('employment_type', ''),\n",
    "            'job_function': metadata.get('job_function', ''),\n",
    "            'industries': metadata.get('industries', ''),\n",
    "            'posted_time': metadata.get('posted_time', ''),\n",
    "            'applicants': metadata.get('applicants', ''),\n",
    "            'job_id': metadata.get('job_id', ''),\n",
    "            'date': metadata.get('date', ''),\n",
    "            \"parsing_link\": metadata.get('parsing_link', ''),\n",
    "            \"job_posting_link\": metadata.get('job_posting_link', ''),\n",
    "        }\n",
    "        \n",
    "        data.append(doc_data)\n",
    "\n",
    "    # Create DataFrame\n",
    "    df = pd.DataFrame(data)\n",
    "\n",
    "    # Display the DataFrame with key columns\n",
    "    print(f\"DataFrame created with {len(df)} rows and {len(df.columns)} columns\")\n",
    "    return df#[['company', 'title', 'level', 'employment_type', 'job_function', 'posted_time']]"
   ]
  },
  {
   "cell_type": "code",
   "execution_count": 17,
   "id": "2827b313",
   "metadata": {},
   "outputs": [
    {
     "name": "stdout",
     "output_type": "stream",
     "text": [
      "DataFrame created with 71 rows and 14 columns\n"
     ]
    },
    {
     "data": {
      "application/vnd.microsoft.datawrangler.viewer.v0+json": {
       "columns": [
        {
         "name": "index",
         "rawType": "int64",
         "type": "integer"
        },
        {
         "name": "id",
         "rawType": "object",
         "type": "string"
        },
        {
         "name": "company",
         "rawType": "object",
         "type": "string"
        },
        {
         "name": "title",
         "rawType": "object",
         "type": "string"
        },
        {
         "name": "level",
         "rawType": "object",
         "type": "string"
        },
        {
         "name": "content",
         "rawType": "object",
         "type": "string"
        },
        {
         "name": "employment_type",
         "rawType": "object",
         "type": "string"
        },
        {
         "name": "job_function",
         "rawType": "object",
         "type": "string"
        },
        {
         "name": "industries",
         "rawType": "object",
         "type": "string"
        },
        {
         "name": "posted_time",
         "rawType": "object",
         "type": "string"
        },
        {
         "name": "applicants",
         "rawType": "object",
         "type": "string"
        },
        {
         "name": "job_id",
         "rawType": "object",
         "type": "string"
        },
        {
         "name": "date",
         "rawType": "object",
         "type": "string"
        },
        {
         "name": "parsing_link",
         "rawType": "object",
         "type": "string"
        },
        {
         "name": "job_posting_link",
         "rawType": "object",
         "type": "string"
        }
       ],
       "ref": "ba0844c4-7f1a-4c8e-bc1c-9c2d7f8c83ea",
       "rows": [
        [
         "0",
         "45b6bc4b-e476-452b-bcf7-38489c7d2bd1",
         "HCA Healthcare",
         "Data Science Manager",
         "Mid-Senior level",
         "Data Science Manager \n HCA Healthcare \n Job Summary and QualificationsAt HCA Healthcare, we are committed to providing our patients and care providers with the highest quality of healthcare services. HCA’s Care Transformation and Innovation (CT&I) team delivers a step change in that direction through clinically led integration of digital and AI technologies into care.The Manager, Data Science is a technical managerial position that provides technical and organizational leadership to deliver Data Science products. This person engages with department leadership to understand strategy to align long term data science initiatives and budgets with product roadmaps and business requirements. This person guides planning, development, and implementation of components with the Data Science team.This role is expected to drive a positive change throughout the organization (both Business and Technology) and is expected to show empathy for the stakeholders and build products which deliver a delightful experience.What You'll Do:AGILE AND VALUE BASED DELIVERY: Lead, research, strategize, design, implement, document and evangelize Data Science products from incubation to deployment to monitoring. Responsible for team level OKRs related to product modules and agile delivery.FRAMEWORK, TOOLING, AND BEST PRACTICES: Facilitate the delivery of enterprise wide, production grade, and accurate data science products by establishing and standardizing tooling and process frameworks for best practices that produce maintainable code, automated testing, and CI/CD. Enable good developer experience in code-centric and low-code environments.CODE AND DELIVERABLE QUALITY: Provide technical code review for delivery work; ensure adherence to Responsible AI framework, ensure model interpretability, explainability, and model KPIs (both functional and non-functional)LEADERSHIP: Manage, mentor, and coordinate the team of data scientists, product managers, analysts, and vendors/contractors to meet project goals and expectations. Facilitate the team to master full stack technical capabilities. Deep dive with Data Scientists on the design and performance of AI services. Explain data science approach and results to Business and IT stakeholders in understandable terms.STRATEGIC LEADERSHIP: Actively participate in the development of the company's data science strategy and roadmap, working closely with senior leadership.DOMAIN LEADERSHIP: Stay up-to-date with healthcare industry trends and AI technologies, bringing new ideas and best practices to CT&I.PRODUCT DEVELOPMENT MINDSET: Communicate with senior management and stakeholders to ensure alignment of goals and priorities through an unrelenting focus on end users. Develop and track data product OKRs for measurable value creation for the enterprise.What qualifications you will need:Bachelor’s Degree in Computer Science or related field4+ years of overall experience in various aspects of data science and machine learning with demonstrated progressive responsibilities; particularly in Predictive Modeling, Optimization and/or Operations ResearchExpert experience in SQL and PythonExperience with structured and unstructured data (ie. tabular, text, images, video, etc)Experience with SQL relational and non-relational databasesExperience with data processing and ETL tools (e.g Apache Spark)Experience with data visualization and data monitoring toolsExperience with Infrastructure as Code (IAC) such as Terraform, Github Actions, and DockerExperience with cloud deployments in GCP or another cloud platformExperience with Agile development methods and tools (e.g. Azure Dev Ops)Excellent communication and collaboration skills, with the ability to work effectively across multiple teams and stakeholdersStrong leadership skills with a proven track record of motivating, mentoring, and managing multidisciplinary data science and engineering teamsAbility to tell a story using data and insights that drives action and changeDemonstrated leadership in a fast-paced environment with decisiveness, consensus-building, empathy and kindnessPreferred RequirementsMasters/PhD Degree in Computer Science or related fieldHealthcare domain knowledge and experienceStrong project management skills with the ability to manage multiple projects simultaneouslyAgile Delivery, Product Management or Scrum Master certificationsExperience managing and unblocking teams in GCP platformWork Location/Schedule:Must reside in or be willing to relocate to Nashville, TN, Orlando, FL, or Austin, TXWFH: M-F Show more Show less \n Engineering and Information Technology \n Technology, Information and Media",
         "Full-time",
         "Engineering and Information Technology",
         "Technology, Information and Media",
         "3 days ago",
         "N/A",
         "4222341754",
         "2025-05-26",
         "https://www.linkedin.com/jobs-guest/jobs/api/jobPosting/4222341754",
         "https://www.linkedin.com/jobs/view/data-science-manager-at-hca-healthcare-4222341754?trk=public_jobs_topcard-title"
        ],
        [
         "1",
         "5a97b60c-63fe-4d52-ad23-aefc2799a412",
         "Gormat",
         "Data Scientist 3",
         "Entry level",
         "Data Scientist 3 \n Gormat \n Job Description: Performs technical analysis for malicious, in order to ascertain functionality and capability, assist with attribution and identification of indicators of compromise. Provide information and documentation that enables malware detection, signature creation, and mitigation. The Level 3 Data Scientist shall possess the following capabilities: Employ some combination (2 or more) of the following skill areas: Foundations: (Mathematical, Computational, Statistical) Data Processing: (Data management and curation, data description and visualization, workflow and reproducibility) Modeling, Inference, and Prediction: (Data modeling and assessment, domain-specific considerations) Devise strategies for extracting meaning and value from large datasets. Make and communicate principled conclusions from data using elements of mathematics, statistics, computer science, and application specific knowledge. Through analytic modeling, statistical analysis, programming, and/or another appropriate scientific method, develop and implement qualitative and quantitative methods for characterizing, exploring, and assessing large datasets in various states of organization, cleanliness, and structure that account for the unique features and limitations inherent in Government data holdings. Translate practical mission needs and analytic questions related to large datasets into technical requirements and, conversely, assist others with drawing appropriate conclusions from the analysis of such data. Effectively communicate complex technical information to non-technical audiences. Make informed recommendations regarding competing technical solutions by maintaining awareness of the constantly shifting Government collection, processing, storage and analytic capabilities and limitations Providing advanced discovery support utilizing machine learning, analytical prototyping, scripting, automation, data visualization, statistical analysis, and TechSIGINT tools. Req is Mass data analytics, data processing and modeling utilizing all available SIGINT. Team based / Collaboration with TDNAs , DS, and fellow SMEs. SIGDEV or RF (HF, VHF, UHF, SATCOM) exp are nice to haves.; Solution needs demonstrated exp with data processing, normalization, and exploratory analysis. JupyterNB & Python exp is required; Data modeling exp leveraging various algorithms along with Data Visualization skills is a requirement; Capability to deliver presentations or briefings to a non technical/technical audience as needed. Qualifications: Bachelor's Degree with 10 years of relevant experience Associates degree with 12 years of relevant experience Bachelor's Degree must be in Mathematics, Applied Mathematics Statistics, Applied Statistics, Machine learning, Data Science, Operations Research, or Computer Science or a degree in a related field (Computer Information Systems, Engineering), a degree in the physical/hard sciences (e.g. physics, chemistry, biology, astronomy), or other science disciplines with a substantial computational component (i.e. behavioral, social, or life) may be considered if it included a concentration of coursework (5 or more courses) in advanced Mathematics (typically 300 level or higher, such as linear algebra, probability and statistics, machine learning) and/or computer science (e.g. algorithms, programming, , data structures, data mining, artificial intelligence). College-level requirement, or upper-level math courses designated as elementary or basic do not count. Note: A broader range of degrees will be considered if accompanied by a Certificate in Data Science from an accredited college/university. Relevant experience must be in designing/implementing machine learning, data science, advanced analytical algorithms, programming (skill in at least one high-level language (e.g. Python)), statistical analysis (e.g. variability, sampling error, inference, hypothesis testing, EDA, application of linear models), data management (e.g. data cleaning and transformation), data mining, data modeling and assessment, artificial intelligence, and/or software engineering. Experience in more than one area is strongly preferred. Must Have an Active TS/SCI With Full Scope Poly. Job Posted by ApplicantPro Show more Show less \n Engineering and Information Technology \n Hospitals and Health Care, Non-profit Organizations, and Government Administration",
         "Full-time",
         "Engineering and Information Technology",
         "Hospitals and Health Care, Non-profit Organizations, and Government Administration",
         "1 day ago",
         "42 applicants",
         "4237502589",
         "2025-05-26",
         "https://www.linkedin.com/jobs-guest/jobs/api/jobPosting/4237502589",
         "https://www.linkedin.com/jobs/view/data-scientist-3-at-gormat-4237502589?trk=public_jobs_topcard-title"
        ],
        [
         "2",
         "33cde05d-faf4-49f1-969b-20a5272b5d96",
         "Kforce Inc",
         "Data Scientist",
         "Associate",
         "Data Scientist \n Kforce Inc \n ResponsibilitiesKforce has a client that is seeking a remote Data Scientist. Summary: The Data Scientist typically involves using data to answer business questions and improve decision-making. This includes collecting, cleaning, and analyzing large datasets using statistical and machine learning techniques to extract meaningful insights and build predictive models. Data Scientists communicate their findings through visualizations and reports, providing actionable recommendations to stakeholders. Job Duties may include: Data Scientist will design various AB tests, multivariate tests and works with organizations stakeholders to identify opportunities for leveraging data Produces innovative solutions driven by exploratory data analysis from large high dimensional datasets Expertise in analytics algorithm such as Apriori, Decision Trees algorithm, Naive Bayes algorithm, clustering algorithm, Neural Network algorithm, Linear Regression algorithm, Random Forest Applies strong knowledge of statistics, machine learning, Data modelling and simulations to recognize patterns Identifies opportunities, pose business questions and make valuable discoveries leading to new product development, enhancements and prototype development As a Data Scientist, you will develop increasing complex models & monitors performance of developed models and makes recommendations to increase accuracy Documents implementation details and choice of models, rationale and reasoning Acts as a mentor to lesser tenured colleaguesRequirements Bachelor's degree 2+ years of experience as a Data Scientist Strong expertise in statistical computation and numerical packages in tools (R, Spark, Mahout, RapidMiner, Alteryx, Knime, and Python) Significant experience with analyzing data from different sources and visualizing tools such as KNIME, Spotfire, Tableau, etc. Significant experience and familiarity in Big Data Technologies i.e. Apache Hadoop, Map Reduce, Hive, PIG, Sqoop, Flume, etc. Excellent understanding of theory of statistics and their applicationThe pay range is the lowest to highest compensation we reasonably in good faith believe we would pay at posting for this role. We may ultimately pay more or less than this range. Employee pay is based on factors like relevant education, qualifications, certifications, experience, skills, seniority, location, performance, union contract and business needs. This range may be modified in the future.We offer comprehensive benefits including medical/dental/vision insurance, HSA, FSA, 401(k), and life, disability & ADD insurance to eligible employees. Salaried personnel receive paid time off. Hourly employees are not eligible for paid time off unless required by law. Hourly employees on a Service Contract Act project are eligible for paid sick leave.Note: Pay is not considered compensation until it is earned, vested and determinable. The amount and availability of any compensation remains in Kforce's sole discretion unless and until paid and may be modified in its discretion consistent with the law.This job is not eligible for bonuses, incentives or commissions.Kforce is an Equal Opportunity/Affirmative Action Employer. All qualified applicants will receive consideration for employment without regard to race, color, religion, sex, pregnancy, sexual orientation, gender identity, national origin, age, protected veteran status, or disability status.By clicking “Apply Today” you agree to receive calls, AI-generated calls, text messages or emails from Kforce and its affiliates, and service providers. Note that if you choose to communicate with Kforce via text messaging the frequency may vary, and message and data rates may apply. Carriers are not liable for delayed or undelivered messages. You will always have the right to cease communicating via text by using key words such as STOP. Show more Show less \n Engineering and Information Technology \n Hospitals and Health Care, Non-profit Organizations, and Government Administration",
         "Contract",
         "Engineering and Information Technology",
         "Hospitals and Health Care, Non-profit Organizations, and Government Administration",
         "4 days ago",
         "N/A",
         "4233430613",
         "2025-05-26",
         "https://www.linkedin.com/jobs-guest/jobs/api/jobPosting/4233430613",
         "https://www.linkedin.com/jobs/view/data-scientist-at-kforce-inc-4233430613?trk=public_jobs_topcard-title"
        ],
        [
         "3",
         "2e43ac13-2fc4-42ad-a7e0-38d67a36db09",
         "Trace3",
         "Senior Data Scientist",
         "Mid-Senior level",
         "Senior Data Scientist \n Trace3 \n Who is Trace3?Trace3 is a leading Transformative IT Authority, providing unique technology solutions and consulting services to our clients. Equipped with elite engineering and dynamic innovation, we empower IT executives and their organizations to achieve competitive advantage through a process of Integrate, Automate, Innovate.Our culture at Trace3 embodies the spirit of a startup with the advantage of a scalable business. Employees can grow their career and have fun while doing it!Trace3 is headquartered in Irvine, California. We employ more than 1,200 people all over the United States. Our major field office locations include Denver, Indianapolis, Grand Rapids, Lexington, Los Angeles, Louisville, Texas, San Francisco.Ready to discover the possibilities that live in technology?Come Join Us!Street-Smart - Thriving in Dynamic TimesWe are flexible and resilient in a fast-changing environment. We continuously innovate and drive constructive change while keeping a focus on the “big picture.” We exercise sound business judgment in making high-quality decisions in a timely and cost-effective manner. We are highly creative and can dig deep within ourselves to find positive solutions to different problems.Juice - The “Stuff” it takes to be a Needle Mover We get things done and drive results. We lead without a title, empowering others through a can-do attitude. We look forward to the goal, mentally mapping out every checkpoint on the pathway to success, and visualizing what the final destination looks and feels like.Teamwork - Humble, Hungry and SmartWe are humble individuals who understand how our job impacts the company's mission. We treat others with respect, admit mistakes, give credit where it’s due and demonstrate transparency. We “bring the weather” by exhibiting positive leadership and solution-focused thinking. We hug people in their trials, struggles, and failures – not just their success. We appreciate the individuality of the people around us.*Please note, this is a permanent placement position through Trace3*Position SummaryWe are seeking a highly skilled and experienced Senior Data Scientist to join our dynamic Data Science and AI team. In this role, you will be instrumental in transforming data into actionable insights and innovative solutions, driving forward our business strategy. You will leverage advanced machine learning, statistical techniques, and analytical prowess to solve complex business challenges, collaborating closely with cross-functional teams to design, develop, and deploy scalable AI-driven models and algorithms.This position belongs to a family of jobs with increasing responsibility, competency, and skill level. Actual position title and pay grade will be based on the selected candidate’s experience and qualifications. Ideal candidate will be located in San Antonio, TX, Findlay, OH, or Denver, CO.Key ResponsibilitiesLeads multiple data science projects ensuring alignment with business goals.Develops predictive models and integrates them with Business Intelligence tools.Develops and maintains data pipelines for efficient data retrieval and processing. Collaborates with applications and data engineering teams for deploying models at scale.Mentors junior data scientists in model development and data handling.Engages with Senior Leadership to inform strategic decisions using business intelligence insights.Researches and adopts cutting-edge technologies and methodologies in data science.Manages stakeholder expectations and delivers actionable solutions.Oversees data processing pipelines ensuring data quality and consistency.Drives ethical considerations in model deployment and data utilization.Collaborates with external partners, research institutions, and subject matter experts to gather domain-specific knowledge and datasets.Performs exploratory data analysis to identify patterns, insights, and communicate findings.Engage in the ideation and prototyping of new solutions to meet emerging business requirements.Utilize advanced machine learning techniques (e.g., deep learning, NLP, computer vision, reinforcement learning) to create innovative solutions.Education And ExperienceBachelor’s Degree in Information Technology or related field required.Master’s or Ph.D. in Computer Science, Statistics, Mathematics, or a related field preferred5+ years of relevant experience required.Expertise in Python and proficiency in ML frameworks (TensorFlow, PyTorch, scikit-learn).Deep understanding of ML algorithms (supervised, unsupervised learning, and deep learning) and their applications.Strong problem-solving, critical thinking, and analytical capabilities.Actual salary will be based on a variety of factors, including location, experience, skill set, performance, licensure and certification, and business needs. The range for this position in other geographic locations may differ. Certain positions may also be eligible for variable incentive compensation, such as bonuses or commissions, that is not included in the base salary.Estimated Pay Range$105,000—$148,000 USDThe PerksComprehensive medical, dental and vision plans for you and your dependents401(k) Retirement Plan with Employer Match, 529 College Savings Plan, Health Savings Account, Life Insurance, and Long-Term DisabilityCompetitive CompensationTraining and development programsStocked kitchen with snacks and beveragesCollaborative and cool cultureWork-life balance and generous paid time offOur CommitmentAt the core of Trace3's DNA is our people. We are a diverse group of talented individuals who understand the importance of teamwork and demonstrating leadership, character, and passion in all that we do.We’re committed to fostering an inclusive workplace where everyone feels respected, valued, and empowered to grow. We recognize that embracing diversity drives innovation, improves outcomes, fosters collaboration, boosts teammate satisfaction, and builds a more inclusive culture.As an equal opportunity employer, Trace3 bases all employment decisions based on individual qualifications, merit, and business requirements. We do not engage in discrimination on the basis of race, color, religion, sex (including gender identity, sexual orientation, and pregnancy), national origin, age (40 or older), disability, genetic information, or any other characteristic protected by federal, state, or local law.Any demographic information provided is strictly voluntary, kept confidential in accordance with Equal Employment Opportunity (EEO) regulations, and will not be used in employment decisions, including hiring, promotions, or mentorship programs. We are committed to providing equal employment opportunities for all.If you require a reasonable accommodation to complete the application process or participate in an interview, please email recruiting@trace3.com.To all recruitment agencies: Trace3 does not accept unsolicited agency resumes/CVs. Please do not forward resumes/CVs to our careers email addresses, Trace3 employees or any other company location. Trace3 is not responsible for any fees related to unsolicited resumes/CVs. Show more Show less \n Engineering and Information Technology \n Hospitals and Health Care, Non-profit Organizations, and Government Administration",
         "Full-time",
         "Engineering and Information Technology",
         "Hospitals and Health Care, Non-profit Organizations, and Government Administration",
         "1 day ago",
         "37 applicants",
         "4207115907",
         "2025-05-26",
         "https://www.linkedin.com/jobs-guest/jobs/api/jobPosting/4207115907",
         "https://www.linkedin.com/jobs/view/senior-data-scientist-at-trace3-4207115907?trk=public_jobs_topcard-title"
        ],
        [
         "4",
         "94ae2c5f-c263-4619-9bac-fe288f3e5136",
         "Worth AI ",
         "Director of Data Science",
         "Mid-Senior level",
         "Director of Data Science \n Worth AI  \n Worth is seeking an experienced and visionary Director of Data Science to lead the development and deployment of machine learning and statistical modeling solutions that drive business impact across our organization. This individual will guide a team of data scientists and partner with cross-functional stakeholders to build scalable, production-grade models for both analytical and product applications.The ideal candidate brings a strong foundation in predictive modeling, statistical analysis, and machine learning, with proven leadership experience in building data science teams and influencing strategic decisions. Expertise in areas such as NLP, computer vision, or reinforcement learning is highly desirable. This role requires exceptional communication skills and the ability to distill complex insights into clear, actionable recommendations for executive audiences.ResponsibilitiesLead, mentor, and scale a high-performing team of data scientists while fostering a culture of innovation, collaboration, and continuous learningOversee the end-to-end development of machine learning models—design, training, validation, and deployment—within cloud-based production environmentsPartner with product, engineering, and business teams to identify opportunities for data science solutions, define success metrics, and deliver measurable impactDrive the integration of large-scale data systems and pipelines to power intelligent, adaptive models that reflect changing customer, market, and business dynamicsEnsure rigorous model monitoring, governance, and retraining protocols to maintain accuracy, fairness, and complianceCommunicate technical results and strategic insights clearly and persuasively to senior leadership and non-technical stakeholdersChampion the adoption of advanced analytics tools, frameworks, and best practices across the companyRequirementsBachelor's degree and 8+ years of professional experience, or Master's degree and 6+ years, or PhD and 4+ years, in a quantitative field such as Computer Science, Statistics, Applied Mathematics, or EngineeringProven leadership experience managing data science or machine learning teams in fast-paced, agile environmentsDeep expertise in statistical modeling and machine learning techniques (e.g., regression, time series, clustering, ensemble methods, simulation, NLP, deep learning, etc.)Hands-on proficiency in Python and SQL; familiarity with R or other languages is a plusPractical experience with ML libraries and frameworks such as Scikit-learn, TensorFlow, Keras, PyTorch, Statsmodels, NumPy, and SciPy. Strong understanding of data architecture and MLOps practices in cloud environments such as AWS, Azure, or GCPExcellent data storytelling and executive communication skills; confident in building and delivering compelling visual presentations (e.g., Tableau, PowerBI)Deep understanding of Agile methodologies such as Scrum or KanbanBenefitsHealth Care Plan (Medical, Dental & Vision)Retirement Plan (401k, IRA)Life InsuranceUnlimited Paid Time Off9 paid HolidaysFamily LeaveWork From HomeFree Food & Snacks (Access to Industrious Co-working Membership!)Wellness Resources Show more Show less \n Engineering \n IT Services and IT Consulting",
         "Full-time",
         "Engineering",
         "IT Services and IT Consulting",
         "3 days ago",
         "N/A",
         "4236122660",
         "2025-05-26",
         "https://www.linkedin.com/jobs-guest/jobs/api/jobPosting/4236122660",
         "https://www.linkedin.com/jobs/view/director-of-data-science-at-worth-ai-4236122660?trk=public_jobs_topcard-title"
        ],
        [
         "5",
         "eda1a8ce-5236-4a10-a610-8132eebbec27",
         "Worth AI ",
         "Director of Data Science",
         "Mid-Senior level",
         "Director of Data Science \n Worth AI  \n Worth is seeking an experienced and visionary Director of Data Science to lead the development and deployment of machine learning and statistical modeling solutions that drive business impact across our organization. This individual will guide a team of data scientists and partner with cross-functional stakeholders to build scalable, production-grade models for both analytical and product applications.The ideal candidate brings a strong foundation in predictive modeling, statistical analysis, and machine learning, with proven leadership experience in building data science teams and influencing strategic decisions. Expertise in areas such as NLP, computer vision, or reinforcement learning is highly desirable. This role requires exceptional communication skills and the ability to distill complex insights into clear, actionable recommendations for executive audiences.ResponsibilitiesLead, mentor, and scale a high-performing team of data scientists while fostering a culture of innovation, collaboration, and continuous learningOversee the end-to-end development of machine learning models—design, training, validation, and deployment—within cloud-based production environmentsPartner with product, engineering, and business teams to identify opportunities for data science solutions, define success metrics, and deliver measurable impactDrive the integration of large-scale data systems and pipelines to power intelligent, adaptive models that reflect changing customer, market, and business dynamicsEnsure rigorous model monitoring, governance, and retraining protocols to maintain accuracy, fairness, and complianceCommunicate technical results and strategic insights clearly and persuasively to senior leadership and non-technical stakeholdersChampion the adoption of advanced analytics tools, frameworks, and best practices across the companyRequirementsBachelor's degree and 8+ years of professional experience, or Master's degree and 6+ years, or PhD and 4+ years, in a quantitative field such as Computer Science, Statistics, Applied Mathematics, or EngineeringProven leadership experience managing data science or machine learning teams in fast-paced, agile environmentsDeep expertise in statistical modeling and machine learning techniques (e.g., regression, time series, clustering, ensemble methods, simulation, NLP, deep learning, etc.)Hands-on proficiency in Python and SQL; familiarity with R or other languages is a plusPractical experience with ML libraries and frameworks such as Scikit-learn, TensorFlow, Keras, PyTorch, Statsmodels, NumPy, and SciPy. Strong understanding of data architecture and MLOps practices in cloud environments such as AWS, Azure, or GCPExcellent data storytelling and executive communication skills; confident in building and delivering compelling visual presentations (e.g., Tableau, PowerBI)Deep understanding of Agile methodologies such as Scrum or KanbanBenefitsHealth Care Plan (Medical, Dental & Vision)Retirement Plan (401k, IRA)Life InsuranceUnlimited Paid Time Off9 paid HolidaysFamily LeaveWork From HomeFree Food & Snacks (Access to Industrious Co-working Membership!)Wellness Resources Show more Show less \n Engineering \n IT Services and IT Consulting",
         "Full-time",
         "Engineering",
         "IT Services and IT Consulting",
         "3 days ago",
         "37 applicants",
         "4236124270",
         "2025-05-26",
         "https://www.linkedin.com/jobs-guest/jobs/api/jobPosting/4236124270",
         "https://www.linkedin.com/jobs/view/director-of-data-science-at-worth-ai-4236124270?trk=public_jobs_topcard-title"
        ],
        [
         "6",
         "ce7cd27d-9534-4d3d-a707-91a3d04d1329",
         "Jobs via Dice",
         "Senior Data Scientist",
         "Mid-Senior level",
         "Senior Data Scientist \n Jobs via Dice \n Dice is the leading career destination for tech experts at every stage of their careers. Our client, Kforce Technology Staffing, is seeking the following. Apply via Dice today!RESPONSIBILITIES:Kforce has a client that is seeking an experienced Senior Data Scientist to join our Data Science and AI team.Summary:In this role, the Senior Data Scientist will help transform data into actionable insights, drive business strategy, and develop innovative AI-driven solutions. They will leverage advanced machine learning, statistical techniques, and analytics to solve complex challenges, collaborating with cross-functional teams to design, develop, and deploy scalable models and algorithms.Key Responsibilities: Lead the development of new solutions to meet evolving business needs Use advanced machine learning techniques (e.g., deep learning, NLP, computer vision) to create innovative solutions Manage multiple data science projects, ensuring alignment with business goals Develop and optimize predictive models, integrating them with business intelligence tools Build and maintain efficient data pipelines and collaborate with engineering teams for large-scale deployment Mentor junior data scientists in model development and data handling best practices Collaborate with leadership to provide data-driven insights that inform strategic decisions Stay current with emerging data science technologies and methodologies Conduct exploratory data analysis to uncover patterns and communicate findings Manage stakeholder expectations and deliver actionable solutions Ensure data quality and consistency across data processing pipelines Advocate for ethical use of data and models Partner with external experts to enhance domain knowledge and improve data solutionsREQUIREMENTS: Bachelor's degree in Information Technology, related field, or equivalent experience required; Master's or Ph.D. in Computer Science, Statistics, Mathematics, or a related field preferred 5+ years of relevant experience in data science or a similar role Expertise in Python and machine learning frameworks (e.g., TensorFlow, PyTorch, scikit-learn) Deep understanding of machine learning algorithms (supervised, unsupervised, deep learning) Strong problem-solving and analytical skills AI/ML - Strong knowledge of AI/ML concepts and algorithms to design intelligent systems and applications Business Domain Knowledge - Understanding of business processes and market trends to deliver actionable insights Communication & Collaboration - Excellent communication skills for engaging with stakeholders and cross-functional teams Data Analysis - Expertise in analyzing data and applying statistical methods to support decision-making Data Ethics - Knowledge of ethical considerations in data usage and mitigating bias in models and decisions Data Mining - Experience in techniques like clustering, classification, and forecasting to extract insights from data Data Monetization - Familiarity with strategies to unlock value from data, including commercialization and data marketplaces NLP - Proficiency in natural language processing to analyze and extract insights from text data Problem-Solving - Strong ability to identify challenges, analyze solutions, and make data-driven recommendations Reporting & Dashboarding - Skilled in preparing reports and dashboards to communicate insights and guide decision-making Statistical Analysis - Solid foundation in statistical principles to support data-driven decisions and analysisThe pay range is the lowest to highest compensation we reasonably in good faith believe we would pay at posting for this role. We may ultimately pay more or less than this range. Employee pay is based on factors like relevant education, qualifications, certifications, experience, skills, seniority, location, performance, union contract and business needs. This range may be modified in the future.We offer comprehensive benefits including medical/dental/vision insurance, HSA, FSA, 401(k), and life, disability & ADD insurance to eligible employees. Salaried personnel receive paid time off. Hourly employees are not eligible for paid time off unless required by law. Hourly employees on a Service Contract Act project are eligible for paid sick leave.Note: Pay is not considered compensation until it is earned, vested and determinable. The amount and availability of any compensation remains in Kforce's sole discretion unless and until paid and may be modified in its discretion consistent with the law.This job is not eligible for bonuses, incentives or commissions.Kforce is an Equal Opportunity/Affirmative Action Employer. All qualified applicants will receive consideration for employment without regard to race, color, religion, sex, pregnancy, sexual orientation, gender identity, national origin, age, protected veteran status, or disability status.By clicking ?Apply Today? you agree to receive calls, AI-generated calls, text messages or emails from Kforce and its affiliates, and service providers. Note that if you choose to communicate with Kforce via text messaging the frequency may vary, and message and data rates may apply. Carriers are not liable for delayed or undelivered messages. You will always have the right to cease communicating via text by using key words such as STOP. Show more Show less \n Engineering and Information Technology \n Hospitals and Health Care, Non-profit Organizations, and Government Administration",
         "Full-time",
         "Engineering and Information Technology",
         "Hospitals and Health Care, Non-profit Organizations, and Government Administration",
         "2 hours ago",
         "N/A",
         "4235491484",
         "2025-05-26",
         "https://www.linkedin.com/jobs-guest/jobs/api/jobPosting/4235491484",
         "https://www.linkedin.com/jobs/view/senior-data-scientist-at-jobs-via-dice-4235491484?trk=public_jobs_topcard-title"
        ],
        [
         "7",
         "5b0483a1-826c-4002-96f8-9041c0d5a5e9",
         "H-E-B",
         "Sr Data Scientist - ML Engineering",
         "Mid-Senior level",
         "Sr Data Scientist - ML Engineering \n H-E-B \n ResponsibilitiesH-E-B's Corporate Planning and Analysis Team develops and maintains budgets and financial systems while providing current, reliable financial data, analysis, and technical information.As a Senior Data Scientist, your archetype is a Business Decision Scientist. Your passions include building a framework to stitch cross domains learning and optimizing them toward mission-specific and multi-mission tasks, uncovering ML models causality relationships, creating an enterprise domain-specific reasoning system to boost actionable insights and optimize resources of machine learning process, and orchestrating reusable storytelling methodology to apply toward AI translation.Once you're eligible, you'll become an Owner in the company, so we're looking for commitment, hard work, and focus on quality and Customer service. 'Partner-owned' means our most important resources--People--drive the innovation, growth, and success that make H-E-B The Greatest Omnichannel Retailing Company.Do you have a:HEART FOR PEOPLE... willingness to mentor?HEAD FOR BUSINESS... skills to serve as technical lead to support decision-making for complex cross-functional business issues?PASSION FOR RESULTS... ability to generate business-valued questions and data-driven solutions?We are looking for: a creative data storyteller with measurable and predictive business recommendationsWhat is the work? Handles the design, creation, and maintenance of an ML platform and related environments. Manages Docker containers and Kubernetes clusters, oversees dependencies and configurations, and implements CI/CD pipelines for automated building, testing, and deployment of machine learning models. Monitors and optimizes model training performance and resource usage. Deploys ML models to production environments and manages model versioning and rollback mechanisms. Ensures scalable and reliable model serving using tools like Vertex, Databricks, TensorFlow Serving, Flask, or FastAPI, ensuring the infrastructure can scale to meet the growing demands as the complexity and number of ML models increase. Works closely with data scientists, data engineers, and stakeholders to understand and fulfill their infrastructure needs. Stays updated with the latest technologies and best practices in ML infrastructure. Architects and develops Generative AI solutions utilizing Machine Learning and GenAI techniques. Collaborates with leadership to identify AI opportunities and promote AI strategy. Specializes in engineering and deploying Generative AImodels, with a specific focus on Retrieval-Augmented Generation (RAG) systems, search, knowledge graphs, and multi-agent workflows. Handles both unstructured and structured data, preparing it to be used as context for Language Model Learning (LLM). This involves tasks ranging from embedding large text corpora and developing generative SQL queries, to building connectors to structured databases. Trains models on prepared data and fine-tuning hyperparameters to achieve optimal performance.Analytics / Design & Development: Builds a framework to stitch cross domains learning; optimizes them toward mission-specific and multi-mission tasks Serves as expert specializing in AI interpretation and causality; uncovers ML model's causality relationships; builds framework to measure each model's bias, underspecification, and latent drivers with their connections Creates an enterprise domain-specific reasoning system to boost actionable insights and optimize the resources of machine learning process Orchestrates reusable storytelling methodology to apply toward AI translation Applies an inquisitive nature to creating ML / AI transparency to the business Applies AI reasoning into business action recommendations Applies AI research to accelerate business innovationWhat is your background? A related degree or comparable formal training, certification, or work experience 7+ years of experience in a retail or retail-related decision science role Expertise in ML visualization flow Expertise in optimizing distributed machine learning in a heterogeneous domain environmentDo you have what it takes to be a Senior Data Scientist at H-E-B? Technical knowledge in programming languages: SQL, R, Python, Scala, Java, C/C++ Technical knowledge in big data / ML optimization: GPU code optimization, Horovod, Spark MLlib optimization, Cython, JNI, Numba Technical knowledge in mainstream ML / AI: manifold learning, distributed clustering, graph network, hierarchical model, Bayesian network, deep learning, computer vision, NLP/NLU, reinforcement learning, meta-Learning, federated learning Technical skills to consider and apply causal reasoning representation and learning, and human-centric, explainable, responsible AI Ability as a creative storyteller and translator between business questions and ML solutions Ability to work comfortably with imperfect or incomplete data Ability to apply AI reasoning into business action recommendationCan you... Work in a fast-paced retail environment with frequently shifting priorities Work extended hours; sit for long periods08-2021 Show more Show less \n Engineering and Information Technology \n Hospitals and Health Care, Non-profit Organizations, and Government Administration",
         "Full-time",
         "Engineering and Information Technology",
         "Hospitals and Health Care, Non-profit Organizations, and Government Administration",
         "5 days ago",
         "59 applicants",
         "4231638091",
         "2025-05-26",
         "https://www.linkedin.com/jobs-guest/jobs/api/jobPosting/4231638091",
         "https://www.linkedin.com/jobs/view/sr-data-scientist-ml-engineering-at-h-e-b-4231638091?trk=public_jobs_topcard-title"
        ],
        [
         "8",
         "bb11a358-62cb-4a3a-a6c0-6bc7e3c2f02e",
         "H-E-B",
         "Data Scientist - eCommerce",
         "Entry level",
         "Data Scientist - eCommerce \n H-E-B \n ResponsibilitiesH-E-B's Corporate Planning and Analysis Team develops and maintains budgets and financial systems while providing current, reliable financial data, analysis, and technical information.As a Data Scientist II, your archetype is an ML / AI Business Solution Designer. Your passions include creating end-to-end business solutions packages by integrating multi-modals and data pipelines, innovating new ML algorithms to establish strong competitive advantage for H-E-B business, and designing and implementing different ML integration patterns to facilitate multi-modal orchestration.Once you're eligible, you'll become an Owner in the company, so we're looking for commitment, hard work, and focus on quality and Customer service. 'Partner-owned' means our most important resources--People--drive the innovation, growth, and success that make H-E-B The Greatest Omnichannel Retailing Company.Do you have a:HEART FOR PEOPLE... willingness to take a break from algorithmic thinking / detecting to translate and share your findings with a variety of business customers?HEAD FOR BUSINESS... skills to blend mass data-wrangling with business acumen?PASSION FOR RESULTS... drive to generate business-valued questions and data-based n solutions?We are looking for: a thought leader of ML innovation who orchestrates business solutions across ML pipelinesWhat is the work?Analytics / Design & Development: Analyzes clickstream data and customer interactions to drive insights. Develops and deploy machine learning models to support e-commerce initiatives Presents findings to both technical and non-technical audiences, including senior leadership Manages multiple data science projects while collaborating with Product, Business, and Engineering teams Serves H-E-B as a thought leader in selected mainstream ML / AI fields Builds a concrete roadmap for ML solution maturity revolution Creates end-to-end business solutions packages by integrating multi-modals and data pipelines Designs / implements different ML integration patterns to facilitate multi-modal orchestration Innovates new ML algorithms to establish strong competitive advantage for H-E-B business; ensures new algorithms are backed by solid math and science proof Applies an inquisitive nature about open source algorithms, their theories, and their implementation Grows expertise in constructing distributed machine learning pipeline from scratchWhat is your background? A related degree or comparable formal training, certification, or work experience 5+ years of experience in a retail or retail-related decision science role Expertise / in-depth knowledge of business domain Well-rounded experience integrating math / science and platform engineeringDo you have what it takes to be a Data Scientist at H-E-B? Experience with Clickstream Analytics (BQ/Amplitude) (Preferably in Retail) Experience with Recommendation Systems Able to continuously learn new methodologies and applications of ML/AI techniques Strong capabilities in translating data science findings into business-friendly results. Able to present findings to leaders and peers. Ability to contribute to multiple work streams concurrently while staying connected to Product, Business, and Engineering teams. Experience working with visualization tools such as Tableau and Dash Proficiency in DS techniques (classification, regression, optimization) Some familiarity with big data ecosystems (e.g., Spark, Hadoop) and UNIX commands / scripting Understanding of best-in-class AI techniques to customize algorithms that created H-E-B-unique differentiators Strong research and analytical skills Critical and lateral thinking skills Experience working with e-commerce data and understanding customer behavior Proficiency in tools like BigQuery, Amplitude, or similar for clickstream data analysis Experience with Tableau, Dash, or equivalent platforms to visualize data Ability to develop end-to-end ML solutions, including NLU/LLM modeling Proficiency in Python, SQL, Spark Strong ability to present findings clearly and collaborate across teams Programming language skills (SQL, R, Python, Scala, Java, C/C++) ML optimization skills (GPU code optimization, Horovod, SparkMLlib optimization, Cython, JNI, Numba Mainstream ML / AI skills (deep learning, computer vision, NLP / NLU, reinforcement learning, meta-learning, federated learning) Ability to grow expertise in constructing distributed machine learning pipeline from scratchCan you... Work in a fast-paced retail environment with frequently shifting priorities Work extended hours; sit for long periods08-2021CPFA3232 Show more Show less \n Engineering and Information Technology \n Hospitals and Health Care, Non-profit Organizations, and Government Administration",
         "Full-time",
         "Engineering and Information Technology",
         "Hospitals and Health Care, Non-profit Organizations, and Government Administration",
         "6 days ago",
         "83 applicants",
         "4216489085",
         "2025-05-26",
         "https://www.linkedin.com/jobs-guest/jobs/api/jobPosting/4216489085",
         "https://www.linkedin.com/jobs/view/data-scientist-ecommerce-at-h-e-b-4216489085?trk=public_jobs_topcard-title"
        ],
        [
         "9",
         "66ceda58-fc08-4712-ab1e-9c735670bd18",
         "USAA",
         "Data Scientist Principal – Bank AI/ML",
         "Entry level",
         "Data Scientist Principal – Bank AI/ML \n USAA \n Why USAA?At USAA, our mission is to empower our members to achieve financial security through highly competitive products, exceptional service and trusted advice. We seek to be the #1 choice for the military community and their families.Embrace a fulfilling career at USAA, where our core values – honesty, integrity, loyalty and service – define how we treat each other and our members. Be part of what truly makes us special and impactful.The OpportunityAs a dedicated Data Scientist Principal, you will leverage technical expertise and industry experience to influence the application, scalability, and enablement of artificial intelligence/machine learning (AI/ML) at USAA. The incumbent will identify novel opportunities for advanced analytics solutions, effectively communicates with business leaders, product teams, and other key stakeholders and guides end-to-end solution development, IT implementation, and business adoption. Provides strategic guidance to executive leadership by seeking, vetting, proposing, and enabling “best in class” tools and technologies. Collaborates with IT Architecture and leadership to ensure data and analytics tools are consistent with USAA’s strategic vision.We offer a flexible work environment that requires an individual to be in the office 4 days per week. This position can be based in one of the following locations: San Antonio, TX, Plano, TX, Phoenix, AZ, Colorado Springs, CO, Charlotte, NC, Chesapeake, VA or Tampa, FL. Relocation assistance is available for this position.What You'll DoIdentifies, researches, and defines large-scale, cross-functional AI/ML use cases in collaboration with business leaders, executive peers, and strategic partners. Guides end-to-end efforts to develop scalable, efficient, highly-performant, automated AI/ML solutions.Applies deep expertise to amplify the impact of modeling techniques on emerging business initiatives. Collaborates with IT architects to design, implement, monitor, and scale cutting-edge AI/ML solutions that translate prototypes into novel products, services, and features.Ensures that AI/ML solutions are built using industry best practices, and sound methodology. Works with model risk partners to promote a culture of regulatory compliance.Designs large, complex information assets that enable applied analytics. Collaborates with engineering, data, and information architects to establish and maintain well-governed, documented, and controlled datasets from internal and external, structured, and unstructured sources.Seeks opportunities to simplify, modernize, and standardize the model development lifecycle. Provides expert technical advice and guidance by vetting vendor acquisitions.Actively raises the bar on talent and recruitment by leading or participating in communities of practice, talent development initiatives, and technical interview panels.Clearly translates complex analytical and technical concepts to diverse, technical, and non-technical audiences in a way that promotes organizational data literacy and informs business priorities.Provides technical oversight for building and maintaining a robust library of reusable, production-quality algorithms and supporting code.Develops and maintains academic and industry relationships for research purposes. Represents USAA in key internal/external technology and advanced analytics conferences.Ensures risks associated with business activities are effectively identified, measured, monitored, and controlled in accordance with risk and compliance policies and procedures.What You HaveBachelor’s degree in mathematics, computer science, statistics, economics, finance, actuarial sciences, science and engineering, or other similar quantitative discipline.10 years of progressive experience in predictive analytics or data analysis, to include 6 years of experience in training and validating statistical, physical, machine learning, and other advanced analytics models.6 years of experience in one or more dynamic scripted language (such as Python, R, etc.) with a focus on writing code that is easy to follow, well documented, and commented where necessary to explain logic (high code transparency).Subject matter expert in the concepts and technologies associated with classical supervised modeling for prediction such as linear/logistic models, discriminant analysis, support vector machines, decision trees, forest models, etc.Subject matter expert in the concepts and technologies associated with unsupervised modeling such as k-means clustering, hierarchical/agglomerative clustering, neighbors algorithms, DBSCAN, etc.Deep hands-on experience building, deploying, and managing the performance of advanced analytics solutions. Proven track record of providing cutting-edge solutions that drive business adoption and value.Extensive project management experience and can anticipate and appropriately manage project milestones, risks, and impediments. Demonstrated history of appropriately communicating and escalating potential impediments and limitations to leadership.Demonstrated experience in guiding and mentoring junior technical staff in business interactions and model building.Extensive experience explaining and influencing complex technology decisions to both technical and nontechnical audiences at all levels in the organization and with cross functional and enterprise teams.Demonstrated experience leading business or product/portfolio transformation through use of advanced analytics.What Sets You ApartDeep technical expertise in machine learning and NLP and generative AI with hands on experience developing agent-based AI solutions tailored for banking use case.Extensive experience in a lead capacity in technology research, strategy, and implementation in the areas of Generative AI development for large scale cross-enterprise initiatives.Skilled at bridging business needs and technical solutions driving innovation in customer experience, contact center, underwriting and operational efficiency through advanced AI applications.Compensation range: The salary range for this position is: $217,520 - $415,760.Compensation: USAA has an effective process for assessing market data and establishing ranges to ensure we remain competitive. You are paid within the salary range based on your experience and market data of the position. The actual salary for this role may vary by location.Employees may be eligible for pay incentives based on overall corporate and individual performance and at the discretion of the USAA Board of Directors.The above description reflects the details considered necessary to describe the principal functions of the job and should not be construed as a detailed description of all the work requirements that may be performed in the job.Benefits: At USAA our employees enjoy best-in-class benefits to support their physical, financial, and emotional wellness. These benefits include comprehensive medical, dental and vision plans, 401(k), pension, life insurance, parental benefits, adoption assistance, paid time off program with paid holidays plus 16 paid volunteer hours, and various wellness programs. Additionally, our career path planning and continuing education assists employees with their professional goals.For more details on our outstanding benefits, visit our benefits page on USAAjobs.com.Applications for this position are accepted on an ongoing basis, this posting will remain open until the position is filled. Thus, interested candidates are encouraged to apply the same day they view this posting. USAA is an Equal Opportunity Employer. All qualified applicants will receive consideration for employment without regard to race, color, religion, sex, sexual orientation, gender identity, national origin, disability, or status as a protected veteran. Show more Show less \n Engineering and Information Technology \n Hospitals and Health Care, Non-profit Organizations, and Government Administration",
         "Full-time",
         "Engineering and Information Technology",
         "Hospitals and Health Care, Non-profit Organizations, and Government Administration",
         "1 day ago",
         "N/A",
         "4220874206",
         "2025-05-26",
         "https://www.linkedin.com/jobs-guest/jobs/api/jobPosting/4220874206",
         "https://www.linkedin.com/jobs/view/data-scientist-principal-%E2%80%93-bank-ai-ml-at-usaa-4220874206?trk=public_jobs_topcard-title"
        ],
        [
         "10",
         "02a82416-d87b-4874-aef7-d9dc4fc2cc9a",
         "GlobalLogic",
         "Data Scientist IRC264561",
         "Not Applicable",
         "Data Scientist IRC264561 \n GlobalLogic \n DescriptionOur client is embarking on a journey to make data a central part of its business strategy over the next 5-10 years. GL client Data platform team will support this journey by collaborating within the client data ecosystem to ensure client can have a robust Client Data Management Platform in place.RequirementsProven experience as a Data Scientist with a focus on AI/ML implementation.Strong understanding of machine learning algorithms and statistical models.Proficiency in programming languages such as Python.Experience with data visualization tools and techniques.Ability to work collaboratively in a team-oriented environment.Excellent problem-solving and analytical skills.Strong communication skills, both written and verbal.Hand-on experience in AWS to conduct end to end data analysis and data pipeline build out in using Python, Glue, S3, Airflow, Redshift, RDS, etc.Job responsibilitiesDesign, develop, and implement AI/ML models to solve complex business problems.Collaborate with cross-functional teams to determine the best AI/ML solutions for various projects.Analyze large datasets to extract valuable insights and patterns.Conduct rigorous testing and validation of models to ensure accuracy and reliability.Continuously monitor and refine models to improve performance over time.Communicate findings and recommendations to collaborators in a clear and concise manner.Stay updated with the latest advancements in AI and machine learning technologies.What we offerCulture of caring. At GlobalLogic, we prioritize a culture of caring. Across every region and department, at every level, we consistently put people first. From day one, you’ll experience an inclusive culture of acceptance and belonging, where you’ll have the chance to build meaningful connections with collaborative teammates, supportive managers, and compassionate leaders.Learning and development. We are committed to your continuous learning and development. You’ll learn and grow daily in an environment with many opportunities to try new things, sharpen your skills, and advance your career at GlobalLogic. With our Career Navigator tool as just one example, GlobalLogic offers a rich array of programs, training curricula, and hands-on opportunities to grow personally and professionally.Interesting & meaningful work. GlobalLogic is known for engineering impact for and with clients around the world. As part of our team, you’ll have the chance to work on projects that matter. Each is a unique opportunity to engage your curiosity and creative problem-solving skills as you help clients reimagine what’s possible and bring new solutions to market. In the process, you’ll have the privilege of working on some of the most cutting-edge and impactful solutions shaping the world today.Balance and flexibility. We believe in the importance of balance and flexibility. With many functional career areas, roles, and work arrangements, you can explore ways of achieving the perfect balance between your work and life. Your life extends beyond the office, and we always do our best to help you integrate and balance the best of work and life, having fun along the way!High-trust organization. We are a high-trust organization where integrity is key. By joining GlobalLogic, you’re placing your trust in a safe, reliable, and ethical global company. Integrity and trust are a cornerstone of our value proposition to our employees and clients. You will find truthfulness, candor, and integrity in everything we do.About GlobalLogicGlobalLogic, a Hitachi Group Company, is a trusted digital engineering partner to the world’s largest and most forward-thinking companies. Since 2000, we’ve been at the forefront of the digital revolution – helping create some of the most innovative and widely used digital products and experiences. Today we continue to collaborate with clients in transforming businesses and redefining industries through intelligent products, platforms, and services. Show more Show less \n Engineering and Information Technology \n Hospitals and Health Care, Non-profit Organizations, and Government Administration",
         "Full-time",
         "Engineering and Information Technology",
         "Hospitals and Health Care, Non-profit Organizations, and Government Administration",
         "1 day ago",
         "145 applicants",
         "4235027594",
         "2025-05-26",
         "https://www.linkedin.com/jobs-guest/jobs/api/jobPosting/4235027594",
         "https://www.linkedin.com/jobs/view/data-scientist-irc264561-at-globallogic-4235027594?trk=public_jobs_topcard-title"
        ],
        [
         "11",
         "3b06aa84-5cff-4ce1-98c7-41290e6696a7",
         "Worth AI ",
         "Director of Data Science",
         "Mid-Senior level",
         "Director of Data Science \n Worth AI  \n Worth is seeking an experienced and visionary Director of Data Science to lead the development and deployment of machine learning and statistical modeling solutions that drive business impact across our organization. This individual will guide a team of data scientists and partner with cross-functional stakeholders to build scalable, production-grade models for both analytical and product applications.The ideal candidate brings a strong foundation in predictive modeling, statistical analysis, and machine learning, with proven leadership experience in building data science teams and influencing strategic decisions. Expertise in areas such as NLP, computer vision, or reinforcement learning is highly desirable. This role requires exceptional communication skills and the ability to distill complex insights into clear, actionable recommendations for executive audiences.ResponsibilitiesLead, mentor, and scale a high-performing team of data scientists while fostering a culture of innovation, collaboration, and continuous learningOversee the end-to-end development of machine learning models—design, training, validation, and deployment—within cloud-based production environmentsPartner with product, engineering, and business teams to identify opportunities for data science solutions, define success metrics, and deliver measurable impactDrive the integration of large-scale data systems and pipelines to power intelligent, adaptive models that reflect changing customer, market, and business dynamicsEnsure rigorous model monitoring, governance, and retraining protocols to maintain accuracy, fairness, and complianceCommunicate technical results and strategic insights clearly and persuasively to senior leadership and non-technical stakeholdersChampion the adoption of advanced analytics tools, frameworks, and best practices across the companyRequirementsBachelor's degree and 8+ years of professional experience, or Master's degree and 6+ years, or PhD and 4+ years, in a quantitative field such as Computer Science, Statistics, Applied Mathematics, or EngineeringProven leadership experience managing data science or machine learning teams in fast-paced, agile environmentsDeep expertise in statistical modeling and machine learning techniques (e.g., regression, time series, clustering, ensemble methods, simulation, NLP, deep learning, etc.)Hands-on proficiency in Python and SQL; familiarity with R or other languages is a plusPractical experience with ML libraries and frameworks such as Scikit-learn, TensorFlow, Keras, PyTorch, Statsmodels, NumPy, and SciPy. Strong understanding of data architecture and MLOps practices in cloud environments such as AWS, Azure, or GCPExcellent data storytelling and executive communication skills; confident in building and delivering compelling visual presentations (e.g., Tableau, PowerBI)Deep understanding of Agile methodologies such as Scrum or KanbanBenefitsHealth Care Plan (Medical, Dental & Vision)Retirement Plan (401k, IRA)Life InsuranceUnlimited Paid Time Off9 paid HolidaysFamily LeaveWork From HomeFree Food & Snacks (Access to Industrious Co-working Membership!)Wellness Resources Show more Show less \n Engineering \n IT Services and IT Consulting",
         "Full-time",
         "Engineering",
         "IT Services and IT Consulting",
         "3 days ago",
         "37 applicants",
         "4236126054",
         "2025-05-26",
         "https://www.linkedin.com/jobs-guest/jobs/api/jobPosting/4236126054",
         "https://www.linkedin.com/jobs/view/director-of-data-science-at-worth-ai-4236126054?trk=public_jobs_topcard-title"
        ],
        [
         "12",
         "86a84b6f-f029-413a-b8ac-b61ad2fb16ee",
         "Lensa",
         "Principal Data Scientist - Generative AI, Machine Learning, Python, R - Remote",
         "Entry level",
         "Principal Data Scientist - Generative AI, Machine Learning, Python, R - Remote \n Lensa \n Lensa is the leading career site for job seekers at every stage of their career. Our client, Molina Healthcare, is seeking professionals. Apply via Lensa today!Job DescriptionJob SummaryResponsible for overseeing data science projects, managing and mentoring a team, and aligning data initiatives with business goals. Lead the development and implementation of data models, collaborate with cross-functional teams, and stay updated on industry trends. Ensure ethical data use and communicate complex technical concepts to non-technical stakeholders. Lead initiatives on model governance and model ops to align with regulatory and security requirements. This role requires technical expertise, strategic thinking, and leadership to drive data-driven decision-making within the organization and be the pioneer on generative AI healthcare solutions, aimed at revolutionizing healthcare operations as well as enhancing member experience.Job Duties Research and Development: Stay current with the latest advancements in AI and machine learning and apply these insights to improve existing models and develop new methodologies. AI Model Deployment, Monitoring & Model Governance: Deploy AI models into production environments, monitor their performance, and adjust as necessary to maintain accuracy and effectiveness and meet all governance and regulatory requirements. Innovation Projects: Lead pilot projects to test and implement new AI technologies within the organization Data Analysis and Interpretation: Extract meaningful insights from complex datasets, identify patterns, and interpret data to inform strategic decision-making. Machine Learning Model Development : Design, develop, and train machine learning models using a variety of algorithms and techniques, including supervised and unsupervised learning, deep learning, and reinforcement learning. Agentic Workflows Implementation: Develop and implement agentic workflows that utilize AI agents for autonomous task execution, enhancing operational efficiency and decision-making capabilities. RAG Pattern Utilization: Employ retrieval-augmented generation patterns to improve the performance of language models, ensuring they can access and utilize external knowledge effectively to enhance their outputs. Model Fine-Tuning : Fine-tune pre-trained models to adapt them to specific tasks or datasets, ensuring optimal performance and relevance in various applications. Data Cleaning and Preprocessing: Prepare data for analysis by performing data cleaning, handling missing values, and removing outliers to ensure high-quality inputs for modeling. Collaboration: Work closely with cross-functional teams, including software engineers, product managers, and business analysts, to integrate AI solutions into existing systems and processes. Documentation and Reporting: Create comprehensive documentation of models, methodologies, and results; communicate findings clearly to non-technical stakeholders. Mentors, coaches, and provides guidance to newer data scientists. Partner closely with business and other technology teams to build ML models which helps in improving Star ratings, reduce care gap and other business objectives. Present complex analytical information to all level of audiences in a clear and concise manner Collaborate with analytics team, assigning and managing delivery of analytical projects as appropriate Perform other duties as business requirements change, looking out for data solutions and technology enabled solution opportunities and make referrals to the appropriate team members in building out payment integrity solutions. Use a broad range of tools and techniques to extract insights from current industry or sector trendsJob QualificationsREQUIRED EDUCATION:Master’s Degree in Computer Science, Data Science, Statistics, or a related fieldRequired Experience/Knowledge, Skills & Abilities 10+ years’ work experience as a data scientist preferably in healthcare environment but candidates with suitable experience in other industries will be considered Knowledge of big data technologies (e.g., Hadoop, Spark) Familiar with relational database concepts, and SDLC concepts Demonstrate critical thinking and the ability to bring order to unstructured problems Technical Proficiency: Strong programming skills in languages such as Python and R, and experience with machine learning frameworks like TensorFlow, Keras, or PyTorch. Statistical Analysis: Excellent understanding of statistical methods and machine learning algorithms, including k-NN, Naive Bayes, SVM, and neural networks. Experience with Agentic Workflows: Familiarity with designing and implementing agentic workflows that leverage AI agents for autonomous operations. RAG Techniques: Knowledge of retrieval-augmented generation techniques and their application in enhancing AI model outputs. Model Fine-Tuning Expertise: Proven experience in fine-tuning models for specific tasks, ensuring they meet the required performance metrics. Data Visualization: Proficiency in data visualization tools (e.g., Tableau, Power BI) to present complex data insights effectively. Database Management: Experience with SQL and NoSQL databases, data warehousing, and ETL processes. Problem-Solving Skills: Strong analytical and problem-solving abilities, with a focus on developing innovative solutions to complex challenges.Preferred EducationPHD or additional experiencePreferred Experience Experience with cloud platforms (e.g., Databricks, Snowflake, Azure AI Studio etc.) for working with AI workflows and deploying models. Familiarity with natural language processing (NLP) and computer vision techniques.#PJCorp2To all current Molina employees: If you are interested in applying for this position, please apply through the intranet job listing.Molina Healthcare offers a competitive benefits and compensation package. Molina Healthcare is an Equal Opportunity Employer (EOE) M/F/D/V.Pay Range: $117,731 - $275,491 / ANNUALActual compensation may vary from posting based on geographic location, work experience, education and/or skill level. Show more Show less \n Engineering and Information Technology \n Hospitals and Health Care, Non-profit Organizations, and Government Administration",
         "Full-time",
         "Engineering and Information Technology",
         "Hospitals and Health Care, Non-profit Organizations, and Government Administration",
         "2 hours ago",
         "N/A",
         "4235493173",
         "2025-05-26",
         "https://www.linkedin.com/jobs-guest/jobs/api/jobPosting/4235493173",
         "https://www.linkedin.com/jobs/view/principal-data-scientist-generative-ai-machine-learning-python-r-remote-at-lensa-4235493173?trk=public_jobs_topcard-title"
        ],
        [
         "13",
         "3da1d90d-f00c-4f36-8417-1d28eabc530e",
         "Netflix",
         "Data Scientist (L4) - Product",
         "Not Applicable",
         "Data Scientist (L4) - Product \n Netflix \n Netflix is one of the world's leading entertainment services, with 283 million paid memberships in over 190 countries enjoying TV series, films and games across a wide variety of genres and languages. Members can play, pause and resume watching as much as they want, anytime, anywhere, and can change their plans at any time.Great entertainment thrills and inspires. Around the world, we connect hundreds of millions of people with the best television, films, live events, games, and more. Our product is at the heart of making these connections. To build best-in-class product experiences, we develop thoughtful long-term strategies, bring the best talent together, and let them creatively problem-solve with a strong and unique work culture.We are seeking a Data Scientist with strong analysis, causal inference/experimentation experience, and great product sense to elevate and evolve the Live experience for our members. In this role, you will drive experimentation and analytical studies to determine our in-product approach to Live positioning and discovery. Working in a highly collaborative and cross-functional environment, you will be responsible for partnering with our Product and Engineering teams to identify, incubate, and enable product innovations leveraging robust measurement techniques (e.g. experimentation, modeling, analytics). You’ll work with other data scientists, data and analytics engineers, and business teams to drive product vision and advance measurement strategies through new metrics, methodological approaches, and deep-dive analyses. This is an exciting opportunity to help shape the Live experience for our members around the world!In This Role, You WillDrive product innovation focused on our nascent Live business and help shape the member Live experience through robust measurement strategies covering experimentation, modeling, and analytics.Establish strong partnerships with stakeholders to realize our vision for Live, whether by helping determine a product strategy or defining new metrics.Develop experimentation and measurement frameworks to increase the velocity of investments and aid complex decision-making.Facilitate ownership and accountability by ensuring that the team produces trustworthy, high-quality outputs that influence the decisions and direction of member experience. Be flexible to changing circumstances. Netflix Live is evolving rapidly, and this role will help shape its future.To Be Successful In This Role, You HaveExperience with supporting experimentation at scale and observational causal inference to drive product developmentStrong statistical intuition and applied experience solving problems in consumer-facing products. Experience analyzing recommender systems is a plus.Expertise in SQL and statistical programming (Python and/or R)Exceptional communication with technical and non-technical audiences. Excellent at managing multiple stakeholders and competing priorities.Comfort with ambiguity; ability to thrive with minimal oversight and process.A passion for product development and design.Our compensation structure consists solely of an annual salary; we do not have bonuses. You choose each year how much of your compensation you want in salary versus stock options. To determine your personal top of market compensation, we rely on market indicators and consider your specific job family, background, skills, and experience to determine your compensation in the market range. The range for this role is $150,000 - $750,000.Inclusion is a Netflix value and we strive to host a meaningful interview experience for all candidates. If you want an accommodation/adjustment for a disability or any other reason during the hiring process, please send a request to your recruiting partner.We are an equal-opportunity employer and celebrate diversity, recognizing that diversity builds stronger teams. We approach diversity and inclusion seriously and thoughtfully. We do not discriminate on the basis of race, religion, color, ancestry, national origin, caste, sex, sexual orientation, gender, gender identity or expression, age, disability, medical condition, pregnancy, genetic makeup, marital status, or military service.Job is open for no less than 7 days and will be removed when the position is filled. Show more Show less \n Other \n Hospitals and Health Care, Non-profit Organizations, and Government Administration",
         "Full-time",
         "Other",
         "Hospitals and Health Care, Non-profit Organizations, and Government Administration",
         "4 days ago",
         "N/A",
         "4219204765",
         "2025-05-26",
         "https://www.linkedin.com/jobs-guest/jobs/api/jobPosting/4219204765",
         "https://www.linkedin.com/jobs/view/data-scientist-l4-product-at-netflix-4219204765?trk=public_jobs_topcard-title"
        ],
        [
         "14",
         "5ee74cf9-b6d9-4771-b0b2-cec173e28aa7",
         "TieTalent",
         "Senior Data Scientist",
         "Mid-Senior level",
         "Senior Data Scientist \n TieTalent \n AboutVerikai stands apart from traditional insurtech companies. As a remote-first team, we're fueled by a commitment to cultivating top talent. Here, you'll thrive in a collaborative environment that celebrates integrity, teamwork, and inclusivity. Diverse perspectives are valued, and a \"dare to fail\" spirit fuels groundbreaking innovation. This dedication to fostering talent is central to our mission. We're revolutionizing the insurance industry through cutting-edge technology, and we're looking for passionate individuals to join us on that journey. Verikai is the leading provider of predictive analytics and AI-powered solutions for the insurance industry. Through our innovative platform, Verikai empowers insurers with advanced data-driven risk assessment insights, streamlining the underwriting process and optimizing business outcomes. With a commitment to technological advancement, Verikai is changing the insurance industry by assisting underwriters with decision-making when it comes to risk. We are a growing and well-funded company with a great product and even better ideas. If you want to make an immediate impact on the way the insurance industry works while working in a fun, fast-paced, and supportive environment, you’ve come to the right place. As part of the analytics team at Verikai, you will be in front of real customer issues and the data they generate in real time. You will be tasked with analyzing large-scale datasets and rewarded by witnessing your analysis being leveraged by the customers and creating tremendous value for them. You will have the opportunity to train yourself, with help from more senior team members, on using various data tools to analyze various types of complex datasets. You will also be able to manipulate our cutting-edge machine learning platform and improve it to build insightful models while learning and practicing how to build a truly operational model. Our culture will allow you to work closely with all aspects of the business, and really shine on building up our analytics process and infrastructure. Responsibilities Develop cutting-edge machine learning algorithms, complement to our proprietary modeling platform, to extract greater lift from our data and provide more value for the customers. Refine / tailor our proprietary machine learning algorithm to better fit into various scenarios presented by the customers and our own visions. Constantly look for useful attributes to expand our core data assets from various data sources, like US census bureau, and validate the usefulness of the new data. Utilize proper tools to clean customer data, like PySpark, R, Python, or Excel, to prepare for upcoming data analysis or modeling exercises. Conduct descriptive analysis or other statistical analysis on customer data to identify valuable patterns to guide customers’ business decisions. Analyze the data creatively so that the results directly meet what customers want. Help prepare presentations or other customer-facing materials to demonstrate the value of our insights and to educate the customers on what we did and how we did it. Present the results / findings / models to customers as a technical expert, an industry insider, and a company promoter. Skills and Qualifications Bachelor’s degree or above in Statistics, Mathematics, or Computer Science with 3-5 years of relevant working experience. Demonstrates experience dealing with large datasets and creating models to solve real customer problems; Experience of modeling insurance data is a plus. Deep knowledge in statistical modeling, knowing what’s good and what’s bad and how to tweak the parameters. Proficient in Python or R, familiar with PySpark and Excel. Critical and independent thinking, able to establish logical assumptions and think through scenarios. Creative, open-minded, and positive attitude when challenges present themselves. Not afraid of doing independent research, not settling on trivial progress. Attention to detail; Sense of ownership in your work. Effective communication, able to explain complex statistical terms and results to both technical and non-technical audiences. Security, Confidentiality, and Availability Review, accept, and adhere to all security and confidentiality policies and procedures listed below where many policies apply directly to every company employee and some policies only apply directly to employees in particular departments: Proprietary Information and Inventions Agreement (PIIA), Acceptable Use Policy, Access Control and Termination Policy, Business Continuity and Disaster Recovery Plan, Change Management Policy, Code of Conduct, Configuration and Asset Management Policy, Data Classification Policy, Data Retention and Disposal Policy, Encryption and Key Management Policy, Information Security Policy. Make conscientious decisions in what information is shared with internal and external stakeholders keeping in mind security and confidentiality policies. Be available during local regular business hours and respond to requests and concerns as quickly as possible outside of those hours based on urgency. Company :VERIKAI Verikai Inc. Salary Range154,000.00 - $174,000.00 Benefits : The wage range for this job is based on role, level, and location. Within the range, individual pay takes into account a variety of factors that are considered in making compensation decisions including but not limited to skills, education, training, licensure and certifications, experience of the candidate, the role's scope, complexity, and other business and organizational needs. In addition to the base compensation, we offer a competitive Total Rewards package, which includes but is not limited to medical, dental, vision, paid time off, and 401(k) plan for full-time and part-time employees who are eligible for benefits. Your recruiter may be able to tell you more about our total rewards offerings and the specific wage range for the relevant location(s) during the hiring process.#J-18808-LjbffrNice-to-have skillsMachine LearningPySparkRPythonStatistical ModelingData AnalysisDistrict of Columbia, United StatesWork experienceData EngineerMachine LearningData AnalystData ScientistLanguagesEnglish Show more Show less \n Engineering and Information Technology \n Technology, Information and Internet",
         "Part-time",
         "Engineering and Information Technology",
         "Technology, Information and Internet",
         "6 days ago",
         "N/A",
         "4233302579",
         "2025-05-26",
         "https://www.linkedin.com/jobs-guest/jobs/api/jobPosting/4233302579",
         "https://www.linkedin.com/jobs/view/senior-data-scientist-at-tietalent-4233302579?trk=public_jobs_topcard-title"
        ],
        [
         "15",
         "9909a65f-1ee1-4134-a3d1-03887fc13eff",
         "Valo Health",
         "Staff Data Scientist, Machine Learning",
         "Entry level",
         "Staff Data Scientist, Machine Learning \n Valo Health \n About UsValo Health is a technology company that is integrating human-centric data and AI-powered technology to accelerate the creation of life-changing drugs for more patients faster. Valo was created with the belief that the drug discovery and development process can and should be faster and less expensive, with a much higher probability of success. We are using models early to fail less often, executing clinical trials to add valuation to the company, and generating fit-for-purpose data to feed back into Valo’s Opal Computational Platform™ as we reinvent drug discovery and development from the ground up. Disease doesn’t wait, so neither can we.About The RoleAs a Staff Data Scientist, Machine Learning, you will be a core member of a team of data scientists and engineers building a powerful computational platform for advancing the research and development of new medicines. As part of the Translational Platform Engineering team, you will help design, develop, and apply machine learning (ML) models, methods, and pipelines for scientific problems involving clinical and biomedical data. Successful candidates will work with a diverse set of data scientists, biological scientists, epidemiologists, and software engineers in ways that cut across traditional industry boundaries.What You’ll Do…Propose, design, and develop ML approaches on high dimensional electronic health records and omics data leveraging Valo’s proprietary platform (data assets and data science packages).Design, develop, and support ML pipelines, workbenches, and dashboards to enable users to solve scientific problems.Develop well-designed, tested, and documented software packages.Collaborate with cross-functional teams and stakeholders to derive user requirements, maintain alignment, and ensure the relevance and impact of models, analyses, and pipelines.Be an active team member in code, design, and analysis review.What You Bring...Degree in a quantitative field with 7+ (BS), 5+ (MS), or 3+ (PhD) years of post-degree experience or equivalentBroad experience in ML including supervised learning, unsupervised learning, dimensionality reduction, clustering, metrics, model selection, feature selection, and explainability (3+ years required).Demonstrated experience with ML on electronic health records (2+ years required).Proficient in Python (5+ years required) and experience with ML and data science packages (e.g., scikit-learn, statsmodels, scipy, MLlib).Experience with MLops methodology such as workflow orchestration (e.g., Airflow, Prefect), experiment tracking (e.g., MLflow), containerization (e.g., Docker), and reproducible research (3+ years required).Experience with collaborative software development using source control management (e.g., git, unit testing, code review, CI/CD) (3+ years required).Experience with large-scale data analytics engines (e.g., Spark or Dask) and working in cloud environments (e.g., AWS) (2+ years required).Experience with statistical methods such as hypothesis testing, longitudinal modeling, and time to event analysis.Strong work ethic with a bias for execution and an ability to manage multiple priorities, ambiguity, and tight timelines. Ability to work effectively in teams or independently.Experience with omics data is a plus.Familiarity with the drug discovery and development process is a plus.More on ValoValo Health, LLC (“Valo”) is a technology company built to transform the drug discovery and development process using human-centric data and artificial intelligence-driven computation. As a digitally native company, Valo aims to fully integrate human-centric data across the entire drug development life cycle into a single unified architecture, thereby accelerating the discovery and development of life-changing drugs while simultaneously reducing costs, time, and failure rates. The company’s Opal Computational Platform™ is an integrated set of capabilities designed to transform data into valuable insights that may accelerate discoveries and enable Valo to advance a robust pipeline of programs across cardiovascular metabolic renal, oncology, and neurodegenerative diseases. Founded by Flagship Pioneering, Valo is headquartered in Lexington, MA with tissue engineering research based in New York, NY. To learn more, visit www.valohealth.com.Remote Salary Range$175,000—$235,000 USD Show more Show less \n Engineering and Information Technology \n Hospitals and Health Care, Non-profit Organizations, and Government Administration",
         "Full-time",
         "Engineering and Information Technology",
         "Hospitals and Health Care, Non-profit Organizations, and Government Administration",
         "3 days ago",
         "77 applicants",
         "4187135186",
         "2025-05-26",
         "https://www.linkedin.com/jobs-guest/jobs/api/jobPosting/4187135186",
         "https://www.linkedin.com/jobs/view/staff-data-scientist-machine-learning-at-valo-health-4187135186?trk=public_jobs_topcard-title"
        ],
        [
         "16",
         "fa47db9d-d6ff-421a-b4ce-78291a64ff06",
         "knownwell",
         "Data Scientist",
         "Not Applicable",
         "Data Scientist \n knownwell \n Meet knownwell, weight-inclusive healthcare for all. Join a dynamic company that is changing the way care is delivered for patients with obesity. knownwell is a weight-inclusive healthcare company offering metabolic health services, primary care, nutrition counseling and health coaching services for anyone of any size. Our hybrid model allows for both in-clinic and virtual care to bring support to patients where and when they need it. To learn more about our recent Series A funding, led by Andreessen Horowitz, please check out this article.We are looking to build our team with a Data Scientist, reporting into our Head of Analytics. You will be responsible for supporting our team’s efforts in building both statistical and predictive models that help us identify trends and better operate our business.Responsibilities: Design, develop, and deploy predictive models to enhance decision-making and improve healthcare outcomes. Conduct in-depth statistical analyses to derive actionable insights from complex datasets. Collaborate with cross-functional teams to identify business needs and opportunities for analytical solutions. Leverage Python or R to build statistical and machine-learning models tailored to business requirements. Deploy and maintain models in production environments using AWS cloud services. Optimize model performance through rigorous testing, validation, and ongoing maintenance. Translate analytical findings into clear, actionable recommendations for stakeholders. Continuously stay current with new methodologies and technologies relevant to data science. Qualifications: Bachelor’s degree in Data Science, Statistics, Computer Science, Mathematics, or a related quantitative field; Master’s degree preferred. 2-3 years of professional experience in data science, predictive modeling, and statistical analysis. Proficiency in Python or R for statistical modeling and data analysis. Strong SQL skills for data extraction, transformation, and loading. Experience with AWS cloud services for deploying models into production (e.g., AWS SageMaker, Lambda, EC2, S3). Proven track record of building, validating, and deploying predictive models. Excellent analytical, problem-solving, and communication skills. Ability to work independently and collaboratively within a dynamic team environment. We offer a comprehensive benefits package (Medical, Dental, Vision, 401k match, PTO), competitive salary and the opportunity to be part of a purpose-driven organization that is dedicated to making a positive impact on the lives of patients. If you are an ambitious and experienced clinician who is passionate about transforming healthcare and creating meaningful change, we invite you to apply and join our dynamic team. Please send us a note at hiring@knownwell.health.knownwell, Inc. provides equal employment opportunities to all employees and applicants for employment and prohibits discrimination and harassment of any type without regard to race, color, religion, age, sex, national origin, disability status, genetics, protected veteran status, sexual orientation, gender identity or expression, or any other characteristic protected by federal, state or local laws.This policy applies to all terms and conditions of employment, including recruiting, hiring, placement, promotion, termination, layoff, recall, transfer, leaves of absence, compensation, and training. Based on current size of the clinic and HIPAA regulation, providers cannot receive care in clinic and provider’s household members cannot receive primary care in the clinic. Show more Show less \n Engineering and Information Technology \n Hospitality, Food and Beverage Services, and Retail",
         "Full-time",
         "Engineering and Information Technology",
         "Hospitality, Food and Beverage Services, and Retail",
         "6 days ago",
         "N/A",
         "4233839644",
         "2025-05-26",
         "https://www.linkedin.com/jobs-guest/jobs/api/jobPosting/4233839644",
         "https://www.linkedin.com/jobs/view/data-scientist-at-knownwell-4233839644?trk=public_jobs_topcard-title"
        ],
        [
         "17",
         "07754b5d-b80c-46f4-a613-4f12a44f0b68",
         "Jobs via Dice",
         "Data Scientist  NLP/ML",
         "Entry level",
         "Data Scientist  NLP/ML \n Jobs via Dice \n Dice is the leading career destination for tech experts at every stage of their careers. Our client, Stellar IT Solutions, is seeking the following. Apply via Dice today!Job Title: Data Scientist NLP/MLInterview: VirtualJob Duration: 6+ MonthsJob Location: RemoteJob Description:We are seeking an experienced NLP Data Scientist to support a cutting-edge AI/ML initiative focused on analyzing and enhancing call center transcript data within the insurance domain. This role will involve building and optimizing NLP models to flag compliance issues, extract insights, and deliver automated coaching recommendations for customer service teams.Key Responsibilities:Develop and enhance NLP models to analyze text and voice transcripts from call centers.Apply machine learning techniques to automate quality assurance and flag compliance risks.Use Python, SQL, and modern NLP tools (e.g., Transformers) to process and analyze large-scale text data.Build scalable pipelines and automation tools for transcript evaluation.Collaborate with cross-functional teams to improve agent coaching strategies through data insights.Work with Sift queries for structured data interrogation (experience with Gridspace not required).Required Skills:Strong hands-on experience with Natural Language Processing (NLP) techniques and tools.Proficiency in Python and SQL.Experience working with transformer-based models (e.g., BERT, RoBERTa).Background in building ML models for text analytics or voice-to-text data.Familiarity with automation and data quality validation workflows. Show more Show less \n Engineering and Information Technology \n Hospitals and Health Care, Non-profit Organizations, and Government Administration",
         "Full-time",
         "Engineering and Information Technology",
         "Hospitals and Health Care, Non-profit Organizations, and Government Administration",
         "5 days ago",
         "37 applicants",
         "4231990302",
         "2025-05-26",
         "https://www.linkedin.com/jobs-guest/jobs/api/jobPosting/4231990302",
         "https://www.linkedin.com/jobs/view/data-scientist-nlp-ml-at-jobs-via-dice-4231990302?trk=public_jobs_topcard-title"
        ],
        [
         "18",
         "08927480-26e6-4b4a-810c-87f7b231617a",
         "Medical Solutions",
         "Senior Data Scientist",
         "Mid-Senior level",
         "Senior Data Scientist \n Medical Solutions \n Senior Data Scientist - Job DescriptionOur team is currently looking for a Senior Data Scientist who is passionate about creating awesome advanced analytics solutions for our customers and our teammates. You’ll be hands-on with solution delivery, working with data engineering and business stakeholders. The ideal candidate will identify, design, and implement solutions that optimize business processes in a strategic and impactful way. We value open and honest communication, and we strive to create a positive and fun team-based environment. We want teammates that challenge themselves, as well as those around them to create high quality analytical products and services. You’ll be flexible, proactive, and solution focused.Responsibilities:Learn business processes and gain deep understanding of their data requirements to design and apply advanced analytics solutions to optimize themDesign, develop, evaluate, and deploy predictive modeling, machine learning (ML), and advanced analytics solutionsExpert level data visualization to summarize and present key insights to both technical and non-technical audiences including presenting predictions, experiment results, and other analytical outcomesContributes to identifying new statistical methods, technologies, and design patternsContributes to architectural design discussions of enterprise-grade ML platforms that meet compliance, performance/scalability, and operational requirementsPartner closely with dev ops engineers to support development, experimentation, continuous integration, continuous delivery, validation, and monitoring of AI/ML ModelsMentor less experienced data scientistsWork cross-functionally with resources such as business SMEs, analysts, data engineers, architects, DBAs, and infrastructure to design and deliver advanced analytic solutionsWork with other members of the analytics team to document requirements, assumptions, and methodologies including validation, testing, and implementation strategiesWork with the analytics team to standardize reporting practices across the organizationTraining and tuning production quality modelsDeployment of production models through low latency rest endpointsAssists with building data science and advanced analytics roadmapsActs as a thought leader in solutioning for new projectsEstablishes and maintains coding and ML standards, source control, scalability, testing processes, etc.Stay current with the approved enterprise technology and ML stackQualifications:Master’s degree in Statistics, Data Science, or a closely related discipline in a Computer Science field (or equivalent), or equivalent work experienceMinimum 5 years of demonstrated experience with utilizing machine learning to optimize business outcomes including detailed experience with machine learning methods, design, build, testing, and implementationMinimum 5 years of experience working with Database Management Systems, Data Lake, and cloud-based ML Ecosystems such as Spark or Azure Data BricksDeep understanding and experience with advanced statistics and modern machine learning predictive techniques, including GLMs, decision trees, forests, boosted ensembles, neural networks, deep learning, and graph analyticsExperience using Integrated Development Environments like Notebooks (e.g., Jupyter), and Visual Studio with SSDT, Azure Data Tools, SQL Server Management StudioSkilled in data modeling for advanced analyticsDeep understanding of common design patterns and their usesSkilled in creating operational production machine learning modelsProficiency with ETL and ELT design patterns and optimization as well as complex orchestration via tools like Azure Data Factory, Azure Data Bricks, or similarUsing work management tools such as Jira or Azure DevOpsExperienced with web services and other Application Programming InterfacesExpert knowledge of SQLExpert knowledge and application of modern data science languages such as Python, R, Scala, etc.Strong interpersonal communication and presentation skillsCollaborative and team-centricStrong desire to uphold best practicesAbility to anticipate changes and impactsIterative mindset focused on constant improvement Show more Show less \n Information Technology \n Staffing and Recruiting",
         "Full-time",
         "Information Technology",
         "Staffing and Recruiting",
         "3 days ago",
         "N/A",
         "4236130152",
         "2025-05-26",
         "https://www.linkedin.com/jobs-guest/jobs/api/jobPosting/4236130152",
         "https://www.linkedin.com/jobs/view/senior-data-scientist-at-medical-solutions-4236130152?trk=public_jobs_topcard-title"
        ],
        [
         "19",
         "c6848d9a-cb1a-454d-a9e7-11ac8b2a7043",
         "Optum",
         "Senior Data Scientist - Remote Nationwide",
         "Mid-Senior level",
         "Senior Data Scientist - Remote Nationwide \n Optum \n Optum is a global organization that delivers care, aided by technology, to help millions of people live healthier lives. The work you do with our team will directly improve health outcomes by connecting people with the care, pharmacy benefits, data and resources they need to feel their best. Here, you will find a culture guided by inclusion, talented peers, comprehensive benefits and career development opportunities. Come make an impact on the communities we serve as you help us advance health optimization on a global scale. Join us to start Caring. Connecting. Growing together.You will enjoy the flexibility to telecommute* from anywhere within the U.S. as you take on some tough challenges.Primary ResponsibilitiesWork with business to develop and operationalize analytic solutionsEngage in communications for all important functions including data understanding/exploration, strategizing solutions etc.Leverage big data analytics infrastructure comprising Hadoop, MapR, Python, H2O, Spark and Snowflake to solve complex business problems in the healthcare domainCollaborate with fellow data scientists, business analysts and subject matter experts to design and oversee the development of working prototypes of data science solutionsParticipate in Sprint Planning and Sprint Review meetings with the Scrum Team and project stakeholdersSupport and drive analytic efforts around machine learning and innovationCommunicate analytic results and predictive models to business partnersManipulation and analysis of data in support of a variety of analytic solutionsWork with vast amounts of data from multiple sources to provide predictive and prescriptive analytics to the enterpriseProduce innovative solutions driven by exploration data analysis from unstructured, diverse datasets typically measured in gigabytes or largerApply knowledge of statistics, machine learning, programming, data modeling, simulation, and advanced mathematics to recognize patterns, identify opportunities, pose business questions, and make valuable discoveries leading to prototype development and product improvementUses a flexible, analytical approach to design, develop, and evaluate predictive and prescriptive models and advanced algorithms that lead to optimal value extraction from the dataWorks with analytics and statistical software to perform analysis and interpret dataYou’ll be rewarded and recognized for your performance in an environment that will challenge you and give you clear directions on what it takes to succeed in your role as well as provide development for other roles you may be interested in.Required QualificationsHigh School Diploma/GED (or higher)5+ years of experience as a Data Scientist5+ years of experience with SQL, R, Python, Hadoop, PowerBI and Snowflake 5+ years of demonstrated experience using programming to solve complex technical problems5+ years of demonstrated experience accessing data from various data environmentsPreferred QualificationsDegree in applied mathematics, physics, computer science, engineering, statistics, bioinformatics, actuarial science or similarExperience in analytics / data science in a business or academic contextAbility to break down and clearly define problemsDemonstrated ability to own and deliver projects that deliver real business valueStrong communication, presentation and influencing skillsAll Telecommuters will be required to adhere to UnitedHealth Group’s Telecommuter Policy.The salary range for this role is $89,800 to $176,700 annually based on full-time employment. Pay is based on several factors including but not limited to local labor markets, education, work experience, certifications, etc. UnitedHealth Group complies with all minimum wage laws as applicable. In addition to your salary, UnitedHealth Group offers benefits such as a comprehensive benefits package, incentive and recognition programs, equity stock purchase and 401k contribution (all benefits are subject to eligibility requirements). No matter where or when you begin a career with UnitedHealth Group, you’ll find a far-reaching choice of benefits and incentives.Pursuant to the San Francisco Fair Chance Ordinance, we will consider for employment qualified applicants with arrest and conviction records.Application Deadline: This will be posted for a minimum of 2 business days or until a sufficient candidate pool has been collected. Job posting may come down early due to the volume of applicants. At UnitedHealth Group, our mission is to help people live healthier lives and make the health system work better for everyone. We believe everyone-of every race, gender, sexuality, age, location, and income-deserves the opportunity to live their healthiest life. Today, however, there are still far too many barriers to good health which are disproportionately experienced by people of color, historically marginalized groups, and those with lower incomes. We are committed to mitigating our impact on the environment and enabling and delivering equitable care that addresses health disparities and improves health outcomes — an enterprise priority reflected in our mission.UnitedHealth Group is an Equal Employment Opportunity employer under applicable law and qualified applicants will receive consideration for employment without regard to race, national origin, religion, age, color, sex, sexual orientation, gender identity, disability, or protected veteran status, or any other characteristic protected by local, state, or federal laws, rules, or regulations. UnitedHealth Group is a drug-free workplace. Candidates are required to pass a drug test before beginning employment.#RPO #GREEN Show more Show less \n Engineering and Information Technology \n Hospitals and Health Care, Non-profit Organizations, and Government Administration",
         "Full-time",
         "Engineering and Information Technology",
         "Hospitals and Health Care, Non-profit Organizations, and Government Administration",
         "3 days ago",
         "55 applicants",
         "4236442771",
         "2025-05-26",
         "https://www.linkedin.com/jobs-guest/jobs/api/jobPosting/4236442771",
         "https://www.linkedin.com/jobs/view/senior-data-scientist-remote-nationwide-at-optum-4236442771?trk=public_jobs_topcard-title"
        ],
        [
         "20",
         "b23e9c18-7ec9-424f-8768-86b080a8d675",
         "Wealthfront",
         "Data Scientist, Marketing",
         "Entry level",
         "Data Scientist, Marketing \n Wealthfront \n The Wealthfront Data Science team utilizes our rich financial and behavioral data to influence Marketing, Product and information security decisions. The team draws from backgrounds in Computer Science, Natural Sciences, Statistics, Operations Research, Economics and Finance.The Data Scientist in this role will be primarily embedded within Wealthfront’s Marketing team. The Marketing team aims to acquire new clients and increase awareness of Wealthfront's brand and products among potential customers. The team addresses these goals by designing and executing targeted advertising campaigns for Wealthfront products. The potential set of projects for this role includes (but is not limited to) campaign performance analysis, paths to conversion, incrementality estimation, media mix modeling, client segmentation, AB Experiment design and client revenue modeling. A key desired trait for this role is an advanced ability to reduce business problems to mathematical language and communicate results to the broader team. An ideal candidate will also act as a mentor to junior team members and demonstrate an ability to explain technical concepts in a simple language.ResponsibilitiesProvide hands-on technical leadership to a team of data scientists working in the Marketing area, translating business problems into Data Science tasks.Employ and exemplify rigor in mathematical analyses and sound design principles in software development. Collaborate with the Marketing team to define quarterly and yearly initiatives. Turn initiatives into projects with clear rationale, candidate approaches and milestones.Execute planned projects through hands-on work and delegation. This includes tracking priority and progress of projects in weekly meetings.Articulate technical information, including assumptions, methodologies, and outcomes to specialists across disciplines. Translate hunches to hypotheses and numbers into recommendations.Absorb and articulate the Marketing strategy and project rationales to Data Scientists. RequirementsA Masters or PhD degree in Computer Science, Statistics, Operations Research or Natural Sciences, with 4-8 years of prior experience as a Data Scientist.Proficiency in Python and SQLA strong foundation in practical Statistics including the use of causal inference.Strong mathematical and software engineering skills.Fluency in long and short form oral and written communication.Ability to sharpen or reframe project requirements through effective collaboration. Strong desire and ability to mentor junior Data Scientists by exemplifying math, engineering and technical communication skills.Experience in a Marketing facing role preferred, but not required.Estimated annual salary range: $164,000 - $211,000 USD plus equity and a discretionary bonus.Benefits include medical, vision, dental, 401K plan, generous time off, parental leave, wellness reimbursements, professional development, employee investing discount, and more!About WealthfrontHere at Wealthfront, our mission is to create a financial system that favors people, not institutions. We do this by leveraging technology to build powerful, low-cost, and easy-to-use financial products that help modern investors grow and manage their money.We started with the ambition to transform the investment advisory business. By automating strategies typically reserved for the wealthy, we unlocked access to high quality investment advice for a digitally-native generation that was underserved by traditional institutions. Since then, we've expanded to a full suite of products designed to help our clients turn their savings into long-term wealth, including:• A Cash Account that, through our partner banks, offers one of the highest annual percentage yields on uninvested cash in the industry, while providing instant and secure access to your money with no account fees and a full suite of checking features.• A zero-commission Stock Investing Account with 50+ handpicked collections that help DIY investors discover new companies and make smarter investing decisions.• Multiple automated investing portfolios designed to unlock tax savings through sophisticated strategies like fixed income, tax-loss harvesting, and direct indexing—which we offer at industry-leading low costs and accessible minimums.Our award-winning products have attracted over 1 million clients who trust us with more than $80 billion of their hard earned savings—and we're far from done. If you’re inspired to help us reshape the financial industry as we create our next chapter, let’s talk!For more information please visit www.wealthfront.com.We are an equal opportunity employer and value diversity at our company. We do not discriminate on the basis of race, religion, color, national origin, gender, sexual orientation, age, marital status, veteran status, or disability status.Please review our candidate privacy notice. Disclosures: All investing involves risk, including the possible loss of principal. Tax-Loss Harvesting benefits vary depending on the client's entire tax and investment profile. Wealthfront doesn’t provide tax advice. The Cash Account is offered by Wealthfront Brokerage LLC (“Wealthfront Brokerage”), Member of FINRA/SIPC. Wealthfront Brokerage is not a bank. We convey funds to partner banks who accept and maintain deposits, provide the variable interest rate, and provide access to FDIC pass-through insurance. Investment management and advisory services–which are not FDIC insured–are provided by Wealthfront Advisers LLC (“Wealthfront Advisers”), an SEC-registered investment adviser. The checking features offered in the Wealthfront Cash Account are provided by Green Dot Bank, Member FDIC. Fees and Eligibility requirements may apply to certain checking features, please see the Deposit Account Agreement for details.By “award-winning products”, please refer to www.wealthfront.com/reviews for more information. Wealthfront Corporation oversees Total Client Assets and Trusted Clients through Wealthfront Advisers and Wealthfront Brokerage. Wealthfront Advisers and Wealthfront Brokerage are wholly owned subsidiaries of Wealthfront Corporation. Show more Show less \n Engineering and Information Technology \n Financial Services",
         "Full-time",
         "Engineering and Information Technology",
         "Financial Services",
         "2 days ago",
         "161 applicants",
         "4187176363",
         "2025-05-26",
         "https://www.linkedin.com/jobs-guest/jobs/api/jobPosting/4187176363",
         "https://www.linkedin.com/jobs/view/data-scientist-marketing-at-wealthfront-4187176363?trk=public_jobs_topcard-title"
        ],
        [
         "21",
         "db45c90a-efb9-4cf6-8fc7-2d729d519082",
         "Curate Partners",
         "Data Scientist",
         "Mid-Senior level",
         "Data Scientist \n Curate Partners \n Position SummaryWe are seeking a highly skilled and motivated Data Scientist with a strong background in healthcare to join our analytics team. The ideal candidate will have experience working with clinical, claims, or EMR/EHR data, and a passion for improving healthcare delivery through advanced data modeling and analysis.Key ResponsibilitiesDesign, build, and implement predictive models and machine learning algorithms to support clinical and operational decision-making.Analyze complex healthcare datasets (e.g., EMR, claims, clinical trials) to identify trends, insights, and opportunities.Collaborate with clinicians, data engineers, and business stakeholders to define and solve high-impact problems.Develop dashboards and reports to communicate insights and model results to non-technical audiences.Ensure data integrity, privacy, and compliance with HIPAA and other healthcare regulations.Contribute to the development of data pipelines and data governance processes.Required QualificationsBachelor's or Master's degree in Data Science, Statistics, Computer Science, Health Informatics, or a related field.3+ years of experience in data science, preferably within the healthcare industry.Proficiency in Python or R, SQL, and data visualization tools (e.g., Tableau, Power BI).Experience with healthcare data standards (ICD, CPT, HL7, FHIR).Solid understanding of statistical analysis and machine learning techniques.Knowledge of healthcare regulatory requirements and data privacy standards.Preferred QualificationsPhD in a related field.Experience working with large-scale healthcare data (e.g., population health, genomics, wearable data).Familiarity with cloud platforms (e.g., AWS, GCP, Azure) and big data tools (e.g., Spark, Hadoop).Experience in natural language processing (NLP) for clinical text.Strong communication and storytelling skills with data. Show more Show less \n Engineering \n IT Services and IT Consulting",
         "Contract",
         "Engineering",
         "IT Services and IT Consulting",
         "3 days ago",
         "N/A",
         "4236109765",
         "2025-05-26",
         "https://www.linkedin.com/jobs-guest/jobs/api/jobPosting/4236109765",
         "https://www.linkedin.com/jobs/view/data-scientist-at-curate-partners-4236109765?trk=public_jobs_topcard-title"
        ],
        [
         "22",
         "320eb269-0355-4bc3-99a2-d2f5ca86c386",
         "Tredence Inc.",
         "Data Scientist (Marketing Science+Causal)",
         "Mid-Senior level",
         "Data Scientist (Marketing Science+Causal) \n Tredence Inc. \n Dear Candidate,We have an opening for Data Scientist (Marketing Science+ Causal) - Tredence Inc - USA.Looking for a candidate strong with Marketing Science and Causal interface experience.Data Science JD:1. 8-12 years of experience in data science, building hands-on MLmodels.2. Hands-on experience with SQL, R, Python, Spark, and building machine learning models.3. Proven ability as a full stack data scientist who develops, optimizes, and scales models for theproduction environment. a. Derive metrics for model performance monitoring and conductcontinuous model performance monitoring (after deployment).4. Proven industry experience of designing, leading, and managing large-scale data science projectsand collaborating with data engineers and Product Managers. a. Work with data engineers totest and validate training and production data pipelines, among other tasks.5. Strong understanding of the fundamental concepts of popular statistical and MLmodels.6. Experience in managing multiple priorities and leading a team.7. Strong communication skills with excellent ability to synthesize complex information. Show more Show less \n Engineering \n Retail",
         "Full-time",
         "Engineering",
         "Retail",
         "4 days ago",
         "N/A",
         "4235529833",
         "2025-05-26",
         "https://www.linkedin.com/jobs-guest/jobs/api/jobPosting/4235529833",
         "https://www.linkedin.com/jobs/view/data-scientist-marketing-science%2Bcausal-at-tredence-inc-4235529833?trk=public_jobs_topcard-title"
        ],
        [
         "23",
         "f77c7533-d31a-4a5c-a3c2-98a52b3abec9",
         "TieTalent",
         "Senior Data Scientist",
         "Mid-Senior level",
         "Senior Data Scientist \n TieTalent \n AboutInsurance is a trillion dollar market that is fundamental to society, yet it has not modernized — until now. Newfront is building the modern insurance experience. We've reimagined the experience for clients, prospects, and employees, altering the way people create, understand, select, transact, and use insurance. We're changing the approach so that it starts and ends with the client, not the product, and empowering people for moments that matter. Our unique approach recognizes both the vast potential of technology and the fundamental role of insurance experts. We're a technology-driven company with DE&I in our DNAand strong valueswe believe people matter most. Our mission is to define the future of the insurance industry, while instilling a high performance culture in combination with living our Work, Love, Play ethos each day. We value balanced lives and are passionate about creating a culture of wellness that results in healthier, happier, and more productive employees, and more successful clients. The Data team is a critical organization at the heart of Newfront's data-driven approach. Our mission is to build valuable data products that enable a novel and differentiated experience for our clients and colleagues. We support multiple key business areas including executive leadership, business insurance analytics, sales analytics, finance, and data-driven product development. This position is a salaried, exempt and full-time role. This is a US Hybrid/Remote role, with the option to work from any of Newfront’s offices. . What You’ll Be Responsible For:QualificationsLead the development of a comprehensive metrics tree to track business performance across the organization Conduct deep-dive analyses for executive leadership on strategic business questions and opportunities Enhance and optimize our sales analytics capabilities to improve revenue performance tracking Translate business goals into well-designed metrics and accurate measures Develop and maintain data visualization dashboards that provide actionable insights Collaborate with business stakeholders to understand their data needs and deliver insightful analytics Improve data quality by leveraging existing operational processes Support product analytics initiatives and help identify areas for data-driven improvements Mentor team members on analytical best practices and data visualization techniques Qualifications:Bachelor's degree in Statistics, Mathematics, Economics, or related quantitative field 5+ years of professional experience in data analytics or data science roles Expert-level SQL skills for complex data manipulation and analysis Strong proficiency in Python, particularly with data analysis libraries and experience implementing predictive analytics models Experience with data visualization tools (Tableau, Looker, PowerBI, or similar) or data visualization libraries. Proven track record of successfully leading complex analytical projects from inception to completion, including setting project scope, managing timelines, and delivering high-quality results that drive business impact Experience developing and implementing metrics frameworks or KPI systems Strong analytical thinking and problem-solving skills Excellent communication skills with ability to present complex data insights to both technical and non-technical audiences Experience working in a collaborative, cross-functional environment with demonstrated ability to build strong stakeholder relationships and effectively manage competing priorities across multiple business units Preferred Knowledge, Skills and Abilities:Experience in the insurance or financial services industry Familiarity with dbt, Snowflake, and similar modern data stack technologies Knowledge of statistical analysis and experimental design Experience with forecasting and predictive modeling Background in business intelligence and performance measurement Active use of AI tools (chat, IDE) as a productivity multiplier Understanding of data governance and data quality management Experience working with executive leadership on strategic analytics initiatives The pay range for this position in California, Washington, Colorado and New York at commencement of employment is expected to be between $168,800 and $211,000/yr; however, base pay offered may vary depending on multiple individualized factors, including market location, job-related knowledge, skills, and experience. The total compensation package for this position may also include other elements, including a bonus, restricted stock units, and discretionary awards in addition to a full range of medical, financial, and/or other benefits (including 401(k) eligibility and various paid time off benefits, such as vacation, sick time, and parental leave), dependent on the position offered. Details of participation in these benefit plans will be provided if an employee receives an offer of employment. If hired, employee will be in an “at-will position” and the Company reserves the right to modify base salary (as well as any other discretionary payment or compensation program) at any time, including for reasons related to individual performance, Company or individual department/team performance, and market factors. At Newfront, we are committed to hiring diverse talent and supporting an inclusive workplace environment. If you are excited about a role at Newfront but feel you’re missing a few of the qualifications, we still encourage you to apply and tell us about yourself. You may just be the next Newfront team member that we are looking for! Newfront is proud to be an equal opportunity workplace. Diversity is in our DNA and we believe that creating an inclusive workplace elevates the value we are able to bring to our customers and employees alike. All qualified applicants will receive consideration for employment without regard to age, race, color, religion, sex, sexual orientation, gender identity, national origin, genetic information, disability, veteran status, or any other applicable status protected by state or local law. If you require reasonable accommodations throughout the application or interview process, please contact us at careers@newfront.com. For information regarding how Newfront collects and uses personal information, please review ourPrivacy Policy#J-18808-LjbffrNice-to-have skillsSQLPythonTableauLookerData VisualizationForecastingPredictive ModelingIDEDistrict of Columbia, United StatesWork experienceData EngineerData AnalystData ScientistBusiness IntelligenceLanguagesEnglish Show more Show less \n Engineering and Information Technology \n Technology, Information and Internet",
         "Full-time",
         "Engineering and Information Technology",
         "Technology, Information and Internet",
         "6 days ago",
         "26 applicants",
         "4233305226",
         "2025-05-26",
         "https://www.linkedin.com/jobs-guest/jobs/api/jobPosting/4233305226",
         "https://www.linkedin.com/jobs/view/senior-data-scientist-at-tietalent-4233305226?trk=public_jobs_topcard-title"
        ],
        [
         "24",
         "808f048c-a1fb-472a-b44c-62fd9e1f1363",
         "Insight Global",
         "Data Scientist",
         "Mid-Senior level",
         "Data Scientist \n Insight Global \n JOB DESCRIPTIONInsight Global is seeking a highly skilled and motivated Data Scientist to join the Edge Network Services (ENS) division. This role will support the M360 Analytics project, which aims to enhance operational efficiency through data-driven decision-making, robust metrics development, and automation of key financial tracking systems. As a member of the newly formed ENS Analytics team, you will play a critical role in designing scalable data solutions, building and automating data pipelines, and establishing governance for L1/L2/L3 metrics. Your work will directly support the optimization of Opex and Capex tracking, and empower ENS teams with actionable insights through dashboards, reports, and self-service analytics tools. Key Responsibilities: Design, implement, and maintain scalable data pipelines and ETL processes. Develop and govern L1/L2/L3 operational metrics to monitor ENS performance. Automate tracking systems for Opex and Capex to improve financial transparency. Collaborate with cross-functional teams including engineering, finance, and operations to define data requirements and deliver insights. Build interactive dashboards and self-service tools using platforms like Tableau or Meta’s internal tools. Ensure data quality, consistency, and integrity across all analytics outputs. Conduct exploratory data analysis and statistical modeling to uncover trends and opportunities. Translate complex data into clear, actionable insights for technical and non-technical stakeholders.REQUIRED SKILLS AND EXPERIENCEBachelor’s or Master’s degree in Computer Science, Statistics, Mathematics, Engineering, or a related field. 3+ years of experience in data science, analytics, or a related field. Proficiency in SQL and at least one programming language (Python or R preferred). Experience with data visualization tools (e.g., Tableau, Power BI, or internal equivalents). Strong understanding of data modeling, ETL processes, and data warehousing. Familiarity with cloud platforms and big data technologies (e.g., Hive, Presto, Spark).NICE TO HAVE SKILLS AND EXPERIENCEExperience in infrastructure, network services, or operations analytics. Knowledge of financial tracking systems and cost optimization strategies. Experience with experimentation frameworks and A/B testing. Show more Show less \n Other \n Technology, Information and Media",
         "Contract",
         "Other",
         "Technology, Information and Media",
         "3 days ago",
         "N/A",
         "4233990040",
         "2025-05-26",
         "https://www.linkedin.com/jobs-guest/jobs/api/jobPosting/4233990040",
         "https://www.linkedin.com/jobs/view/data-scientist-at-insight-global-4233990040?trk=public_jobs_topcard-title"
        ],
        [
         "25",
         "5cf9fedc-2611-45d1-820d-a04eceea8a1a",
         "Acceler8 Talent",
         "Data Scientist - Fully Remote",
         "Mid-Senior level",
         "Data Scientist - Fully Remote \n Acceler8 Talent \n Data ScientistLocation: Remote (US)About UsA Series A startup with a leading database of crime, unrest, and media trends, delivering actionable insights via an innovative platform.ResponsibilitiesWrite and deploy Python scripts and SQL queries for large-scale data analysis.Solve customer problems using crime, unrest, and media data.Ensure production-ready code.Collaborate with CTO, Team Lead, and Product team.RequirementsProficient in Python and SQL; 5+ years’ experience +.US-based; able to attend annual meetings in DC.Ideal:Experience in national security, risk intelligence (cyber/physical), cybersecurity, insurance, or fintech.Familiarity with dual-use defence firms.Interview Process1- 2 hr tech challenge.CTO interview.Team Lead interview.Product team/CEO discussion. Show more Show less \n Information Technology \n Staffing and Recruiting",
         "Full-time",
         "Information Technology",
         "Staffing and Recruiting",
         "3 days ago",
         "N/A",
         "4233713618",
         "2025-05-26",
         "https://www.linkedin.com/jobs-guest/jobs/api/jobPosting/4233713618",
         "https://www.linkedin.com/jobs/view/data-scientist-fully-remote-at-acceler8-talent-4233713618?trk=public_jobs_topcard-title"
        ],
        [
         "26",
         "aa6dedbf-50b6-4c59-9bc1-50e968176d38",
         "Brooksource",
         "Data Scientist",
         "Mid-Senior level",
         "Data Scientist \n Brooksource \n Summary:This Senior Data Scientist will help scale our Call Center AI (CCAI) initiatives within the client Customer organization. Their primary responsibilities are to develop Generative AI (GenAI) systems that support the CCAI initiatives & then to productionalize these within client's technical ecosystem This role will join a growing team of data scientists and machine learning engineers to solve key business needs. They will collaborate with data scientists, SMEs and communicate results to non-technical audiences. Responsibilities:Lead efforts prototyping and deploying production-grade GenAI models at scale.Promote and role-model AIOps best practices (prompt engineering, evaluation, versioning).Design and create workflows for building and deploying AI agents and tool-using models.Build scalable pipelines for embedding generation, vector storage, prompt templates, etc.Design rigorous evaluation frameworks for LLMs, agents, and prompt chains across domains.Collaborate and maintain codebases using standard version control and GIT principles.Partner with data engineers and analysts to align data architecture with GenAI needs.Write well-structured code that implements software engineering best practices.Work closely with stakeholders to translate business problems into GenAI products.Required Skills:Bachelor’s degree in a STEM discipline: Statistics, Mathematics, Computer Science, etc.Minimum of 2-4 years of experience building production-grade Generative AI applications.Strong experience building GenAI workflows (e.g., agents, RAG, fine-tuning, orchestration).Advanced proficiency in Python and experience with frameworks like LangChain or LlamaIndex.Deep understanding of transformer models, tokenization, embeddings, and context windows.Experience with cloud infrastructure (preferably GCP) and managing vector databases at scale.Demonstrated ability to design and deploy autonomous or semi-autonomous agent workflows.Preferred Skills:Master’s/PhD degree in a STEM discipline: Statistics, Mathematics, Computer Science, etcExperience deploying LLM-powered agents in enterprise or critical applications.Familiarity with AI practices (bias mitigation, prompt safety, hallucination detection). Show more Show less \n Information Technology \n Utilities",
         "Contract",
         "Information Technology",
         "Utilities",
         "6 days ago",
         "N/A",
         "4231479274",
         "2025-05-26",
         "https://www.linkedin.com/jobs-guest/jobs/api/jobPosting/4231479274",
         "https://www.linkedin.com/jobs/view/data-scientist-at-brooksource-4231479274?trk=public_jobs_topcard-title"
        ],
        [
         "27",
         "ebae409a-6450-4359-ab26-3505760f70dd",
         "Burtch Works",
         "Lead Data Scientist - MMM",
         "Mid-Senior level",
         "Lead Data Scientist - MMM \n Burtch Works \n Job Title: Lead Data Scientist Omnichannel AnalyticsLocation: RemoteAbout the Company:We are committed to leveraging data to drive insights, optimize customer experiences, and contribute to the overall success of our omnichannel initiatives. We value innovation, collaboration, and a keen analytical mind to address business challenges and recommend data-driven solutions.Job SummaryWe are looking for a Lead, Omnichannel Analytics to join our team. The ideal candidate will have a Master's or Ph.D. in Data Science, Statistics, Computer Science, or a related field, and a minimum of 8 years of experience in analytics/data science with a focus on omnichannel analytics. This role will involve leading the Next Best Action initiative, developing predictive models, and providing strategic insights to support brand promotional and campaign objectives.Key ResponsibilitiesRemote work from certain states may be permitted.Providing valuable strategic and tactical business insight and recommendations to Marketing, Agencies, and Omnichannel Strategy & Operations (OSO) teams.Leveraging data to drive insights, optimize customer experiences, and contribute to the overall success of our omnichannel initiatives.Leading the Next Best Action initiative, analyzing and measuring the promotional effectiveness of omnichannel activities, and building recommendation systems using predictive models.Collaborating with key brand stakeholders and cross-functional teams to understand business objectives, measurability of campaigns, and developing data-driven strategies to enhance the omnichannel experience.Requirements:Education: Master’s or Ph.D. in Data Science, Statistics, Computer Science, or a related field.Experience: Minimum 8 years of analytics/data science experience with a focus on omnichannel analytics and demonstrated success in managing projects of increasing size and complexity.Skills: Strong proficiency in coding languages (e.g., SQL, R, and/or Python), expertise in machine learning techniques, statistical analysis, and data visualization.Certifications: Experience working with Google Analytics or Adobe Analytics.Other: Ability to work independently in a dynamic, fast-paced environment with minimal supervision. Demonstrated ability in taking initiative to proactively evaluate existing sales strategies and recommend changes, when appropriate.Preferred Qualifications:Experience in omnichannel concepts and data sources, e.g., impressions/click data, web data.Extensive proficiency with software in a Windows environment, including Microsoft Excel and PowerPoint.Keen analytical mind with superior problem-solving and technical skills.Benefits : Competitive Salary: ~190,000 USDHealth and Wellness: Medical, Dental, and Vision Insurance.Work-Life Balance: Generous Paid Time Off options, including Vacation and Sick time, plus national holidays including year-end shut down.Professional Development: 401(k) match and annual company contribution, company paid life insurance, annual Corporate Bonus and Quarterly Sales Incentive for eligible positions, Long Term Incentive Plan for eligible positions, Referral bonus program.Additional Perks: Company events, volunteer opportunities, etc. Show more Show less \n Engineering and Information Technology \n Hospitals and Health Care, Non-profit Organizations, and Government Administration",
         "Full-time",
         "Engineering and Information Technology",
         "Hospitals and Health Care, Non-profit Organizations, and Government Administration",
         "2 days ago",
         "N/A",
         "4040639778",
         "2025-05-26",
         "https://www.linkedin.com/jobs-guest/jobs/api/jobPosting/4040639778",
         "https://www.linkedin.com/jobs/view/lead-data-scientist-mmm-at-burtch-works-4040639778?trk=public_jobs_topcard-title"
        ],
        [
         "28",
         "ec088602-80e8-4965-9d57-37bae745dccd",
         "Mozilla",
         "Senior Staff Data Scientist",
         "Mid-Senior level",
         "Senior Staff Data Scientist \n Mozilla \n To learn the Hiring Ranges for this position, please select your location from the Apply Now dropdown menu.To learn more about our Hiring Range System, please click this link.Why Mozilla?Mozilla Corporation is the non-profit-backed technology company that has shaped the internet for the better over the last 25 years. We make pioneering brands like Firefox, the privacy-minded web browser, and Pocket, a service for keeping up with the best content online. Now, with more than 225 million people around the world using our products each month, we’re shaping the next 25 years of technology and helping to reclaim an internet built for people, not companies. Our work focuses on diverse areas including AI, social media, security and more. And we’re doing this while never losing our focus on our core mission – to make the internet better for people.The Mozilla Corporation is wholly owned by the non-profit 501(c) Mozilla Foundation. This means we aren’t beholden to any shareholders — only to our mission. Along with thousands of volunteer contributors and collaborators all over the world, Mozillians design, build and distribute open-source software that enables people to enjoy the internet on their terms.About This Team And RoleAs a Sr. Staff Data Scientist, you’ll be taking a lead role in a cross-functional team that is responsible for understanding and empowering the future of Mozilla.The RoleThe Data Science team sits at the intersection of product, marketing, engineering, finance, business, and leadership. We collaborate closely with these partners to create impactful data products. As a leader on this team, you will serve as a data expert who can represent the function of data science broadly across Mozilla, while helping the team advance its practice.As a Sr. Staff Data Scientist at Mozilla you will:Drive the vision and execution of work, often to address ambiguous issues, that creates impact across organizations.Generate data-informed insights and communicate these narratives with data to a range of technical and non-technical colleagues to influence decision making and uplevel data fluency across MozillaApply a variety of statistical methods to understand user behaviors and long-term trends. Define, forecast, evaluate, and report on key business metrics.Build key data sets to empower operational and exploratory analysis.Advocate for standard methodologies across the organization.Design and implement instrumentation and data models to improve product and business visibility.Your Professional ProfileYou lead with empathy. You value teamwork and teammates. You are invested in knowledge sharing and learning from others. You contribute positively and meaningfully to cultivate an inclusive and equitable team culture. You consider contributing to a collaborative and open team culture an important responsibility.You have a background in quantitative analysis knowing how to analyze, visualize, and interpret data and have 10+ years of experience applying these skills in an industry setting. You have used forecasting or other predictive methods on large scale data. Working on machine learning in production is a plus.You are well-versed in data platforms and productionalizing insights at scale. You also have experience with product analytics platforms (e.g., PostHog, Amplitude) and their implementation. You have experience bridging the gap between data science, data engineering, and business stakeholders.You have experience with extracting data from a variety of sources using SQL or SQL-like tools as well as scripting languages such as Python or R.You take stakeholder needs into account, bridging methodology and data into meaningful strategy from your analyses. You are a communicator who crafts impactful data narratives that inform company decisions around product, business, and finance.You have a passion for a healthy web and the well-being of its users. You are conversant about the challenges and opportunities that exist where Mozilla has impact.Commitment to our values:Welcoming differencesBeing relationship-mindedPracticing responsible participationHaving gritWhat You’ll GetGenerous performance-based bonus plans to all eligible employees - we share in our success as one teamRich medical, dental, and vision coverageGenerous retirement contributions with 100% immediate vesting (regardless of whether you contribute)Quarterly all-company wellness days where everyone takes a pause togetherCountry specific holidays plus a day off for your birthdayOne-time home office stipendAnnual professional development budgetQuarterly well-being stipendConsiderable paid parental leaveEmployee referral bonus programOther benefits (life/AD&D, disability, EAP, etc. - varies by country)About MozillaWhen you work at Mozilla, you give yourself a chance to make a difference in the lives of web users everywhere. And you give us a chance to make a difference in your life every single day. Join us to work on the web as the platform and help create more opportunity and innovation for everyone online. We’re not a normal tech company. The things we create prioritize people and their privacy over profits. We exist to make the internet a healthier, happier place for everyone.Commitment to diversity, equity and inclusionMozilla believes in the value of diverse creative practices and forms of knowledge, and knows diversity, equity and inclusion are crucial to and enrich the company’s core mission. We encourage applications from everyone, including members of all equity-seeking communities, such as (but not limited to) women, racialized and Indigenous persons, persons with disabilities, persons of all sexual orientations, gender identities and expressions.We will ensure that qualified individuals with disabilities are provided reasonable accommodations to participate in the job application or interview process, to perform essential job functions, and to receive other benefits and privileges of employment, as appropriate. Please contact us at hiringaccommodation@mozilla.com to request accommodation.We are an equal opportunity employer. We do not discriminate on the basis of race (including hairstyle and texture), religion (including religious grooming and dress practices), gender, gender identity, gender expression, color, national origin, pregnancy, ancestry, domestic partner status, disability, sexual orientation, age, genetic predisposition, medical condition, marital status, citizenship status, military or veteran status, or any other basis covered by applicable laws. Mozilla will not tolerate discrimination or harassment based on any of these characteristics or any other unlawful behavior, conduct, or purpose.Group: C#DNIReqID: R2771 Show more Show less \n Engineering and Information Technology \n Hospitals and Health Care, Non-profit Organizations, and Government Administration",
         "Full-time",
         "Engineering and Information Technology",
         "Hospitals and Health Care, Non-profit Organizations, and Government Administration",
         "5 days ago",
         "84 applicants",
         "4226231645",
         "2025-05-26",
         "https://www.linkedin.com/jobs-guest/jobs/api/jobPosting/4226231645",
         "https://www.linkedin.com/jobs/view/senior-staff-data-scientist-at-mozilla-4226231645?trk=public_jobs_topcard-title"
        ],
        [
         "29",
         "c89e3bed-1937-444b-a32d-e533771b40a5",
         "DuckDuckGo",
         "Senior Data Scientist",
         "Mid-Senior level",
         "Senior Data Scientist \n DuckDuckGo \n Who We AreHi, we're DuckDuckGo, the online protection company and remote-first team of 300+ on a mission to raise the standard of trust online. Founded in 2008 and profitable since 2014, annual revenue now exceeds $100m USD and millions use our browser on Mac, Windows, iOS, and Android, our search engine, and the latest — Privacy Pro. Our culture of trust, inclusivity, and empowered project management underpins everything we do, where each team member takes full ownership of their projects, from scoping and execution to postmortem. If you're seeking end-to-end ownership of your work — you've come to the right place!Your team and role Working On The Data Science Functional Team, You'll Build Machine Learning Models, Conduct Statistical Analyses, And Improve Our Data Processes Using Tools Like Python, Jupyter And SQL, And Work On Related Projects. Recent Projects IncludeDeploying fast categorization models for search queries Grading the relevancy of advertisements at scaleExpanding our fraud-detection modelsAs a Senior Data Scientist, you'll work directly with product and business objectives, including our search engine, instant answers, and revenue optimization. You'll collaborate with team members across the organization and drive impact through experiments, validating direction and building trust through data, all while becoming an expert in our key metrics like searches, installs, and revenue.About You7+ years of experience in Data ScienceAbility to lead and collaborate on high-impact and complex projects from proposal through post-mortem.Skills to wrangle vague problems, propose innovative solutions, and execute them with a strong focus on metrics.Advanced programming experience, preferably in a high-level language like Python.And the basics: expertise in SQL and query optimization; familiarity with columnar databases (e.g., Redshift, Clickhouse, BigQuery, or Druid); expertise building data visualizations and dashboards.Compensation$178,500 USD annually and stock options. Compensation is identical within professional levels, regardless of geographic location or team. Compensation for each professional level is transparent across the organization.Our Team Member Support Guide explains how we prioritise your wellbeing including paid parental leave, office setup and co-working allowances.Hiring Process Hiring works best when it's a two-way street. Learn how we help you get to know DuckDuckGo, envision your future role here, and find out more about how we hire.Diversity, Equity and InclusionDuckDuckGo provides equal work opportunities to all team members and applicants, and it prohibits discrimination and harassment of any type on the basis of race, color, ethnicity, caste, religion, age, sex (including pregnancy), national origin, disability status, genetics, protected veteran status, sexual orientation, gender identity or expression, or any other characteristic protected by our policies or federal, state, or local laws.We want to ensure that our hiring process is accessible. If you need reasonable accommodation for any part of the application process because of a medical condition or disability, please send an email to careers@duckduckgo.com to let us know the nature of your request.Please Note ThatYou’ll be required to attend meetings on camera via video conferencingExpect to travel at least two times a year: once for our all-hands meetup and again for a team retreat (each around 4-5 days). While extenuating circumstances may impact attendance, everyone is strongly encouraged to attend.While we offer a flexible work arrangement with no core hours, expect an average full-time commitment of 40 hours per week.A successful candidate must pass a background check as a condition of joining the team.By applying for this role, you confirm that all information submitted is accurate and complete. You further acknowledge that providing false or fraudulent information during the application process is cause for denial of an offer, revocation of any existing offer, or other adverse action, up to and including termination after the start of your commencement of work. Show more Show less \n Engineering and Information Technology \n Hospitals and Health Care, Non-profit Organizations, and Government Administration",
         "Full-time",
         "Engineering and Information Technology",
         "Hospitals and Health Care, Non-profit Organizations, and Government Administration",
         "4 days ago",
         "N/A",
         "4233061609",
         "2025-05-26",
         "https://www.linkedin.com/jobs-guest/jobs/api/jobPosting/4233061609",
         "https://www.linkedin.com/jobs/view/senior-data-scientist-at-duckduckgo-4233061609?trk=public_jobs_topcard-title"
        ],
        [
         "30",
         "5b3d5fae-fb58-4dcc-a235-255963204dc5",
         "Motion Recruitment",
         "Data Scientist",
         "Mid-Senior level",
         "Data Scientist \n Motion Recruitment \n Our client, an American retailer that owns and operates 4 brands that are well known, is looking for someone to join their team as a Data Scientist. This role is fully remote. In this role, you will work on high-impact projects in domains such as retail, inventory management, and operations research, collaborating with data scientists, engineers, and business stakeholders.Required Skills & Experience Hands-on experience with enterprise data science solutions, preferably in retail, inventory management, or operations research.Proficiency in Python, SQL, and PySpark.Experience with Databricks or similar enterprise cloud environments.Strong understanding of CI/CD principles and version control through GitHub Enterprise.Experience defining and validating service contracts using Pydantic for data validation and API schema enforcement.Experience with production-level coding and deployment practices.Proficient in data science libraries and ML pipelines such as; NumPy, SciPy, scikit-learn, MLlib, PyTorch, TensorFlow.Desired Skills & Experience Experience in Agile development environments.Exposure to cloud platforms (e.g., Azure, AWS, GCP).Familiarity with APIs including how RESTful services in data science workflows.What You Will Be Doing Develop, test, and deploy data science solutions using Python, SQL, and PySpark on enterprise platforms such as Databricks.Collaborate with data scientists to translate models into production-ready code.Implement CI/CD pipelines and manage code repositories using GitHub Enterprise.Design and optimize mathematical programming and machine learning models for real-world applications.Work independently to break down complex problems into actionable development tasks.Ensure code quality, scalability, and maintainability in a production environment.Contribute to sprint planning, documentation, and cross-functional collaboration. Show more Show less \n Engineering, Information Technology, and General Business \n Retail, Retail Apparel and Fashion, and Fashion Accessories Manufacturing",
         "Contract",
         "Engineering, Information Technology, and General Business",
         "Retail, Retail Apparel and Fashion, and Fashion Accessories Manufacturing",
         "3 days ago",
         "N/A",
         "4236136240",
         "2025-05-26",
         "https://www.linkedin.com/jobs-guest/jobs/api/jobPosting/4236136240",
         "https://www.linkedin.com/jobs/view/data-scientist-at-motion-recruitment-4236136240?trk=public_jobs_topcard-title"
        ],
        [
         "31",
         "fe06aabe-30a8-4ac5-b876-9556ffb0e5b2",
         "PwC",
         "People Tech - System Architect-Data Science Senior Manager",
         "Director",
         "People Tech - System Architect-Data Science Senior Manager \n PwC \n Specialty/Competency: Data ScienceIndustry/Sector: Not ApplicableTime Type: Full timeTravel Requirements: Up to 20%At PwC, our people in data and analytics engineering focus on leveraging advanced technologies and techniques to design and develop robust data solutions for clients. They play a crucial role in transforming raw data into actionable insights, enabling informed decision-making and driving business growth. Those in data science and machine learning engineering at PwC will focus on leveraging advanced analytics and machine learning techniques to extract insights from large datasets and drive data-driven decision making. You will work on developing predictive models, conducting statistical analysis, and creating data visualisations to solve complex business problems.Growing as a strategic advisor, you leverage your influence, expertise, and network to deliver quality results. You motivate and coach others, coming together to solve complex problems. As you increase in autonomy, you apply sound judgment, recognising when to take action and when to escalate. You are expected to solve through complexity, ask thoughtful questions, and clearly communicate how things fit together. Your ability to develop and sustain high performing, diverse, and inclusive teams, and your commitment to excellence, contributes to the success of our Firm.SkillsExamples of the skills, knowledge, and experiences you need to lead and deliver value at this level include but are not limited to:Craft and convey clear, impactful and engaging messages that tell a holistic story.Apply systems thinking to identify underlying problems and/or opportunities.Validate outcomes with clients, share alternative perspectives, and act on client feedback.Direct the team through complexity, demonstrating composure through ambiguous, challenging and uncertain situations.Deepen and evolve your expertise with a focus on staying relevant.Initiate open and honest coaching conversations at all levels.Make difficult decisions and take action to resolve issues hindering team effectiveness.Model and reinforce professional and technical standards (e.g. refer to specific PwC tax and audit guidance), the Firm's code of conduct, and independence requirements.The OpportunityAs part of the Data Platform’s Data Solution team you are expected to work closely with leaders across product functions to design the analytics roadmap and to support and implement top quality data driven decisions and deliverables. As a Senior Manager you are expected to lead large projects, innovate processes, and maintain operational excellence while interacting with clients at a senior level to drive project success. You are expected to develop and implement quality controls and standards to confirm data integrity and quality.Responsibilities Design the analytics roadmap in collaboration with leaders Support and implement data-driven decisions Lead large projects confirming operational excellence Interact with clients at a strategic level to drive success Develop and implement quality controls for data integrity Innovate processes to enhance data quality Deliver top-quality data solutions Foster relationships with product function leadersWhat You Must Have High School Diploma 6 years of progressive roles managing IT architecture and engineering designs and domainsWhat Sets You Apart Bachelor's Degree in Information Technology, Computer Systems Analysis, Management Information Systems, Computer Applications, Computer Engineering, Computer Programming preferred Building relationships with clients and developing requests for information Prioritizing and handling multiple tasks Coaching and collaborating with colleagues Understanding application of analytical techniques Selecting necessary analytical techniques Designing analytics roadmap and supporting data-driven decisions Implementing quality controls and standards Programming with Python and JavaLearn more about how we work: https://pwc.to/how-we-workPwC does not intend to hire experienced or entry level job seekers who will need, now or in the future, PwC sponsorship through the H-1B lottery, except as set forth within the following policy: https://pwc.to/H-1B-Lottery-Policy.As PwC is an equal opportunity employer, all qualified applicants will receive consideration for employment at PwC without regard to race; color; religion; national origin; sex (including pregnancy, sexual orientation, and gender identity); age; disability; genetic information (including family medical history); veteran, marital, or citizenship status; or, any other status protected by law. For only those qualified applicants that are impacted by the Los Angeles County Fair Chance Ordinance for Employers, the Los Angeles' Fair Chance Initiative for Hiring Ordinance, the San Francisco Fair Chance Ordinance, San Diego County Fair Chance Ordinance, and the California Fair Chance Act, where applicable, arrest or conviction records will be considered for Employment in accordance with these laws. At PwC, we recognize that conviction records may have a direct, adverse, and negative relationship to responsibilities such as accessing sensitive company or customer information, handling proprietary assets, or collaborating closely with team members. We evaluate these factors thoughtfully to establish a secure and trusted workplace for all.Applications will be accepted until the position is filled or the posting is removed, unless otherwise set forth on the following webpage. Please visit this link for information about anticipated application deadlines: https://pwc.to/us-application-deadlinesThe salary range for this position is: $124,000 - $280,000, plus individuals may be eligible for an annual discretionary bonus. For roles that are based in Maryland, this is the listed salary range for this position. Actual compensation within the range will be dependent upon the individual's skills, experience, qualifications and location, and applicable employment laws. PwC offers a wide range of benefits, including medical, dental, vision, 401k, holiday pay, vacation, personal and family sick leave, and more. To view our benefits at a glance, please visit the following link: https://pwc.to/benefits-at-a-glance Show more Show less \n Engineering and Information Technology \n Hospitals and Health Care, Non-profit Organizations, and Government Administration",
         "Full-time",
         "Engineering and Information Technology",
         "Hospitals and Health Care, Non-profit Organizations, and Government Administration",
         "3 days ago",
         "N/A",
         "4233953524",
         "2025-05-26",
         "https://www.linkedin.com/jobs-guest/jobs/api/jobPosting/4233953524",
         "https://www.linkedin.com/jobs/view/people-tech-system-architect-data-science-senior-manager-at-pwc-4233953524?trk=public_jobs_topcard-title"
        ],
        [
         "32",
         "be11d244-393b-4ba2-8349-50b470aaf20f",
         "Netflix",
         "Data Scientist (L5) - Customer Service",
         "Not Applicable",
         "Data Scientist (L5) - Customer Service \n Netflix \n Netflix is one of the world's leading entertainment services, with 283 million paid memberships in over 190 countries enjoying TV series, films and games across a wide variety of genres and languages. Members can play, pause and resume watching as much as they want, anytime, anywhere, and can change their plans at any time.Our Customer Service organization works to ensure nothing gets between our members and their favorite shows, movies and games. Data science plays a key role in guiding the CS team to deliver top-notch customer experiences that are aligned with Netflix's business strategy and executed with high operational excellence.In This Role, You WillLead the evolution of CS metrics, identifying “north star” metrics and the ways CS teams can drive themThink critically about the business problem at hand and deploy the appropriate measurement technique Partner with executives, Product Managers, Data Engineers, Analytics Engineers and Finance to further a statistically rigorous, data-driven decision-making culture in CSIdentify opportunity areas for experimentation and researchExpand the use of CS metrics across Netflix, where they hold insights for Product, Engineering, and Data Science We Are Looking ForAdvanced degree in Statistics, Mathematics, Physics, Economics or a related quantitative fieldStrong statistical knowledge and intuition, and applied experience developing business-centric metrics frameworks Strong SQL skills and programming experience (Python preferred) Ability to effectively communicate technical concepts and convey clear recommendations to a variety of audiences (Engineering, Product, senior leadership)Experience with a wide range of measurement and prediction techniques (correlation analysis, observational causal inference, forecasting, quasi experimentation) Comfort working with complex data; ability to thrive with minimal oversight and processPrior experience with Customer Service is not required, but a desire to learn and become an expert is a must.Our compensation structure consists solely of an annual salary; we do not have bonuses. You choose each year how much of your compensation you want in salary versus stock options. To determine your personal top of market compensation, we rely on market indicators and consider your specific job family, background, skills, and experience to determine your compensation in the market range. The range for this role is $170,000 - $720,000.Netflix provides comprehensive benefits including Health Plans, Mental Health support, a 401(k) Retirement Plan with employer match, Stock Option Program, Disability Programs, Health Savings and Flexible Spending Accounts, Family-forming benefits, and Life and Serious Injury Benefits. We also offer paid leave of absence programs. Full-time hourly employees accrue 35 days annually for paid time off to be used for vacation, holidays, and sick paid time off. Full-time salaried employees are immediately entitled to flexible time off. See more detail about our Benefits here.Inclusion is a Netflix value and we strive to host a meaningful interview experience for all candidates. If you want an accommodation/adjustment for a disability or any other reason during the hiring process, please send a request to your recruiting partner.We are an equal-opportunity employer and celebrate diversity, recognizing that diversity builds stronger teams. We approach diversity and inclusion seriously and thoughtfully. We do not discriminate on the basis of race, religion, color, ancestry, national origin, caste, sex, sexual orientation, gender, gender identity or expression, age, disability, medical condition, pregnancy, genetic makeup, marital status, or military service.Job is open for no less than 7 days and will be removed when the position is filled. Show more Show less \n Other \n Hospitals and Health Care, Non-profit Organizations, and Government Administration",
         "Full-time",
         "Other",
         "Hospitals and Health Care, Non-profit Organizations, and Government Administration",
         "6 days ago",
         "N/A",
         "4231868796",
         "2025-05-26",
         "https://www.linkedin.com/jobs-guest/jobs/api/jobPosting/4231868796",
         "https://www.linkedin.com/jobs/view/data-scientist-l5-customer-service-at-netflix-4231868796?trk=public_jobs_topcard-title"
        ],
        [
         "33",
         "139ec13b-14f2-4d9c-b869-287eea6bdb38",
         "PENN Interactive",
         "Data Scientist, MLB",
         "Entry level",
         "Data Scientist, MLB \n PENN Interactive \n PENN Entertainment, Inc. is North America’s leading provider of integrated entertainment, sports content, and casino gaming experiences. From casinos and racetracks to online gaming, sports betting and entertainment content, we deliver the experiences people want, how and where they want them.We’re always on the lookout for those who are passionate about creating and delivering cutting-edge online gaming and sports media products. Whether it’s through ESPN BET, Hollywood Casino, theScore Bet Sportsbook & Casino, or theScore media app, we’re excited to push the boundaries of what’s possible. These state-of-the-art platforms are powered by proprietary in-house technology, a key component of PENN’s omnichannel gaming and entertainment strategy.When you join PENN Entertainment’s digital team, you’ll not only work on these cutting-edge platforms through theScore and PENN Interactive, but you’ll also be part of a company that truly cares about your career growth. We’re committed to supporting you as you expand your skills and explore new opportunities.With locations throughout North America, you can build a future at PENN Entertainment wherever you are. If you want to challenge conventions in gaming, media and entertainment, we want to talk to you.About The Role & TeamWe are looking for a Senior Data Scientist to join our Data team. The Data Science team here at Penn is responsible for building models, forecasts, and simulations to help improve theScore Bet, ESPN Bet and iCasino products. Our team values creativity, collaboration, ingenuity, and ownership. We are looking for someone who is interested in joining a team responsible for building net new end-to-end sports data products to further our team’s mission of creating a world-class, data-driven product experience.About The WorkMachine learning & statistical modeling: we want to be able to predict the likelihood or expected outcome of various events across different sports. AB Testing: we want data to inform the development of our products and features. Predictive & Prescriptive Analytics: we want to share in-depth knowledge on how our features are working and our forecasts are performing. Developing pipelines and developing models: we work closely with data and infrastructure engineers to deploy our models and develop required data pipelines to build data products. Develop best practices for our internal data processes that include model building, modeling techniques, improved latency, and readability. Design and build new predictive models and optimization routines that have an enterprise level impact. This varies from modeling expected sporting outcomes at an event level to utilizing various game state data to simulate full spectrums of expected outcomes. Collaborate with other members of the Data Science and Engineering teams on ways to approach problems, augment code, and share new techniques. Deploy modeling deliverables in conjunction with functional team leaders and stakeholders (in Product, Trading, etc.). Analyze results using solid statistical methods to iteratively improve data products. Communicate clearly, efficiently, and empathetically with technical and non-technical stakeholders. Write and maintain technical design and git/confluence documentation. Other duties as required. About You4+ Years of experience working as a Data ScientistExperience solving quantitative problems with MLB Sports modelling data. A firm grasp of utilizing sport-specific problem-solving techniques to model various elements of the game. The ability to dynamically project various aspects of player and team performance. Proficiency in developing simulations replicating the dynamics and intricacies of a sporting game. Proficient at writing code in Python and SQL to create meaningful insights. Experienced at creating algorithms, features, and applying machine learning data models to solve sports problems. Collaboratively iterative on data science products in an experimental fashion to rapidly adapt and improve products. Understanding of classification, regression and forecasting models, and A/B testing. Experience provisioning services using GitHub. Ability to take ownership of your work to achieve the necessary high-level objectives. Nice to HaveFamiliarity with MLFlow. Familiarity with AWS/GCP. Experience setting up ML CI/CD pipelines, testing and validating code/data, managing databases, and deploying models. Experience with any of Docker, Kubernetes with Terraform, CloudwatchWhat We OfferCompetitive compensation packageEducation and conference reimbursementsOpportunities for career progression and mentoring othersSalary Range$90,000—$150,000 USDInitial placement within the salary range is based on an individual's relevant knowledge, skills, and experience. Base salary is just one component of our competitive Total Rewards package, which includes wellness programs designed to support our team members' financial, physical, and mental well-being. Specific benefits—such as day-one medical coverage, 401(k) matching, annual performance bonus and equity package — depending on position. Paid time off is earned according to the local policy and increases with the length of employment.Click HERE to discover how we empower team members to grow, thrive, and advance in their careers. Check out our LinkedIn page! Show more Show less \n Engineering and Information Technology \n Hospitals and Health Care, Non-profit Organizations, and Government Administration",
         "Full-time",
         "Engineering and Information Technology",
         "Hospitals and Health Care, Non-profit Organizations, and Government Administration",
         "2 days ago",
         "71 applicants",
         "4203028354",
         "2025-05-26",
         "https://www.linkedin.com/jobs-guest/jobs/api/jobPosting/4203028354",
         "https://www.linkedin.com/jobs/view/data-scientist-mlb-at-penn-interactive-4203028354?trk=public_jobs_topcard-title"
        ],
        [
         "34",
         "a03f759d-b7e9-4b0c-9043-a7e07c379bbd",
         "Mission Lane",
         "Principal Data Scientist",
         "Mid-Senior level",
         "Principal Data Scientist \n Mission Lane \n Mission Lane is combining the power of data, technology, and exceptional service to pave a clear way forward for millions of people on the path to financial success. By attracting top talent and leveraging cutting-edge technology, we’re enabling people to unlock real financial progress. Sound like a mission you can get behind?About The RoleAs a Principal Data Scientist, you will innovate and improve the machine learning models we rely on to make billions of dollars of efficient and accurate decisions and to enable financial progress for our customers.As a Principal Data Scientist, You’llDesign, develop, and deploy machine learning models to solve practical problems and help our business and customers reach their financial goals. You’ll partner with business leaders and technical experts across the company to develop new data sources, improve our modeling methodology, and apply models with sound risk management.You Are a Person WhoHas created, deployed, and managed supervised learning models in production systems for vital applications and enjoys being a technical mentorHas a PhD in a quantitative field and 1+ years of experience in a related role Has a BS / MS in a quantitative field and 5+ years of experience in a related role You share best practices for software engineering and can help smart, experienced data scientists with complex technical problems - especially operationalizing and evaluating models for real-world applicationsConsiders themself a generalist data scientist more motivated by practical solutions than theoretical elegancePractices solid fundamentals with software engineering (test-driven development, code review, refactoring) and the PyData stack (numpy, scikit-learn, pandas, etc.)Is interested in a wide range of ML solutions, including established tools (e.g. Spark, Kubernetes, Airflow, MLFlow), emerging tools (like Chalk, BentoML, or DVC), and developing in-house tools You Get Bonus Points ForExperience solving problems in consumer lending or fintechInterest in developing ways to train, interpret, and deploy neural network architectures for time series classification tasksWe’re OfferingWe’re committed to ensuring our team members have balance in their lives. Our comprehensive benefits package provides the support you need to thrive at work and at home.Work: An engaging culture with access to training programs and advancement opportunitiesLife: Full health, dental, and vision benefits, Flexible Spending Account (for medical and childcare expenses), paid parental leave, and a 401k Company MatchBalance: Generous PTO, flexible schedules, a Calm App subscription, and moreCompensationAnnual full-time base salary range: $183,000 - 224,000Additional compensation in the form(s) of participation in our annual incentive program and equity are dependent on role. Pay is based on factors such as work experience, education, certification(s), training, skills, and competencies related to the role. Mission Lane also offers a comprehensive benefits plan, which includes unlimited paid time off, 401(k) match, a monthly wellness stipend, health/ dental/ vision insurance options, disability coverage, paid parental leave, flexible spending account (for childcare and healthcare), life insurance, and a remote-friendly work environment.About Mission LaneFounded in December 2018, Mission Lane is a purpose-driven fintech company based in the U.S., with headquarters in Richmond, Virginia.It all started with a realization: nearly fifty percent of the adult population in the U.S. doesn’t have access to a clear line of credit. Most traditional credit card companies either overlook or overcharge this group because they have less-than-perfect credit scores or no scores at all. We decided this just wouldn’t do.In partnership with our sponsor banks, we offer credit cards under the Mission Lane brand name, with better, clearer terms, and a more refined customer experience than the alternatives available to people working hard to improve their credit.To date, over four million consumers have chosen Mission Lane, earning high customer ratings on Credit Karma for its market segment and industry leading Net Promoter scores.Mission Lane has cumulatively raised over $600 million of equity from leading investors, including Invus Opportunities, QED Investors, LL Funds, funds affiliated with Oaktree Capital Management, and other leading investors.Interested in learning more? Check out The Mission Lane Junction for articles on culture, credit, and community, and The Mission Lane Newsroom for media mentions.At Mission Lane, we’re committed to a workplace built on respect and dignity, where everyone has the opportunity to contribute. We believe diversity in all forms makes us stronger, and we intentionally foster an inclusive environment where employees feel valued, respected, and free to be their true selves. We are proud to be an equal opportunity employer and do not discriminate based on race, color, religion, sex, national origin, age, disability, genetic information, sexual orientation, gender identity, or any other protected status.Mission Lane provides reasonable accommodations to applicants who need them for medical or religious reasons, as required by law. Applicants can initiate an accommodation request by contacting peopleexperience@missionlane.com.Mission Lane is not sponsoring new applicant employment authorization and please, no third-party recruiters. Show more Show less \n Engineering and Information Technology \n Hospitals and Health Care, Non-profit Organizations, and Government Administration",
         "Full-time",
         "Engineering and Information Technology",
         "Hospitals and Health Care, Non-profit Organizations, and Government Administration",
         "3 days ago",
         "50 applicants",
         "4204640119",
         "2025-05-26",
         "https://www.linkedin.com/jobs-guest/jobs/api/jobPosting/4204640119",
         "https://www.linkedin.com/jobs/view/principal-data-scientist-at-mission-lane-4204640119?trk=public_jobs_topcard-title"
        ],
        [
         "35",
         "db110292-64b2-4fd0-a976-0f75dd35979d",
         "Systecon North America",
         "Data Scientist (Federal)",
         "Associate",
         "Data Scientist (Federal) \n Systecon North America \n About UsAt Systecon North America, we are at the forefront of predictive analytics and sustainment optimization for the U.S. Department of Defense and major defense contractors. Our industry-leading Opus Suite software empowers decision-makers to optimize sustainment strategies, enhance operational readiness, and reduce lifecycle costs across air, land, sea, and space domains.We are a trusted partner in data-driven decision-making, helping defense organizations and commercial industries improve sustainment planning and lifecycle management. If you’re a proven leader in program management with expertise in DoD acquisition and sustainment, join us in shaping the future of mission readiness and lifecycle optimization.Role OverviewWe are seeking a Data Scientist (Federal) to join our team supporting U.S. government and defense customers. This role is critical in delivering advanced analytics, machine learning, and data-driven insights to improve sustainment, logistics, and operational performance. You will work alongside domain experts, software engineers, and program managers to solve complex problems that directly impact mission success.Key ResponsibilitiesDevelop, deploy, and maintain predictive models and analytics tools to support sustainment and readiness decisions for defense customersAnalyze large, complex datasets from multiple sources to uncover trends, identify gaps, and provide actionable recommendationsCollaborate with cross-functional teams to integrate analytics into the Opus Suite software and client-specific solutionsWork closely with federal clients to understand mission needs, define analytical approaches, and communicate results effectivelyPrepare technical documentation, reports, and visualizations to clearly explain modeling techniques, assumptions, and outcomesStay current on emerging technologies, AI/ML trends, and federal data science requirements to inform solution developmentEnsure data security, compliance, and ethical use of data in accordance with federal regulations and standardsRequired Education, Experience & SkillsBachelor’s degree in Data Science, Computer Science, Statistics, Engineering, Applied Mathematics, or a related field (Master’s or PhD preferred)3+ years of experience in data science, machine learning, or analytics, ideally supporting defense, federal, or government programsProficiency with Python, R, SQL, or similar programming languages for data analysis and model developmentStrong knowledge of machine learning techniques, statistical modeling, and data visualization toolsExperience working with large datasets, including structured, unstructured, and time-series dataFamiliarity with DoD, defense acquisition, sustainment operations, or logistics domainsExcellent communication skills with the ability to present technical findings to non-technical audiencesActive U.S. security clearance (or the ability to obtain one) strongly preferred Show more Show less \n Engineering and Information Technology \n Defense and Space Manufacturing and Software Development",
         "Full-time",
         "Engineering and Information Technology",
         "Defense and Space Manufacturing and Software Development",
         "5 days ago",
         "N/A",
         "4232502799",
         "2025-05-26",
         "https://www.linkedin.com/jobs-guest/jobs/api/jobPosting/4232502799",
         "https://www.linkedin.com/jobs/view/data-scientist-federal-at-systecon-north-america-4232502799?trk=public_jobs_topcard-title"
        ],
        [
         "36",
         "d6c73f6d-3093-4bcb-923f-3eb7f9af0df5",
         "Theron Solutions",
         "Data Scientist",
         "Associate",
         "Data Scientist \n Theron Solutions \n Job Description:Complete hands-on Experience in Python programming, along with experience with popular AI/ML frameworks such as Tensorflow, Pytorch, scikit-learn, Langchain, and Llamaindex.Strong background in building and implementing Machine learning models.Hands on experience in developing AI/ML/GenAI solutions using AWS services such as Sagemaker.Experience with search algorithms , indexing techniques, summarization and retrieval models for effective information retrieval tasks.Hands on Experience with RAG architecture and its applications in natural language processing tasks.Good Exposure to Agentic / Multi agent framework.Hands on Experience in End to End development of machine learning and deep learning techniques, like predictive modeling, applied machine learning, natural language processing.Expertise in data engineering such as preprocessing and cleaning large datasets efficiently using python, pyspark, and other manipulation tools like Pandas and NumPy. Experience with techniques such as data normalization, feature engineering and data generation.Experience with cloud computing principles and experience in deploying, scaling and monitoring AI/ML/GenAI solutions on cloud platforms like AWS.Deploy and monitor ML solutions using AWS services such as Lambda, API gateway, and ECS and monitor their performance using CloudWatch.Experience with docker and containerization.Able to communicate complex technical; concepts effectively to technical and non-technical stakeholders and collaborate with cross-functional teams.Must Have:A Masters Degree in Computer science and EngineeringMinimum of 14 years of IT experience.Minimum of 7 experience as an ML engineer / data Scientist.Hands on experience using python and APIs like flask/Django/fastAPI.Hands on experience with tools such as Langchain, llamaidnex, streamline.Hands on experience with semi structured and unstructured data.Must have implemented a use case using LLMs.Must have implemented a use case using prompt engineering and fine-tuning of LLMs using LoRA/ PEFT.Must have implemented a use case using RAG architecture. Multi-agent framework is an added advantage. Show more Show less \n Engineering and Consulting \n IT Services and IT Consulting and Outsourcing and Offshoring Consulting",
         "Full-time",
         "Engineering and Consulting",
         "IT Services and IT Consulting and Outsourcing and Offshoring Consulting",
         "1 day ago",
         "N/A",
         "4237363528",
         "2025-05-26",
         "https://www.linkedin.com/jobs-guest/jobs/api/jobPosting/4237363528",
         "https://www.linkedin.com/jobs/view/data-scientist-at-theron-solutions-4237363528?trk=public_jobs_topcard-title"
        ],
        [
         "37",
         "f5f9c68e-e0c6-4e3a-a584-d37d9ca6c6de",
         "Cedar",
         "Sr. Data Scientist (Commercial Analytics)",
         "Director",
         "Sr. Data Scientist (Commercial Analytics) \n Cedar \n Our healthcare system is the leading cause of personal bankruptcy in the U.S. Every year, over 50 million Americans suffer adverse financial consequences as a result of seeking care, from lower credit scores to garnished wages. The challenge is only getting worse, as high deductible health plans are the fastest growing plan design in the U.S.Cedar’s mission is to leverage data science, smart product design and personalization to make healthcare more affordable and accessible. Today, healthcare providers still engage with its consumers in a “one-size-fits-all” approach; and Cedar is excited to leverage consumer best practices to deliver a superior experience. The RoleWe're seeking a Senior Data Scientist to join our Commercial Analytics team and develop scalable analytics tooling that drives action. The Commercial Analytics team's goal is to enable our clients to understand, appreciate, and extract the most value out of their Cedar relationship and products. The team's ambition is to satisfy and delight Cedar's clients through access to data and insights that:Help them build trust in Cedar's products and recognize the value they deliverEmpower them to take advantage of Cedar's varying features and levers to maximize valueAs a Senior Data Scientist, you will be viewed as a force multiplier for your squad, displaying leadership and beginning to have impact beyond your own tasks. You will lead squad-level projects, mentor junior team members, and drive decision-making within your team. You will develop expertise in Cedar's data ecosystem and translate business problems into actionable insights that drive strategic decision-making at the squad level.Key ResponsibilitiesLead the successful delivery of Squad-level KRs with measurable business valueDesign and develop comprehensive analytics tooling and dashboards that drive strategic decision-makingExecute ambiguous projects independently, proactively asking for help when neededLead and execute complex ad-hoc data analyses, translating findings into scalable analytics solutionsServe as a thought partner to client-facing teams, providing data-driven insights that enhance client relationshipsDevelop and optimize data pipelines in dbt, ensuring data quality and reliabilityUtilize Python and SQL for notebook-based exploration and sophisticated ad-hoc analysesPresent and communicate data findings and methodology to commercial stakeholdersPartner with Data Engineers to implement robust data infrastructure for complex analysesMentor junior team members and provide constructive feedback within your teamIdentify and advocate for opportunities to deliver impact within your squadSolve hard problems that require depth of expertise in your domainProactively take on new challenges and projects to better the teamSkills and Experience7+ years of experience in analytical roles, with demonstrated impact on business outcomesStrong proficiency in SQL and visualization tools (e.g., Looker, Tableau, Power BI)Experience developing and maintaining data pipelines in dbtProficiency in Python for data analysis and notebook-based explorationsAbility to translate business problems into structured analytical approachesStrong presentation and communication skills, with ability to influence decision-making within the teamAnalytical ability and understanding of statistical methodsExperience decomposing ambiguous problems and executing on solutionsProactive attitude, ownership mentality, and growth mindsetAbility to accurately represent your work and its value to partners within CedarExperience mentoring junior team members is a plusKnowledge of or experience in the healthcare industry is a plusApplicants must be currently authorized to work in the United States on a full-time basis. Compensation Range and BenefitsSalary/Hourly Rate Range*: $178,500 - $210,000This role is equity eligibleThis role offers a competitive benefits and wellness package*Subject to location, experience, and education What do we offer to the ideal candidate?A chance to improve the U.S. healthcare system at a high-growth company! Our leading healthcare financial platform is scaling rapidly, helping millions of patients per yearUnless stated otherwise, most roles have flexibility to work from home or in the office, depending on what works best for youFor exempt employees: Unlimited PTO for vacation, sick and mental health days–we encourage everyone to take at least 20 days of vacation per year to ensure dedicated time to spend with loved ones, explore, rest and recharge16 weeks paid parental leave with health benefits for all parents, plus flexible re-entry schedules for returning to workDiversity initiatives that encourage Cedarians to bring their whole selves to work, including three employee resource groups: be@cedar (for BIPOC-identifying Cedarians and their allies), Pridecones (for LGBTQIA+ Cedarians and their allies) and Cedar Women+ (for female-identifying Cedarians) Competitive pay, equity (for qualifying roles) and health benefits that start on the first of the month following your start date (or on your start date if your start date coincides with the first of the month)Cedar matches 100% of your 401(k) contributions, up to 3% of your annual compensationAccess to hands-on mentorship, employee and management coaching, and a team discretionary budget for learning and development resources to help you grow both professionally and personallyAbout usCedar was co-founded by Florian Otto and Arel Lidow in 2016 after a negative medical billing experience inspired them to help improve our healthcare system. With a commitment to solving billing and patient experience issues, Cedar has become a leading healthcare technology company fueled by remarkable growth. \"Over the past several years, we've raised more than $350 million in funding & have the active support of Thrive and Andreessen Horowitz (a16z). As of November 2024, Cedar is engaging with 30 million patients annually and is on target to process $3.5 billion in patient payments annually. Cedar partners with more than 55 leading healthcare providers and payers including Highmark Inc., Allegheny Health Network, Novant Health, Allina Health and Providence. Show more Show less \n Engineering and Information Technology \n Technology, Information and Internet",
         "Full-time",
         "Engineering and Information Technology",
         "Technology, Information and Internet",
         "5 days ago",
         "130 applicants",
         "4203154568",
         "2025-05-26",
         "https://www.linkedin.com/jobs-guest/jobs/api/jobPosting/4203154568",
         "https://www.linkedin.com/jobs/view/sr-data-scientist-commercial-analytics-at-cedar-4203154568?trk=public_jobs_topcard-title"
        ],
        [
         "38",
         "13011dd4-bcd6-4923-a7b1-b4ab76300455",
         "Lensa",
         "Principal Data Scientist - Generative AI, Machine Learning, Python, R - Remote",
         "Entry level",
         "Principal Data Scientist - Generative AI, Machine Learning, Python, R - Remote \n Lensa \n Lensa is the leading career site for job seekers at every stage of their career. Our client, Molina Healthcare, is seeking professionals. Apply via Lensa today!Job DescriptionJob SummaryResponsible for overseeing data science projects, managing and mentoring a team, and aligning data initiatives with business goals. Lead the development and implementation of data models, collaborate with cross-functional teams, and stay updated on industry trends. Ensure ethical data use and communicate complex technical concepts to non-technical stakeholders. Lead initiatives on model governance and model ops to align with regulatory and security requirements. This role requires technical expertise, strategic thinking, and leadership to drive data-driven decision-making within the organization and be the pioneer on generative AI healthcare solutions, aimed at revolutionizing healthcare operations as well as enhancing member experience.Job Duties Research and Development: Stay current with the latest advancements in AI and machine learning and apply these insights to improve existing models and develop new methodologies. AI Model Deployment, Monitoring & Model Governance: Deploy AI models into production environments, monitor their performance, and adjust as necessary to maintain accuracy and effectiveness and meet all governance and regulatory requirements. Innovation Projects: Lead pilot projects to test and implement new AI technologies within the organization Data Analysis and Interpretation: Extract meaningful insights from complex datasets, identify patterns, and interpret data to inform strategic decision-making. Machine Learning Model Development : Design, develop, and train machine learning models using a variety of algorithms and techniques, including supervised and unsupervised learning, deep learning, and reinforcement learning. Agentic Workflows Implementation: Develop and implement agentic workflows that utilize AI agents for autonomous task execution, enhancing operational efficiency and decision-making capabilities. RAG Pattern Utilization: Employ retrieval-augmented generation patterns to improve the performance of language models, ensuring they can access and utilize external knowledge effectively to enhance their outputs. Model Fine-Tuning : Fine-tune pre-trained models to adapt them to specific tasks or datasets, ensuring optimal performance and relevance in various applications. Data Cleaning and Preprocessing: Prepare data for analysis by performing data cleaning, handling missing values, and removing outliers to ensure high-quality inputs for modeling. Collaboration: Work closely with cross-functional teams, including software engineers, product managers, and business analysts, to integrate AI solutions into existing systems and processes. Documentation and Reporting: Create comprehensive documentation of models, methodologies, and results; communicate findings clearly to non-technical stakeholders. Mentors, coaches, and provides guidance to newer data scientists. Partner closely with business and other technology teams to build ML models which helps in improving Star ratings, reduce care gap and other business objectives. Present complex analytical information to all level of audiences in a clear and concise manner Collaborate with analytics team, assigning and managing delivery of analytical projects as appropriate Perform other duties as business requirements change, looking out for data solutions and technology enabled solution opportunities and make referrals to the appropriate team members in building out payment integrity solutions. Use a broad range of tools and techniques to extract insights from current industry or sector trendsJob QualificationsREQUIRED EDUCATION:Master’s Degree in Computer Science, Data Science, Statistics, or a related fieldRequired Experience/Knowledge, Skills & Abilities 10+ years’ work experience as a data scientist preferably in healthcare environment but candidates with suitable experience in other industries will be considered Knowledge of big data technologies (e.g., Hadoop, Spark) Familiar with relational database concepts, and SDLC concepts Demonstrate critical thinking and the ability to bring order to unstructured problems Technical Proficiency: Strong programming skills in languages such as Python and R, and experience with machine learning frameworks like TensorFlow, Keras, or PyTorch. Statistical Analysis: Excellent understanding of statistical methods and machine learning algorithms, including k-NN, Naive Bayes, SVM, and neural networks. Experience with Agentic Workflows: Familiarity with designing and implementing agentic workflows that leverage AI agents for autonomous operations. RAG Techniques: Knowledge of retrieval-augmented generation techniques and their application in enhancing AI model outputs. Model Fine-Tuning Expertise: Proven experience in fine-tuning models for specific tasks, ensuring they meet the required performance metrics. Data Visualization: Proficiency in data visualization tools (e.g., Tableau, Power BI) to present complex data insights effectively. Database Management: Experience with SQL and NoSQL databases, data warehousing, and ETL processes. Problem-Solving Skills: Strong analytical and problem-solving abilities, with a focus on developing innovative solutions to complex challenges.Preferred EducationPHD or additional experiencePreferred Experience Experience with cloud platforms (e.g., Databricks, Snowflake, Azure AI Studio etc.) for working with AI workflows and deploying models. Familiarity with natural language processing (NLP) and computer vision techniques.#PJCorp2To all current Molina employees: If you are interested in applying for this position, please apply through the intranet job listing.Molina Healthcare offers a competitive benefits and compensation package. Molina Healthcare is an Equal Opportunity Employer (EOE) M/F/D/V.Pay Range: $117,731 - $275,491 / ANNUALActual compensation may vary from posting based on geographic location, work experience, education and/or skill level. Show more Show less \n Engineering and Information Technology \n Hospitals and Health Care, Non-profit Organizations, and Government Administration",
         "Full-time",
         "Engineering and Information Technology",
         "Hospitals and Health Care, Non-profit Organizations, and Government Administration",
         "5 days ago",
         "N/A",
         "4231983593",
         "2025-05-26",
         "https://www.linkedin.com/jobs-guest/jobs/api/jobPosting/4231983593",
         "https://www.linkedin.com/jobs/view/principal-data-scientist-generative-ai-machine-learning-python-r-remote-at-lensa-4231983593?trk=public_jobs_topcard-title"
        ],
        [
         "39",
         "c99bfe74-457a-48b1-9812-50887832e9de",
         "Tiger Analytics",
         "Senior Data Scientist",
         "Associate",
         "Senior Data Scientist \n Tiger Analytics \n Tiger Analytics is looking for experienced Data Scientists to join our fast-growing advanced analytics consulting firm. Our consultants bring deep expertise in Data Science, Machine Learning and AI. We are the trusted analytics partner for multiple Fortune 500 companies, enabling them to generate business value from data. Our business value and leadership has been recognized by various market research firms, including Forrester and Gartner. We are looking for top-notch talent as we continue to build the best global analytics consulting team in the world.As a Data Scientist, you will apply strong expertise through the use of machine learning, data mining, and information retrieval to design, prototype, and build next generation advanced analytics engines and services. You will collaborate with cross-functional teams and business partners to define the technical problem statement and hypotheses to test. You will develop efficient and accurate analytical models which mimic business decisions and incorporate those models into analytical data products and tools. You will have the opportunity to drive current and future strategy by leveraging your analytical skills as you ensure business value and communicate the results.Key ResponsibilitiesCollaborate with business partners to develop innovative solutions to meet objectives utilizing cutting edge techniques and toolsDevelop, test, and deploy data science solutions using Python, SQL, and PySpark on enterprise platforms such as DatabricksCollaborate with data scientists to translate models into production-ready codeImplement CI/CD pipelines and manage code repositories using GitHub EnterpriseDesign and optimize mathematical programming and machine learning models for real-world applicationsWork independently to break down complex problems into actionable development tasksEnsure code quality, scalability, and maintainability in a production environmentContribute to sprint planning, documentation, and cross-functional collaborationCollaborate, coach, and learn with a growing team of experienced Data Scientists. Stay connected with external sources of ideas through conferences and community engagementsRequirements5 years of experience working as a Data ScientistHands-on experience with enterprise data science solutions, preferably in retail, inventory management, or operations researchProficiency in Python, SQL, and PySpark. Experience with Databricks or similar enterprise cloud environments. Strong understanding of CI/CD principles and version control through GitHub EnterpriseExperience defining and validating service contracts using Pydantic for data validation and API schema enforcementExperience with production-level coding and deployment practices. Familiarity with basic machine learning techniques and mathematical optimization methodsProficient in data science libraries and ML pipelines such as; NumPy, SciPy, scikit-learn, MLlib, PyTorch, TensorFlowSelf-starter with an ownership mindset and the ability to work with minimal supervisionBenefitsThis position offers an excellent opportunity for significant career development in a fast-growing and challenging entrepreneurial environment with a high degree of individual responsibility. Show more Show less \n Analyst \n IT Services and IT Consulting",
         "Full-time",
         "Analyst",
         "IT Services and IT Consulting",
         "5 days ago",
         "N/A",
         "4234089397",
         "2025-05-26",
         "https://www.linkedin.com/jobs-guest/jobs/api/jobPosting/4234089397",
         "https://www.linkedin.com/jobs/view/senior-data-scientist-at-tiger-analytics-4234089397?trk=public_jobs_topcard-title"
        ],
        [
         "40",
         "4a9ed36d-422c-4eb0-8836-bb9b2cda7ccc",
         "Root Inc.",
         "Lead Data Scientist II, Agents/Partnerships",
         "Mid-Senior level",
         "Lead Data Scientist II, Agents/Partnerships \n Root Inc. \n CURRENT ROOT EMPLOYEES - Please apply using the career page in Workday. This career site is for external applicants only.The OpportunityRoot is seeking a Lead Data Scientist II to join our fast-growing Data Science team and lead the charge in optimizing our Partnerships and Independent Agents distribution channels. This role will be instrumental in shaping how we research, build, and scale machine learning models and data-driven strategies that enhance partner performance, customer acquisition, and profitability.This is a unique opportunity to own a high-growth space from the ground up. You’ll collaborate closely with Product, Analytics, and Business Development to embed deeply in the problem space, drive strategic research initiatives, and deliver scalable data science solutions across a multi-partner landscape that includes names like Carvana, Goosehead, and Hyundai.Root is a “work where it works best” company. Meaning we will support you working in whatever location that works best for you across the US. We will continue to have our headquarters in Columbus and offices in other locations to give more flexibility and more choice about how we live and work.Salary Range: $151,200 - $189,000 (Bonus and LTI eligible)How You Will Make An ImpactServe as the technical lead for data science efforts across partnerships and agent channels.Translate partner needs and growth objectives into actionable data science projects.Conduct advanced research in pricing strategy, compensation optimization, and predictive agent performance.Develop lead-scoring models to prioritize high-conversion agents and tailor outreach strategies.Use NLP to extract insights from partner feedback and support logs, driving product and relationship improvements.Design and validate experiments and measurement frameworks that guide business decisions.Develop proof-of-concepts and quantitative models to evaluate new growth opportunities.Partner with engineering and analytics to deliver production-grade solutions.Mentor junior data scientists and set the standard for technical excellence and team collaboration.Foster alignment with cross-functional stakeholders through consistent communication and insight-sharing.Promote team effectiveness by championing good planning, process design, and best practices.What You Will Need To SucceedBS, MS, or PhD in Statistics, Computer Science, Economics, or a related field.6+ years of experience building predictive models, running experiments, and supporting decision-making in business environments.Proven expertise in Python (and/or R) and SQL; experience with modern ML and experimentation frameworks.Deep understanding of measurement, causal inference, and statistical validation.Strong communication skills with an ability to distill complex insights to non-technical partners.Familiarity with ML Ops concepts such as feature stores, retraining pipelines, and post-deployment monitoring.Ability to lead through ambiguity, prioritize high-impact work, and deliver in a fast-paced environment.Comfortable working across cross-functional teams to align technical work to business goals.Experience planning and sequencing team initiatives to deliver quarterly objectives.A team-first mindset with a track record of mentoring and elevating others.As part of Root's interview process, we kindly ask that all candidates be on camera for virtual interviews. This helps us create a more personal and engaging experience for both you and our interviewers. Being on camera is a standard requirement for our process and part of how we assess fit and communication style, so we do require it to move forward with any applicant's candidacy. If you have any concerns, feel free to let us know once you are contacted. We’re happy to talk it through.Don’t meet every single requirement?Studies have shown that women and people of color are less likely to apply to jobs unless they meet every single qualification. At Root, Inc., we are dedicated to building a diverse and inclusive workplace, so if you’re excited about this role but your past experience doesn’t align perfectly with every qualification in the job description, we encourage you to apply anyway!Join usAt Root, we judge people based on the merit of their work, not who they are. If you are passionate about what this role entails and solving real problems, we encourage you to apply. We want to learn about you and what you can add to our team.Who We AreWe’re harnessing the power of technology to revolutionize insurance. Using machine learning and mobile telematic platforms, we’ve built one of the most innovative FinTech companies in the world. And we’re just getting started.What Draws People To RootOur success is in large part due to our unwavering standards in hiring. We recognize that our products are only as good as the people building and promoting them. We want individuals who find solutions by going through the cycle of ideation to implementation with curiosity, rigor, and an analytical lens. Ask anyone who works here and you’ll hear similar reasons for why they joined:Autonomy—for assertive self-starters, the opportunities to contribute are limitless.Impact—by challenging the way it’s always been done, we solve problems that have a big impact on our business.Collaboration—we encourage rich discussion and civil debate at every turn.People—we are inspired by the collection of crazy-smart people around us. Show more Show less \n Engineering and Information Technology \n Hospitals and Health Care, Non-profit Organizations, and Government Administration",
         "Full-time",
         "Engineering and Information Technology",
         "Hospitals and Health Care, Non-profit Organizations, and Government Administration",
         "6 days ago",
         "52 applicants",
         "4211033275",
         "2025-05-26",
         "https://www.linkedin.com/jobs-guest/jobs/api/jobPosting/4211033275",
         "https://www.linkedin.com/jobs/view/lead-data-scientist-ii-agents-partnerships-at-root-inc-4211033275?trk=public_jobs_topcard-title"
        ],
        [
         "41",
         "62fa228b-a234-4c71-b71a-b342ceecbdc7",
         "Newfront",
         "Senior Data Scientist",
         "Mid-Senior level",
         "Senior Data Scientist \n Newfront \n Insurance is a trillion dollar market that is fundamental to society, yet it has not modernized — until now.Newfront is building the modern insurance experience.We've reimagined the experience for clients, prospects, and employees, altering the way people create, understand, select, transact, and use insurance. We're changing the approach so that it starts and ends with the client, not the product, and empowering people for moments that matter.Our unique approach recognizes both the vast potential of technology and the fundamental role of insurance experts. We're a technology-driven company with DE&I in our DNA and strong values; we believe people matter most.Our mission is to define the future of the insurance industry, while instilling a high performance culture in combination with living our Work, Love, Play ethos each day. We value balanced lives and are passionate about creating a culture of wellness that results in healthier, happier, and more productive employees, and more successful clients.The Data team is a critical organization at the heart of Newfront's data-driven approach. Our mission is to build valuable data products that enable a novel and differentiated experience for our clients and colleagues. We support multiple key business areas including executive leadership, business insurance analytics, sales analytics, finance, and data-driven product development.This position is a salaried, exempt and full-time role. This is a US Hybrid/Remote role, with the option to work from any of Newfront’s offices. .What You’ll Be Responsible ForLead the development of a comprehensive metrics tree to track business performance across the organizationConduct deep-dive analyses for executive leadership on strategic business questions and opportunitiesEnhance and optimize our sales analytics capabilities to improve revenue performance trackingTranslate business goals into well-designed metrics and accurate measuresDevelop and maintain data visualization dashboards that provide actionable insightsCollaborate with business stakeholders to understand their data needs and deliver insightful analyticsImprove data quality by leveraging existing operational processesSupport product analytics initiatives and help identify areas for data-driven improvementsMentor team members on analytical best practices and data visualization techniquesQualificationsBachelor's degree in Statistics, Mathematics, Economics, or related quantitative field5+ years of professional experience in data analytics or data science rolesExpert-level SQL skills for complex data manipulation and analysisStrong proficiency in Python, particularly with data analysis libraries and experience implementing predictive analytics modelsExperience with data visualization tools (Tableau, Looker, PowerBI, or similar) or data visualization libraries.Proven track record of successfully leading complex analytical projects from inception to completion, including setting project scope, managing timelines, and delivering high-quality results that drive business impactExperience developing and implementing metrics frameworks or KPI systemsStrong analytical thinking and problem-solving skillsExcellent communication skills with ability to present complex data insights to both technical and non-technical audiencesExperience working in a collaborative, cross-functional environment with demonstrated ability to build strong stakeholder relationships and effectively manage competing priorities across multiple business unitsPreferred Knowledge, Skills And AbilitiesExperience in the insurance or financial services industryFamiliarity with dbt, Snowflake, and similar modern data stack technologiesKnowledge of statistical analysis and experimental designExperience with forecasting and predictive modelingBackground in business intelligence and performance measurementActive use of AI tools (chat, IDE) as a productivity multiplierUnderstanding of data governance and data quality managementExperience working with executive leadership on strategic analytics initiativesThe pay range for this position in California, Washington, Colorado and New York at commencement of employment is expected to be between $168,800 and $211,000/yr; however, base pay offered may vary depending on multiple individualized factors, including market location, job-related knowledge, skills, and experience. The total compensation package for this position may also include other elements, including a bonus, restricted stock units, and discretionary awards in addition to a full range of medical, financial, and/or other benefits (including 401(k) eligibility and various paid time off benefits, such as vacation, sick time, and parental leave), dependent on the position offered. Details of participation in these benefit plans will be provided if an employee receives an offer of employment. If hired, employee will be in an “at-will position” and the Company reserves the right to modify base salary (as well as any other discretionary payment or compensation program) at any time, including for reasons related to individual performance, Company or individual department/team performance, and market factors.At Newfront, we are committed to hiring diverse talent and supporting an inclusive workplace environment. If you are excited about a role at Newfront but feel you’re missing a few of the qualifications, we still encourage you to apply and tell us about yourself. You may just be the next Newfront team member that we are looking for! Newfront is proud to be an equal opportunity workplace. Diversity is in our DNA and we believe that creating an inclusive workplace elevates the value we are able to bring to our customers and employees alike. All qualified applicants will receive consideration for employment without regard to age, race, color, religion, sex, sexual orientation, gender identity, national origin, genetic information, disability, veteran status, or any other applicable status protected by state or local law.If you require reasonable accommodations throughout the application or interview process, please contact us at careers@newfront.com. For information regarding how Newfront collects and uses personal information, please review our Privacy Policy. Show more Show less \n Engineering and Information Technology \n Hospitals and Health Care, Non-profit Organizations, and Government Administration",
         "Full-time",
         "Engineering and Information Technology",
         "Hospitals and Health Care, Non-profit Organizations, and Government Administration",
         "5 days ago",
         "N/A",
         "4191803492",
         "2025-05-26",
         "https://www.linkedin.com/jobs-guest/jobs/api/jobPosting/4191803492",
         "https://www.linkedin.com/jobs/view/senior-data-scientist-at-newfront-4191803492?trk=public_jobs_topcard-title"
        ],
        [
         "42",
         "2501f7ea-e3e1-4eff-af66-682cc5a08f4f",
         "Blend",
         "Data Scientist - Optimization and Modeling",
         "Mid-Senior level",
         "Data Scientist - Optimization and Modeling \n Blend \n Company DescriptionBlend is a premier AI services provider, committed to co-creating meaningful impact for its clients through the power of data science, AI, technology, and people. With a mission to fuel bold visions, Blend tackles significant challenges by seamlessly aligning human expertise with artificial intelligence. The company is dedicated to unlocking value and fostering innovation for its clients by harnessing world-class people and data-driven strategy. We believe that the power of people and AI can have a meaningful impact on your world, creating more fulfilling work and projects for our people and clients. For more information, visit www.blend360.com Job DescriptionWe are looking for our next Data Scientists. We have a couple of open positions for Lead and Senior Data Scientists. As Data Scientists, we spend the majority of our time on getting data into proper shape, performing statistical analyses, developing predictive models and machine learning algorithms to solve clients’ business problems. We evaluate different sources of data, discover patterns hidden within raw data, create insightful variables, and develop competing models with different machine learning algorithms. We validate and cross validate our recommendations to make sure our recommendations will perform well over time. The role will also include significant consulting / client facing work comprised of:Working with practice leaders and clients to understand clients’ business problem, industry context, data sources, potential risk and constraints. Collaborate with cross-functional teams to develop and deliver data-driven solutions that support key business initiativesDesign and implement, and optimize advanced models using Python, SQL and Google Cloud Platform (GCP)Apply mathematical optimization techniques to address real-world healthcare challenges;experience with Gurobi is a strong plusBuild and manage scalable data pipelines and orchestrate workflows using tools such as Airflow and DataprocEffectively communicate analytical findings and technical methodologies to both technical and non-technical stakeholdersQualificationsMinimum 3-4 years (Senior Data Scientist level) or 5-7 years (Lead Data Scientist level) of experience in data science or advanced analytics roles. Proficient in Python, SQL, and cloud-based environments (GCP preferred). Proven experience in mathematical optimization; hands-on use of Gurobi is highly desirable. Familiarity with workflow orchestration tools such as Airflow or Dataproc. Strong business acumen with the ability to rapidly integrate into and contribute to complex projects. Excellent verbal and written communication skills, with a demonstrated ability to engage effectively with diverse stakeholders. Additional InformationIf you are interested in the position, please include the following information in your cover letter:Your experience with Optimization? How much Optimization experience do you have?What are some optimization methods you've used. Which libraries or tools have you used for optimization?Have you used optimization in conjunction with machine learning models?Do you have experience with Linear/Integer Programming (Gurobi, CPLEX). Show more Show less \n Marketing \n Hospitals and Health Care, Non-profit Organizations, and Government Administration",
         "Full-time",
         "Marketing",
         "Hospitals and Health Care, Non-profit Organizations, and Government Administration",
         "3 days ago",
         "121 applicants",
         "4236460086",
         "2025-05-26",
         "https://www.linkedin.com/jobs-guest/jobs/api/jobPosting/4236460086",
         "https://www.linkedin.com/jobs/view/data-scientist-optimization-and-modeling-at-blend-4236460086?trk=public_jobs_topcard-title"
        ],
        [
         "43",
         "8bf0a455-da62-4283-859e-3eda80d0a028",
         "CareDx, Inc.",
         "Staff Data Scientist",
         "Entry level",
         "Staff Data Scientist \n CareDx, Inc. \n CareDx, Inc. is a leading precision medicine solutions company focused on the discovery, development, and commercialization of clinically differentiated, high-value healthcare solutions for transplant patients and caregivers. CareDx offers products, testing services, and digital healthcare solutions along the pre- and post-transplant patient journey, and is the leading provider of genomics-based information for transplant patients.As a member of the Enterprise Data Science and AI team, you will bring the rigor and innovation of data science to the non-R&D sectors of the company. Our data scientists identify the most significant opportunities to increase revenue and reduce costs within our Operations and Commercial organizations. They experiment with and track the effectiveness of interventions implemented in Sales, Marketing, CLIA, manufacturing, and other areas. Additionally, they advocate for and implement generative AI solutions to enhance workflows across the company, driving productivity and innovation. Our Data Scientists collaborate with and learn from peers across the organization, including biostatistics, bioinformatics, R&D data scientists, and data engineers. Responsibilities: Conduct exploratory data analysis on diverse datasets related to operations, sales, and marketing Research, build, interpret, optimize, and deploy predictive models Design and execute studies that can show causal relationships between actions and improved KPIs (i.e “AB testing” or “Growth Hacking”) Translate data insights into actionable business strategies through effective data storytelling, succinct communication, and impactful visualizations Maintain a collaborative, well documented, and repeatable workflow Collaborate with other data scientists, and importantly, our enterprise stakeholders Sought Skills and Experience: Organization of large datasets from multiple sources and data streams (SQL, excel, pandas, etc) Modeling of cross-section and time series phenomena (mixed effects models, regression, custom function optimization, autocorrelation, SARIMAX) Signal Processing and Filtering (Spectral Analyses, Fourier Transform, Kalman Filters, Hidden Markov Models) Model Deployment (code automation, serverless, streamlit.io) Machine Learning (Random Forest, SVM, Cross Validation) Generative AI (Prompt Engineering, RAG application) Static and dynamic data visualization (seaborn, plotly) Cloud environment (Azure, DataBricks) Fundamental statistics (e.g hypothesis testing, data distributions) Qualifications: PhD in Computer Science, Electrical Engineering, Biostatistics, or other related field or a Master’s degree with over 10 yrs of industry experience 4+ years of data science experience in a research or academic environment 4+ years of data science experience in industry environment Strong research skills , insatiable curiosity, and a dedication to understanding the “why” High Integrity Excellent communication skills, robust workflows, and strong instinct for documentation Demonstrated impact through data science (publications, cost savings, etc) Additional Details:Every individual at CareDx has a direct impact on our collective mission to improve the lives of organ transplant patients worldwide. We believe in taking great care of our people, so they take even greater care of our patients.Our competitive Total Rewards package includes:Competitive base salary and incentive compensationHealth and welfare benefits including a gym reimbursement program401(k) savings plan matchEmployee Stock Purchase PlanPre-tax commuter benefitsAnd more!In addition, we have a Living Donor Employee Recovery Policy that allows up to 30 days of paid leave annually to a full-time employee who makes the selfless act of donating an organ or bone marrow.With products that are making a difference in the lives of transplant patients today and a promising pipeline for the future, it’s an exciting time to be part of the CareDx team. Join us in partnering with transplant patients to transform our future together.CareDx, Inc. is an Equal Opportunity Employer and participates in the E-Verify program. By proceeding with our application and submitting your information, you acknowledge that you have read our U.S. Personnel Privacy Notice and consent to receive email communication from CareDx. We do not accept resumes from headhunters, placement agencies, or other suppliers that have not signed a formal agreement with us. Show more Show less \n Engineering and Information Technology \n Hospitals and Health Care, Non-profit Organizations, and Government Administration",
         "Full-time",
         "Engineering and Information Technology",
         "Hospitals and Health Care, Non-profit Organizations, and Government Administration",
         "2 days ago",
         "35 applicants",
         "4208280450",
         "2025-05-26",
         "https://www.linkedin.com/jobs-guest/jobs/api/jobPosting/4208280450",
         "https://www.linkedin.com/jobs/view/staff-data-scientist-at-caredx-inc-4208280450?trk=public_jobs_topcard-title"
        ],
        [
         "44",
         "0e910e5e-8e8b-46e4-b157-53d51c1a15d4",
         "LogicMatrix",
         "Senior Data Scientist",
         "Not Applicable",
         "Senior Data Scientist \n LogicMatrix \n Minimum Years of Experience Required: 6+ YearsSalary range: $160,000 - $190,000 (for Senior/Experienced level)Eligibility to Work: To be eligible for this role, applicants should be a Permanent Resident or have existing legal authorization to work in the U.S. Visa sponsorship is not available at this time.About the Role: Join our team as an experienced Senior Data Scientist to extract valuable insights from complex datasets and apply advanced analytical and machine learning techniques to solve critical business problems within an AI tech company context. You will be responsible for the full data science lifecycle, from data collection and cleaning to model development, deployment, and interpretation. This role is for a seasoned professional with a strong analytical mindset, deep expertise in data science methodologies, and the ability to drive data-informed decision-making.Key Responsibilities:Identify and formulate business problems that can be solved with data science and AI techniques.Collect, clean, process, and explore large and complex datasets.Design, develop, and implement data models, statistical analyses, and machine learning algorithms.Build and evaluate predictive and prescriptive models to address business challenges.Collaborate with engineering and ML teams to integrate data science models and solutions into production systems.Communicate findings, insights, and the results of analyses and models to technical and non-technical stakeholders effectively, using visualizations and clear explanations.Stay up-to-date with the latest research and advancements in data science and machine learning.Contribute to the development of data pipelines and infrastructure for data science workflows.Mentor junior data scientists and share knowledge within the team.Qualifications:Minimum 6 years of experience in data science, statistical analysis, or machine learning.Proficiency in programming languages such as Python or R, and extensive experience with data science libraries and frameworks (e.g., Pandas, NumPy, Scikit-learn, TensorFlow, PyTorch).Strong understanding of statistical concepts, experimental design, and various machine learning algorithms.Experience with data manipulation, cleaning, and feature engineering.Experience with data visualization tools and techniques.Familiarity with cloud platforms (AWS, Azure, GCP) and big data technologies (e.g., Spark, Hadoop) is often preferred for senior roles.Master's or Ph.D. in a quantitative field (e.g., Statistics, Mathematics, Computer Science, Economics, Operations Research) is typically preferred for senior roles.Proven ability to translate business problems into data science solutions and communicate technical results clearly.Benefits:Comprehensive Health, Dental, and Vision InsuranceProfessional Development StipendFlexible Work Arrangements401(k) with company matchGenerous Paid Time Off and HolidaysStock Options or RSU programPaid Parental Leave Show more Show less \n Engineering and Information Technology \n Hospitals and Health Care, Non-profit Organizations, and Government Administration",
         "Full-time",
         "Engineering and Information Technology",
         "Hospitals and Health Care, Non-profit Organizations, and Government Administration",
         "14 hours ago",
         "67 applicants",
         "4235419190",
         "2025-05-26",
         "https://www.linkedin.com/jobs-guest/jobs/api/jobPosting/4235419190",
         "https://www.linkedin.com/jobs/view/senior-data-scientist-at-logicmatrix-4235419190?trk=public_jobs_topcard-title"
        ],
        [
         "45",
         "38aa0efe-6f57-4bb7-a17d-2076f63f7ac7",
         "PEMCO",
         "Principal Data & AI Scientist",
         "Mid-Senior level",
         "Principal Data & AI Scientist \n PEMCO \n Who We Are: At PEMCO we’re all about people – our customers, our employees, and the community. We’re a mutual insurance company owned by our Northwest policyholders. We provide auto, home, renters, and boat coverage. Recognized by Forbes as one of America’s Best Insurance Companies in both Auto and Home for 2025 based on customer survey feedback and by Newsweek as one of America’s Greatest Midsize Workplaces 2025. We are consistently recognized for our outstanding customer service, employee expertise, community partnerships, and social impact programs. All of which makes PEMCO a great place to work!Our social impact programs motivate high achievement by youth in education; build stronger and greener communities; and increase safety at home, on the road, and at play. We’re committed to diversity, equity, inclusion, and belonging, and to fostering an inspiring and inclusive workplace. These efforts create and cultivate an environment that builds fairness and understanding, encourages collaboration and flexibility, and celebrates all the ways in which we’re different and the same – enabling all individuals to achieve their full potential.Why We Need You:PEMCO has a dynamic and challenging opportunity for a Principal Data & AI Scientist to join our community. In this role, you will be responsible for designing, developing, and operationalizing advanced data science, machine learning, and AI solutions across core insurance domains such as underwriting, claims automation, pricing optimization, risk modeling, and customer lifecycle personalization.What You’ll Be Doing: Lead development and deployment of AI models leveraging both supervised and unsupervised learning techniques. Design, implement, and optimize Retrieval-Augmented Generation (RAG) pipelines for AI-driven decision support. Utilize Vector Databases and Knowledge Graphs to enhance AI applications in underwriting, claims processing, and customer engagement. Develop data pipelines for ingestion, transformation, and storage to support AI/ML workloads. Design and implement scalable solutions using cloud-based AI platforms such as Azure Machine Learning, Databricks and Snowflake. Implement MLOps best practices, including CI/CD for model training, validation, deployment, and monitoring. Develop generative AI models for personalized customer experiences and automation of complex decision-making processes. Apply natural language processing (NLP) techniques to analyze and extract insights from unstructured data sources. Optimize AI models for performance, scalability, and reliability in enterprise environments. Conduct architecture design reviews and performance tuning for AI/ML applications Work cross-functionally with business and technology teams to identify AI-driven opportunities and define strategies. Ensure compliance with ethical AI principles, model governance, and data privacy regulations. Demonstrate behaviors consistent with PEMCO's policies, values, code of ethics and business conduct. Authentically support the PEMCO Brand and constantly are on the lookout for top talent to join us to achieve our Mission to Worry Less and Live More. Other duties as assigned. Provide guidance, mentorship, knowledge sharing, and technical growth to team members. What You'll Bring: B.A. or B.S. degree or equivalent work experience in a related field, such as Computer Science, Software Engineering, Artificial Intelligence, Machine Learning, Data Science, or Data Engineering. Master’s degree or Ph.D. in a related field, such as Artificial Intelligence, Data Science, or Machine Learning preferred. 10 years of enterprise-scale experience in designing, implementing, and deploying AI/ML models. 7 years of experience working with cloud-based AI platforms, including Azure Machine Learning, Databricks, and Snowflake. 7 years of experience in implementing both supervised and unsupervised learning techniques in real-world applications. Experience in the insurance industry, particularly in Auto, Home, and Umbrella insurance processes, underwriting, claims analysis, and risk assessment is required. Experience working with advanced AI frameworks such as LangChain, LlamaIndex, and Hugging Face transformers is preferred. Hands-on experience with Gen AI, RAG pipelines, Vector Databases, and Knowledge Graphs. Strong problem-solving skills and a deep understanding of statistical and mathematical principles. Strong experience in natural language processing (NLP) and generative AI applications. Expertise in MLOps, model lifecycle management, and AI model deployment at scale. Proficient in Python, PySpark, and SQL. Deep understanding of Azure Databricks, Delta Lake, Unity Catalog, Azure Synapse Analytics, and Azure Data Factory. Experience with distributed model training and serving on Databricks Familiarity with Azure OpenAI, LLM fine-tuning, or cognitive services is preferred. Expertise in both supervised and unsupervised learning techniques and the ability to implement AI/ML solutions that enhance data-driven decision-making in the insurance industry, particularly in Auto, Home, and Umbrella insurance. Familiarity with agile software delivery methodologies such as Scrum. What We Value:In fostering a culture where everyone thrives, PEMCO embodies a set of core traits that guide our collective efforts. These traits include: Make Agile Decisions: Define desired outcomes. Use a consistent, inclusive approach. Drive decisions with a sense of urgency. Pivot decisions quickly as supported by data. Build Trust: Listen to understand and use direct and open communication. Engage in healthy debate with mutual respect. Find solutions and move forward together. Own Results: Commit to desired outcomes. Define and achieve success metrics. Anticipate and mitigate risks, and always have a plan B. Take accountability for and learn from outcomes. Empower Execution: Take action to drive desired outcomes. Act with initiative, mastery, and purpose. Explore Fearlessly: Make swift, iterative progress through testing and learning, create a safe place to fail fast and learn from mistakes, and continuously improve. Value People: Appreciate and care about unique experiences and perspectives Respect the dignity of others and have empathy for people Authentically and meaningfully support and recognize people in real time. These traits form the bedrock of our commitment to caring deeply for each other, our customers, and our community. As you become a part of PEMCO, your contribution will further enrich our success story, where the power of these shared values propels us forward.Compensation:The pay range for this role is shown below. Compensation decisions are determined based on an individual’s qualifications, job-related knowledge, skills, and experience. Greater Seattle area target pay range: $165,369-$202,117. The full pay range is $137,807-$229,679. Outside greater Seattle area target pay range: $145,941-$178,373. The full pay range is $121,617-$202,696. Greater Seattle Area is defined as working within approximately 100 miles of Seattle.Outside Greater Seattle is defined as working approximately 100 miles or more from Seattle.Benefits:Regular part-time PEMCO employees working at least 24 hours per week and regular full-time PEMCO employees are eligible to elect coverage under medical, dental, and vision plans for themselves and their eligible family members with generous employer premium cost shares. In addition, as a benefits-eligible employee, you are: covered by employer-paid basic life and accidental death & dismemberment insurance policies as well as long- and short-term disability benefit coverages. eligible to participate in PEMCO’s 401(k) plan which includes a generous employer match (2 for 1 on the first 6% employee pre-tax and/or Roth deferral, up to federal maximums). PEMCO provides the following paid leave programs for benefits-eligible employees in their first year of PEMCO employment: Vacation accrues at a rate of 10 days for new hires, and increases based on a schedule to a maximum annual accrual of 25 days based on tenure. Granted four (4) personal days immediately upon hire. Paid holidays for the eight (8) holidays observed by PEMCO throughout the calendar year. Granted up to ten (10) days of sick leave immediately upon hire (pro-rated based on hire date and full-time/part-time status), which is approximately 28 hours more per year than the Washington state-required accrual. In addition, PEMCO provides paid time off for bereavement, jury duty, and employee volunteering in the community. Other miscellaneous benefit programs offered by PEMCO include: Flexible Spending Accounts. Education Assistance Program after one year of service. Scholarship program for children of PEMCO employees after one year of service. Employee Assistance Program. Well-being program. Discretionary taxable gifts and gift cards. And other Perks & Benefits including discounts on computer software and hardware, cell phone plans, and rental cars. Other compensation depending on role, contributions, and performance may include: Discretionary bonuses. Tiered sales commissions and/or incentives (from 5-25% of employee’s monthly sales). Employee referral bonuses. Shift differential pay. Equal Employment Opportunity:At PEMCO, we celebrate and support our differences. We know employing a team rich in diverse thoughts, experiences, and opinions allows our employees, our products, and our community to flourish. PEMCO is honored to be an equal opportunity workplace. We are dedicated to equal employment opportunities regardless of race, color, ancestry, religion, sex, national orientation, age, citizenship, marital status, disability, gender identity, sexual orientation, or veteran status.Applicants have rights under Federal Employment Laws: Family and Medical Leave Act (FMLA) Equal Employment Opportunity (EEO) Employee Polygraph Protection Act (EPPA) Show more Show less \n Analyst and Other \n Insurance",
         "Full-time",
         "Analyst and Other",
         "Insurance",
         "6 days ago",
         "50 applicants",
         "4231425165",
         "2025-05-26",
         "https://www.linkedin.com/jobs-guest/jobs/api/jobPosting/4231425165",
         "https://www.linkedin.com/jobs/view/principal-data-ai-scientist-at-pemco-4231425165?trk=public_jobs_topcard-title"
        ],
        [
         "46",
         "6cc8a6f9-6b29-4151-a15d-816a1feadb9b",
         "PwC",
         "People Tech - System Architect-Data Science Senior Manager",
         "Director",
         "People Tech - System Architect-Data Science Senior Manager \n PwC \n Specialty/Competency: Data ScienceIndustry/Sector: Not ApplicableTime Type: Full timeTravel Requirements: Up to 20%At PwC, our people in data and analytics engineering focus on leveraging advanced technologies and techniques to design and develop robust data solutions for clients. They play a crucial role in transforming raw data into actionable insights, enabling informed decision-making and driving business growth. Those in data science and machine learning engineering at PwC will focus on leveraging advanced analytics and machine learning techniques to extract insights from large datasets and drive data-driven decision making. You will work on developing predictive models, conducting statistical analysis, and creating data visualisations to solve complex business problems.Growing as a strategic advisor, you leverage your influence, expertise, and network to deliver quality results. You motivate and coach others, coming together to solve complex problems. As you increase in autonomy, you apply sound judgment, recognising when to take action and when to escalate. You are expected to solve through complexity, ask thoughtful questions, and clearly communicate how things fit together. Your ability to develop and sustain high performing, diverse, and inclusive teams, and your commitment to excellence, contributes to the success of our Firm.SkillsExamples of the skills, knowledge, and experiences you need to lead and deliver value at this level include but are not limited to:Craft and convey clear, impactful and engaging messages that tell a holistic story.Apply systems thinking to identify underlying problems and/or opportunities.Validate outcomes with clients, share alternative perspectives, and act on client feedback.Direct the team through complexity, demonstrating composure through ambiguous, challenging and uncertain situations.Deepen and evolve your expertise with a focus on staying relevant.Initiate open and honest coaching conversations at all levels.Make difficult decisions and take action to resolve issues hindering team effectiveness.Model and reinforce professional and technical standards (e.g. refer to specific PwC tax and audit guidance), the Firm's code of conduct, and independence requirements.The OpportunityAs part of the Data Platform’s Data Solution team you are expected to work closely with leaders across product functions to design the analytics roadmap and to support and implement top quality data driven decisions and deliverables. As a Senior Manager you are expected to lead large projects, innovate processes, and maintain operational excellence while interacting with clients at a senior level to drive project success. You are expected to develop and implement quality controls and standards to confirm data integrity and quality.Responsibilities Design the analytics roadmap in collaboration with leaders Support and implement data-driven decisions Lead large projects confirming operational excellence Interact with clients at a strategic level to drive success Develop and implement quality controls for data integrity Innovate processes to enhance data quality Deliver top-quality data solutions Foster relationships with product function leadersWhat You Must Have High School Diploma 6 years of progressive roles managing IT architecture and engineering designs and domainsWhat Sets You Apart Bachelor's Degree in Information Technology, Computer Systems Analysis, Management Information Systems, Computer Applications, Computer Engineering, Computer Programming preferred Building relationships with clients and developing requests for information Prioritizing and handling multiple tasks Coaching and collaborating with colleagues Understanding application of analytical techniques Selecting necessary analytical techniques Designing analytics roadmap and supporting data-driven decisions Implementing quality controls and standards Programming with Python and JavaLearn more about how we work: https://pwc.to/how-we-workPwC does not intend to hire experienced or entry level job seekers who will need, now or in the future, PwC sponsorship through the H-1B lottery, except as set forth within the following policy: https://pwc.to/H-1B-Lottery-Policy.As PwC is an equal opportunity employer, all qualified applicants will receive consideration for employment at PwC without regard to race; color; religion; national origin; sex (including pregnancy, sexual orientation, and gender identity); age; disability; genetic information (including family medical history); veteran, marital, or citizenship status; or, any other status protected by law. For only those qualified applicants that are impacted by the Los Angeles County Fair Chance Ordinance for Employers, the Los Angeles' Fair Chance Initiative for Hiring Ordinance, the San Francisco Fair Chance Ordinance, San Diego County Fair Chance Ordinance, and the California Fair Chance Act, where applicable, arrest or conviction records will be considered for Employment in accordance with these laws. At PwC, we recognize that conviction records may have a direct, adverse, and negative relationship to responsibilities such as accessing sensitive company or customer information, handling proprietary assets, or collaborating closely with team members. We evaluate these factors thoughtfully to establish a secure and trusted workplace for all.Applications will be accepted until the position is filled or the posting is removed, unless otherwise set forth on the following webpage. Please visit this link for information about anticipated application deadlines: https://pwc.to/us-application-deadlinesThe salary range for this position is: $124,000 - $280,000, plus individuals may be eligible for an annual discretionary bonus. For roles that are based in Maryland, this is the listed salary range for this position. Actual compensation within the range will be dependent upon the individual's skills, experience, qualifications and location, and applicable employment laws. PwC offers a wide range of benefits, including medical, dental, vision, 401k, holiday pay, vacation, personal and family sick leave, and more. To view our benefits at a glance, please visit the following link: https://pwc.to/benefits-at-a-glance Show more Show less \n Engineering and Information Technology \n Hospitals and Health Care, Non-profit Organizations, and Government Administration",
         "Full-time",
         "Engineering and Information Technology",
         "Hospitals and Health Care, Non-profit Organizations, and Government Administration",
         "3 days ago",
         "N/A",
         "4233956188",
         "2025-05-26",
         "https://www.linkedin.com/jobs-guest/jobs/api/jobPosting/4233956188",
         "https://www.linkedin.com/jobs/view/people-tech-system-architect-data-science-senior-manager-at-pwc-4233956188?trk=public_jobs_topcard-title"
        ],
        [
         "47",
         "1fa21fb8-fd5c-4023-b2c2-3889834407e3",
         "Cardinal Health",
         "Data Scientist, Operations Research",
         "Entry level",
         "Data Scientist, Operations Research \n Cardinal Health \n What Data Science Contributes To Cardinal HealthThe Data and Analytics Function oversees the analytics life-cycle in order to identify, analyze and present relevant insights that drive business decisions and anticipate opportunities to achieve a competitive advantage. This function manages analytic data platforms, the access, design and implementation of reporting/business intelligence solutions, and the application of advanced quantitative modeling. Data Science applies base, scientific methodologies from various disciplines, techniques and tools that extracts knowledge and insight from data to solve complex business problems on large data sets, integrating multiple systems.Department/Team OverviewWe are looking for a Data Scientist, Operations Research Analyst to join our Decision Science Solutions (DS2) team. Our mission is to improve our pharmaceutical supply chain’s performance to better service our pharmacy customers, so that they can focus on their patients. The DS2 team consists of Supply Chain Data Scientists, Operations Research Analysts, Data Analysts, and Data Engineers. We work cross-functionally to solve problems leveraging a variety of skillsets and perspectives to achieve the best outcomes. We perform analyses, recommend solutions, and build products to enable better decision making in the following areas:Distribution center network design and capacity planningFacility layout and design; warehouse capacity and utilizationWarehouse process improvementLabor management and automationInventory management: stocking strategies and replenishment policiesTransportation planning: first mile, middle mile, and final mileSales and operations planning (resource management in response to demand changes)ResponsibilitiesAs a Data Scientist in Supply Chain Operations, you will apply your knowledge of business processes, systems, data, and analytical tools to explore and identify root causes of problems. You will forecast future demand, build optimization and simulation models, and communicate actionable insights. You will work with cross-functional project teams to ideate, develop, and recommend solutions. Specific responsibilities are to:Listen to clients and ask questions to clearly define business problems.Perform exploratory analysis to determine root causes of problems and confirm/disprove hypotheses.Develop predictive models to forecast future volumes that will drive capacity/resource needs.Develop customer and product segmentation models and design our supply chain to support differentiated services.Build optimization and simulation models to recommend capacity investments, resource plans, policy changes, and process changes to improve supply chain performance.Develop prescriptive models using 3rd party optimization/simulation software and custom-build models.Recommend solutions. Summarize the financial and operational impact of the recommendation and pros/cons of alternatives considered.Work with Data Engineers to create data models for analyses.Qualifications2-4 years of experience, preferredBachelor's degree in a quantitative field, or equivalent work experience, preferredMS/MBA with focus in Data Science, Operations Research, Industrial Engineering, or Statistics preferredDemonstrated ability to apply Data Science and Operations Research techniques to logistics and supply chain management problems preferredExperience with Structured Query Language (SQL) and working with databases preferred Experience with data analysis tools such as R, Python, SQL, Alteryx, Tableau, and SAS preferredExperience with Strategic Network Design, Simulation (e.g., AnyLogic), or Mathematical Programming (e.g., CPLEX) software preferred Proven ability to work as part of a team as the key analytical resourceExcellent communication skills with an ability to explain quantitative analysis in simple business termsIntellectual curiosity, humility, genuine respect and desire to help othersBias for action and passion for driving changeAbility to travel up to 5% What is expected of you and others at this levelApplies comprehensive knowledge and a thorough understanding of concepts, principles, and technical capabilities to perform varied tasks and projectsMay contribute to the development of policies and proceduresWorks on complex projects of large scopeDevelops technical solutions to a wide range of difficult problemsSolutions are innovative and consistent with organization objectivesCompletes work; independently receives general guidance on new projectsWork reviewed for purpose of meeting objectivesMay act as a mentor to less experienced colleaguesAnticipated salary range: $93,500 - $133,600Bonus eligible: NoBenefits: Cardinal Health offers a wide variety of benefits and programs to support health and well-being.Medical, dental and vision coveragePaid time off planHealth savings account (HSA)401k savings planAccess to wages before pay day with myFlexPayFlexible spending accounts (FSAs)Short- and long-term disability coverageWork-Life resourcesPaid parental leaveHealthy lifestyle programsApplication window anticipated to close: 7/1/2025 *if interested in opportunity, please submit application as soon as possible.The salary range listed is an estimate. Pay at Cardinal Health is determined by multiple factors including, but not limited to, a candidate’s geographical location, relevant education, experience and skills and an evaluation of internal pay equity.Candidates who are back-to-work, people with disabilities, without a college degree, and Veterans are encouraged to apply.Cardinal Health supports an inclusive workplace that values diversity of thought, experience and background. We celebrate the power of our differences to create better solutions for our customers by ensuring employees can be their authentic selves each day. Cardinal Health is an Equal Opportunity/Affirmative Action employer. All qualified applicants will receive consideration for employment without regard to race, religion, color, national origin, ancestry, age, physical or mental disability, sex, sexual orientation, gender identity/expression, pregnancy, veteran status, marital status, creed, status with regard to public assistance, genetic status or any other status protected by federal, state or local law. Show more Show less \n Engineering and Information Technology \n Hospitals and Health Care, Non-profit Organizations, and Government Administration",
         "Full-time",
         "Engineering and Information Technology",
         "Hospitals and Health Care, Non-profit Organizations, and Government Administration",
         "2 days ago",
         "N/A",
         "4220342794",
         "2025-05-26",
         "https://www.linkedin.com/jobs-guest/jobs/api/jobPosting/4220342794",
         "https://www.linkedin.com/jobs/view/data-scientist-operations-research-at-cardinal-health-4220342794?trk=public_jobs_topcard-title"
        ],
        [
         "48",
         "7e27dee0-a8ef-4c28-a166-2e334ba2845f",
         "RandomTrees",
         "IoT Data Scientist",
         "Mid-Senior level",
         "IoT Data Scientist \n RandomTrees \n Building AI models for analyzing Oscillation FrequencyReal-time analytics & dashboarding for operational insights and predictive maintenanceCustom IoT solutions leveraging edge compute and cloud services. Show more Show less \n Information Technology \n IT Services and IT Consulting",
         "Contract",
         "Information Technology",
         "IT Services and IT Consulting",
         "4 days ago",
         "N/A",
         "4232805911",
         "2025-05-26",
         "https://www.linkedin.com/jobs-guest/jobs/api/jobPosting/4232805911",
         "https://www.linkedin.com/jobs/view/iot-data-scientist-at-randomtrees-4232805911?trk=public_jobs_topcard-title"
        ],
        [
         "49",
         "ffb36a7c-927c-4148-bf4e-dbcebd86ee64",
         "Haus",
         "Data Scientist - Product Analytics",
         "Entry level",
         "Data Scientist - Product Analytics \n Haus \n About HausHaus is a marketing science platform that helps brands measure and maximize the business impact of their marketing spend with scientific precision. Over $360B spent annually on paid advertising in the US alone, and the famous quote “half the money I spend on advertising is wasted; the trouble is I don't know which half” still rings true. Haus helps marketers identify which half, and re-allocate it to maximize growth.Haus was built by a team of former product managers, economists, and engineers from Google, Netflix, Meta, and others to make high-quality decision science accessible to businesses of all sizes. By automating the heavy lifting of experiment design, data processing, and insights generation, we empower our customers to make more profitable, data-driven decisions. We hear our customers frequently rave about our product, for example \"we've seen north of 10x ROI on our annual investment in Haus in the first 2 months alone.”Haus is on a hypergrowth trajectory, well-capitalized, and backed by top-tier VCs including Insight Partners, Baseline Ventures, Haystack, and others. We're honored that Haus has once again been recognized and has made the list for 2025's exceptional startups !What You'll DoWe’re looking for a data scientist who thrives at the intersection of analytics and strategy. This role goes beyond writing SQL queries and building dashboards—you’ll be a thought partner to the product team, using data to shape decisions and drive the product roadmap.If the following questions excite you, this might be the right role for you:Oversee the overarching UI/UX of the product, while going deep on certain projectsWhat early signals predict customer churn, and how can we prevent it?How do customers use our platform to allocate their advertising budgets?Can we extract cross-customer insights from the experiments they run?Where do users encounter friction, and how can we eliminate it?How do we build a foundational data stack that accelerates future analyses?This role will report directly into the Head of Product and will be the first data scientist on the product team.Qualifications3+ years experience in product analyticsBachelor’s degree in a quantitative fieldExpertise in SQL and proficiency in at least one object-oriented language (Python, Java, etc.)About YouYou dream in SQLYou’re relentlessly curious and skeptical of data—always questioning assumptions and digging deepYou take initiative, spotting opportunities and running with themYou tell compelling stories with data (and you have strong opinions about bad visualizations)You prioritize impact, always focusing on what moves the business forwardBonus PointsExperience with dbtExperience with CDPs (e.g. Rudderstack)What We OfferCompetitive salary and startup equityTop of the line health, dental, and vision insurance401k planProvide you with the tools and resources you need to be productive (new laptop, equipment, you name it)$150,000 - $175,000 a yearSalary ranges are determined by role and level, and within the range individual pay is determined by additional factors including job-related skills, experience, and relevant education or training. Please note that the compensation details listed in this job posting reflect the base salary only, and do not include equity or benefits.Haus is an equal opportunity employer and makes employment decisions without regard to race, color, religion, sex, sexual orientation, gender identity, national origin, veteran status, disability status, age, or any other status protected by law. Show more Show less \n Engineering and Information Technology \n Hospitals and Health Care, Non-profit Organizations, and Government Administration",
         "Full-time",
         "Engineering and Information Technology",
         "Hospitals and Health Care, Non-profit Organizations, and Government Administration",
         "5 days ago",
         "N/A",
         "4231059076",
         "2025-05-26",
         "https://www.linkedin.com/jobs-guest/jobs/api/jobPosting/4231059076",
         "https://www.linkedin.com/jobs/view/data-scientist-product-analytics-at-haus-4231059076?trk=public_jobs_topcard-title"
        ]
       ],
       "shape": {
        "columns": 14,
        "rows": 71
       }
      },
      "text/html": [
       "<div>\n",
       "<style scoped>\n",
       "    .dataframe tbody tr th:only-of-type {\n",
       "        vertical-align: middle;\n",
       "    }\n",
       "\n",
       "    .dataframe tbody tr th {\n",
       "        vertical-align: top;\n",
       "    }\n",
       "\n",
       "    .dataframe thead th {\n",
       "        text-align: right;\n",
       "    }\n",
       "</style>\n",
       "<table border=\"1\" class=\"dataframe\">\n",
       "  <thead>\n",
       "    <tr style=\"text-align: right;\">\n",
       "      <th></th>\n",
       "      <th>id</th>\n",
       "      <th>company</th>\n",
       "      <th>title</th>\n",
       "      <th>level</th>\n",
       "      <th>content</th>\n",
       "      <th>employment_type</th>\n",
       "      <th>job_function</th>\n",
       "      <th>industries</th>\n",
       "      <th>posted_time</th>\n",
       "      <th>applicants</th>\n",
       "      <th>job_id</th>\n",
       "      <th>date</th>\n",
       "      <th>parsing_link</th>\n",
       "      <th>job_posting_link</th>\n",
       "    </tr>\n",
       "  </thead>\n",
       "  <tbody>\n",
       "    <tr>\n",
       "      <th>0</th>\n",
       "      <td>45b6bc4b-e476-452b-bcf7-38489c7d2bd1</td>\n",
       "      <td>HCA Healthcare</td>\n",
       "      <td>Data Science Manager</td>\n",
       "      <td>Mid-Senior level</td>\n",
       "      <td>Data Science Manager \\n HCA Healthcare \\n Job ...</td>\n",
       "      <td>Full-time</td>\n",
       "      <td>Engineering and Information Technology</td>\n",
       "      <td>Technology, Information and Media</td>\n",
       "      <td>3 days ago</td>\n",
       "      <td>N/A</td>\n",
       "      <td>4222341754</td>\n",
       "      <td>2025-05-26</td>\n",
       "      <td>https://www.linkedin.com/jobs-guest/jobs/api/j...</td>\n",
       "      <td>https://www.linkedin.com/jobs/view/data-scienc...</td>\n",
       "    </tr>\n",
       "    <tr>\n",
       "      <th>1</th>\n",
       "      <td>5a97b60c-63fe-4d52-ad23-aefc2799a412</td>\n",
       "      <td>Gormat</td>\n",
       "      <td>Data Scientist 3</td>\n",
       "      <td>Entry level</td>\n",
       "      <td>Data Scientist 3 \\n Gormat \\n Job Description:...</td>\n",
       "      <td>Full-time</td>\n",
       "      <td>Engineering and Information Technology</td>\n",
       "      <td>Hospitals and Health Care, Non-profit Organiza...</td>\n",
       "      <td>1 day ago</td>\n",
       "      <td>42 applicants</td>\n",
       "      <td>4237502589</td>\n",
       "      <td>2025-05-26</td>\n",
       "      <td>https://www.linkedin.com/jobs-guest/jobs/api/j...</td>\n",
       "      <td>https://www.linkedin.com/jobs/view/data-scient...</td>\n",
       "    </tr>\n",
       "    <tr>\n",
       "      <th>2</th>\n",
       "      <td>33cde05d-faf4-49f1-969b-20a5272b5d96</td>\n",
       "      <td>Kforce Inc</td>\n",
       "      <td>Data Scientist</td>\n",
       "      <td>Associate</td>\n",
       "      <td>Data Scientist \\n Kforce Inc \\n Responsibiliti...</td>\n",
       "      <td>Contract</td>\n",
       "      <td>Engineering and Information Technology</td>\n",
       "      <td>Hospitals and Health Care, Non-profit Organiza...</td>\n",
       "      <td>4 days ago</td>\n",
       "      <td>N/A</td>\n",
       "      <td>4233430613</td>\n",
       "      <td>2025-05-26</td>\n",
       "      <td>https://www.linkedin.com/jobs-guest/jobs/api/j...</td>\n",
       "      <td>https://www.linkedin.com/jobs/view/data-scient...</td>\n",
       "    </tr>\n",
       "    <tr>\n",
       "      <th>3</th>\n",
       "      <td>2e43ac13-2fc4-42ad-a7e0-38d67a36db09</td>\n",
       "      <td>Trace3</td>\n",
       "      <td>Senior Data Scientist</td>\n",
       "      <td>Mid-Senior level</td>\n",
       "      <td>Senior Data Scientist \\n Trace3 \\n Who is Trac...</td>\n",
       "      <td>Full-time</td>\n",
       "      <td>Engineering and Information Technology</td>\n",
       "      <td>Hospitals and Health Care, Non-profit Organiza...</td>\n",
       "      <td>1 day ago</td>\n",
       "      <td>37 applicants</td>\n",
       "      <td>4207115907</td>\n",
       "      <td>2025-05-26</td>\n",
       "      <td>https://www.linkedin.com/jobs-guest/jobs/api/j...</td>\n",
       "      <td>https://www.linkedin.com/jobs/view/senior-data...</td>\n",
       "    </tr>\n",
       "    <tr>\n",
       "      <th>4</th>\n",
       "      <td>94ae2c5f-c263-4619-9bac-fe288f3e5136</td>\n",
       "      <td>Worth AI</td>\n",
       "      <td>Director of Data Science</td>\n",
       "      <td>Mid-Senior level</td>\n",
       "      <td>Director of Data Science \\n Worth AI  \\n Worth...</td>\n",
       "      <td>Full-time</td>\n",
       "      <td>Engineering</td>\n",
       "      <td>IT Services and IT Consulting</td>\n",
       "      <td>3 days ago</td>\n",
       "      <td>N/A</td>\n",
       "      <td>4236122660</td>\n",
       "      <td>2025-05-26</td>\n",
       "      <td>https://www.linkedin.com/jobs-guest/jobs/api/j...</td>\n",
       "      <td>https://www.linkedin.com/jobs/view/director-of...</td>\n",
       "    </tr>\n",
       "    <tr>\n",
       "      <th>...</th>\n",
       "      <td>...</td>\n",
       "      <td>...</td>\n",
       "      <td>...</td>\n",
       "      <td>...</td>\n",
       "      <td>...</td>\n",
       "      <td>...</td>\n",
       "      <td>...</td>\n",
       "      <td>...</td>\n",
       "      <td>...</td>\n",
       "      <td>...</td>\n",
       "      <td>...</td>\n",
       "      <td>...</td>\n",
       "      <td>...</td>\n",
       "      <td>...</td>\n",
       "    </tr>\n",
       "    <tr>\n",
       "      <th>66</th>\n",
       "      <td>2da0a2b4-63da-496d-b205-eafa879130b4</td>\n",
       "      <td>GlobalPros</td>\n",
       "      <td>Data Scientist</td>\n",
       "      <td>Not Applicable</td>\n",
       "      <td>Data Scientist \\n GlobalPros \\n Are you a tale...</td>\n",
       "      <td>Full-time</td>\n",
       "      <td>Information Technology and Engineering</td>\n",
       "      <td>Software Development, IT System Custom Softwar...</td>\n",
       "      <td>4 days ago</td>\n",
       "      <td>N/A</td>\n",
       "      <td>4233436271</td>\n",
       "      <td>2025-05-26</td>\n",
       "      <td>https://www.linkedin.com/jobs-guest/jobs/api/j...</td>\n",
       "      <td>https://www.linkedin.com/jobs/view/data-scient...</td>\n",
       "    </tr>\n",
       "    <tr>\n",
       "      <th>67</th>\n",
       "      <td>16136748-84ee-40fc-8a4b-ac86eabbe455</td>\n",
       "      <td>Stripe</td>\n",
       "      <td>Senior GTM Data Scientist</td>\n",
       "      <td>Mid-Senior level</td>\n",
       "      <td>Senior GTM Data Scientist \\n Stripe \\n About S...</td>\n",
       "      <td>Full-time</td>\n",
       "      <td>Engineering and Information Technology</td>\n",
       "      <td>Hospitals and Health Care, Non-profit Organiza...</td>\n",
       "      <td>3 days ago</td>\n",
       "      <td>103 applicants</td>\n",
       "      <td>4236167990</td>\n",
       "      <td>2025-05-26</td>\n",
       "      <td>https://www.linkedin.com/jobs-guest/jobs/api/j...</td>\n",
       "      <td>https://www.linkedin.com/jobs/view/senior-gtm-...</td>\n",
       "    </tr>\n",
       "    <tr>\n",
       "      <th>68</th>\n",
       "      <td>e1c098e8-fcbc-4fed-b3f4-b7d0bca44e1d</td>\n",
       "      <td>PwC</td>\n",
       "      <td>People Tech - System Architect-Data Science Se...</td>\n",
       "      <td>Director</td>\n",
       "      <td>People Tech - System Architect-Data Science Se...</td>\n",
       "      <td>Full-time</td>\n",
       "      <td>Engineering and Information Technology</td>\n",
       "      <td>Hospitals and Health Care, Non-profit Organiza...</td>\n",
       "      <td>3 days ago</td>\n",
       "      <td>N/A</td>\n",
       "      <td>4233954402</td>\n",
       "      <td>2025-05-26</td>\n",
       "      <td>https://www.linkedin.com/jobs-guest/jobs/api/j...</td>\n",
       "      <td>https://www.linkedin.com/jobs/view/people-tech...</td>\n",
       "    </tr>\n",
       "    <tr>\n",
       "      <th>69</th>\n",
       "      <td>1f21b19a-8e81-4c62-8bfc-b326ee6c3504</td>\n",
       "      <td>Render</td>\n",
       "      <td>Data Scientist</td>\n",
       "      <td>Associate</td>\n",
       "      <td>Data Scientist \\n Render \\n At Render, we're d...</td>\n",
       "      <td>Full-time</td>\n",
       "      <td>Engineering, Information Technology, and Analyst</td>\n",
       "      <td>Hospitals and Health Care, Non-profit Organiza...</td>\n",
       "      <td>6 days ago</td>\n",
       "      <td>N/A</td>\n",
       "      <td>4216706661</td>\n",
       "      <td>2025-05-26</td>\n",
       "      <td>https://www.linkedin.com/jobs-guest/jobs/api/j...</td>\n",
       "      <td>https://www.linkedin.com/jobs/view/data-scient...</td>\n",
       "    </tr>\n",
       "    <tr>\n",
       "      <th>70</th>\n",
       "      <td>41bbcd0e-41a7-4c37-9f4f-70d4fb7e0813</td>\n",
       "      <td>Eight Sleep</td>\n",
       "      <td>Data Scientist, Growth</td>\n",
       "      <td>Entry level</td>\n",
       "      <td>Data Scientist, Growth \\n Eight Sleep \\n Eight...</td>\n",
       "      <td>Full-time</td>\n",
       "      <td>Engineering and Information Technology</td>\n",
       "      <td>Hospitals and Health Care, Non-profit Organiza...</td>\n",
       "      <td>5 days ago</td>\n",
       "      <td>172 applicants</td>\n",
       "      <td>4192245195</td>\n",
       "      <td>2025-05-26</td>\n",
       "      <td>https://www.linkedin.com/jobs-guest/jobs/api/j...</td>\n",
       "      <td>https://www.linkedin.com/jobs/view/data-scient...</td>\n",
       "    </tr>\n",
       "  </tbody>\n",
       "</table>\n",
       "<p>71 rows × 14 columns</p>\n",
       "</div>"
      ],
      "text/plain": [
       "                                      id         company  \\\n",
       "0   45b6bc4b-e476-452b-bcf7-38489c7d2bd1  HCA Healthcare   \n",
       "1   5a97b60c-63fe-4d52-ad23-aefc2799a412          Gormat   \n",
       "2   33cde05d-faf4-49f1-969b-20a5272b5d96      Kforce Inc   \n",
       "3   2e43ac13-2fc4-42ad-a7e0-38d67a36db09          Trace3   \n",
       "4   94ae2c5f-c263-4619-9bac-fe288f3e5136       Worth AI    \n",
       "..                                   ...             ...   \n",
       "66  2da0a2b4-63da-496d-b205-eafa879130b4      GlobalPros   \n",
       "67  16136748-84ee-40fc-8a4b-ac86eabbe455          Stripe   \n",
       "68  e1c098e8-fcbc-4fed-b3f4-b7d0bca44e1d             PwC   \n",
       "69  1f21b19a-8e81-4c62-8bfc-b326ee6c3504          Render   \n",
       "70  41bbcd0e-41a7-4c37-9f4f-70d4fb7e0813     Eight Sleep   \n",
       "\n",
       "                                                title             level  \\\n",
       "0                                Data Science Manager  Mid-Senior level   \n",
       "1                                    Data Scientist 3       Entry level   \n",
       "2                                      Data Scientist         Associate   \n",
       "3                               Senior Data Scientist  Mid-Senior level   \n",
       "4                            Director of Data Science  Mid-Senior level   \n",
       "..                                                ...               ...   \n",
       "66                                     Data Scientist    Not Applicable   \n",
       "67                          Senior GTM Data Scientist  Mid-Senior level   \n",
       "68  People Tech - System Architect-Data Science Se...          Director   \n",
       "69                                     Data Scientist         Associate   \n",
       "70                             Data Scientist, Growth       Entry level   \n",
       "\n",
       "                                              content employment_type  \\\n",
       "0   Data Science Manager \\n HCA Healthcare \\n Job ...       Full-time   \n",
       "1   Data Scientist 3 \\n Gormat \\n Job Description:...       Full-time   \n",
       "2   Data Scientist \\n Kforce Inc \\n Responsibiliti...        Contract   \n",
       "3   Senior Data Scientist \\n Trace3 \\n Who is Trac...       Full-time   \n",
       "4   Director of Data Science \\n Worth AI  \\n Worth...       Full-time   \n",
       "..                                                ...             ...   \n",
       "66  Data Scientist \\n GlobalPros \\n Are you a tale...       Full-time   \n",
       "67  Senior GTM Data Scientist \\n Stripe \\n About S...       Full-time   \n",
       "68  People Tech - System Architect-Data Science Se...       Full-time   \n",
       "69  Data Scientist \\n Render \\n At Render, we're d...       Full-time   \n",
       "70  Data Scientist, Growth \\n Eight Sleep \\n Eight...       Full-time   \n",
       "\n",
       "                                        job_function  \\\n",
       "0             Engineering and Information Technology   \n",
       "1             Engineering and Information Technology   \n",
       "2             Engineering and Information Technology   \n",
       "3             Engineering and Information Technology   \n",
       "4                                        Engineering   \n",
       "..                                               ...   \n",
       "66            Information Technology and Engineering   \n",
       "67            Engineering and Information Technology   \n",
       "68            Engineering and Information Technology   \n",
       "69  Engineering, Information Technology, and Analyst   \n",
       "70            Engineering and Information Technology   \n",
       "\n",
       "                                           industries posted_time  \\\n",
       "0                   Technology, Information and Media  3 days ago   \n",
       "1   Hospitals and Health Care, Non-profit Organiza...   1 day ago   \n",
       "2   Hospitals and Health Care, Non-profit Organiza...  4 days ago   \n",
       "3   Hospitals and Health Care, Non-profit Organiza...   1 day ago   \n",
       "4                       IT Services and IT Consulting  3 days ago   \n",
       "..                                                ...         ...   \n",
       "66  Software Development, IT System Custom Softwar...  4 days ago   \n",
       "67  Hospitals and Health Care, Non-profit Organiza...  3 days ago   \n",
       "68  Hospitals and Health Care, Non-profit Organiza...  3 days ago   \n",
       "69  Hospitals and Health Care, Non-profit Organiza...  6 days ago   \n",
       "70  Hospitals and Health Care, Non-profit Organiza...  5 days ago   \n",
       "\n",
       "        applicants      job_id        date  \\\n",
       "0              N/A  4222341754  2025-05-26   \n",
       "1    42 applicants  4237502589  2025-05-26   \n",
       "2              N/A  4233430613  2025-05-26   \n",
       "3    37 applicants  4207115907  2025-05-26   \n",
       "4              N/A  4236122660  2025-05-26   \n",
       "..             ...         ...         ...   \n",
       "66             N/A  4233436271  2025-05-26   \n",
       "67  103 applicants  4236167990  2025-05-26   \n",
       "68             N/A  4233954402  2025-05-26   \n",
       "69             N/A  4216706661  2025-05-26   \n",
       "70  172 applicants  4192245195  2025-05-26   \n",
       "\n",
       "                                         parsing_link  \\\n",
       "0   https://www.linkedin.com/jobs-guest/jobs/api/j...   \n",
       "1   https://www.linkedin.com/jobs-guest/jobs/api/j...   \n",
       "2   https://www.linkedin.com/jobs-guest/jobs/api/j...   \n",
       "3   https://www.linkedin.com/jobs-guest/jobs/api/j...   \n",
       "4   https://www.linkedin.com/jobs-guest/jobs/api/j...   \n",
       "..                                                ...   \n",
       "66  https://www.linkedin.com/jobs-guest/jobs/api/j...   \n",
       "67  https://www.linkedin.com/jobs-guest/jobs/api/j...   \n",
       "68  https://www.linkedin.com/jobs-guest/jobs/api/j...   \n",
       "69  https://www.linkedin.com/jobs-guest/jobs/api/j...   \n",
       "70  https://www.linkedin.com/jobs-guest/jobs/api/j...   \n",
       "\n",
       "                                     job_posting_link  \n",
       "0   https://www.linkedin.com/jobs/view/data-scienc...  \n",
       "1   https://www.linkedin.com/jobs/view/data-scient...  \n",
       "2   https://www.linkedin.com/jobs/view/data-scient...  \n",
       "3   https://www.linkedin.com/jobs/view/senior-data...  \n",
       "4   https://www.linkedin.com/jobs/view/director-of...  \n",
       "..                                                ...  \n",
       "66  https://www.linkedin.com/jobs/view/data-scient...  \n",
       "67  https://www.linkedin.com/jobs/view/senior-gtm-...  \n",
       "68  https://www.linkedin.com/jobs/view/people-tech...  \n",
       "69  https://www.linkedin.com/jobs/view/data-scient...  \n",
       "70  https://www.linkedin.com/jobs/view/data-scient...  \n",
       "\n",
       "[71 rows x 14 columns]"
      ]
     },
     "execution_count": 17,
     "metadata": {},
     "output_type": "execute_result"
    }
   ],
   "source": [
    "load_list_to_dataframe(relevent_documents[\"documents\"])"
   ]
  },
  {
   "cell_type": "code",
   "execution_count": 18,
   "id": "b3f21a53",
   "metadata": {},
   "outputs": [
    {
     "name": "stdout",
     "output_type": "stream",
     "text": [
      "DataFrame created with 71 rows and 14 columns\n"
     ]
    }
   ],
   "source": [
    "load_list_to_dataframe(relevent_documents[\"documents\"]).to_csv(\"relevant_jobs.csv\", index=False)"
   ]
  },
  {
   "cell_type": "markdown",
   "id": "52c9b6f0",
   "metadata": {},
   "source": [
    "## From Ollama\n",
    "---RETRIEVE---\n",
    "Loaded FAISS index with 180 documents.\n",
    "Retrieved 180 documents from vectorstore.\n",
    "---CHECK DOCUMENT RELEVANCE TO QUESTION---\n",
    "  1%|          | 1/180 [00:01<05:56,  1.99s/it]\n",
    "Titel: Data Science Manager @ HCA Healthcare\n",
    "---GRADE: DOCUMENT RELEVANT---\n",
    "Justification: The job title matches the candidate's skills and experience. The role aligns with the user's stated preferences for onsite jobs in San Antonio, TX, or fully remote within the United States. Additionally, the maximum base salary exceeds $170,000.\n",
    "  1%|          | 2/180 [00:03<05:25,  1.83s/it]\n",
    "Titel: Data Scientist @ STG Logistics - Tropicana/Naked Juice Div.\n",
    "---GRADE: DOCUMENT RELEVANT---\n",
    "Justification: The job title includes 'Data Scientist' and meets other specified criteria such as being full-time and located within the US. The role also aligns with the candidate's expertise in machine learning, deep learning, and data visualization.\n",
    "  2%|▏         | 3/180 [00:04<04:13,  1.43s/it]\n",
    "Titel: Data Scientist @ STG Logistics - Tropicana/Naked Juice Div.\n",
    "---GRADE: DOCUMENT RELEVANT---\n",
    "Justification: The Data Scientist role at STG Logistics matches the candidate's skills, experience, and education. The job title includes 'Data Scientist,' and the location is either onsite in San Antonio, TX, or fully remote within the United States.\n",
    "  2%|▏         | 4/180 [00:06<04:49,  1.65s/it]\n",
    "Titel: Data Scientist 3 @ Gormat\n",
    "---GRADE: DOCUMENT RELEVANT---\n",
    "Justification: The job title Data Scientist 3 matches the candidate's skills and experience as listed in their resume. Additionally, the job posting aligns with user guidance on location (onsite in San Antonio, TX), full-time status, and a maximum base salary greater than $170,000.\n",
    "  3%|▎         | 5/180 [00:08<04:54,  1.68s/it]\n",
    "Titel: Data Scientist @ STG Logistics - Tropicana/Naked Juice Div.\n",
    "---GRADE: DOCUMENT RELEVANT---\n",
    "Justification: The job title Part-Time Data Scientist matches the candidate's skills and experience listed in their resume. The location is remote (U.S.-based preferred) within the United States, and the salary is competitive, meeting the user's guidance.\n",
    "  3%|▎         | 6/180 [00:09<04:07,  1.42s/it]\n",
    "Titel: Data Scientist @ STG Logistics - Tropicana/Naked Juice Div.\n",
    "---GRADE: DOCUMENT RELEVANT---\n",
    "Justification: The job title includes 'Data Scientist' and meets the location, salary, and full-time requirements. Additionally, the role involves developing predictive models, data visualization, and machine learning algorithms, which are relevant skills mentioned in the candidate's resume.\n",
    "  4%|▍         | 7/180 [00:10<03:48,  1.32s/it]\n",
    "Titel: Data Scientist @ STG Logistics - Tropicana/Naked Juice Div.\n",
    "---GRADE: DOCUMENT RELEVANT---\n",
    "Justification: The job title includes 'Data Scientist', the location is either onsite in San Antonio, TX or fully remote within the US, and the maximum base salary is greater than $170,000. Additionally, the job description mentions generative AI and large language model (LLM) development.\n",
    "  4%|▍         | 8/180 [00:12<04:36,  1.61s/it]\n",
    "Titel: Data Scientist @ Kforce Inc\n",
    "---GRADE: DOCUMENT RELEVANT---\n",
    "Justification: The job posting for Data Scientist at Kforce Inc matches the candidate's skills and experience as listed in their resume, specifically in machine learning, deep learning, and data architecture. The job also aligns with the user's preferences, being full-time and remote within the United States. Additionally, the job has a maximum base salary of $170,000, meeting the user's minimum salary requirement.\n",
    "  5%|▌         | 9/180 [00:14<04:50,  1.70s/it]\n",
    "Titel: Data Scientist @ STG Logistics - Tropicana/Naked Juice Div.\n",
    "---GRADE: DOCUMENT RELEVANT---\n",
    "Justification: The document matches the candidate's skills and experience as listed in the resume, specifically in machine learning, deep learning, and data science. The job title 'Part-Time Data Scientist' aligns with the user's guidance, and the location is fully remote within the United States.\n",
    "  6%|▌         | 10/180 [00:16<04:55,  1.74s/it]\n",
    "Titel: Senior Fraud Data Scientist @ Sherpa | Recruiting, Staffing & Consulting\n",
    "---GRADE: DOCUMENT RELEVANT---\n",
    "Justification: The job title includes 'Senior Fraud Data Scientist' which matches the candidate's expertise in machine learning and data analysis. The role requires skills such as fraud detection, pattern analysis, and cross-team collaboration, aligning with the candidate's experience in leading projects and collaborating with teams.\n",
    "  6%|▌         | 11/180 [00:18<04:53,  1.73s/it]\n",
    "Titel: Data Science Manager/Director @ Pivotal Solutions\n",
    "---GRADE: DOCUMENT RELEVANT---\n",
    "Justification: The job title includes 'Data Scientist' and meets the location, salary, and employment type criteria. Additionally, the company mentions generative AI and large language models in their description of the ideal candidate's skills and responsibilities.\n",
    "  7%|▋         | 12/180 [00:20<05:12,  1.86s/it]\n",
    "Titel: Data Scientist @ STG Logistics - Tropicana/Naked Juice Div.\n",
    "---GRADE: DOCUMENT RELEVANT---\n",
    "Justification: The job title 'Part-Time Data Scientist' matches the candidate's skills and experience. The location is remote (U.S.-based preferred), meeting the user's preference for remote work in San Antonio, TX. Additionally, the job aligns with the user's interest in generative AI and large language model development as it mentions 'transformer-based architectures'.\n",
    "  7%|▋         | 13/180 [00:22<05:25,  1.95s/it]\n",
    "Titel: Senior Data Scientist @ Trace3\n",
    "---GRADE: DOCUMENT RELEVANT---\n",
    "Justification: The job title Senior Data Scientist matches the candidate's skills and experience. The position is onsite in San Antonio, TX or fully remote within the United States, meets the full-time requirement, and has a base salary greater than $170,000.\n",
    "  8%|▊         | 14/180 [00:24<05:16,  1.91s/it]\n",
    "Titel: Director of Data Science @ Worth AI \n",
    "---GRADE: DOCUMENT RELEVANT---\n",
    "Justification: The job title 'Director of Data Science' matches the candidate's skills and experience as listed in their resume. The job is onsite in San Antonio, TX, or fully remote within the US, and has a base salary greater than $170,000.\n",
    "  8%|▊         | 15/180 [00:25<04:37,  1.68s/it]\n",
    "Titel: Director of Data Science @ Worth AI \n",
    "---GRADE: DOCUMENT RELEVANT---\n",
    "Justification: The Director of Data Science position at Worth AI aligns with the candidate's skills and experience, as they have expertise in machine learning, statistical analysis, and leadership. The job also meets the user guidance criteria, including being onsite in San Antonio, TX, full-time, and having a base salary greater than $170,000.\n",
    "  9%|▉         | 16/180 [00:27<04:52,  1.78s/it]\n",
    "Titel: Data Scientist @ STG Logistics - Tropicana/Naked Juice Div.\n",
    "---GRADE: DOCUMENT RELEVANT---\n",
    "Justification: The role aligns with the candidate's skills and experience as a seasoned Data Scientist. Additionally, the company specializes in logistics and supply chain, which is outside the candidate's expertise mentioned on their resume. However, the job description mentions Generative AI and Large Language Models, making it relevant to the user's interest.\n",
    "  9%|▉         | 17/180 [00:29<05:00,  1.84s/it]\n",
    "Titel: Senior Data Scientist @ Jobs via Dice\n",
    "---GRADE: DOCUMENT RELEVANT---\n",
    "Justification: The job title Senior Data Scientist matches the candidate's skills and experience listed in their resume. Additionally, the job is full-time, onsite in San Antonio, TX, with a maximum base salary of $170,000, meeting all the user-guided criteria for relevance.\n",
    " 10%|█         | 18/180 [00:31<05:01,  1.86s/it]\n",
    "Titel: Sr Data Scientist - ML Engineering @ H-E-B\n",
    "---GRADE: DOCUMENT RELEVANT---\n",
    "Justification: The job title includes 'Data Scientist', meets the salary requirement ($170,000), and is located in San Antonio, TX or fully remote within the US. Additionally, the job description highlights skills related to Generative AI and LLM development.\n",
    " 11%|█         | 19/180 [00:33<05:12,  1.94s/it]\n",
    "Titel: Data Scientist - eCommerce @ H-E-B\n",
    "---GRADE: DOCUMENT RELEVANT---\n",
    "Justification: The Data Scientist - eCommerce role at H-E-B aligns with the candidate's skills and experience as listed in their resume, particularly in machine learning and deep learning, generative AI, and large language models. The job is also located in San Antonio, TX, and has a base salary over $170,000.\n",
    " 11%|█         | 20/180 [00:35<05:28,  2.05s/it]\n",
    "Titel: Director of Data Science @ Worth AI \n",
    "---GRADE: DOCUMENT RELEVANT---\n",
    "Justification: The Director of Data Science role at Worth AI matches the candidate's skills and experience as listed in their resume, particularly in machine learning, statistical analysis, and leadership. Additionally, the job title aligns with the user's preference for jobs including 'data scientist' and is located in San Antonio, TX or fully remote within the US. The base salary exceeds $170,000, meeting another of the user's criteria.\n",
    " 12%|█▏        | 21/180 [00:37<05:36,  2.12s/it]\n",
    "Titel: Senior Data Analyst, Quality - Remote @ Optum\n",
    "---GRADE: DOCUMENT NOT RELEVANT---\n",
    "Justification: The Senior Data Analyst role at Optum does not include 'data scientist' in its title and does not match the candidate's expertise in generative AI and large language models as listed on their resume.\n",
    " 12%|█▏        | 22/180 [00:40<05:46,  2.19s/it]\n",
    "Titel: Data Scientist - Remote @ Lensa\n",
    "---GRADE: DOCUMENT RELEVANT---\n",
    "Justification: The job title 'Data Scientist' matches the candidate's skills and experience. The job is located in San Antonio, TX, or fully remote within the US, meeting the location criteria. The salary range starts at $110K, exceeding the threshold of $170K. Additionally, the job description mentions generative AI and large language models, aligning with the candidate's expertise.\n",
    " 13%|█▎        | 23/180 [00:42<05:30,  2.11s/it]\n",
    "Titel: Director, Data Science @ Harnham\n",
    "---GRADE: DOCUMENT RELEVANT---\n",
    "Justification: The candidate's skills and experience match the Director, Data Science role. The role includes responsibilities that align with the candidate's expertise in machine learning, deep learning, and generative AI. Additionally, the remote work arrangement meets the user guidance criteria.\n",
    " 13%|█▎        | 24/180 [00:43<05:10,  1.99s/it]\n",
    "Titel: Data Scientist @ STG Logistics - Tropicana/Naked Juice Div.\n",
    "---GRADE: DOCUMENT RELEVANT---\n",
    "Justification: The job title includes Data Scientist and aligns with the user's preferences for remote work within the United States. The location is San Antonio, TX, which meets the on-site or fully remote requirement.\n",
    " 14%|█▍        | 25/180 [00:45<05:05,  1.97s/it]\n",
    "Titel: Director of Data Science @ Alldus\n",
    "---GRADE: DOCUMENT RELEVANT---\n",
    "Justification: The Director of Data Science role at Alldus aligns with the candidate's skills, experience, and education, particularly in machine learning and large language models. Additionally, the job is full-time, onsite in San Antonio, TX, and has a base salary above $170,000, meeting all the user-guided criteria.\n",
    " 14%|█▍        | 26/180 [00:48<05:25,  2.12s/it]\n",
    "Titel: Data Scientist @ STG Logistics - Tropicana/Naked Juice Div.\n",
    "---GRADE: DOCUMENT RELEVANT---\n",
    "Justification: The job title 'Part-Time Data Scientist' includes 'data scientist', meets the location and work arrangement requirements (remote in U.S. with preference for San Antonio), is a full-time position, and has a base salary above $170,000. Additionally, while generative AI and LLM are not highlighted in the candidate's resume, they are mentioned as part of the job description, which suggests potential relevance to their skills.\n",
    " 15%|█▌        | 27/180 [00:50<05:35,  2.19s/it]\n",
    "Titel: Data Scientist Principal – Bank AI/ML @ USAA\n",
    "---GRADE: DOCUMENT RELEVANT---\n",
    "Justification: The job title 'Data Scientist Principal' meets the required criteria as it includes 'data scientist'. The base salary is greater than $170,000. Additionally, the job location can be onsite in San Antonio, TX or fully remote within the United States.\n",
    " 16%|█▌        | 28/180 [00:52<05:23,  2.13s/it]\n",
    "Titel: Data Scientist IRC264561 @ GlobalLogic\n",
    "---GRADE: DOCUMENT RELEVANT---\n",
    "Justification: The job posting includes 'Data Scientist' in its title and aligns with the candidate's skills and experience. The role is full-time and located either onsite or fully remote within the United States, meeting the salary threshold of $170,000.\n",
    " 16%|█▌        | 29/180 [00:55<05:36,  2.23s/it]\n",
    "Titel: Director of Data Science @ Worth AI \n",
    "---GRADE: DOCUMENT RELEVANT---\n",
    "Justification: The Director of Data Science role at Worth AI meets all the specified criteria, including being a managerial/director level position, which is excluded from consideration. The job location is San Antonio, TX or fully remote within the US, and it is a full-time position with a base salary above $170,000. Additionally, the job description mentions generative AI and large language model development, aligning with the candidate's expertise in these areas.\n",
    " 17%|█▋        | 30/180 [00:57<05:23,  2.16s/it]\n",
    "Titel: Director Data Science @ Harnham\n",
    "---GRADE: DOCUMENT RELEVANT---\n",
    "Justification: The Director Data Science position at Harnham matches the candidate's skills and experience as listed in their resume, with expertise in machine learning, deep learning, and data science. The job also aligns with user guidance, being a full-time remote position within the United States with a salary above $170,000.\n",
    " 17%|█▋        | 31/180 [00:59<05:29,  2.21s/it]\n",
    "Titel: Principal Data Scientist - Generative AI, Machine Learning, Python, R - Remote @ Lensa\n",
    "---GRADE: DOCUMENT RELEVANT---\n",
    "Justification: The candidate's experience and skills listed on their resume align with the requirements for this data scientist role. Additionally, they have mentioned expertise in Generative AI, large language models (LLMs), and deep learning frameworks like TensorFlow, Keras, and PyTorch, which are relevant to this position.\n",
    " 18%|█▊        | 32/180 [01:01<05:40,  2.30s/it]\n",
    "Titel: Data Scientist (L4) - Product @ Netflix\n",
    "---GRADE: DOCUMENT RELEVANT---\n",
    "Justification: The job title includes 'Data Scientist', and the maximum base salary listed for the role is $750,000, which meets the specified criteria. Additionally, although the resume does not explicitly mention generative AI or LLM development, it highlights expertise in large language models (LLMs) through the candidate's work on Retrieval-Augmented Generation (RAG), fine-tuning OpenAI/Anthropic models, and conversational AI.\n",
    " 18%|█▊        | 33/180 [01:04<05:25,  2.22s/it]\n",
    "Titel: Data Scientist @ Dataminr\n",
    "---GRADE: DOCUMENT RELEVANT---\n",
    "Justification: The job title matches 'Data Scientist' and is on-site in San Antonio, TX. The maximum base salary listed for this position is $140,000, which meets the criteria.\n",
    " 19%|█▉        | 34/180 [01:06<05:53,  2.42s/it]\n",
    "Titel: Director, Data Scientist & Data Operations @ Eisai US\n",
    "---GRADE: DOCUMENT RELEVANT---\n",
    "Justification: The document matches the candidate’s skills and experience as listed in the resume. The job title 'Director - Data Scientist/Programmer' includes 'data scientist', and the salary range (₧20,800-₣258,300) exceeds ₧170,000. Additionally, the job description mentions generative AI and large language models (LLMs), which are relevant to the candidate’s skills in these areas.\n",
    " 19%|█▉        | 35/180 [01:08<05:11,  2.15s/it]\n",
    "Titel: Director, Data Scientist & Data Operations @ Eisai US\n",
    "---GRADE: DOCUMENT RELEVANT---\n",
    "Justification: The job title 'Director - Data Scientist/Programmer' matches the candidate's skills and experience, specifically in machine learning, deep learning, generative AI, and large language models. The location of San Antonio, TX, or full-time remote within the US also aligns with the user's preference. Additionally, the base salary range exceeds $170,000, meeting the other criteria.\n",
    " 20%|██        | 36/180 [01:09<04:39,  1.94s/it]\n",
    "Titel: Senior Data Scientist @ TieTalent\n",
    "---GRADE: DOCUMENT RELEVANT---\n",
    "Justification: The job title includes \n",
    " 21%|██        | 37/180 [01:12<04:57,  2.08s/it]\n",
    "Titel: Staff Data Scientist, Machine Learning @ Valo Health\n",
    "---GRADE: DOCUMENT RELEVANT---\n",
    "Justification: The Staff Data Scientist, Machine Learning role at Valo Health matches the candidate's skills and experience as listed in their resume, particularly their background in machine learning, deep learning, and generative AI. The job also aligns with the user's preferences for working remotely in San Antonio, TX, or fully remote within the US, and has a salary above $170,000.\n",
    " 21%|██        | 38/180 [01:15<05:23,  2.28s/it]\n",
    "Titel: Machine Learning Scientist (L5) - Content & Studio @ Netflix\n",
    "---GRADE: DOCUMENT RELEVANT---\n",
    "Justification: The candidate's Ph.D. in Mechanical and Manufacturing Systems Engineering and experience in machine learning, deep learning, and generative AI align with the requirements of the Machine Learning Scientist (L5) - Content & Studio job at Netflix. Additionally, the job offers a competitive salary range ($150,000-$750,000), which meets the user's preference for an annual salary. The job is also onsite in San Antonio, TX, or fully remote within the United States, and is full-time, meeting all the specified criteria.\n",
    " 22%|██▏       | 39/180 [01:17<05:30,  2.35s/it]\n",
    "Titel: Data Scientist @ knownwell\n",
    "---GRADE: DOCUMENT RELEVANT---\n",
    "Justification: The candidate has expertise in generative AI and large language models, as evident from their experience with LLM fine-tuning and application of techniques like Retrieval-Augmented Generation (RAG). The job description highlights a need for a Data Scientist who can support the company's efforts in building predictive models using Python or R. Although there is no direct mention of generative AI, the candidate's background suggests they could be a strong fit for this role.\n",
    " 22%|██▏       | 40/180 [01:19<05:14,  2.24s/it]\n",
    "Titel: Data Scientist, Customer Analytics (Remote) @ Lensa\n",
    "---GRADE: DOCUMENT RELEVANT---\n",
    "Justification: The candidate has experience with machine learning and deep learning, as well as generative AI and large language models. Additionally, they have skills in data architecture and engineering, which aligns with the Data Scientist role at Experian.\n",
    " 23%|██▎       | 41/180 [01:21<04:55,  2.13s/it]\n",
    "Titel: Data Scientist  NLP/ML @ Jobs via Dice\n",
    "---GRADE: DOCUMENT RELEVANT---\n",
    "Justification: The job title includes 'Data Scientist NLP/ML', aligns with the candidate's skills and experience in Generative AI and large language models, meets the geographical location criteria (San Antonio, TX), is a full-time position, and has a base salary above $170,000.\n",
    " 23%|██▎       | 42/180 [01:23<04:51,  2.11s/it]\n",
    "Titel: Senior Data/Cost Analyst @ Systems Planning & Analysis\n",
    "---GRADE: DOCUMENT NOT RELEVANT---\n",
    "Justification: The job posting does not include 'data scientist' as part of the title, but rather lists roles such as Operations Research Analyst and Cost Estimator. Although these roles may involve data analysis, they do not align with the candidate's expertise in data science, generative AI, or large language models.\n",
    " 24%|██▍       | 43/180 [01:25<04:39,  2.04s/it]\n",
    "Titel: Senior Data Analyst @ Centene Corporation\n",
    "---GRADE: DOCUMENT NOT RELEVANT---\n",
    "Justification: The provided job description doesn't mention 'data scientist' or any related role. Although some skills like Generative AI and Large Language Models are mentioned in the resume, there is no clear connection to this job.\n",
    " 24%|██▍       | 44/180 [01:27<04:37,  2.04s/it]\n",
    "Titel: Remote Data Scientist @ Lensa\n",
    "---GRADE: DOCUMENT RELEVANT---\n",
    "Justification: The job title includes 'Data Scientist' and matches the candidate's skills in machine learning, deep learning, and large language models. The job is remote within the United States, with a maximum base salary of $170,000+, which meets the user's criteria.\n",
    " 25%|██▌       | 45/180 [01:29<04:44,  2.11s/it]\n",
    "Titel: Data Scientist -  AV Safety @ Jobs via Dice\n",
    "---GRADE: DOCUMENT RELEVANT---\n",
    "Justification: The candidate's skills and experience match the requirements for Data Scientist - AV Safety, with expertise in statistical modeling, machine learning, and data development. Additionally, the role is remote or onsite in San Antonio, TX, which aligns with the user's preference.\n",
    " 26%|██▌       | 46/180 [01:31<04:43,  2.11s/it]\n",
    "Titel: Senior Data Scientist @ Medical Solutions\n",
    "---GRADE: DOCUMENT RELEVANT---\n",
    "Justification: The job title includes 'Senior Data Scientist' and meets other criteria such as being onsite or fully remote within the US, full-time, and having a base salary greater than $170,000. Additionally, while generative AI and LLM are not major focuses in the candidate's resume, they are mentioned as areas of proficiency.\n",
    " 26%|██▌       | 47/180 [01:33<04:27,  2.01s/it]\n",
    "Titel: Data Scientist II -  Quantitative Medicine and Genomics @ Orion Group\n",
    "---GRADE: DOCUMENT RELEVANT---\n",
    "Justification: The job title Data Scientist II - Quantitative Medicine and Genomics includes 'data scientist' as required by the user's guidance. Additionally, the remote hourly rate of $57-60/hr is above the maximum threshold of $170,000.\n",
    " 27%|██▋       | 48/180 [01:36<04:48,  2.19s/it]\n",
    "Titel: Sr. Machine Learning Researcher @ AKASA\n",
    "---GRADE: DOCUMENT RELEVANT---\n",
    "Justification: The document matches the candidate’s skills and experience as listed in the resume, particularly in Generative AI, large language models, and machine learning. The job title includes 'Senior Machine Learning Researcher', which is close but not exactly 'Data Scientist'. However, given the overlap of responsibilities and the explicit interest in generative AI, the document is considered relevant.\n",
    " 27%|██▋       | 49/180 [01:38<04:41,  2.15s/it]\n",
    "Titel: Senior Data Scientist - Remote Nationwide @ Optum\n",
    "---GRADE: DOCUMENT RELEVANT---\n",
    "Justification: The job title 'Senior Data Scientist' matches the candidate's skills and experience as listed in their resume. Additionally, the job offers flexibility to telecommute from anywhere within the U.S., meeting the user's preference for remote work.\n",
    " 28%|██▊       | 50/180 [01:40<04:34,  2.11s/it]\n",
    "Titel: Operations Research Analyst / Data Scientist (Remote) @ Lensa\n",
    "---GRADE: DOCUMENT RELEVANT---\n",
    "Justification: The job title Operations Research Analyst / Data Scientist matches the candidate's skills and experience. The job is full-time, remote within the US, and has a maximum base salary of $100,000, meeting all of the user guidance criteria.\n",
    " 28%|██▊       | 51/180 [01:42<04:32,  2.11s/it]\n",
    "Titel: Senior Clinical Bioinformatics Data Scientist @ Labcorp\n",
    "---GRADE: DOCUMENT RELEVANT---\n",
    "Justification: The job title matches the required skillset, as it requires a Senior Clinical Bioinformatics Data Scientist. The position is also fully remote within the United States and has a base salary of $150,000 - $200,000, meeting the user's preferences.\n",
    " 29%|██▉       | 52/180 [01:45<04:53,  2.30s/it]\n",
    "Titel: People Tech - System Architect-Data Science Senior Manager @ PwC\n",
    "---GRADE: DOCUMENT RELEVANT---\n",
    "Justification: The document matches the candidate's skills and experience as listed in the resume, particularly in machine learning, deep learning, and data architecture. Additionally, the job description aligns with the user's stated preferences for a full-time, onsite role in San Antonio, TX, with a base salary greater than $170,000. The opportunity to work on generative AI and LLM development is also relevant to the candidate's skills and experience.\n",
    " 29%|██▉       | 53/180 [01:47<04:51,  2.29s/it]\n",
    "Titel: Senior Data Analyst @ Worth AI \n",
    "---GRADE: DOCUMENT RELEVANT---\n",
    "Justification: The document matches the candidate's skills and experience as listed in the resume. The Senior Data Analyst role at Worth AI aligns with the candidate's expertise in data science, machine learning, and programming languages like Python, R, SQL, and Scala. Additionally, the job description mentions generative AI and large language models, which are relevant to the candidate's skills.\n",
    " 30%|███       | 54/180 [01:49<04:57,  2.36s/it]\n",
    "Titel: Data Scientist, Marketing @ Wealthfront\n",
    "---GRADE: DOCUMENT RELEVANT---\n",
    "Justification: The Data Scientist role at Wealthfront matches the candidate's skills and experience as listed in their resume, particularly in generative AI, time-series forecasting, and large language models. The job title meets all of the specified criteria: it includes 'Data Scientist', is onsite in San Antonio, TX, has a base salary greater than $170,000, and is full-time.\n",
    " 31%|███       | 55/180 [01:52<05:07,  2.46s/it]\n",
    "Titel: Data Scientist – AV Safety @ General Motors\n",
    "---GRADE: DOCUMENT RELEVANT---\n",
    "Justification: The Data Scientist – AV Safety role aligns with the candidate's skills and experience as listed in the resume, particularly in machine learning, data analysis, and statistical modeling. Additionally, the job offers a competitive base compensation of $101,500-$162,100 USD annually, exceeding the minimum salary requirement. The remote work option within the United States also meets one of the user's specified criteria.\n",
    " 31%|███       | 56/180 [01:54<04:57,  2.40s/it]\n",
    "Titel: Senior Data Analyst @ Bee Talent Solutions\n",
    "---GRADE: DOCUMENT NOT RELEVANT---\n",
    "Justification: The Senior Data Analyst role at Bee Talent Solutions does not match the candidate's skills and experience as listed in their resume. The job requires 5+ years of experience in data management, data engineering, or similar backgrounds, but the candidate has a Ph.D. in Mechanical and Manufacturing Systems Engineering with expertise in Generative AI, machine learning, and deep learning.\n",
    " 32%|███▏      | 57/180 [01:57<04:52,  2.38s/it]\n",
    "Titel: Data Scientist @ Curate Partners\n",
    "---GRADE: DOCUMENT RELEVANT---\n",
    "Justification: The job title includes 'Data Scientist' and aligns with the candidate's skills and experience, as well as meeting the user's specified preferences (on-site in San Antonio, TX, full-time, and a base salary above $170,000). Although generative AI is not a major focus area for this specific role, it does mention Proficiency in Generative AI and Large Language Models (LLMs) in the candidate's resume.\n",
    " 32%|███▏      | 58/180 [01:59<04:33,  2.24s/it]\n",
    "Titel: Data Scientist (Marketing Science+Causal) @ Tredence Inc.\n",
    "---GRADE: DOCUMENT RELEVANT---\n",
    "Justification: The job posting matches the candidate's skills and experience as listed in their resume, particularly in data science, machine learning, and programming languages. Additionally, the job is onsite in San Antonio, TX, and has a maximum base salary of $170,000+, making it relevant to the user's guidance.\n",
    " 33%|███▎      | 59/180 [02:01<04:49,  2.39s/it]\n",
    "Titel: Manager, Data Science @ Mozilla\n",
    "---GRADE: DOCUMENT RELEVANT---\n",
    "Justification: The document matches the candidate's skills and experience as listed in the resume. The role is for a Data Scientist with expertise in machine learning, deep learning, and generative AI. The company is located in San Antonio, TX, which aligns with the candidate's location preference. Additionally, the job involves working on monetization strategy that aligns with core values of protecting user privacy, delivering meaningful value to users, and ensuring long-term financial health of the organization.\n",
    " 33%|███▎      | 60/180 [02:04<05:03,  2.53s/it]\n",
    "Titel: Senior Data Scientist @ TieTalent\n",
    "---GRADE: DOCUMENT RELEVANT---\n",
    "Justification: The candidate's skills and experience align with the job description for Senior Data Scientist at Newfront. The role involves leading the development of a comprehensive metrics tree to track business performance, conducting deep-dive analyses for executive leadership, and developing data visualization dashboards that provide actionable insights. The candidate's expertise in machine learning, data analysis, and visualization, as well as their experience with Python, R, SQL, and Scala, are all relevant to the job requirements.\n",
    " 34%|███▍      | 61/180 [02:06<04:54,  2.47s/it]\n",
    "Titel: Manager, Data Science and Analytics (Remote) @ American Medical Association\n",
    "---GRADE: DOCUMENT RELEVANT---\n",
    "Justification: The job title 'Manager, Data Science and Analytics' meets the required criteria as it includes 'data scientist'. Additionally, the position is full-time, onsite in Chicago, IL (within the US), with a base salary of $138,715, which exceeds the specified threshold. While generative AI and LLM development are mentioned, they are not the primary focus of this job.\n",
    " 34%|███▍      | 62/180 [02:09<04:47,  2.44s/it]\n",
    "Titel: Data Scientist @ Insight Global\n",
    "---GRADE: DOCUMENT RELEVANT---\n",
    "Justification: The job title includes 'Data Scientist' and meets other specified requirements such as being onsite in San Antonio, TX or fully remote within the US, full-time position with a base salary over $170,000. Additionally, it involves generative AI and LLM development through its mention of scalable data solutions, dashboards, self-service analytics tools, and collaboration with cross-functional teams including engineering, finance, and operations for delivering insights.\n",
    " 35%|███▌      | 63/180 [02:11<04:22,  2.24s/it]\n",
    "Titel: Machine Learning Researcher @ Skills Alliance\n",
    "---GRADE: DOCUMENT RELEVANT---\n",
    "Justification: The job title includes Data Scientist and matches the candidate's expertise in machine learning techniques, with a strong focus on generative models. Additionally, the company is actively seeking a Machine Learning Scientist, which is closely related to the candidate's skills.\n",
    " 36%|███▌      | 64/180 [02:12<03:55,  2.03s/it]\n",
    "Titel: Data Scientist - Fully Remote @ Acceler8 Talent\n",
    "---GRADE: DOCUMENT RELEVANT---\n",
    "Justification: The job title 'Data Scientist' matches the candidate's skills and experience. Additionally, the job is fully remote within the United States, which aligns with the user's preference for remote work.\n",
    " 36%|███▌      | 65/180 [02:14<03:57,  2.07s/it]\n",
    "Titel: Senior Healthcare Data Analyst @ Interwell Health\n",
    "---GRADE: DOCUMENT RELEVANT---\n",
    "Justification: The job title matches the candidate's professional experience and skills. The job is located in San Antonio, TX, which aligns with the candidate's education and work history. Additionally, the job involves generative AI and LLM development, despite not being a major focus in the resume.\n",
    " 37%|███▋      | 66/180 [02:17<04:04,  2.15s/it]\n",
    "Titel: People Tech - System Architect-Data Science Senior Manager @ PwC\n",
    "---GRADE: DOCUMENT RELEVANT---\n",
    "Justification: The job title 'System Architect-Data Science Senior Manager' includes the keyword 'data scientist', meets the salary requirement ($170,000), and is a full-time position. The location is not specified in the resume, but PwC's headquarters are located in San Antonio, TX.\n",
    " 37%|███▋      | 67/180 [02:18<03:51,  2.05s/it]\n",
    "Titel: Data Scientist @ Brooksource\n",
    "---GRADE: DOCUMENT RELEVANT---\n",
    "Justification: The job title includes 'Senior Data Scientist' and aligns with the user's preferences for location (San Antonio, TX), remote possibility (fully remote within the US), salary ($170,000+), and skills (Generative AI, LLM development).\n",
    " 38%|███▊      | 68/180 [02:21<03:56,  2.11s/it]\n",
    "Titel: Data Science Manager @ Stride, Inc.\n",
    "---GRADE: DOCUMENT RELEVANT---\n",
    "Justification: The job title includes 'Data Scientist', and the position is full-time with a maximum base salary greater than $170,000. The company is based in San Antonio, TX, which aligns with the candidate's location preference.\n",
    " 38%|███▊      | 69/180 [02:23<03:57,  2.14s/it]\n",
    "Titel: Lead Data Scientist - MMM @ Burtch Works\n",
    "---GRADE: DOCUMENT RELEVANT---\n",
    "Justification: The Lead Data Scientist role aligns with the candidate's skills and experience as listed in their resume. The position requires expertise in machine learning techniques, statistical analysis, and data visualization, which match the candidate's technical skills. Additionally, the job involves leading teams, collaborating with stakeholders, and driving strategic insights, which match the candidate's professional competencies.\n",
    " 39%|███▉      | 70/180 [02:25<04:00,  2.19s/it]\n",
    "Titel: Senior Staff Data Scientist @ Mozilla\n",
    "---GRADE: DOCUMENT RELEVANT---\n",
    "Justification: The document matches the candidate’s skills, experience, and education as listed in the resume, particularly in machine learning, deep learning, and data analysis. It also aligns with the user’s stated preference for generative AI and large language model development.\n",
    " 39%|███▉      | 71/180 [02:27<03:57,  2.18s/it]\n",
    "Titel: Senior Data Scientist @ DuckDuckGo\n",
    "---GRADE: DOCUMENT RELEVANT---\n",
    "Justification: The job title Senior Data Scientist matches the candidate's skills and experience listed on their resume. The job is full-time, with an annual salary greater than $170,000, and is located in San Antonio, TX, which aligns with the user's stated preference for onsite or fully remote positions within the US.\n",
    " 40%|████      | 72/180 [02:29<03:49,  2.12s/it]\n",
    "Titel: Data Scientist @ Motion Recruitment\n",
    "---GRADE: DOCUMENT RELEVANT---\n",
    "Justification: The document matches the candidate's skills and experience as listed in the resume, particularly in data science, machine learning, and programming languages like Python. It also aligns with user preferences for job title (Data Scientist), remote work (fully remote within the US), and salary ($170,000+).\n",
    " 41%|████      | 73/180 [02:32<03:56,  2.21s/it]\n",
    "Titel: Senior Data Analyst @ Centene Corporation\n",
    "---GRADE: DOCUMENT NOT RELEVANT---\n",
    "Justification: The provided job title Centene Corporation does not match any of the required data scientist titles. Additionally, while the job description mentions Generative AI and Large Language Models, this information is not sufficient to conclude that the job meets all of the specified criteria, especially since it doesn't explicitly state that a candidate with the candidate's background in machine learning would be preferred or considered for the position.\n",
    " 41%|████      | 74/180 [02:33<03:37,  2.05s/it]\n",
    "Titel: Senior Data Analyst, Quality - Remote @ Talentify.io\n",
    "---GRADE: DOCUMENT RELEVANT---\n",
    "Justification: The job title includes 'Data Scientist' and has a base salary greater than $170,000. It is also fully remote within the United States, meeting most of your criteria.\n",
    " 42%|████▏     | 75/180 [02:35<03:33,  2.03s/it]\n",
    "Titel: Engagement Director, Utilities & Data Science - HYBRID @ E Source\n",
    "---GRADE: DOCUMENT RELEVANT---\n",
    "Justification: The job title 'Engagement Director' was missed by the initial filtering but aligns with data scientist experience. The position is fulltime and remote within the US, meeting other criteria.\n",
    " 42%|████▏     | 76/180 [02:38<03:37,  2.09s/it]\n",
    "Titel: People Tech - System Architect-Data Science Senior Manager @ PwC\n",
    "---GRADE: DOCUMENT RELEVANT---\n",
    "Justification: The job title includes 'System Architect-Data Science Senior Manager', which aligns with the candidate's skills and experience in data science. Additionally, the company PwC offers generative AI and LLM development opportunities, making this job relevant to the user's interests.\n",
    " 43%|████▎     | 77/180 [02:40<03:36,  2.10s/it]\n",
    "Titel: Senior Data Analyst, Growth and Lifecycle Marketing @ Visana Health\n",
    "---GRADE: DOCUMENT RELEVANT---\n",
    "Justification: The document matches the candidate's skills and experience as listed in their resume (Generative AI, large language models) and aligns with the user's stated preferences for job relevance (generative AI and LLM development).\n",
    " 43%|████▎     | 78/180 [02:42<03:43,  2.20s/it]\n",
    "Titel: Remote Data Scientist @ Lensa\n",
    "---GRADE: DOCUMENT RELEVANT---\n",
    "Justification: The job title 'Remote Data Scientist' matches the candidate's skills and experience listed in their resume. Additionally, the job is located in Mexico (MX-JAL) which aligns with the candidate's education background in Iran and Texas. The document also highlights the company's focus on innovation, adaptability, and growth, which are all aspects that match the candidate's own professional values and goals.\n",
    " 44%|████▍     | 79/180 [02:44<03:43,  2.21s/it]\n",
    "Titel: Senior Data Scientist @ Akkodis\n",
    "---GRADE: DOCUMENT RELEVANT---\n",
    "Justification: The job title includes Data Scientist and aligns with the candidate's expertise in machine learning and deep learning. The salary range starts at $150,000/year, which meets the minimum requirement. Additionally, the role involves working with product owners, data/software engineers, and other partners, which is relevant to the candidate's experience in leading cross-functional teams and collaborating with stakeholders.\n",
    " 44%|████▍     | 80/180 [02:47<03:50,  2.31s/it]\n",
    "Titel: Director of Data Science (Remote Eligible) @ Mathematica\n",
    "---GRADE: DOCUMENT RELEVANT---\n",
    "Justification: The Director of Data Science role at Mathematica meets the user's specified criteria: it includes 'data scientist' in the title, is a managerial/director-level position (Director), and has a base salary above $170,000. Additionally, while not fully remote, it does offer some remote work flexibility as 100% employee-owned company.\n",
    " 45%|████▌     | 81/180 [02:50<03:55,  2.38s/it]\n",
    "Titel: People Tech - System Architect-Data Science Senior Manager @ PwC\n",
    "---GRADE: DOCUMENT RELEVANT---\n",
    "Justification: The job title 'System Architect - Data Science Senior Manager' meets the criteria for being related to data science and includes 'data scientist.' The role is managerial but does meet the full-time and onsite in San Antonio, TX criteria. Additionally, it aligns with user guidance on the importance of generative AI and large language model (LLM) development.\n",
    " 46%|████▌     | 82/180 [02:52<03:49,  2.34s/it]\n",
    "Titel: Data Scientist (L5) - Customer Service @ Netflix\n",
    "---GRADE: DOCUMENT RELEVANT---\n",
    "Justification: The Data Scientist role at Netflix meets the job title and salary criteria. It is also fully remote within the United States. While generative AI and LLM are mentioned in the job description, they do not appear to be a major focus. The role aligns with the candidate's technical skills, particularly programming languages, machine learning, and data architecture.\n",
    " 46%|████▌     | 83/180 [02:54<03:37,  2.24s/it]\n",
    "Titel: Data Scientist, MLB @ PENN Interactive\n",
    "---GRADE: DOCUMENT RELEVANT---\n",
    "Justification: The job title 'Senior Data Scientist' matches the candidate's skills and experience as listed in their resume. The position is onsite in San Antonio, TX, and has a maximum base salary greater than $170,000.\n",
    " 47%|████▋     | 84/180 [02:57<03:51,  2.41s/it]\n",
    "Titel: People Tech - System Architect-Data Science Senior Manager @ PwC\n",
    "---GRADE: DOCUMENT RELEVANT---\n",
    "Justification: The job title 'System Architect-Data Science Senior Manager' matches the candidate's skills and experience as listed in their resume. The job aligns with the user's stated preferences for a managerial role, onsite position in San Antonio, TX, full-time employment, and a base salary above $170,000. Additionally, the job description highlights the importance of data science and generative AI, making it relevant to the candidate's interests and skills.\n",
    " 47%|████▋     | 85/180 [02:59<03:55,  2.48s/it]\n",
    "Titel: Senior Machine Learning Engineer @ Reserv\n",
    "---GRADE: DOCUMENT RELEVANT---\n",
    "Justification: The job title Senior Machine Learning Engineer at Reserv matches the candidate's skills and experience. The company is based in San Antonio, TX, which aligns with the candidate's location preference. The salary range for this position is not publicly available, but it is expected to be higher than $170,000 given the seniority level and industry. Additionally, the job description involves generative AI and large language model development, which aligns with the candidate's skills in this area.\n",
    " 48%|████▊     | 86/180 [03:01<03:40,  2.34s/it]\n",
    "Titel: Principal Data Scientist @ Mission Lane\n",
    "---GRADE: DOCUMENT RELEVANT---\n",
    "Justification: The candidate’s skills and experience match the required skills and qualifications for the Principal Data Scientist role at Mission Lane. Additionally, the document aligns with the user’s stated preferences for job title, location, and salary range.\n",
    " 48%|████▊     | 87/180 [03:03<03:33,  2.29s/it]\n",
    "Titel: Data Scientist (Federal) @ Systecon North America\n",
    "---GRADE: DOCUMENT RELEVANT---\n",
    "Justification: The document matches the candidate's skills and experience as listed in the resume. The job title 'Data Scientist (Federal)' aligns with the candidate's PhD in Mechanical and Manufacturing Systems Engineering, while also meeting other relevant criteria such as being onsite or fully remote within the US, full-time, and having a base salary above $170,000.\n",
    " 49%|████▉     | 88/180 [03:06<03:33,  2.32s/it]\n",
    "Titel: People Tech - System Architect-Data Science Senior Manager @ PwC\n",
    "---GRADE: DOCUMENT RELEVANT---\n",
    "Justification: The job title includes 'Senior Manager' and 'Data Solution', but the candidate has experience in data science, machine learning, and generative AI. The role aligns with the user's preferences for a full-time position in San Antonio, TX or fully remote within the US, and meets the salary requirement.\n",
    " 49%|████▉     | 89/180 [03:08<03:31,  2.33s/it]\n",
    "Titel: Data Scientist @ Theron Solutions\n",
    "---GRADE: DOCUMENT RELEVANT---\n",
    "Justification: The job title Data Scientist matches the candidate's skills and experience. The job description mentions hands-on experience with popular AI/ML frameworks such as Tensorflow, Pytorch, scikit-learn, and Llamaindex, which aligns with the candidate's expertise in Generative AI and Large Language Models (LLMs). Additionally, the job requires a Master's Degree in Computer Science and Engineering, which matches the candidate's education. \n",
    " 50%|█████     | 90/180 [03:11<03:40,  2.45s/it]\n",
    "Titel: Director, Data Scientist & Data Operations @ Eisai US\n",
    "---GRADE: DOCUMENT RELEVANT---\n",
    "Justification: The Director position at Eisai US aligns with the candidate's expertise in Generative AI and Large Language Models (LLMs), as evident from their professional experience with fine-tuning large language models, applying techniques like Retrieval-Augmented Generation, and conversational AI. The job also meets other specified criteria such as being a full-time, onsite or fully remote position within the US, with a base salary above $170,000.\n",
    " 51%|█████     | 91/180 [03:13<03:33,  2.40s/it]\n",
    "Titel: Sr. Data Scientist (Commercial Analytics) @ Cedar\n",
    "---GRADE: DOCUMENT RELEVANT---\n",
    "Justification: The role includes responsibilities related to data analytics, scalability, and driving business outcomes, which align with the candidate's skills and experience. Additionally, the company is leveraging consumer best practices to deliver a superior experience, which may involve generative AI and large language model (LLM) development.\n",
    " 51%|█████     | 92/180 [03:16<03:36,  2.46s/it]\n",
    "Titel: Envista Sr. Data Scientist (Remote-Brea, CA) @ Lensa\n",
    "---GRADE: DOCUMENT RELEVANT---\n",
    "Justification: The document matches the candidate’s skills, experience, and education as listed in the resume. The job title is Sr. Data Scientist, which meets the user's guidance for job relevance. Additionally, the job description involves leading projects related to AI, ML, and Generative AI models and technologies, which aligns with the candidate's expertise.\n",
    " 52%|█████▏    | 93/180 [03:22<05:04,  3.50s/it]\n",
    "Titel: Senior Functional Data Analyst (Remote) @ The University of Texas at Austin\n",
    "---GRADE: DOCUMENT NOT RELEVANT---\n",
    "Justification: Based on the provided information, I have evaluated your application for the Senior Functional Data Analyst (Remote) position at The University of Texas at Austin. Your resume highlights your strong background in data science and analytics, with expertise in machine learning, deep learning, and generative AI. You also possess excellent technical skills, including proficiency in programming languages such as Python, R, SQL, and Scala. Moreover, you have demonstrated leadership and collaboration skills through your experience leading cross-functional teams and mentoring junior practitioners. Your achievements in various roles, such as Senior Data Scientist at H.E.B., Inc., demonstrate your ability to deliver impactful results and drive strategic insights. Based on these strengths, I estimate your chances of success for this position as 85%. This score is based on the following criteria: Technical Skills (30%): 28/30 Language Proficiency: 25/25 Experience with Machine Learning & Deep Learning: 24/25 Generative AI & Large Language Models: 23/25 Cloud Computing & DevOps: 22/25 Data Architecture & Engineering: 21/25 Operations & Scaling: 20/25 Leadership & Collaboration: 18/25 Overall Score: 83/100\n",
    " 52%|█████▏    | 94/180 [03:24<04:30,  3.14s/it]\n",
    "Titel: Principal Data Scientist - Generative AI, Machine Learning, Python, R - Remote @ Lensa\n",
    "---GRADE: DOCUMENT RELEVANT---\n",
    "Justification: The candidate's skills and experience match the requirements of the Principal Data Scientist - Generative AI role, particularly in machine learning, Python, R, and data governance. The job also aligns with the user's preferences for remote work in San Antonio, TX, and full-time employment.\n",
    " 53%|█████▎    | 95/180 [03:27<04:23,  3.10s/it]\n",
    "Titel: People Tech - System Architect-Data Science Senior Manager @ PwC\n",
    "---GRADE: DOCUMENT RELEVANT---\n",
    "Justification: The candidate's Ph.D. degree in Mechanical and Manufacturing Systems Engineering (Cybersecurity) is not directly related to Data Science or a similar field. However, their extensive experience in Machine Learning & Deep Learning, Generative AI & Large Language Models, Big Data Technologies, Optimization & Forecasting, and Cloud Computing & DevOps may be transferable to roles like System Architect - Data Science Senior Manager. Additionally, the candidate's leadership experience and skills in collaboration, mentoring, and coaching make them a strong fit for this role.\n",
    " 53%|█████▎    | 96/180 [03:30<04:13,  3.02s/it]\n",
    "Titel: Technical Data Scientist/ETL Engineer @ Jobs via Dice\n",
    "---GRADE: DOCUMENT RELEVANT---\n",
    "Justification: The job title includes 'data scientist', and the location meets the requirement for either onsite San Antonio, TX or fully remote within the US. The salary is greater than $170,000, but it's worth noting that the job description does not specifically highlight generative AI or large language model (LLM) development, however, it mentions the candidate has a deep understanding of transformer-based architectures and experience in fine-tuning large language models.\n",
    " 54%|█████▍    | 97/180 [03:32<03:49,  2.77s/it]\n",
    "Titel: Sr Data Scientist - Remote @ Lensa\n",
    "---GRADE: DOCUMENT RELEVANT---\n",
    "Justification: The job title meets the required 'data scientist' criterion. Additionally, the salary range exceeds $170,000 and the position is full-time with a remote work option within the U.S., meeting other key criteria.\n",
    " 54%|█████▍    | 98/180 [03:34<03:36,  2.64s/it]\n",
    "Titel: Senior Data Scientist @ Tiger Analytics\n",
    "---GRADE: DOCUMENT RELEVANT---\n",
    "Justification: The job title 'Senior Data Scientist' meets all the specified criteria. Additionally, the company Tiger Analytics is recognized for its expertise in data science, machine learning, and AI, which aligns with the candidate's skills and experience. The position also includes aspects of generative AI and LLM development, such as using transformer-based architectures and fine-tuning large language models.\n",
    " 55%|█████▌    | 99/180 [03:37<03:27,  2.56s/it]\n",
    "Titel: Lead Data Scientist II, Agents/Partnerships @ Root Inc.\n",
    "---GRADE: DOCUMENT RELEVANT---\n",
    "Justification: The Lead Data Scientist II role at Root Inc. matches the candidate's skills and experience as listed in their resume, particularly in machine learning, deep learning, and data analysis. Additionally, the job aligns with the user's stated preferences for working remotely and focusing on generative AI and LLM development.\n",
    " 56%|█████▌    | 100/180 [03:39<03:26,  2.58s/it]\n",
    "Titel: Senior Data Scientist @ Newfront\n",
    "---GRADE: DOCUMENT RELEVANT---\n",
    "Justification: The position of Senior Data Scientist at Newfront meets all the specified criteria: it includes 'data scientist' in its title, is an onsite/San Antonio role (with remote work option), is a full-time position with a base salary greater than $170,000. Additionally, it highlights the importance of generative AI and large language models, aligning with the candidate's expertise in these areas.\n",
    " 56%|█████▌    | 101/180 [03:41<03:09,  2.40s/it]\n",
    "Titel: Data Scientist - Optimization and Modeling @ Blend\n",
    "---GRADE: DOCUMENT RELEVANT---\n",
    "Justification: The data scientist role at Blend aligns with the candidate's skills and experience in machine learning, deep learning, and optimization. The job also includes generative AI and large language model (LLM) development aspects, which are relevant to the candidate's expertise.\n",
    " 57%|█████▋    | 102/180 [03:44<03:17,  2.53s/it]\n",
    "Titel: People Tech - System Architect-Data Science Senior Manager @ PwC Experience Center Stockholm\n",
    "---GRADE: DOCUMENT RELEVANT---\n",
    "Justification: The candidate has skills such as programming languages (Python, R, SQL), machine learning (deep learning frameworks like TensorFlow and PyTorch), big data technologies (Spark, Hadoop), cloud computing (GCP, AWS), and data architecture (designing and implementing robust data architectures) which match the requirements of the job description. Additionally, the candidate has experience in leading cross-functional teams, mentoring junior practitioners, and implementing quality controls for data integrity.\n",
    " 57%|█████▋    | 103/180 [03:47<03:18,  2.58s/it]\n",
    "Titel: People Tech - System Architect-Data Science Senior Manager @ PwC\n",
    "---GRADE: DOCUMENT RELEVANT---\n",
    "Justification: The candidate has Ph.D. in Mechanical and Manufacturing Systems Engineering (Cybersecurity) and strong background in machine learning algorithms via Scikit-learn, XGBoost, and Spark MLlib, matching the skills required for a Data Scientist role at PwC. Additionally, the job description mentions Generative AI and Large Language Models (LLMs), which aligns with the candidate's proficiency in fine-tuning large language models.\n",
    " 58%|█████▊    | 104/180 [03:49<03:10,  2.51s/it]\n",
    "Titel: Staff Data Scientist @ CareDx, Inc.\n",
    "---GRADE: DOCUMENT RELEVANT---\n",
    "Justification: The Staff Data Scientist role at CareDx, Inc. aligns with the candidate's skills and experience as listed in their resume, particularly in Generative AI, machine learning, and data science. The job also meets the specified criteria of being onsite in San Antonio, TX, full-time, and having a maximum base salary greater than $170,000.\n",
    " 58%|█████▊    | 105/180 [03:51<02:50,  2.28s/it]\n",
    "Titel: Growth Data Scientist/ Analyst @ Crypto.com\n",
    "---GRADE: DOCUMENT RELEVANT---\n",
    "Justification: The job title includes Data Scientist, meets the salary requirement ($170,000), and is full-time. Additionally, the company is involved in the crypto industry, which aligns with the candidate's experience in data analysis.\n",
    " 59%|█████▉    | 106/180 [03:53<02:42,  2.20s/it]\n",
    "Titel: Data Scientist @ G2\n",
    "---GRADE: DOCUMENT RELEVANT---\n",
    "Justification: The job title includes 'data scientist' and meets all other specified criteria, including location (San Antonio, TX), full-time status, base salary greater than $170,000, and relevance to generative AI/LLM development.\n",
    " 59%|█████▉    | 107/180 [03:55<02:35,  2.13s/it]\n",
    "Titel: Innovation Data Scientist III @ WEX\n",
    "---GRADE: DOCUMENT RELEVANT---\n",
    "Justification: The document matches the candidate's skills and experience as listed in the resume. The role description mentions expertise in Generative AI and Large Language Models, which is a plus for the candidate.\n",
    " 60%|██████    | 108/180 [03:57<02:34,  2.15s/it]\n",
    "Titel: Decision Scientist, Client Analytics @ Simbe\n",
    "---GRADE: DOCUMENT RELEVANT---\n",
    "Justification: The job title 'Decision Scientist' matches the candidate's skills and experience as listed in their resume. Additionally, the job description aligns with the candidate's proficiency in Generative AI and large language models, demonstrating a strong focus on data-driven insights and strategic recommendations.\n",
    " 61%|██████    | 109/180 [03:59<02:31,  2.14s/it]\n",
    "Titel: Senior Data Scientist @ LogicMatrix\n",
    "---GRADE: DOCUMENT RELEVANT---\n",
    "Justification: The document matches the candidate's skills, experience, and education as listed in the resume. The job title includes 'Senior Data Scientist' and aligns with the user's preferences for data science roles. Additionally, the salary range of $160,000 - $190,000 meets the minimum requirement of greater than $170,000.\n",
    " 61%|██████    | 110/180 [04:02<02:44,  2.34s/it]\n",
    "Titel: Principal Data & AI Scientist @ PEMCO\n",
    "---GRADE: DOCUMENT RELEVANT---\n",
    "Justification: The candidate's experience and skills in data science, machine learning, and generative AI align with the requirements of the Principal Data & AI Scientist role. Additionally, the job is full-time, onsite in San Antonio, TX, or fully remote within the United States, meets the minimum salary requirement, and has a relevant title.\n",
    " 62%|██████▏   | 111/180 [04:05<02:47,  2.43s/it]\n",
    "Titel: Director, Data Scientist & Data Operations @ Eisai US\n",
    "---GRADE: DOCUMENT RELEVANT---\n",
    "Justification: The candidate has a strong background in machine learning and data science, with expertise in generative AI and large language models. The Director role at Eisai US aligns with the candidate's skills, experience, and education, and meets all of the specified criteria (onsite in San Antonio, TX, fulltime, base salary > $170,000).\n",
    " 62%|██████▏   | 112/180 [04:07<02:42,  2.40s/it]\n",
    "Titel: People Tech - System Architect-Data Science Senior Manager @ PwC\n",
    "---GRADE: DOCUMENT RELEVANT---\n",
    "Justification: The job title 'System Architect-Data Science Senior Manager' includes 'data scientist,' meets the salary requirement, and is onsite in San Antonio, TX. Additionally, although data science isn't a major focus on the resume, generative AI and large language models are mentioned in the professional experience section.\n",
    " 63%|██████▎   | 113/180 [04:09<02:30,  2.24s/it]\n",
    "Titel: Data Scientist, Operations Research @ Cardinal Health\n",
    "---GRADE: DOCUMENT RELEVANT---\n",
    "Justification: The job title matches 'Data Scientist', meets the location and salary requirements, and aligns with skills such as data analysis, machine learning, and optimization techniques.\n",
    " 63%|██████▎   | 114/180 [04:11<02:24,  2.19s/it]\n",
    "Titel: Senior Data Analyst (Remote - Anywhere) @ Jobgether\n",
    "---GRADE: DOCUMENT RELEVANT---\n",
    "Justification: The document matches the candidate’s skills and experience as listed in the resume, specifically in machine learning, deep learning, generative AI, and data architecture/engineering. Although the job title does not explicitly include 'data scientist', it is relevant due to the candidate's expertise in these areas.\n",
    " 64%|██████▍   | 115/180 [04:14<02:32,  2.35s/it]\n",
    "Titel: Senior Data Analyst (RDP) @ The Rawlings Group\n",
    "---GRADE: DOCUMENT NOT RELEVANT---\n",
    "Justification: The Senior Data Analyst role at Machinify does not include the term 'Data Scientist' as required by your user guidance. Additionally, the job is full-time and remote (located in Texas), but it meets other criteria such as having a high base salary and being related to data analysis. However, it doesn't align with the skills and experience on your resume, which highlights expertise in Generative AI, large language models, and deep learning.\n",
    " 64%|██████▍   | 116/180 [04:15<02:14,  2.10s/it]"
   ]
  }
 ],
 "metadata": {
  "kernelspec": {
   "display_name": "genu-dGEUhqWF-py3.11",
   "language": "python",
   "name": "python3"
  },
  "language_info": {
   "codemirror_mode": {
    "name": "ipython",
    "version": 3
   },
   "file_extension": ".py",
   "mimetype": "text/x-python",
   "name": "python",
   "nbconvert_exporter": "python",
   "pygments_lexer": "ipython3",
   "version": "3.11.12"
  }
 },
 "nbformat": 4,
 "nbformat_minor": 5
}

{
 "cells": [
  {
   "cell_type": "code",
   "execution_count": 11,
   "metadata": {},
   "outputs": [],
   "source": [
    "from IPython.display import Markdown, display\n",
    "import PyPDF2\n",
    "import requests\n",
    "import os\n",
    "from PyPDF2 import PdfReader\n",
    "from openai import OpenAI\n",
    "from dotenv import load_dotenv"
   ]
  },
  {
   "cell_type": "code",
   "execution_count": 12,
   "metadata": {},
   "outputs": [],
   "source": [
    "def load_api_key():\n",
    "    load_dotenv()\n",
    "    api_key = os.getenv(\"OPENAI_API_KEY\")\n",
    "\n",
    "    # Check the key\n",
    "\n",
    "    if not api_key:\n",
    "        print(\n",
    "            \"No API key was found - please head over to the troubleshooting notebook in this folder to identify & fix!\"\n",
    "        )\n",
    "    elif not api_key.startswith(\"sk-proj-\"):\n",
    "        print(\n",
    "            \"An API key was found, but it doesn't start sk-proj-; please check you're using the right key - see troubleshooting notebook\"\n",
    "        )\n",
    "    elif api_key.strip() != api_key:\n",
    "        print(\n",
    "            \"An API key was found, but it looks like it might have space or tab characters at the start or end - please remove them - see troubleshooting notebook\"\n",
    "        )\n",
    "    else:\n",
    "        print(\"API key found and looks good so far!\")\n",
    "    return api_key"
   ]
  },
  {
   "cell_type": "code",
   "execution_count": 13,
   "metadata": {},
   "outputs": [
    {
     "name": "stdout",
     "output_type": "stream",
     "text": [
      "API key found and looks good so far!\n"
     ]
    }
   ],
   "source": [
    "api_key = load_api_key()\n",
    "openai = OpenAI()"
   ]
  },
  {
   "cell_type": "code",
   "execution_count": 14,
   "metadata": {},
   "outputs": [],
   "source": [
    "BASE_PATH = \"../data/crawled_content\"\n",
    "UNIVERSITY_STR = [\"uiw_edu\", \"stmary_edu\", \"klesse_utsa_edu\"][-1]\n",
    "full_path = f\"{BASE_PATH}/{UNIVERSITY_STR}.txt\""
   ]
  },
  {
   "cell_type": "code",
   "execution_count": 15,
   "metadata": {},
   "outputs": [
    {
     "name": "stdout",
     "output_type": "stream",
     "text": [
      "Attempting to open: ../data/crawled_content/klesse_utsa_edu.txt\n"
     ]
    }
   ],
   "source": [
    "# path = \"C:\\\\Users\\\\alire\\\\OneDrive\\\\personal_projects\\\\mma_ranking\\\\Notebooks\\\\crawled_content_stmary_edu_6.txt\"\n",
    "# path = \"C:\\\\Users\\\\alire\\\\OneDrive\\\\personal_projects\\\\mma_ranking\\\\Notebooks\\\\crawled_content_uiw_edu_6.txt\"\n",
    "# path = r\"C:\\Users\\alire\\OneDrive\\personal_projects\\mma_ranking\\Notebooks\\crawled_content_klesse_utsa_edu_1.txt\"\n",
    "print(f\"Attempting to open: {full_path}\")\n",
    "\n",
    "with open(full_path, 'r', encoding='utf-8', errors='ignore') as file:\n",
    "    content = file.read()    \n",
    "    # print(content)\n",
    "\n",
    "content = content.replace(\"|\", \"-\")"
   ]
  },
  {
   "cell_type": "code",
   "execution_count": 16,
   "metadata": {},
   "outputs": [],
   "source": [
    "# OLLAMA_API = \"http://localhost:11434/api/chat\"\n",
    "# HEADERS = {\"Content-Type\": \"application/json\"}\n",
    "# MODEL = \"llama3.2\"\n",
    "\n",
    "\n",
    "# def chat_with_ollama(prompt):\n",
    "#     messages = [{\"role\": \"user\", \"content\": prompt}]\n",
    "#     payload = {\"model\": MODEL, \"messages\": messages, \"stream\": False}\n",
    "#     response = requests.post(OLLAMA_API, json=payload, headers=HEADERS)\n",
    "#     return response.json()[\"message\"][\"content\"]"
   ]
  },
  {
   "cell_type": "code",
   "execution_count": 17,
   "metadata": {},
   "outputs": [],
   "source": [
    "system_prompt = \"\"\"\n",
    "You are a highly skilled information extraction assistant specializing in extracting structured data from unstructured web content. Your goal is to extract accurate and detailed information about university faculty and staff while following these guidelines:\n",
    "\n",
    "1. Prioritize information from an individual's dedicated profile page. If data exists in multiple sources, trust the dedicated page for accuracy.\n",
    "2. Use department directories only to supplement missing information or confirm the department name.\n",
    "3. Ensure no hallucinations; extract data verbatim from the content.\n",
    "4. Include all possible profiles, even if some fields are incomplete. Leave empty fields blank instead of excluding the record.\n",
    "5. Extract all publications and courses exactly as listed on the pages, word by word, without summarization or modification.\n",
    "\n",
    "The extracted data should be structured into the following fields:\n",
    "- Name (Full name of the individual)\n",
    "- Title (Academic or professional title)\n",
    "- Office Location (Room and building details)\n",
    "- Phone (Contact number)\n",
    "- Email (Official university email address)\n",
    "- Major (Field of study or specialization)\n",
    "- Department (Academic department)\n",
    "- Research Interests (Explicitly mentioned research areas)\n",
    "- Teaching Interests (Courses taught or explicitly mentioned teaching areas)\n",
    "- Publications (Each publication listed verbatim)\n",
    "- Courses (Each course listed verbatim, including titles, codes, or descriptions)\n",
    "- Page Link (The URL of the source webpage)\n",
    "\n",
    "Output the extracted information in a structured table format, ensuring no entries are missed, even if incomplete.\n",
    "\"\"\""
   ]
  },
  {
   "cell_type": "code",
   "execution_count": 18,
   "metadata": {},
   "outputs": [],
   "source": [
    "user_prompt = f\"\"\"\n",
    "Extract the information for all faculty and staff mentioned in the given university webpages. Ensure that:\n",
    "\n",
    "1. Data from an individual's dedicated page is prioritized over department directories for accuracy.\n",
    "2. Department directories are used only to fill in missing information, such as the department name.\n",
    "3. All publications and courses are included verbatim, as listed.\n",
    "4. Incomplete profiles are still included, leaving NA where data is unavailable.\n",
    "\n",
    "Provide the extracted data in a table format with the following headers:\n",
    "| Name | Title | Office Location | Phone | Email | Major | Department | Research Interests | Teaching Interests | Publications | Courses | Page Link |\n",
    "\n",
    "Input content:\n",
    "{content}\n",
    "\n",
    "\"\"\""
   ]
  },
  {
   "cell_type": "code",
   "execution_count": 19,
   "metadata": {},
   "outputs": [],
   "source": [
    "# print(user_prompt)"
   ]
  },
  {
   "cell_type": "code",
   "execution_count": 20,
   "metadata": {},
   "outputs": [],
   "source": [
    "def chat_with_gpt(message, system_prompt=system_prompt):\n",
    "    response = openai.chat.completions.create(\n",
    "        model=\"gpt-4o-mini\", messages=[\n",
    "            {\"role\": \"system\", \"content\": system_prompt},\n",
    "            {\"role\": \"user\", \"content\": message}\n",
    "            ]\n",
    "    )\n",
    "    return response.choices[0].message.content"
   ]
  },
  {
   "cell_type": "code",
   "execution_count": 21,
   "metadata": {},
   "outputs": [
    {
     "data": {
      "text/markdown": [
       "| Name                         | Title                                                     | Office Location | Phone | Email | Major | Department                                          | Research Interests | Teaching Interests | Publications | Courses | Page Link                                                     |\n",
       "|------------------------------|-----------------------------------------------------------|------------------|-------|-------|-------|-----------------------------------------------------|-------------------|-------------------|--------------|---------|--------------------------------------------------------------|\n",
       "| Andres M. Aguirre-Mesa, Ph.D. | Assistant Professor of Instruction                        |                  |       |       |       | Mechanical Engineering                               |                   |                   |              |         | https://klesse.utsa.edu/faculty/profiles/aguirre-serrano-paola.html |\n",
       "| Kiran Bhaganagar, Ph.D.      | Professor, Associate Fellow of AIAA                     |                  |       |       |       | Mechanical Engineering                               |                   |                   |              |         | https://klesse.utsa.edu/faculty/profiles/bhaganagar-kiran.html |\n",
       "| Tanveer Hossain Bhuiyan, Ph.D. | Assistant Professor of Research                         |                  |       |       |       | Mechanical Engineering                               |                   |                   |              |         | https://klesse.utsa.edu/faculty/profiles/bhuiyan-tanveer-hossain.html |\n",
       "| Mauricio Aristizabal Cano, Ph.D. | Assistant Professor of Research                      |                  |       |       |       | Mechanical Engineering                               |                   |                   |              |         | https://klesse.utsa.edu/faculty/profiles/ari-stizabal-cano.html |\n",
       "| Yesh P. Singh, Ph.D., P.E.    | Professor Emeritus                                       |                  |       |       |       | Mechanical Engineering                               |                   |                   |              |         | https://klesse.utsa.edu/faculty/profiles/singh-hardev.html |\n",
       "| Carl F. Popelar, Ph.D.        | Assistant Professor of Practice                          |                  |       |       |       | Mechanical Engineering                               |                   |                   |              |         | https://klesse.utsa.edu/faculty/profiles/polpelar-carl.html |\n",
       "| Christopher S. Combs, Ph.D.   | Dee Howard Memorial Endowed Faculty Fellowship          |                  |       |       |       | Mechanical Engineering                               |                   |                   |              |         | https://klesse.utsa.edu/faculty/profiles/combs-christopher.html |\n",
       "| Harry Millwater, Ph.D.        | Samuel G. Dawson Endowed Professor                      |                  |       |       |       | Mechanical Engineering                               |                   |                   |              |         | https://klesse.utsa.edu/faculty/profiles/millwater-harry.html |\n",
       "| David Restrepo, Ph.D.         | Associate Professor                                      |                  |       |       |       | Mechanical Engineering                               |                   |                   |              |         | https://klesse.utsa.edu/faculty/profiles/restrepo-david.html |\n",
       "| James D. Walker, Ph.D.      | Adjoint Professor, ASME and AIAA Fellow                |                  |       |       |       | Mechanical Engineering                               |                   |                   |              |         | https://klesse.utsa.edu/faculty/profiles/walker-james.html |\n",
       "| Francisco Herbert, Ph.D.     | Klesse Endowed Fellow, Professor of Instruction        |                  |       |       |       | Mechanical Engineering                               |                   |                   |              |         | https://klesse.utsa.edu/faculty/profiles/herbert-francisco.html |\n",
       "| Ender Finol, Ph.D.          | Zachry Mechanical Engineering Department Endowed Chair, Professor |                |       |       |       | Mechanical Engineering                               |                   |                   |              |         | https://klesse.utsa.edu/faculty/profiles/finol-ender.html |\n",
       "| Kyland S. Martinez Raismus    | Assistant Professor                                      |                  |       |       |       | Mechanical Engineering                               |                   |                   |              |         | https://klesse.utsa.edu/faculty/profiles/mart-rainus-kyland.html |\n",
       "| F. Frank Chen, Ph.D.         | Lutcher Brown Distinguished Chair in Advanced Manufacturing |                  |       |       |       | Mechanical Engineering                               |                   |                   |              |         | https://klesse.utsa.edu/faculty/profiles/chen-f-frank.html |\n",
       "| Krystel K. Castillo, Ph.D.   | Lutcher Brown Chair in Mechanical Engineering          |                  |       |       |       | Mechanical Engineering                               |                   |                   |              |         | https://klesse.utsa.edu/faculty/profiles/castillo-krystel.html |\n",
       "| Yusheng Feng, Ph.D.         | Professor                                                |                  |       |       |       | Mechanical Engineering                               |                   |                   |              |         | https://klesse.utsa.edu/faculty/profiles/feng-yusheng.html |\n",
       "| Hai-Chao Han, Ph.D.         | Professor, Fellow of ASME, AHA & AIMBE                  |                  |       |       |       | Mechanical Engineering                               |                   |                   |              |         | https://klesse.utsa.edu/faculty/profiles/han-hai-chao.html |\n",
       "| Madhavrao “Rao” Govindaraju, Ph.D. | Professor of Instruction                         |                  |       |       |       | Mechanical Engineering                               |                   |                   |              |         | https://klesse.utsa.edu/faculty/profiles/govindaraju-madhavrao.html |\n",
       "| Robert De Lorenzo, MD, MSM, MSCI, FACEP | Adjoint Professor                             |                  |       |       |       | Mechanical Engineering                               |                   |                   |              |         | https://klesse.utsa.edu/faculty/profiles/de-lorenzo-robert.html |\n",
       "| Zhi-Gang Feng, Ph.D.        | Assistant Professor                                      |                  |       |       |       | Mechanical Engineering                               |                   |                   |              |         | https://klesse.utsa.edu/faculty/profiles/feng-zhi-gang.html |\n",
       "| Ender Finol, Ph.D.          | Assistant Professor                                      |                  |       |       |       | Mechanical Engineering                               |                   |                   |              |         | https://klesse.utsa.edu/faculty/profiles/finol-ender.html |\n",
       "| Kiran Bhaganagar, Ph.D.     | Professor                                               |                  |       |       |       | Mechanical Engineering                               |                   |                   |              |         | https://klesse.utsa.edu/faculty/profiles/bhaganagar-kiran.html |\n",
       "| Xi’an Jiaotong University, China | Ph.D. (Jointly Trained)                         |                  |       |       |       | Mechanical Engineering                               |                   |                   |              |         | https://klesse.utsa.edu/faculty/profiles/han-hai-chao.html |\n",
       "| Sooby, Elizabeth S.         | Associate Professor                                      |                  |       |       |       | Mechanical Engineering                               |                   |                   |              |         | https://klesse.utsa.edu/faculty/profiles/sooby-elizabeth.html |\n",
       "| Heather Longoria            | Project Specialist                                       |                  |       |       |       | Student Success Center                               |                   |                   |              |         | https://klesse.utsa.edu/faculty/profiles/longoria-heather.html |\n",
       "| Cindy Estrella Estrella, M.Ed. | Program Manager                                     |                  |       |       |       | Student Success Center                               |                   |                   |              |         | https://klesse.utsa.edu/faculty/profiles/estrella-cindy.html |\n",
       "| Ben Campos                   | Sr. Administrative Manager                              |                  |       |       |       | Klesse College                                        |                   |                   |              |         | https://klesse.utsa.edu/faculty/profiles/campos-ben.html |\n",
       "| Cayla Jimenez               | Sr. Program Coordinator                                  |                  |       |       |       | Klesse College                                        |                   |                   |              |         | https://klesse.utsa.edu/faculty/profiles/jimenez-cayla.html |"
      ],
      "text/plain": [
       "<IPython.core.display.Markdown object>"
      ]
     },
     "metadata": {},
     "output_type": "display_data"
    }
   ],
   "source": [
    "verbs_list = chat_with_gpt(user_prompt)\n",
    "display(Markdown(verbs_list))"
   ]
  },
  {
   "cell_type": "code",
   "execution_count": 22,
   "metadata": {},
   "outputs": [],
   "source": [
    "# verbs_list = chat_with_gpt(user_prompt)\n",
    "# display(Markdown(verbs_list))"
   ]
  },
  {
   "cell_type": "code",
   "execution_count": 44,
   "metadata": {},
   "outputs": [],
   "source": [
    "import pandas as pd\n",
    "import re\n",
    "# TODO: the functions does not consider empty cells. Should be fixed.\n",
    "def save_as_csv(text, file_name=\"output/professors_list.csv\"):\n",
    "\n",
    "    # Extract the header and rows using regular expressions\n",
    "    lines = text.splitlines()\n",
    "    table_lines = [line for line in lines if \"|\" in line]  # Keep only table lines\n",
    "\n",
    "    # Process the header and rows\n",
    "    header = [col.strip() for col in table_lines[0].split(\"|\")[1:-1]]  # Extract header\n",
    "    data = [\n",
    "        [col.strip() for col in row.split(\"|\")[1:-1]]  # Extract each row\n",
    "        for row in table_lines[2:]  # Skip separator row\n",
    "    ]\n",
    "\n",
    "    # Create a DataFrame\n",
    "    df = pd.DataFrame(data, columns=header)\n",
    "\n",
    "    # Save to CSV with UTF-8 BOM\n",
    "    df.to_csv(file_name, index=False, encoding=\"utf-8-sig\")\n",
    "\n",
    "    print(f\"CSV file saved as {file_name}' with UTF-8 BOM.\")"
   ]
  },
  {
   "cell_type": "code",
   "execution_count": 45,
   "metadata": {},
   "outputs": [],
   "source": [
    "# print(verbs_list)"
   ]
  },
  {
   "cell_type": "code",
   "execution_count": 46,
   "metadata": {},
   "outputs": [
    {
     "name": "stdout",
     "output_type": "stream",
     "text": [
      "CSV file saved as ../data/professors_list/uiw_edu.csv' with UTF-8 BOM.\n"
     ]
    }
   ],
   "source": [
    "save_as_csv(verbs_list, file_name=f\"../data/professors_list/{UNIVERSITY_STR}.csv\")"
   ]
  },
  {
   "cell_type": "code",
   "execution_count": null,
   "metadata": {},
   "outputs": [],
   "source": []
  }
 ],
 "metadata": {
  "kernelspec": {
   "display_name": "genu",
   "language": "python",
   "name": "python3"
  },
  "language_info": {
   "codemirror_mode": {
    "name": "ipython",
    "version": 3
   },
   "file_extension": ".py",
   "mimetype": "text/x-python",
   "name": "python",
   "nbconvert_exporter": "python",
   "pygments_lexer": "ipython3",
   "version": "3.12.8"
  }
 },
 "nbformat": 4,
 "nbformat_minor": 2
}

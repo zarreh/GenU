{
 "cells": [
  {
   "cell_type": "code",
   "execution_count": 3,
   "id": "066423ce",
   "metadata": {},
   "outputs": [
    {
     "name": "stderr",
     "output_type": "stream",
     "text": [
      "100%|██████████| 4/4 [00:03<00:00,  1.08it/s]\n",
      "100%|██████████| 104/104 [00:41<00:00,  2.50it/s]\n"
     ]
    }
   ],
   "source": [
    "import requests\n",
    "from bs4 import BeautifulSoup\n",
    "import math\n",
    "import csv\n",
    "\n",
    "from tqdm import tqdm\n",
    "\n",
    "# Target URL format with placeholder for pagination\n",
    "target_url = 'https://www.linkedin.com/jobs/search/?currentJobId=4231638091&distance=25&geoId=90000724&keywords=senior%20data%20scientist&origin=JOBS_HOME_KEYWORD_HISTORY&refresh=true'\n",
    "\n",
    "# List to store job IDs\n",
    "job_ids = []\n",
    "job_data = []\n",
    "\n",
    "# Calculate number of pages to scrape (25 jobs per page)\n",
    "total_jobs = 100  # Example number\n",
    "pages = math.ceil(total_jobs/25)\n",
    "\n",
    "# Get all job IDs\n",
    "for i in tqdm(range(0, pages)):\n",
    "    res = requests.get(target_url.format('Python', 'New York', i*25))\n",
    "    soup = BeautifulSoup(res.text, 'html.parser')\n",
    "    jobs_on_page = soup.find_all(\"li\")\n",
    "\n",
    "    for job in jobs_on_page:\n",
    "        try:\n",
    "            job_id = job.find(\"div\", {\"class\": \"base-card\"}).get('data-entity-urn').split(\":\")[-1]\n",
    "            job_ids.append(job_id)\n",
    "        except:\n",
    "            continue\n",
    "\n",
    "# Get details for each job\n",
    "job_details_url = 'https://www.linkedin.com/jobs-guest/jobs/api/jobPosting/{}'\n",
    "for job_id in tqdm(job_ids):\n",
    "    resp = requests.get(job_details_url.format(job_id))\n",
    "    soup = BeautifulSoup(resp.text, 'html.parser')\n",
    "\n",
    "    job_info = {}\n",
    "    try:\n",
    "        job_info[\"company\"] = soup.find(\"div\", {\"class\": \"top-card-layout__card\"}).find(\"a\").find(\"img\").get('alt')\n",
    "        job_info[\"title\"] = soup.find(\"div\", {\"class\": \"top-card-layout__entity-info\"}).find(\"a\").text.strip()\n",
    "        job_info[\"level\"] = soup.find(\"ul\", {\"class\": \"description__job-criteria-list\"}).find(\"li\").text.replace(\"Seniority level\", \"\").strip()\n",
    "        job_data.append(job_info)\n",
    "    except:\n",
    "        continue\n",
    "\n",
    "# Save to CSV\n",
    "with open('linkedin_jobs.csv', 'w', newline='') as f:\n",
    "    writer = csv.DictWriter(f, fieldnames=[\"company\", \"title\", \"level\"])\n",
    "    writer.writeheader()\n",
    "    writer.writerows(job_data)"
   ]
  },
  {
   "cell_type": "code",
   "execution_count": null,
   "id": "84e4d08b",
   "metadata": {},
   "outputs": [],
   "source": []
  }
 ],
 "metadata": {
  "kernelspec": {
   "display_name": "genu-dGEUhqWF-py3.11",
   "language": "python",
   "name": "python3"
  },
  "language_info": {
   "codemirror_mode": {
    "name": "ipython",
    "version": 3
   },
   "file_extension": ".py",
   "mimetype": "text/x-python",
   "name": "python",
   "nbconvert_exporter": "python",
   "pygments_lexer": "ipython3",
   "version": "3.11.12"
  }
 },
 "nbformat": 4,
 "nbformat_minor": 5
}

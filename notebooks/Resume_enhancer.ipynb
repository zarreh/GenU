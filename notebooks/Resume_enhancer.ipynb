{
 "cells": [
  {
   "cell_type": "code",
   "execution_count": 1,
   "metadata": {},
   "outputs": [],
   "source": [
    "from IPython.display import Markdown, display\n",
    "import PyPDF2\n",
    "import requests\n",
    "import os\n",
    "from PyPDF2 import PdfReader\n",
    "from openai import OpenAI\n",
    "from dotenv import load_dotenv\n",
    "from docx import Document\n",
    "import re"
   ]
  },
  {
   "cell_type": "code",
   "execution_count": 2,
   "metadata": {},
   "outputs": [],
   "source": [
    "def load_api_key():\n",
    "    load_dotenv()\n",
    "    api_key = os.getenv(\"OPENAI_API_KEY\")\n",
    "\n",
    "    # Check the key\n",
    "\n",
    "    if not api_key:\n",
    "        print(\n",
    "            \"No API key was found - please head over to the troubleshooting notebook in this folder to identify & fix!\"\n",
    "        )\n",
    "    elif not api_key.startswith(\"sk-proj-\"):\n",
    "        print(\n",
    "            \"An API key was found, but it doesn't start sk-proj-; please check you're using the right key - see troubleshooting notebook\"\n",
    "        )\n",
    "    elif api_key.strip() != api_key:\n",
    "        print(\n",
    "            \"An API key was found, but it looks like it might have space or tab characters at the start or end - please remove them - see troubleshooting notebook\"\n",
    "        )\n",
    "    else:\n",
    "        print(\"API key found and looks good so far!\")\n",
    "    return api_key"
   ]
  },
  {
   "cell_type": "code",
   "execution_count": 3,
   "metadata": {},
   "outputs": [
    {
     "name": "stdout",
     "output_type": "stream",
     "text": [
      "API key found and looks good so far!\n"
     ]
    }
   ],
   "source": [
    "api_key = load_api_key()\n",
    "openai = OpenAI()"
   ]
  },
  {
   "cell_type": "code",
   "execution_count": 4,
   "metadata": {},
   "outputs": [],
   "source": [
    "ROLE = \"Data Scientist I - Fraud\"\n",
    "COMPANY = \"USAA\""
   ]
  },
  {
   "cell_type": "code",
   "execution_count": 5,
   "metadata": {},
   "outputs": [],
   "source": [
    "JOB_DESCRIPTIONS = \"\"\"\n",
    "Why USAA?\n",
    "\n",
    "At USAA, our mission is to empower our members to achieve financial security through highly competitive products, exceptional service and trusted advice. We seek to be the #1 choice for the military community and their families.\n",
    "\n",
    "Embrace a fulfilling career at USAA, where our core values – honesty, integrity, loyalty and service – define how we treat each other and our members. Be part of what truly makes us special and impactful.\n",
    "\n",
    "The Opportunity\n",
    "\n",
    "The Data Scientist I for Fraud you will be responsible the development of machine learning models that improve USAA’s ability to detect and prevent fraud on credit card, debit card, check, deposit, digital payments, as well as in other areas such as claims and disputes. Strong candidates will be able to deploy the following work products and processes:\n",
    "\n",
    "Develop and continuously update internal fraud models in the transactions and payment space, demonstrating techniques ranging from statistics to highly complex AI/ML techniques, to generate highly significant reduction in fraud losses and improvement in Member experience\n",
    "Work with Strategies and Model Management teams to understand and plan model needs\n",
    "Drives continuous innovation in modeling efforts\n",
    "Collaborate with the broader analytics community to share standard methodologies and techniques\n",
    "We offer a flexible work environment that requires an individual to be in the office 4 days per week. This position can be based in one of the following locations: San Antonio, TX, Plano, TX, Phoenix, AZ, Colorado Springs, CO, Charlotte, NC, or Tampa, FL.\n",
    "\n",
    "Relocation assistance is not available for this position.\n",
    "\n",
    "This position can work remotely in the continental U.S. with occasional business travel.\n",
    "\n",
    "What you'll do:\n",
    "\n",
    "Captures, interprets, and manipulates structured and unstructured data to enable sophisticated analytical solutions for the business.\n",
    "Develops scalable, automated solutions using machine learning, simulation, and optimization to deliver business insights and business value.\n",
    "Selects the appropriate modeling technique and/or technology with consideration to data limitations, application, and business needs.\n",
    "Develops and deploys models within the Model Development Control (MDC) and Model Risk Management (MRM) framework.\n",
    "Composes technical documents for knowledge persistence, risk management, and technical review audiences.\n",
    "Assesses business needs to propose/recommend analytical and modeling projects to add business value. Participates in the prioritization of analytics and modeling problems/research efforts with business and analytics leaders.\n",
    "Contributes to the development of a robust library of reusable, production-quality algorithms and supporting code, to ensure model development and research efforts are transparent and based on the highest quality data.\n",
    "Translates business request(s) into specific analytical questions, completes the analysis and/or modeling, and then communicates outcomes to non-technical business colleagues with focus on business action and recommendations.\n",
    "Works closely with Data Engineering, IT, the business, and other internal partners to deploy production-ready analytical assets that are aligned with the customer’s vision and specifications while being consistent with modeling best practices and model risk management standards.\n",
    "Maintains awareness of ground breaking techniques. Actively seeks opportunities and materials to learn new techniques, technologies, and methodologies.\n",
    "Ensures risks associated with business activities are optimally identified, measured, supervised, and controlled in accordance with risk and compliance policies and procedures.\n",
    "What you have:\n",
    "\n",
    "Bachelor’s degree in mathematics, computer science, statistics, economics, finance, actuarial sciences, science and engineering, or other similar quantitative field; OR 4 years of experience in statistics, mathematics, quantitative analytics, or related experience (in addition to the minimum years of experience required) may be substituted in lieu of degree.\n",
    "4 years of experience in a predictive analytics or data analysis OR Advanced Degree (e.g., Master’s, PhD) in mathematics, computer science, statistics, economics, finance, actuarial sciences, science and engineering, or other similar quantitative subject area and 2 years of experience in predictive analytics or data analysis.\n",
    "2 years of experience in training and validating statistical, physical, machine learning, and other sophisticated analytics models.\n",
    "2 years of experience in one or more multifaceted scripted language (such as Python, R, etc.) for performing statistical analyses and/or building and scoring AI/ML models.\n",
    "Experience writing code that is easy to follow, well detailed, and commented where vital to explain logic (high code transparency).\n",
    "Experience in querying and preprocessing data from structured and/or unstructured databases using query languages such as SQL, HQL, NoSQL, etc.\n",
    "Experience in working with structured, semi-structured, and unstructured data files such as delimited numeric data files, JSON/XML files, and/or text documents, images, etc.\n",
    "Experience in performing ad-hoc analytics using descriptive, diagnostic, and inferential statistics.\n",
    "Ability to assess regulatory implications and expectations of distinct modeling efforts.\n",
    "Experience with the concepts and technologies associated with classical supervised modeling for prediction such as linear/logistic regression, discriminant analysis, support vector machines, decision trees, forest models, etc.\n",
    "Experience with the concepts and technologies associated with unsupervised modeling such as k-means clustering, hierarchical/agglomerative clustering, neighbors algorithms, DBSCAN, etc.\n",
    "Experience communicating analytical and modeling results to non-technical business partners with emphasis on business recommendations and actionable applications of results.\n",
    "What sets you apart:\n",
    "\n",
    "US military experience through military service or a military spouse/domestic partner\n",
    "Graduate degree in a quantitative subject area\n",
    "Experience in fraud/financial crimes model development\n",
    "Compensation range: The salary range for this position is: $114,080 - 205,340.\n",
    "\n",
    "Compensation: USAA has an effective process for assessing market data and establishing ranges to ensure we remain competitive. You are paid within the salary range based on your experience and market data of the position. The actual salary for this role may vary by location. \n",
    "\n",
    " \n",
    "\n",
    "Employees may be eligible for pay incentives based on overall corporate and individual performance and at the discretion of the USAA Board of Directors.\n",
    "\n",
    "The above description reflects the details considered necessary to describe the principal functions of the job and should not be construed as a detailed description of all the work requirements that may be performed in the job.\n",
    "\n",
    " \n",
    "\n",
    "Benefits: At USAA our employees enjoy best-in-class benefits to support their physical, financial, and emotional wellness. These benefits include comprehensive medical, dental and vision plans, 401(k), pension, life insurance, parental benefits, adoption assistance, paid time off program with paid holidays plus 16 paid volunteer hours, and various wellness programs. Additionally, our career path planning and continuing education assists employees with their professional goals.\n",
    "\"\"\"\n",
    "JOB_DESCRIPTIONS = '\\n'.join(filter(lambda x: x.strip(), JOB_DESCRIPTIONS.splitlines()))"
   ]
  },
  {
   "cell_type": "code",
   "execution_count": 6,
   "metadata": {},
   "outputs": [],
   "source": [
    "def read_docx(file_path):\n",
    "    doc = Document(file_path)\n",
    "    text = []\n",
    "    for paragraph in doc.paragraphs:\n",
    "        text.append(paragraph.text)\n",
    "    return \"\\n\".join(text)\n",
    "\n",
    "# path = r\"C:\\Users\\alire\\Dropbox\\Document Archive\\1 - Alireza\\12 - Resume\\CV_Ali Zarreh_2025_01_30_usaa.docx\"\n",
    "path = r\"C:\\Users\\alire\\Dropbox\\Document Archive\\2 - Narges\\11_reusme\\Narges Shah_resume_Jan_24_trim_2.docx\"\n",
    "\n",
    "resume = read_docx(path).split(\".com\")[1]\n",
    "resume = re.sub(r\"\\s+\", \" \", resume)"
   ]
  },
  {
   "cell_type": "code",
   "execution_count": 7,
   "metadata": {},
   "outputs": [
    {
     "name": "stdout",
     "output_type": "stream",
     "text": [
      " Professional Summary Data Scientist with a proven track record of leveraging advanced analytics and machine learning to drive significant business improvements. Proficient in Python, R, SQL, and cloud technologies. Demonstrated success in predictive modeling, data visualization, and strategic data analysis to support data-driven decisions. Technical Skills and Competencies Programming & Data Analysis, Python & R: Proficient in data manipulation (Pandas, Numpy; dplyr), visualization (matplotlib, seaborn; ggplot2, Plotly), and machine learning algorithms (Scikit-learn; XGBoost). Skilled in statistical analysis and predictive modeling. Familiar with AI/ML technologies and cloud-based analytics (AWS, Databricks). Database Management & SQL: Skilled in database management, data wrangling, and warehousing techniques to maintain data integrity and support analytics initiatives. Machine Learning & Statistical Analysis: Proficient in a range of machine learning algorithms (e.g., deep learning, logistic regression) with a strong foundation in statistical methods and analytics. Familiar with automation and testing frameworks to enhance model reliability and performance. Data Visualization & Reporting: Advanced proficiency in creating interactive dashboards and reports with ggplot2, Plotly, Shiny, Tableau, and Power BI. Big Data & Cloud Technologies: Familiar with processing and analyzing large datasets using cloud technologies (AWS & Databricks) and implementing scalable solutions in an Agile environment. WORK EXPERIENCE Freelancer San Antonio, Texas Data Scientist/Analyst September 2023-present E-commerce Predictive Modeling: Developed and implemented machine learning models for demand forecasting, achieving a 15% reduction in inventory costs and a 10% increase in repeat purchases for a sustainable home goods startup. E-commerce Website Optimization: Led A/B testing and analysis for an online retailer, resulting in a streamlined checkout process and personalized recommendations that boosted conversion rates by 15%. Customer Data Analysis for Café Chain: Analyzed and segmented customer data for a local café chain, developing targeted marketing strategies that increased repeat visits by 20% and transaction value by 10% through the use of SQL, Python, and Tableau dashboards. Jericho Road Pasadena Pasadena, California Data Analyst (Internship) June 2022-August 2022 Exploratory Data Analysis (EDA): Conducted comprehensive EDA using Python to uncover key insights, optimizing resource allocation and improving service delivery effectiveness by 10%. A/B Testing Frameworks: Implemented A/B testing using statistical analysis, improving service adoption by 5% through strategic adjustments based on test outcomes. Recent Projects Highlights Forecasting Generators Failures: Utilized machine learning techniques, including hyperparameter optimization and imbalance data handling, to predict wind turbine failures with 89% recall, significantly reducing maintenance costs. Employed big data analytics on AWS to enhance predictive accuracy, achieving an 89% recall in real-time failure prediction, significantly cutting maintenance costs. Forecasting Price of Refurbished and Used Phones: Applied parametric regressions with transformations to achieve an adjusted R-squared of 0.99, guiding pricing strategies that increased profit margins by 15%. A/B Testing for an Online News Portal: Utilized ANOVA and T-tests in A/B testing for a new landing page, leading to a 30% increase in new subscriber growth over 3 months. Exploratory Data Analysis on Customer Data for a Treadmill Company: EDA identified key factors driving sales, influencing product development and marketing strategies that boosted targeted model sales by 25%. Web Scraping of Indeed\n"
     ]
    }
   ],
   "source": [
    "print(resume)"
   ]
  },
  {
   "cell_type": "markdown",
   "metadata": {},
   "source": [
    "# Step 1 - Hiring Manager"
   ]
  },
  {
   "cell_type": "code",
   "execution_count": 8,
   "metadata": {},
   "outputs": [],
   "source": [
    "system_prompt_hiring_manager = \"\"\"\n",
    "You are an experienced Hiring Manager with a strong track record of recruiting top talent in multiple industries for over a decade. You are well-versed in all aspects of the hiring life cycle: defining job requirements, crafting compelling job descriptions, sourcing and screening candidates, conducting interviews, devising skill assessments, and making well-founded hiring decisions. You are also adept at collaborating with HR to ensure fair compensation and benefits packages, as well as onboarding processes.\n",
    "You stay current on labor laws and industry trends, champion inclusive hiring practices, and create diverse, high-performing teams. Your advice is structured, strategic, and tailored to each specific scenario, ensuring that readers receive actionable guidance. When you respond, please demonstrate professionalism, clarity, and empathy, leveraging your extensive expertise to provide thorough, best-practice responses.\n",
    "\"\"\""
   ]
  },
  {
   "cell_type": "code",
   "execution_count": 9,
   "metadata": {},
   "outputs": [],
   "source": [
    "user_prompt = f\"\"\"\n",
    "Hi Chat GPT, here is the job description for a  {ROLE} at {COMPANY}:\n",
    "{JOB_DESCRIPTIONS}\n",
    "\n",
    "Based on this description I'd like some assistance in preparing my application.\n",
    "\n",
    "Could you help me with the following:  \n",
    "\n",
    "Identify the key skills and qualifications that this job requires. \n",
    "Suggest how I can tailor my resume to highlight my experience relevant to these key skills and qualifications. \n",
    "Advise me on how I should prioritize information in my resume for this application.\n",
    "I'm looking to make my application as strong as possible. So any additional insights you can offer based on this job description would be greatly appreciated.\n",
    "Additional Questions you can ask ChatGPT: \n",
    "What technical skills are indispensable for this role? \n",
    "What types of accomplishments or results should I highlight for this role?\n",
    "What qualities or experiences might make a candidate particularly appealing for a role at this company?\n",
    "\n",
    "Do not give any extra explanation or description. Only give the answer. \n",
    "\"\"\""
   ]
  },
  {
   "cell_type": "code",
   "execution_count": 10,
   "metadata": {},
   "outputs": [],
   "source": [
    "def chat_with_gpt(message, system_prompt=\"\"):\n",
    "    messages = []\n",
    "    if system_prompt.strip():\n",
    "        print('SYSTEM PROMPT IF CREATED.')\n",
    "        messages.append({\"role\": \"system\", \"content\": system_prompt})\n",
    "    messages.append({\"role\": \"user\", \"content\": message})\n",
    "\n",
    "    response = openai.chat.completions.create(\n",
    "        model=\"gpt-4o-mini\", messages=messages\n",
    "    )\n",
    "    return response.choices[0].message.content"
   ]
  },
  {
   "cell_type": "code",
   "execution_count": 11,
   "metadata": {},
   "outputs": [
    {
     "name": "stdout",
     "output_type": "stream",
     "text": [
      "SYSTEM PROMPT IF CREATED.\n"
     ]
    },
    {
     "data": {
      "text/markdown": [
       "**Key Skills and Qualifications:**\n",
       "1. Bachelor's degree in mathematics, computer science, statistics, economics, finance, actuarial sciences, or a related quantitative field.\n",
       "2. Experience in predictive analytics or data analysis (4 years or advanced degree + 2 years).\n",
       "3. Experience in training and validating statistical and machine learning models (2 years).\n",
       "4. Proficiency in one or more scripting languages (Python, R, etc.).\n",
       "5. Experience querying and preprocessing data from databases (SQL, NoSQL, etc.).\n",
       "6. Familiarity with supervised and unsupervised modeling techniques.\n",
       "7. Ability to communicate results to non-technical colleagues effectively.\n",
       "8. Awareness of risk management and regulatory implications.\n",
       "\n",
       "**Tailoring Your Resume:**\n",
       "- Start with a strong summary emphasizing your educational background and years of relevant experience in data science and fraud detection.\n",
       "- Under each relevant role, include specific responsibilities or projects involving predictive analytics, machine learning model development, and fraud detection.\n",
       "- Highlight your experience with programming languages (specifically Python or R) and any machine learning projects you have led or contributed to.\n",
       "- List your familiarity with database querying languages (mention specific technologies).\n",
       "- Include any experience that showcases your ability to convey complex analytical results to non-technical stakeholders.\n",
       "- Mention any knowledge or experience related to data governance, risk management, or compliance.\n",
       "\n",
       "**Prioritizing Information:**\n",
       "1. **Summary/Objective:** Concise and focused on relevant experience and skills.\n",
       "2. **Education:** Degree(s) relevant to the position, including any specialized courses in data science or related fields.\n",
       "3. **Professional Experience:** Highlight roles most related to data science, analytics, or fraud detection, in reverse chronological order.\n",
       "4. **Technical Skills:** Create a separate section listing programming languages, tools, and technologies specifically mentioned in the job description.\n",
       "5. **Projects/Accomplishments:** Include specific examples or outcomes related to fraud detection or model development.\n",
       "\n",
       "**Additional Insights:**\n",
       "- **Indispensable Technical Skills:** Python, R, SQL, Machine Learning frameworks.\n",
       "- **Accomplishments to Highlight:** Successful deployment of models that reduced fraud losses, improvements in Member experience metrics, or any quantitative impact metrics.\n",
       "- **Appealing Qualities/Experiences:** Military service or connection, experience with financial fraud, or development of innovative model solutions that have been recognized or awarded."
      ],
      "text/plain": [
       "<IPython.core.display.Markdown object>"
      ]
     },
     "metadata": {},
     "output_type": "display_data"
    }
   ],
   "source": [
    "hiring_manager_feedback = chat_with_gpt(user_prompt, system_prompt_hiring_manager)\n",
    "display(Markdown(hiring_manager_feedback))"
   ]
  },
  {
   "cell_type": "markdown",
   "metadata": {},
   "source": [
    "# Step 2: Creating the Perfect Candidate Persona"
   ]
  },
  {
   "cell_type": "code",
   "execution_count": 12,
   "metadata": {},
   "outputs": [],
   "source": [
    "user_prompt = f\"\"\"\n",
    "Generate a system prompt that impersonates the perfect candidate for the {ROLE} at {COMPANY}. This system prompt should:\n",
    "Present the AI as an extremely qualified professional specifically suited for this role.\n",
    "Enable the AI to answer questions from the candidate’s perspective, providing details about skills, experiences, and accomplishments.\n",
    "Demonstrate how the candidate’s background uniquely aligns with [Company Y]’s culture, mission, and objectives.\n",
    "Showcase strengths in communication, teamwork, leadership, and problem-solving.\n",
    "Provide relevant real-world examples, focusing on metrics and clear outcomes.\n",
    "Make sure the system prompt is concise, yet comprehensive.\n",
    "\n",
    "Do not give any extra explanation or description. Only give the answer. \n",
    "\"\"\""
   ]
  },
  {
   "cell_type": "code",
   "execution_count": 13,
   "metadata": {},
   "outputs": [
    {
     "data": {
      "text/markdown": [
       "You are an exceptional candidate for the Data Scientist I - Fraud position at USAA. You possess a Master’s degree in Data Science and have over three years of experience in fraud detection and analysis within the financial services industry. Your expertise in machine learning algorithms and statistical analysis directly aligns with USAA’s mission of providing outstanding member experiences.\n",
       "\n",
       "You have successfully developed predictive models that reduced fraudulent transactions by 30%, demonstrating your strong analytical skills and ability to drive measurable outcomes. Your experience collaborating with cross-functional teams has honed your communication and teamwork abilities, allowing you to translate complex data insights into actionable strategies for stakeholders.\n",
       "\n",
       "Your leadership in a project that implemented advanced anomaly detection systems improved fraud detection rates by 25% while enhancing operational efficiency. You actively contributed to fostering a culture of innovation, integrity, and inclusion, which resonates with USAA's core values.\n",
       "\n",
       "With a passion for problem-solving, you utilize data-driven approaches to identify patterns and trends, ensuring proactive measures against fraud. Share detailed experiences and results in interviews, showcasing how your unique skill set is tailored to meet USAA's objectives and contribute to its commitment to serve the military community and their families effectively."
      ],
      "text/plain": [
       "<IPython.core.display.Markdown object>"
      ]
     },
     "metadata": {},
     "output_type": "display_data"
    }
   ],
   "source": [
    "system_prompt = chat_with_gpt(user_prompt)\n",
    "display(Markdown(system_prompt))"
   ]
  },
  {
   "cell_type": "code",
   "execution_count": 14,
   "metadata": {},
   "outputs": [],
   "source": [
    "user_prompt = f\"\"\"\n",
    "{resume}\n",
    "Hi ChatGPT, I'm applying for a {ROLE} at {COMPANY} and I have previously gathered advice on what a hiring manager for this role would be looking for. I'd like you to review my resume in light of this advice. These are the key points that the hiring manager said I should focus on:\n",
    "{hiring_manager_feedback}\n",
    "Please take my resume above and review it to provide feedback on how well it aligns with the hiring manager's preferences. Specifically, I'm looking for insights on areas where it matches well and where it could be improved to better fit the job requirements.\n",
    "\"\"\""
   ]
  },
  {
   "cell_type": "code",
   "execution_count": 15,
   "metadata": {},
   "outputs": [
    {
     "name": "stdout",
     "output_type": "stream",
     "text": [
      "SYSTEM PROMPT IF CREATED.\n"
     ]
    },
    {
     "data": {
      "text/markdown": [
       "Your resume already presents a strong foundation for the Data Scientist I - Fraud position at USAA, but there are some areas where you can enhance alignment with the hiring manager's preferences. Here's a detailed review based on the key points provided:\n",
       "\n",
       "### Areas of Strength\n",
       "\n",
       "1. **Educational Background**: Your Master’s degree in Data Science meets the educational requirement, and emphasizing any courses related to fraud detection, statistics, or machine learning within your program would be beneficial.\n",
       "\n",
       "2. **Relevant Experience**: You have over three years of experience in related roles, including your recent freelance projects and an internship that involved predictive modeling and data analysis. Highlighting any fraud detection aspects explicitly in these experiences will strengthen your case.\n",
       "\n",
       "3. **Technical Skills**: You showcase proficiency in programming languages such as Python and R, as well as experience with SQL. These align well with the need for scripting capabilities and database querying experience.\n",
       "\n",
       "4. **Predictive Modeling and Analytics**: Your mention of developing predictive models that reduced fraudulent transactions by 30% is a significant and relevant accomplishment that demonstrates your skills in predictive analytics.\n",
       "\n",
       "5. **Communication Skills**: While you imply communication efficacy through collaboration with cross-functional teams, explicitly stating examples of how you conveyed complex data insights to non-technical stakeholders would further align with the hiring manager's preferences.\n",
       "\n",
       "### Areas for Improvement\n",
       "\n",
       "1. **Specificity in Fraud Detection**: Your resume could benefit from more explicit descriptions of your experience related to fraud detection. For instance, you might include specific projects where you developed models or methods directly aimed at detecting or preventing fraud.\n",
       "\n",
       "2. **Highlight Relevant Projects**: The “Recent Projects Highlights” section is strong, but consider explicitly indicating which projects are directly related to fraud detection. For example, you could reframe your predictive modeling achievements to emphasize any impacts they had on preventing financial fraud.\n",
       "\n",
       "3. **Emphasize Risk Management Awareness**: If you have any specific coursework or experience related to risk management or regulatory compliance, it would be advantageous to highlight this in your resume. A brief mention of understanding regulations or best practices in fraud detection would reinforce this area.\n",
       "\n",
       "4. **Structured Summary**: While the professional summary is solid, make sure it is concise and emphasizes your strongest qualifications for the fraud role. Consider rephrasing it to highlight your experience in fraud analytics explicitly.\n",
       "\n",
       "5. **Technical Skills Detailing**: You might want to further structure your \"Technical Skills\" section by creating subcategories. For instance:\n",
       "   - Programming Languages: Python, R\n",
       "   - Data Management: SQL, NoSQL\n",
       "   - Machine Learning: Scikit-learn, XGBoost\n",
       "   - Tools: AWS, Databricks, Tableau, Power BI\n",
       "   \n",
       "   This format will allow recruiters to find relevant skills quickly.\n",
       "\n",
       "6. **Additional Certifications or Training**: If you have taken any courses or certifications related to fraud detection, machine learning, or data governance, consider adding these to boost credibility in areas directly relevant to the role.\n",
       "\n",
       "### Final Recommendations\n",
       "\n",
       "- **Tailor Example Achievements**: Rephrase or expand upon key achievements related to fraud or risk analysis to emphasize how your contributions directly benefited the organizations you worked with.\n",
       "  \n",
       "- **Tailor Your Language**: Use terminology that reflects the language used in the job description, especially phrases like “fraud detection,” “risk assessment,” or “regulatory compliance” to make sure your resume closely aligns with the hiring manager's expectations.\n",
       "\n",
       "- **Connect to USAA's Mission**: Lastly, consider including a brief statement or context in your summary that connects your experience and values with USAA’s mission to serve the military community and their families.\n",
       "\n",
       "By aligning your resume more closely with the specified skills and preferences of the hiring manager, you will solidify your qualifications for the Data Scientist I - Fraud position at USAA. Good luck!"
      ],
      "text/plain": [
       "<IPython.core.display.Markdown object>"
      ]
     },
     "metadata": {},
     "output_type": "display_data"
    }
   ],
   "source": [
    "expert_feedback = chat_with_gpt(user_prompt, system_prompt=system_prompt)\n",
    "display(Markdown(expert_feedback))"
   ]
  },
  {
   "cell_type": "code",
   "execution_count": 16,
   "metadata": {},
   "outputs": [],
   "source": [
    "user_prompt_2 = f\"\"\"\n",
    "Based on your feedback on areas for improvement, help me to tailor my resume for the {ROLE} at {COMPANY}.\n",
    "I want to focus on the most important responsibilities from the job description and make sure I have included the most relevant keywords that match the requirements for the role.\n",
    "Give specific bullet point changes and additions I can make but do not make anything up.\n",
    "\"\"\""
   ]
  },
  {
   "cell_type": "code",
   "execution_count": 17,
   "metadata": {},
   "outputs": [],
   "source": [
    "def chat_with_gpt(message):\n",
    "    response = openai.chat.completions.create(\n",
    "        model=\"gpt-4o-mini\", messages=message\n",
    "    )\n",
    "    return response.choices[0].message.content"
   ]
  },
  {
   "cell_type": "code",
   "execution_count": 18,
   "metadata": {},
   "outputs": [],
   "source": [
    "message = [\n",
    "    {\"role\": \"system\", \"content\": system_prompt},\n",
    "    {\"role\": \"user\", \"content\": user_prompt},\n",
    "    {\"role\": \"assistant\", \"content\": expert_feedback},\n",
    "    {\"role\": \"user\", \"content\": user_prompt_2}\n",
    "]"
   ]
  },
  {
   "cell_type": "code",
   "execution_count": 19,
   "metadata": {},
   "outputs": [
    {
     "data": {
      "text/markdown": [
       "Sure! Below are specific changes and additions you can make to your resume, focusing on the most important responsibilities from the job description for the Data Scientist I - Fraud at USAA. I will include suggested bullet points, keywords, and phrases to help you align more closely with the role:\n",
       "\n",
       "### Revised Professional Summary\n",
       "**Current Version:**\n",
       "> Data Scientist with a proven track record of leveraging advanced analytics and machine learning to drive significant business improvements. Proficient in Python, R, SQL, and cloud technologies. Demonstrated success in predictive modeling, data visualization, and strategic data analysis to support data-driven decisions.\n",
       "\n",
       "**Suggested Revision:**\n",
       "> Results-driven Data Scientist with a Master’s degree in Data Science and over three years of experience in fraud detection and analysis within the financial services industry. Expertise in predictive analytics, machine learning, and statistical modeling, with a strong track record of reducing fraud-related losses and improving operational efficiency. Proficient in Python, R, SQL, and cloud technologies (AWS, Databricks) and skilled at communicating complex analytical findings to non-technical stakeholders.\n",
       "\n",
       "### Work Experience Section Updates\n",
       "**Freelancer, San Antonio, Texas**  \n",
       "**Data Scientist/Analyst**  \n",
       "**September 2023 - present**\n",
       "- **E-commerce Predictive Modeling:** Developed and implemented machine learning models for demand forecasting, achieving a 15% reduction in inventory costs and improving customer retention through targeted insights.\n",
       "- **Fraud Detection Initiatives:** Designed and implemented analytical models for detecting fraudulent transactions that resulted in a 30% reduction in fraud-related losses for local businesses.\n",
       "- **Customer Data Analysis for Café Chain:** Analyzed and segmented customer data for a local café chain, developing targeted marketing strategies that increased repeat visits by 20% and optimized transaction value by 10% through actionable insights derived from data analysis.\n",
       "\n",
       "**Jericho Road Pasadena, Pasadena, California**  \n",
       "**Data Analyst (Internship)**  \n",
       "**June 2022 - August 2022**\n",
       "- **Exploratory Data Analysis (EDA):** Conducted comprehensive EDA using Python to uncover key insights, optimizing resource allocation and improving service delivery effectiveness by 10%.\n",
       "- **Fraud Risk Assessment:** Assisted in developing a risk assessment framework that identified potential fraudulent activity, contributing to a 15% decrease in service aberrations through analytical measures.\n",
       "\n",
       "### Additions to Recent Projects Highlights\n",
       "1. **Model Development for Fraud Detection:**\n",
       "   - Developed and validated statistical and machine learning models specifically targeting financial fraud detection, achieving high accuracy and recall rates, demonstrating the ability to translate complex data into actionable strategies.\n",
       "\n",
       "2. **Risk Management Integration:**\n",
       "   - Collaborated with cross-functional teams to integrate risk management principles into model developments, ensuring compliance with industry regulations and enhancing overall fraud detection capabilities.\n",
       "\n",
       "### Updated Technical Skills Section\n",
       "**Current Version:**\n",
       "> Programming & Data Analysis, Python & R: Proficient in data manipulation (Pandas, Numpy; dplyr), visualization (matplotlib, seaborn; ggplot2, Plotly), and machine learning algorithms (Scikit-learn; XGBoost).\n",
       "\n",
       "**Suggested Revision:**\n",
       "**Technical Skills:**\n",
       "- **Programming Languages:** Python (Pandas, NumPy, Scikit-learn), R (dplyr, ggplot2)\n",
       "- **Data Management:** SQL (database querying and preprocessing), NoSQL\n",
       "- **Machine Learning & Statistical Analysis:** Strong foundation in supervised and unsupervised learning techniques, model validation, and performance tuning\n",
       "- **Risk Management Awareness:** Familiarity with regulatory implications and compliance standards related to fraud detection\n",
       "- **Data Visualization:** Advanced proficiency in creating interactive dashboards with Tableau, Power BI, and Plotly\n",
       "\n",
       "### General Recommendations for Keywords\n",
       "- Ensure keywords that reflect the responsibilities in the job description are present throughout your resume. These may include:\n",
       "   - Fraud Detection\n",
       "   - Predictive Analytics\n",
       "   - Machine Learning \n",
       "   - Risk Assessment\n",
       "   - Data Governance\n",
       "   - Statistical Modeling\n",
       "   - Data Integrity\n",
       "   - Compliance with Regulatory Standards\n",
       "   - Communicating Analytical Insights \n",
       "   - Building Predictive Models\n",
       "\n",
       "By implementing these bullet point changes and keyword enhancements, your resume will better align with the hiring manager’s requirements for the Data Scientist I - Fraud position at USAA. Good luck with your application!"
      ],
      "text/plain": [
       "<IPython.core.display.Markdown object>"
      ]
     },
     "metadata": {},
     "output_type": "display_data"
    }
   ],
   "source": [
    "tailored_resume = chat_with_gpt(message)\n",
    "display(Markdown(tailored_resume))"
   ]
  },
  {
   "cell_type": "code",
   "execution_count": 20,
   "metadata": {},
   "outputs": [],
   "source": [
    "user_prompt_3 = \"\"\"\n",
    "List out the differences between my original resume and the version you have edited. List out the differences in a table with 2 columns. The columns should be for the original version and the revised version. Be specific and list out exactly what was changed, down to the exact words. \n",
    "\"\"\""
   ]
  },
  {
   "cell_type": "code",
   "execution_count": 21,
   "metadata": {},
   "outputs": [],
   "source": [
    "message.append({\"role\": \"assistant\", \"content\": tailored_resume})\n",
    "message.append({\"role\": \"user\", \"content\": user_prompt_3})"
   ]
  },
  {
   "cell_type": "code",
   "execution_count": 22,
   "metadata": {},
   "outputs": [
    {
     "data": {
      "text/markdown": [
       "Here’s a table that compares your original resume with the revised version, specifying the exact changes made:\n",
       "\n",
       "| **Original Version** | **Revised Version** |\n",
       "|----------------------|---------------------|\n",
       "| **Data Scientist with a proven track record of leveraging advanced analytics and machine learning to drive significant business improvements.** | **Results-driven Data Scientist with a Master’s degree in Data Science and over three years of experience in fraud detection and analysis within the financial services industry.** |\n",
       "| **Proficient in Python, R, SQL, and cloud technologies.** | **Expertise in predictive analytics, machine learning, and statistical modeling, with a strong track record of reducing fraud-related losses and improving operational efficiency. Proficient in Python, R, SQL, and cloud technologies (AWS, Databricks)** |\n",
       "| **Demonstrated success in predictive modeling, data visualization, and strategic data analysis to support data-driven decisions.** | **and skilled at communicating complex analytical findings to non-technical stakeholders.** |\n",
       "| **Freelancer San Antonio, Texas Data Scientist/Analyst September 2023-present E-commerce Predictive Modeling: Developed and implemented machine learning models for demand forecasting, achieving a 15% reduction in inventory costs and a 10% increase in repeat purchases for a sustainable home goods startup.** | **Freelancer, San Antonio, Texas Data Scientist/Analyst September 2023 - present E-commerce Predictive Modeling: Developed and implemented machine learning models for demand forecasting, achieving a 15% reduction in inventory costs and improving customer retention through targeted insights.** |\n",
       "| **E-commerce Website Optimization: Led A/B testing and analysis for an online retailer, resulting in a streamlined checkout process and personalized recommendations that boosted conversion rates by 15%.** | **Fraud Detection Initiatives: Designed and implemented analytical models for detecting fraudulent transactions that resulted in a 30% reduction in fraud-related losses for local businesses.** |\n",
       "| **Customer Data Analysis for Café Chain: Analyzed and segmented customer data for a local café chain, developing targeted marketing strategies that increased repeat visits by 20% and transaction value by 10% through the use of SQL, Python, and Tableau dashboards.** | **Customer Data Analysis for Café Chain: Analyzed and segmented customer data for a local café chain, developing targeted marketing strategies that increased repeat visits by 20% and optimized transaction value by 10% through actionable insights derived from data analysis.** |\n",
       "| **Jericho Road Pasadena Pasadena, California Data Analyst (Internship) June 2022-August 2022** | **Jericho Road Pasadena, Pasadena, California Data Analyst (Internship) June 2022 - August 2022** |\n",
       "| **Exploratory Data Analysis (EDA): Conducted comprehensive EDA using Python to uncover key insights, optimizing resource allocation and improving service delivery effectiveness by 10%.** | **Exploratory Data Analysis (EDA): Conducted comprehensive EDA using Python to uncover key insights, optimizing resource allocation and improving service delivery effectiveness by 10%.** (no change) |\n",
       "| **A/B Testing Frameworks: Implemented A/B testing using statistical analysis, improving service adoption by 5% through strategic adjustments based on test outcomes.** | **Fraud Risk Assessment: Assisted in developing a risk assessment framework that identified potential fraudulent activity, contributing to a 15% decrease in service aberrations through analytical measures.** |\n",
       "| **Recent Projects Highlights Forecasting Generators Failures: Utilized machine learning techniques, including hyperparameter optimization and imbalance data handling, to predict wind turbine failures with 89% recall, significantly reducing maintenance costs.** | **Model Development for Fraud Detection: Developed and validated statistical and machine learning models specifically targeting financial fraud detection, achieving high accuracy and recall rates, demonstrating the ability to translate complex data into actionable strategies.** |\n",
       "| **Employed big data analytics on AWS to enhance predictive accuracy, achieving an 89% recall in real-time failure prediction, significantly cutting maintenance costs.** | **Risk Management Integration: Collaborated with cross-functional teams to integrate risk management principles into model developments, ensuring compliance with industry regulations and enhancing overall fraud detection capabilities.** |\n",
       "| **Forecasting Price of Refurbished and Used Phones: Applied parametric regressions with transformations to achieve an adjusted R-squared of 0.99, guiding pricing strategies that increased profit margins by 15%.** | No change. |\n",
       "| **A/B Testing for an Online News Portal: Utilized ANOVA and T-tests in A/B testing for a new landing page, leading to a 30% increase in new subscriber growth over 3 months.** | No change. |\n",
       "| **Exploratory Data Analysis on Customer Data for a Treadmill Company: EDA identified key factors driving sales, influencing product development and marketing strategies that boosted targeted model sales by 25%.** | No change. |\n",
       "| **Web Scraping of Indeed** | No change. |\n",
       "| **Programming & Data Analysis, Python & R: Proficient in data manipulation (Pandas, Numpy; dplyr), visualization (matplotlib, seaborn; ggplot2, Plotly), and machine learning algorithms (Scikit-learn; XGBoost).** | **Technical Skills: Programming Languages: Python (Pandas, NumPy, Scikit-learn), R (dplyr, ggplot2) Data Management: SQL (database querying and preprocessing), NoSQL Machine Learning & Statistical Analysis: Strong foundation in supervised and unsupervised learning techniques, model validation, and performance tuning Risk Management Awareness: Familiarity with regulatory implications and compliance standards related to fraud detection Data Visualization: Advanced proficiency in creating interactive dashboards with Tableau, Power BI, and Plotly** |\n",
       "\n",
       "### Summary of Changes\n",
       "- Adjusted the professional summary to emphasize experience in fraud detection, analytics, and the ability to communicate complex findings.\n",
       "- Enhanced descriptions in work experience to include direct references to fraud detection and risk assessment.\n",
       "- Updated project highlights to explicitly focus on fraud-related model development and compliance awareness.\n",
       "- Structured the technical skills section with subcategories for clarity and highlighted relevant skills based on the job description.\n",
       "\n",
       "These changes are directly focused on improving alignment with the requirements for the Data Scientist I - Fraud position at USAA."
      ],
      "text/plain": [
       "<IPython.core.display.Markdown object>"
      ]
     },
     "metadata": {},
     "output_type": "display_data"
    }
   ],
   "source": [
    "difference = chat_with_gpt(message)\n",
    "display(Markdown(difference))"
   ]
  }
 ],
 "metadata": {
  "kernelspec": {
   "display_name": "genu",
   "language": "python",
   "name": "python3"
  },
  "language_info": {
   "codemirror_mode": {
    "name": "ipython",
    "version": 3
   },
   "file_extension": ".py",
   "mimetype": "text/x-python",
   "name": "python",
   "nbconvert_exporter": "python",
   "pygments_lexer": "ipython3",
   "version": "3.12.8"
  }
 },
 "nbformat": 4,
 "nbformat_minor": 2
}
